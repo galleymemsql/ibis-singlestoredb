{
 "cells": [
  {
   "cell_type": "markdown",
   "id": "8d01d69e-f7d4-4efc-815f-148e0c099b90",
   "metadata": {},
   "source": [
    "# Getting Started with SingleStoreDB and Python\n",
    "\n",
    "This notebook is a simple demonstration of the SingleStore Python package capabilities. It is by no means exhaustive of all features, but is \n",
    "meant as an introduction to the types of things you can do. There are three Python packages utilized which represent layers of capabilities\n",
    "that build on each other. The three packages are:\n",
    "\n",
    "* SingleStoreDB Python - the base layer which implements the [Python DB-API](https://peps.python.org/pep-0249/) as well as the \n",
    "  [SingleStoreDB Cloud Management API](https://docs.singlestore.com/managed-service/en/user-and-workspace-administration/management-api.html).\n",
    "* SingleStoreDB SQLAlchemy Dialect - this is a [SQLAlchemy](https://www.sqlalchemy.org) plugin which allows you to interact with SingleStoreDB using SQLAlchemy.\n",
    "* SingleStoreDB Ibis Backend - this package implements a backend for the [Ibis](https://ibis-project.org/) framework which contains a generalized DataFrame\n",
    "  API similar to the [pandas](https://pandas.pydata.org) DataFrame API that works with databases, data warehouses, and other backends (such as pandas itself).\n",
    "  \n",
    "Since the SingleStoreDB Ibis backend is built on the SingleStore SQLAlchemy dialect which is in turn built on the SingleStoreDB Python package,\n",
    "we'll start right out using Ibis to exercise all of them at once."
   ]
  },
  {
   "cell_type": "code",
   "execution_count": 1,
   "id": "6950b5f8-269c-4a97-b875-6b6230eb92d0",
   "metadata": {},
   "outputs": [],
   "source": [
    "import sys\n",
    "sys.path.insert(0, '/home/ksmith/src/singlestoredb-python')"
   ]
  },
  {
   "cell_type": "code",
   "execution_count": 2,
   "id": "e388a2f8-1c79-4163-9a87-aaea862e5199",
   "metadata": {},
   "outputs": [],
   "source": [
    "import ibis\n",
    "import pandas as pd"
   ]
  },
  {
   "cell_type": "markdown",
   "id": "49612202-48ef-4d8a-8e7f-f5728c5142aa",
   "metadata": {},
   "source": [
    "We'll set up a few options to make the notebook nicer to use, including the display width of DataFrames and enabling the interactive features\n",
    "of the Ibis package. The primary purpose of the `interactive` option is so that you don't have to manually run the `execute` method on expressions\n",
    "to see the results. In our notebook, the `execute` method will be called implicitly each time an Ibis expression is rendered by the notebook."
   ]
  },
  {
   "cell_type": "code",
   "execution_count": 3,
   "id": "39cfa389-721a-4044-8f12-38bf06701bb1",
   "metadata": {},
   "outputs": [],
   "source": [
    "pd.options.display.max_colwidth = 120\n",
    "ibis.options.verbose = False\n",
    "ibis.options.interactive = True"
   ]
  },
  {
   "cell_type": "markdown",
   "id": "d185e3b6-b8b1-4fcd-be2f-c5b638f4ec9b",
   "metadata": {},
   "source": [
    "## Make a connection using Ibis\n",
    "\n",
    "Connections to Ibis are made through the `ibis.singlestoredb` method. The connection parameters can be given using either the suggested Python DB-API\n",
    "parameters (i.e., host=, user=, port=, etc.) or as a SQLAlchemy URL (e.g., user:password@host:port/database). In this case, we are getting the username and password from the environment variable `SINGLESTOREDB_USER` and `SINGLESTOREDB_PASSWORD`."
   ]
  },
  {
   "cell_type": "code",
   "execution_count": 5,
   "id": "18fef268-343d-47d9-bbf8-9693cea73a16",
   "metadata": {},
   "outputs": [],
   "source": [
    "conn = ibis.singlestoredb.connect('root:@127.0.0.1/x_db')"
   ]
  },
  {
   "cell_type": "markdown",
   "id": "40330f31-727b-468c-a929-23e7b1815c59",
   "metadata": {},
   "source": [
    "SingleStoreDB also has an HTTP API which is wrapped in a Python DB-API compliant form, so it can be used as well by specifying an HTTP(s) URL and\n",
    "the corresponding port number."
   ]
  },
  {
   "cell_type": "code",
   "execution_count": 6,
   "id": "e14030a4-2c3e-4a37-9264-f31a70dc98ec",
   "metadata": {},
   "outputs": [],
   "source": [
    "# conn = ibis.singlestoredb.connect('http://127.0.0.1:8000/x_db')"
   ]
  },
  {
   "cell_type": "markdown",
   "id": "baa19853-0d9b-45b2-908a-a1b92de08f97",
   "metadata": {},
   "source": [
    "## Phone review data example\n",
    "\n",
    "Our first example will use customer review data for phones. It includes information such as a reviewer name, the text of the review, a short summary\n",
    "of the review, a numeric rating from 1 to 5, and the date of the review. We'll first read the data into a local pandas DataFrame to do some\n",
    "cleanup, then upload it to the database to demonstrate the SingleStoreDB package capabilities"
   ]
  },
  {
   "cell_type": "markdown",
   "id": "d10f036f-6519-4b52-b671-aa4e806927cf",
   "metadata": {},
   "source": [
    "### Read sample data into pandas DataFrame\n",
    "\n",
    "Here we're simply displaying the top of the CSV file containing the data to see the column names and the first line of data."
   ]
  },
  {
   "cell_type": "code",
   "execution_count": 7,
   "id": "bdfd80be-377e-437f-91bf-50cd8203a5d1",
   "metadata": {},
   "outputs": [
    {
     "name": "stdout",
     "output_type": "stream",
     "text": [
      "reviewerID,asin,reviewerName,helpful,reviewText,overall,summary,unixReviewTime,reviewTime\n",
      "\"A30TL5EWN6DFXT\",\"120401325X\",\"christina\",\"[0, 0]\",\"They look good and stick good! I just don't like the rounded shape because I was always bumping it and Siri kept popping up and it was irritating. I just won't buy a product like this again\",\"4.0\",\"Looks Good\",\"1400630400\",\"05 21, 2014\"\n"
     ]
    }
   ],
   "source": [
    "%%sh \n",
    "\n",
    "head -2 phones.csv"
   ]
  },
  {
   "cell_type": "markdown",
   "id": "a5b1158a-d6d9-4b62-ad92-eb8906319e64",
   "metadata": {},
   "source": [
    "The data is read using the `read_csv` function."
   ]
  },
  {
   "cell_type": "code",
   "execution_count": 8,
   "id": "bce0e67d-f9e3-4c29-a21a-0ad6e84e05c8",
   "metadata": {},
   "outputs": [
    {
     "data": {
      "text/html": [
       "<div>\n",
       "<style scoped>\n",
       "    .dataframe tbody tr th:only-of-type {\n",
       "        vertical-align: middle;\n",
       "    }\n",
       "\n",
       "    .dataframe tbody tr th {\n",
       "        vertical-align: top;\n",
       "    }\n",
       "\n",
       "    .dataframe thead th {\n",
       "        text-align: right;\n",
       "    }\n",
       "</style>\n",
       "<table border=\"1\" class=\"dataframe\">\n",
       "  <thead>\n",
       "    <tr style=\"text-align: right;\">\n",
       "      <th></th>\n",
       "      <th>reviewerID</th>\n",
       "      <th>asin</th>\n",
       "      <th>reviewerName</th>\n",
       "      <th>helpful</th>\n",
       "      <th>reviewText</th>\n",
       "      <th>overall</th>\n",
       "      <th>summary</th>\n",
       "      <th>unixReviewTime</th>\n",
       "      <th>reviewTime</th>\n",
       "    </tr>\n",
       "  </thead>\n",
       "  <tbody>\n",
       "    <tr>\n",
       "      <th>0</th>\n",
       "      <td>A30TL5EWN6DFXT</td>\n",
       "      <td>120401325X</td>\n",
       "      <td>christina</td>\n",
       "      <td>[0, 0]</td>\n",
       "      <td>They look good and stick good! I just don't like the rounded shape because I was always bumping it and Siri kept pop...</td>\n",
       "      <td>4.0</td>\n",
       "      <td>Looks Good</td>\n",
       "      <td>1400630400</td>\n",
       "      <td>05 21, 2014</td>\n",
       "    </tr>\n",
       "    <tr>\n",
       "      <th>1</th>\n",
       "      <td>ASY55RVNIL0UD</td>\n",
       "      <td>120401325X</td>\n",
       "      <td>emily l.</td>\n",
       "      <td>[0, 0]</td>\n",
       "      <td>These stickers work like the review says they do. They stick on great and they stay on the phone. They are super sty...</td>\n",
       "      <td>5.0</td>\n",
       "      <td>Really great product.</td>\n",
       "      <td>1389657600</td>\n",
       "      <td>01 14, 2014</td>\n",
       "    </tr>\n",
       "    <tr>\n",
       "      <th>2</th>\n",
       "      <td>A2TMXE2AFO7ONB</td>\n",
       "      <td>120401325X</td>\n",
       "      <td>Erica</td>\n",
       "      <td>[0, 0]</td>\n",
       "      <td>These are awesome and make my phone look so stylish! I have only used one so far and have had it on for almost a yea...</td>\n",
       "      <td>5.0</td>\n",
       "      <td>LOVE LOVE LOVE</td>\n",
       "      <td>1403740800</td>\n",
       "      <td>06 26, 2014</td>\n",
       "    </tr>\n",
       "  </tbody>\n",
       "</table>\n",
       "</div>"
      ],
      "text/plain": [
       "       reviewerID        asin reviewerName helpful  \\\n",
       "0  A30TL5EWN6DFXT  120401325X    christina  [0, 0]   \n",
       "1   ASY55RVNIL0UD  120401325X     emily l.  [0, 0]   \n",
       "2  A2TMXE2AFO7ONB  120401325X        Erica  [0, 0]   \n",
       "\n",
       "                                                                                                                reviewText  \\\n",
       "0  They look good and stick good! I just don't like the rounded shape because I was always bumping it and Siri kept pop...   \n",
       "1  These stickers work like the review says they do. They stick on great and they stay on the phone. They are super sty...   \n",
       "2  These are awesome and make my phone look so stylish! I have only used one so far and have had it on for almost a yea...   \n",
       "\n",
       "   overall                summary  unixReviewTime   reviewTime  \n",
       "0      4.0             Looks Good      1400630400  05 21, 2014  \n",
       "1      5.0  Really great product.      1389657600  01 14, 2014  \n",
       "2      5.0         LOVE LOVE LOVE      1403740800  06 26, 2014  "
      ]
     },
     "execution_count": 8,
     "metadata": {},
     "output_type": "execute_result"
    }
   ],
   "source": [
    "phones_df = pd.read_csv('phones.csv')\n",
    "phones_df.head(3)"
   ]
  },
  {
   "cell_type": "markdown",
   "id": "4c6a0e46-0710-44dc-a826-27d8442273b0",
   "metadata": {},
   "source": [
    "We can see the column types using the `info` method. As you can see, there are two date columns, neither of which is in a convenient\n",
    "format for use as a date. We'll first create an actual datetime column from those and drop the original columns."
   ]
  },
  {
   "cell_type": "code",
   "execution_count": 9,
   "id": "e8195553-9c4b-4322-a55a-7b2f7eb331a9",
   "metadata": {
    "tags": []
   },
   "outputs": [
    {
     "name": "stdout",
     "output_type": "stream",
     "text": [
      "<class 'pandas.core.frame.DataFrame'>\n",
      "RangeIndex: 3921 entries, 0 to 3920\n",
      "Data columns (total 9 columns):\n",
      " #   Column          Non-Null Count  Dtype  \n",
      "---  ------          --------------  -----  \n",
      " 0   reviewerID      3921 non-null   object \n",
      " 1   asin            3921 non-null   object \n",
      " 2   reviewerName    3921 non-null   object \n",
      " 3   helpful         3921 non-null   object \n",
      " 4   reviewText      3921 non-null   object \n",
      " 5   overall         3921 non-null   float64\n",
      " 6   summary         3920 non-null   object \n",
      " 7   unixReviewTime  3921 non-null   int64  \n",
      " 8   reviewTime      3921 non-null   object \n",
      "dtypes: float64(1), int64(1), object(7)\n",
      "memory usage: 275.8+ KB\n"
     ]
    }
   ],
   "source": [
    "phones_df.info()"
   ]
  },
  {
   "cell_type": "markdown",
   "id": "59ae51ff-7fef-4ccd-a84e-a4c5ba8952c6",
   "metadata": {},
   "source": [
    "### Upload the data to the server\n",
    "\n",
    "Now that we have some data to work with, we can upload it to the server using the `create_table` method. This method allows you to upload\n",
    "data from a local DataFrame or materialize a table from an Ibis table expression."
   ]
  },
  {
   "cell_type": "code",
   "execution_count": 10,
   "id": "e549d41d-6b42-4f3a-a0a1-2cdbbc60178e",
   "metadata": {},
   "outputs": [
    {
     "data": {
      "text/plain": [
       "\u001b[0;31mSignature:\u001b[0m\n",
       "\u001b[0mconn\u001b[0m\u001b[0;34m.\u001b[0m\u001b[0mcreate_table\u001b[0m\u001b[0;34m(\u001b[0m\u001b[0;34m\u001b[0m\n",
       "\u001b[0;34m\u001b[0m    \u001b[0mname\u001b[0m\u001b[0;34m:\u001b[0m \u001b[0;34m'str'\u001b[0m\u001b[0;34m,\u001b[0m\u001b[0;34m\u001b[0m\n",
       "\u001b[0;34m\u001b[0m    \u001b[0mexpr\u001b[0m\u001b[0;34m:\u001b[0m \u001b[0;34m'pd.DataFrame | ir.TableExpr | None'\u001b[0m \u001b[0;34m=\u001b[0m \u001b[0;32mNone\u001b[0m\u001b[0;34m,\u001b[0m\u001b[0;34m\u001b[0m\n",
       "\u001b[0;34m\u001b[0m    \u001b[0mschema\u001b[0m\u001b[0;34m:\u001b[0m \u001b[0;34m'sch.Schema | None'\u001b[0m \u001b[0;34m=\u001b[0m \u001b[0;32mNone\u001b[0m\u001b[0;34m,\u001b[0m\u001b[0;34m\u001b[0m\n",
       "\u001b[0;34m\u001b[0m    \u001b[0mdatabase\u001b[0m\u001b[0;34m:\u001b[0m \u001b[0;34m'str | None'\u001b[0m \u001b[0;34m=\u001b[0m \u001b[0;32mNone\u001b[0m\u001b[0;34m,\u001b[0m\u001b[0;34m\u001b[0m\n",
       "\u001b[0;34m\u001b[0m    \u001b[0mforce\u001b[0m\u001b[0;34m:\u001b[0m \u001b[0;34m'bool'\u001b[0m \u001b[0;34m=\u001b[0m \u001b[0;32mFalse\u001b[0m\u001b[0;34m,\u001b[0m\u001b[0;34m\u001b[0m\n",
       "\u001b[0;34m\u001b[0m    \u001b[0mstorage_type\u001b[0m\u001b[0;34m:\u001b[0m \u001b[0;34m'Optional[str]'\u001b[0m \u001b[0;34m=\u001b[0m \u001b[0;32mNone\u001b[0m\u001b[0;34m,\u001b[0m\u001b[0;34m\u001b[0m\n",
       "\u001b[0;34m\u001b[0m\u001b[0;34m)\u001b[0m \u001b[0;34m->\u001b[0m \u001b[0;34m'None'\u001b[0m\u001b[0;34m\u001b[0m\u001b[0;34m\u001b[0m\u001b[0m\n",
       "\u001b[0;31mDocstring:\u001b[0m\n",
       "Create a new table.\n",
       "\n",
       "Parameters\n",
       "----------\n",
       "name\n",
       "    Name of the new table.\n",
       "expr\n",
       "    An Ibis table expression or pandas DataFrame that will be used to\n",
       "    extract the schema and the data of the new table. If not provided,\n",
       "    `schema` must be given.\n",
       "schema\n",
       "    The schema for the new table. Only one of `schema` or `expr` can be\n",
       "    provided.\n",
       "database\n",
       "    Name of the database where the table will be created, if not the\n",
       "    default.\n",
       "force\n",
       "    Check whether a table exists before creating it\n",
       "storage_type\n",
       "    The storage type of table to create: COLUMNSTORE or ROWSTORE\n",
       "\u001b[0;31mFile:\u001b[0m      ~/.pyenv/versions/3.9.4/lib/python3.9/site-packages/ibis_singlestoredb/__init__.py\n",
       "\u001b[0;31mType:\u001b[0m      method\n"
      ]
     },
     "metadata": {},
     "output_type": "display_data"
    }
   ],
   "source": [
    "conn.create_table?"
   ]
  },
  {
   "cell_type": "markdown",
   "id": "e3e9d2ec-a30c-4280-a05b-88aa5b34a7bb",
   "metadata": {},
   "source": [
    "The code below will create the table in the server from the given DataFrame. The data types for the database table will be inferred from\n",
    "the DataFrame data types. The `force=True` is merely used here in case you run the notebook code multiple times against the same\n",
    "database. It will cause an existing `phones` table to be overwritten if it already exists."
   ]
  },
  {
   "cell_type": "code",
   "execution_count": 11,
   "id": "987d9e59-09e3-46f5-9487-da21b9975eba",
   "metadata": {},
   "outputs": [
    {
     "data": {
      "text/html": [
       "<div>\n",
       "<style scoped>\n",
       "    .dataframe tbody tr th:only-of-type {\n",
       "        vertical-align: middle;\n",
       "    }\n",
       "\n",
       "    .dataframe tbody tr th {\n",
       "        vertical-align: top;\n",
       "    }\n",
       "\n",
       "    .dataframe thead th {\n",
       "        text-align: right;\n",
       "    }\n",
       "</style>\n",
       "<table border=\"1\" class=\"dataframe\">\n",
       "  <thead>\n",
       "    <tr style=\"text-align: right;\">\n",
       "      <th></th>\n",
       "      <th>reviewerID</th>\n",
       "      <th>asin</th>\n",
       "      <th>reviewerName</th>\n",
       "      <th>helpful</th>\n",
       "      <th>reviewText</th>\n",
       "      <th>overall</th>\n",
       "      <th>summary</th>\n",
       "      <th>unixReviewTime</th>\n",
       "      <th>reviewTime</th>\n",
       "    </tr>\n",
       "  </thead>\n",
       "  <tbody>\n",
       "    <tr>\n",
       "      <th>0</th>\n",
       "      <td>A30TL5EWN6DFXT</td>\n",
       "      <td>120401325X</td>\n",
       "      <td>christina</td>\n",
       "      <td>[0, 0]</td>\n",
       "      <td>They look good and stick good! I just don't like the rounded shape because I was always bumping it and Siri kept pop...</td>\n",
       "      <td>4.0</td>\n",
       "      <td>Looks Good</td>\n",
       "      <td>1400630400</td>\n",
       "      <td>05 21, 2014</td>\n",
       "    </tr>\n",
       "    <tr>\n",
       "      <th>1</th>\n",
       "      <td>APX47D16JOP7H</td>\n",
       "      <td>120401325X</td>\n",
       "      <td>RLH</td>\n",
       "      <td>[1, 2]</td>\n",
       "      <td>These make using the home button easy. My daughter and I both like them.  I would purchase them again. Well worth th...</td>\n",
       "      <td>3.0</td>\n",
       "      <td>Cute</td>\n",
       "      <td>1381536000</td>\n",
       "      <td>10 12, 2013</td>\n",
       "    </tr>\n",
       "    <tr>\n",
       "      <th>2</th>\n",
       "      <td>A6FGO4TBZ3QFZ</td>\n",
       "      <td>3998899561</td>\n",
       "      <td>Abdullah Albyati</td>\n",
       "      <td>[1, 2]</td>\n",
       "      <td>it worked for the first week then it only charge my phone to 20%. it is a waste of money.</td>\n",
       "      <td>1.0</td>\n",
       "      <td>not a good Idea</td>\n",
       "      <td>1384992000</td>\n",
       "      <td>11 21, 2013</td>\n",
       "    </tr>\n",
       "  </tbody>\n",
       "</table>\n",
       "</div>"
      ],
      "text/plain": [
       "       reviewerID        asin      reviewerName helpful  \\\n",
       "0  A30TL5EWN6DFXT  120401325X         christina  [0, 0]   \n",
       "1   APX47D16JOP7H  120401325X               RLH  [1, 2]   \n",
       "2   A6FGO4TBZ3QFZ  3998899561  Abdullah Albyati  [1, 2]   \n",
       "\n",
       "                                                                                                                reviewText  \\\n",
       "0  They look good and stick good! I just don't like the rounded shape because I was always bumping it and Siri kept pop...   \n",
       "1  These make using the home button easy. My daughter and I both like them.  I would purchase them again. Well worth th...   \n",
       "2                                it worked for the first week then it only charge my phone to 20%. it is a waste of money.   \n",
       "\n",
       "   overall          summary  unixReviewTime   reviewTime  \n",
       "0      4.0       Looks Good      1400630400  05 21, 2014  \n",
       "1      3.0             Cute      1381536000  10 12, 2013  \n",
       "2      1.0  not a good Idea      1384992000  11 21, 2013  "
      ]
     },
     "execution_count": 11,
     "metadata": {},
     "output_type": "execute_result"
    }
   ],
   "source": [
    "phones_tbl = conn.create_table('phones', phones_df, force=True)\n",
    "phones_tbl.head(3)"
   ]
  },
  {
   "cell_type": "markdown",
   "id": "2e95fef6-a6f3-4f9d-9338-efc0f8807c48",
   "metadata": {},
   "source": [
    "We can get information about the table in the server by using the `info` method, just as you would with a local pandas DataFrame."
   ]
  },
  {
   "cell_type": "code",
   "execution_count": 12,
   "id": "c3770704-41b0-4a99-b639-5e8242e952ec",
   "metadata": {},
   "outputs": [
    {
     "data": {
      "text/html": [
       "<pre style=\"white-space:pre;overflow-x:auto;line-height:normal;font-family:Menlo,'DejaVu Sans Mono',consolas,'Courier New',monospace\"></pre>\n"
      ],
      "text/plain": []
     },
     "metadata": {},
     "output_type": "display_data"
    },
    {
     "name": "stdout",
     "output_type": "stream",
     "text": [
      "\u001b[3m                       Summary of phones                       \u001b[0m\n",
      "\u001b[3m                           3921 rows                           \u001b[0m\n",
      "┏━━━━━━━━━━━━━━━━┳━━━━━━━━━━━━━━━━━━━━━━━━┳━━━━━━━━━┳━━━━━━━━━┓\n",
      "┃\u001b[1m \u001b[0m\u001b[1mName          \u001b[0m\u001b[1m \u001b[0m┃\u001b[1m \u001b[0m\u001b[1mType                  \u001b[0m\u001b[1m \u001b[0m┃\u001b[1m \u001b[0m\u001b[1m# Nulls\u001b[0m\u001b[1m \u001b[0m┃\u001b[1m \u001b[0m\u001b[1m% Nulls\u001b[0m\u001b[1m \u001b[0m┃\n",
      "┡━━━━━━━━━━━━━━━━╇━━━━━━━━━━━━━━━━━━━━━━━━╇━━━━━━━━━╇━━━━━━━━━┩\n",
      "│ reviewerID     │ \u001b[1;35mString\u001b[0m\u001b[1m(\u001b[0m\u001b[33mnullable\u001b[0m=\u001b[3;92mTrue\u001b[0m\u001b[1m)\u001b[0m  │       0 │    0.00 │\n",
      "│ asin           │ \u001b[1;35mString\u001b[0m\u001b[1m(\u001b[0m\u001b[33mnullable\u001b[0m=\u001b[3;92mTrue\u001b[0m\u001b[1m)\u001b[0m  │       0 │    0.00 │\n",
      "│ reviewerName   │ \u001b[1;35mString\u001b[0m\u001b[1m(\u001b[0m\u001b[33mnullable\u001b[0m=\u001b[3;92mTrue\u001b[0m\u001b[1m)\u001b[0m  │       0 │    0.00 │\n",
      "│ helpful        │ \u001b[1;35mString\u001b[0m\u001b[1m(\u001b[0m\u001b[33mnullable\u001b[0m=\u001b[3;92mTrue\u001b[0m\u001b[1m)\u001b[0m  │       0 │    0.00 │\n",
      "│ reviewText     │ \u001b[1;35mString\u001b[0m\u001b[1m(\u001b[0m\u001b[33mnullable\u001b[0m=\u001b[3;92mTrue\u001b[0m\u001b[1m)\u001b[0m  │       0 │    0.00 │\n",
      "│ overall        │ \u001b[1;35mFloat64\u001b[0m\u001b[1m(\u001b[0m\u001b[33mnullable\u001b[0m=\u001b[3;92mTrue\u001b[0m\u001b[1m)\u001b[0m │       0 │    0.00 │\n",
      "│ summary        │ \u001b[1;35mString\u001b[0m\u001b[1m(\u001b[0m\u001b[33mnullable\u001b[0m=\u001b[3;92mTrue\u001b[0m\u001b[1m)\u001b[0m  │       1 │    0.03 │\n",
      "│ unixReviewTime │ \u001b[1;35mInt64\u001b[0m\u001b[1m(\u001b[0m\u001b[33mnullable\u001b[0m=\u001b[3;92mTrue\u001b[0m\u001b[1m)\u001b[0m   │       0 │    0.00 │\n",
      "│ reviewTime     │ \u001b[1;35mString\u001b[0m\u001b[1m(\u001b[0m\u001b[33mnullable\u001b[0m=\u001b[3;92mTrue\u001b[0m\u001b[1m)\u001b[0m  │       0 │    0.00 │\n",
      "└────────────────┴────────────────────────┴─────────┴─────────┘\n"
     ]
    }
   ],
   "source": [
    "phones_tbl.info()"
   ]
  },
  {
   "cell_type": "markdown",
   "id": "76309280-afb7-46e6-91c9-f84fdc4ed7a7",
   "metadata": {},
   "source": [
    "Here is the `CREATE TABLE` statement resulting from the data upload step. The `show` attribute of the connection gives access to all of\n",
    "the `SHOW` commands in the database such as `functions`, `create_function`, `status`, `databases`, and so on."
   ]
  },
  {
   "cell_type": "code",
   "execution_count": 13,
   "id": "d63e3978-33ab-4154-a31a-367bf52aa3a9",
   "metadata": {
    "tags": []
   },
   "outputs": [
    {
     "data": {
      "text/html": [
       "<table border=\"1\" class=\"dataframe\"><thead><tr><th style=\"text-align: left; vertical-align: top\">Name</th><th style=\"text-align: left; vertical-align: top\">CreateTable</th></tr></thead><tbody><tr><td style=\"text-align: left; vertical-align: top\">phones</td><td style=\"text-align: left; vertical-align: top\">CREATE TABLE `phones` (\n",
       "  `reviewerID` text CHARACTER SET utf8 COLLATE utf8_general_ci,\n",
       "  `asin` text CHARACTER SET utf8 COLLATE utf8_general_ci,\n",
       "  `reviewerName` text CHARACTER SET utf8 COLLATE utf8_general_ci,\n",
       "  `helpful` text CHARACTER SET utf8 COLLATE utf8_general_ci,\n",
       "  `reviewText` text CHARACTER SET utf8 COLLATE utf8_general_ci,\n",
       "  `overall` float DEFAULT NULL,\n",
       "  `summary` text CHARACTER SET utf8 COLLATE utf8_general_ci,\n",
       "  `unixReviewTime` bigint(20) DEFAULT NULL,\n",
       "  `reviewTime` text CHARACTER SET utf8 COLLATE utf8_general_ci,\n",
       "  KEY `__UNORDERED` () USING CLUSTERED COLUMNSTORE\n",
       "  , SHARD KEY () \n",
       ") AUTOSTATS_CARDINALITY_MODE=OFF AUTOSTATS_HISTOGRAM_MODE=OFF AUTOSTATS_SAMPLING=OFF SQL_MODE='STRICT_ALL_TABLES'</td></tr></tbody></table>"
      ],
      "text/plain": [
       "\n",
       "|  Name   | CreateTable                                                                                                                                                                                                                                                                                                                                                                                                                                                                                                                                                                                                                                                                                                                                       |\n",
       "---------------------------------------------------------------------------------------------------------------------------------------------------------------------------------------------------------------------------------------------------------------------------------------------------------------------------------------------------------------------------------------------------------------------------------------------------------------------------------------------------------------------------------------------------------------------------------------------------------------------------------------------------------------------------------------------------------------------------------------------------------------\n",
       "|  phones | CREATE TABLE `phones` (\n",
       "  `reviewerID` text CHARACTER SET utf8 COLLATE utf8_general_ci,\n",
       "  `asin` text CHARACTER SET utf8 COLLATE utf8_general_ci,\n",
       "  `reviewerName` text CHARACTER SET utf8 COLLATE utf8_general_ci,\n",
       "  `helpful` text CHARACTER SET utf8 COLLATE utf8_general_ci,\n",
       "  `reviewText` text CHARACTER SET utf8 COLLATE utf8_general_ci,\n",
       "  `overall` float DEFAULT NULL,\n",
       "  `summary` text CHARACTER SET utf8 COLLATE utf8_general_ci,\n",
       "  `unixReviewTime` bigint(20) DEFAULT NULL,\n",
       "  `reviewTime` text CHARACTER SET utf8 COLLATE utf8_general_ci,\n",
       "  KEY `__UNORDERED` () USING CLUSTERED COLUMNSTORE\n",
       "  , SHARD KEY () \n",
       ") AUTOSTATS_CARDINALITY_MODE=OFF AUTOSTATS_HISTOGRAM_MODE=OFF AUTOSTATS_SAMPLING=OFF SQL_MODE='STRICT_ALL_TABLES'  |"
      ]
     },
     "execution_count": 13,
     "metadata": {},
     "output_type": "execute_result"
    }
   ],
   "source": [
    "conn.show.create_table('phones')"
   ]
  },
  {
   "cell_type": "markdown",
   "id": "887e730f-e7da-4078-a9d9-1fbbe4435a47",
   "metadata": {},
   "source": [
    "### Convert review date / time columns\n",
    "\n",
    "This data set has a less than optimal way of storing the dates of the reviews. It has two columns that contain the same information, and neither\n",
    "of them is convenient to work with. Let's create a new column that contains the date in a timestamp column. To do that, we simply cast the\n",
    "existing `unixReviewTime` column to a timestamp type. We'll also use the `name` method to assign a name to the resulting column expression."
   ]
  },
  {
   "cell_type": "code",
   "execution_count": 14,
   "id": "3a37d8f0-815a-4b5e-9cfe-11a31de6e0a3",
   "metadata": {},
   "outputs": [
    {
     "data": {
      "text/html": [
       "<div>\n",
       "<style scoped>\n",
       "    .dataframe tbody tr th:only-of-type {\n",
       "        vertical-align: middle;\n",
       "    }\n",
       "\n",
       "    .dataframe tbody tr th {\n",
       "        vertical-align: top;\n",
       "    }\n",
       "\n",
       "    .dataframe thead th {\n",
       "        text-align: right;\n",
       "    }\n",
       "</style>\n",
       "<table border=\"1\" class=\"dataframe\">\n",
       "  <thead>\n",
       "    <tr style=\"text-align: right;\">\n",
       "      <th></th>\n",
       "      <th>date</th>\n",
       "    </tr>\n",
       "  </thead>\n",
       "  <tbody>\n",
       "    <tr>\n",
       "      <th>0</th>\n",
       "      <td>2014-05-21</td>\n",
       "    </tr>\n",
       "    <tr>\n",
       "      <th>1</th>\n",
       "      <td>2013-10-12</td>\n",
       "    </tr>\n",
       "    <tr>\n",
       "      <th>2</th>\n",
       "      <td>2013-11-21</td>\n",
       "    </tr>\n",
       "    <tr>\n",
       "      <th>3</th>\n",
       "      <td>2014-04-03</td>\n",
       "    </tr>\n",
       "    <tr>\n",
       "      <th>4</th>\n",
       "      <td>2014-04-13</td>\n",
       "    </tr>\n",
       "    <tr>\n",
       "      <th>...</th>\n",
       "      <td>...</td>\n",
       "    </tr>\n",
       "    <tr>\n",
       "      <th>3916</th>\n",
       "      <td>2013-08-15</td>\n",
       "    </tr>\n",
       "    <tr>\n",
       "      <th>3917</th>\n",
       "      <td>2012-12-29</td>\n",
       "    </tr>\n",
       "    <tr>\n",
       "      <th>3918</th>\n",
       "      <td>2010-08-10</td>\n",
       "    </tr>\n",
       "    <tr>\n",
       "      <th>3919</th>\n",
       "      <td>2013-02-17</td>\n",
       "    </tr>\n",
       "    <tr>\n",
       "      <th>3920</th>\n",
       "      <td>2010-10-18</td>\n",
       "    </tr>\n",
       "  </tbody>\n",
       "</table>\n",
       "<p>3921 rows × 1 columns</p>\n",
       "</div>"
      ],
      "text/plain": [
       "0      2014-05-21\n",
       "1      2013-10-12\n",
       "2      2013-11-21\n",
       "3      2014-04-03\n",
       "4      2014-04-13\n",
       "          ...    \n",
       "3916   2009-10-22\n",
       "3917   2008-06-11\n",
       "3918   2008-12-01\n",
       "3919   2014-06-23\n",
       "3920   2013-05-26\n",
       "Name: date, Length: 3921, dtype: datetime64[ns]"
      ]
     },
     "execution_count": 14,
     "metadata": {},
     "output_type": "execute_result"
    }
   ],
   "source": [
    "date = phones_tbl.unixReviewTime.cast('timestamp').name('date')\n",
    "date"
   ]
  },
  {
   "cell_type": "markdown",
   "id": "7718eb94-0e45-4545-a5e3-f90ee4816775",
   "metadata": {},
   "source": [
    "The `overall` rating column was uploaded as floating point data, but it only contains integers. Let's cast that to an integer."
   ]
  },
  {
   "cell_type": "code",
   "execution_count": 15,
   "id": "1443148f-dc1b-4c04-b5b2-c182edbd601d",
   "metadata": {},
   "outputs": [
    {
     "data": {
      "text/html": [
       "<div>\n",
       "<style scoped>\n",
       "    .dataframe tbody tr th:only-of-type {\n",
       "        vertical-align: middle;\n",
       "    }\n",
       "\n",
       "    .dataframe tbody tr th {\n",
       "        vertical-align: top;\n",
       "    }\n",
       "\n",
       "    .dataframe thead th {\n",
       "        text-align: right;\n",
       "    }\n",
       "</style>\n",
       "<table border=\"1\" class=\"dataframe\">\n",
       "  <thead>\n",
       "    <tr style=\"text-align: right;\">\n",
       "      <th></th>\n",
       "      <th>overall</th>\n",
       "    </tr>\n",
       "  </thead>\n",
       "  <tbody>\n",
       "    <tr>\n",
       "      <th>0</th>\n",
       "      <td>5</td>\n",
       "    </tr>\n",
       "    <tr>\n",
       "      <th>1</th>\n",
       "      <td>5</td>\n",
       "    </tr>\n",
       "    <tr>\n",
       "      <th>2</th>\n",
       "      <td>5</td>\n",
       "    </tr>\n",
       "    <tr>\n",
       "      <th>3</th>\n",
       "      <td>5</td>\n",
       "    </tr>\n",
       "    <tr>\n",
       "      <th>4</th>\n",
       "      <td>5</td>\n",
       "    </tr>\n",
       "    <tr>\n",
       "      <th>...</th>\n",
       "      <td>...</td>\n",
       "    </tr>\n",
       "    <tr>\n",
       "      <th>3916</th>\n",
       "      <td>5</td>\n",
       "    </tr>\n",
       "    <tr>\n",
       "      <th>3917</th>\n",
       "      <td>5</td>\n",
       "    </tr>\n",
       "    <tr>\n",
       "      <th>3918</th>\n",
       "      <td>3</td>\n",
       "    </tr>\n",
       "    <tr>\n",
       "      <th>3919</th>\n",
       "      <td>5</td>\n",
       "    </tr>\n",
       "    <tr>\n",
       "      <th>3920</th>\n",
       "      <td>4</td>\n",
       "    </tr>\n",
       "  </tbody>\n",
       "</table>\n",
       "<p>3921 rows × 1 columns</p>\n",
       "</div>"
      ],
      "text/plain": [
       "0       4\n",
       "1       3\n",
       "2       1\n",
       "3       5\n",
       "4       5\n",
       "       ..\n",
       "3916    1\n",
       "3917    4\n",
       "3918    5\n",
       "3919    1\n",
       "3920    5\n",
       "Name: overall, Length: 3921, dtype: int64"
      ]
     },
     "execution_count": 15,
     "metadata": {},
     "output_type": "execute_result"
    }
   ],
   "source": [
    "overall = phones_tbl.overall.cast('int').name('overall')\n",
    "overall"
   ]
  },
  {
   "cell_type": "markdown",
   "id": "51a81952-0045-4a7e-ad5d-e8d3fa3e2b4c",
   "metadata": {},
   "source": [
    "Now that we have our two processed columns, we can remove the old columns we don't need anymore and insert our\n",
    "new columns expressions with the cleaned data."
   ]
  },
  {
   "cell_type": "code",
   "execution_count": 16,
   "id": "53386ec8-05d7-40c9-83c6-037d815b9367",
   "metadata": {},
   "outputs": [],
   "source": [
    "columns = [x for x in phones_tbl.columns if 'Time' not in x and x != 'overall'] + [overall, date]"
   ]
  },
  {
   "cell_type": "code",
   "execution_count": 17,
   "id": "3a27de1c-5f1b-4af1-af9a-2423fe9fc7d1",
   "metadata": {},
   "outputs": [
    {
     "data": {
      "text/html": [
       "<div>\n",
       "<style scoped>\n",
       "    .dataframe tbody tr th:only-of-type {\n",
       "        vertical-align: middle;\n",
       "    }\n",
       "\n",
       "    .dataframe tbody tr th {\n",
       "        vertical-align: top;\n",
       "    }\n",
       "\n",
       "    .dataframe thead th {\n",
       "        text-align: right;\n",
       "    }\n",
       "</style>\n",
       "<table border=\"1\" class=\"dataframe\">\n",
       "  <thead>\n",
       "    <tr style=\"text-align: right;\">\n",
       "      <th></th>\n",
       "      <th>reviewerID</th>\n",
       "      <th>asin</th>\n",
       "      <th>reviewerName</th>\n",
       "      <th>helpful</th>\n",
       "      <th>reviewText</th>\n",
       "      <th>summary</th>\n",
       "      <th>overall</th>\n",
       "      <th>date</th>\n",
       "    </tr>\n",
       "  </thead>\n",
       "  <tbody>\n",
       "    <tr>\n",
       "      <th>0</th>\n",
       "      <td>A30TL5EWN6DFXT</td>\n",
       "      <td>120401325X</td>\n",
       "      <td>christina</td>\n",
       "      <td>[0, 0]</td>\n",
       "      <td>They look good and stick good! I just don't like the rounded shape because I was always bumping it and Siri kept pop...</td>\n",
       "      <td>Looks Good</td>\n",
       "      <td>4</td>\n",
       "      <td>2014-05-21</td>\n",
       "    </tr>\n",
       "    <tr>\n",
       "      <th>1</th>\n",
       "      <td>APX47D16JOP7H</td>\n",
       "      <td>120401325X</td>\n",
       "      <td>RLH</td>\n",
       "      <td>[1, 2]</td>\n",
       "      <td>These make using the home button easy. My daughter and I both like them.  I would purchase them again. Well worth th...</td>\n",
       "      <td>Cute</td>\n",
       "      <td>3</td>\n",
       "      <td>2013-10-12</td>\n",
       "    </tr>\n",
       "    <tr>\n",
       "      <th>2</th>\n",
       "      <td>A6FGO4TBZ3QFZ</td>\n",
       "      <td>3998899561</td>\n",
       "      <td>Abdullah Albyati</td>\n",
       "      <td>[1, 2]</td>\n",
       "      <td>it worked for the first week then it only charge my phone to 20%. it is a waste of money.</td>\n",
       "      <td>not a good Idea</td>\n",
       "      <td>1</td>\n",
       "      <td>2013-11-21</td>\n",
       "    </tr>\n",
       "    <tr>\n",
       "      <th>3</th>\n",
       "      <td>A8AJS1DW7L3JJ</td>\n",
       "      <td>3998899561</td>\n",
       "      <td>Agata Majchrzak</td>\n",
       "      <td>[1, 1]</td>\n",
       "      <td>This is a fantastic case. Very stylish and protects my phone. Easy access to all buttons and features, without any l...</td>\n",
       "      <td>Perfect Case</td>\n",
       "      <td>5</td>\n",
       "      <td>2014-04-03</td>\n",
       "    </tr>\n",
       "    <tr>\n",
       "      <th>4</th>\n",
       "      <td>A2YO4SCWAWNYBI</td>\n",
       "      <td>3998899561</td>\n",
       "      <td>Alex Maslakov</td>\n",
       "      <td>[0, 0]</td>\n",
       "      <td>this case fits perfectly on the s4 and keeps me powerd all day I can't complain! a+ recommend it to all</td>\n",
       "      <td>Just what I needed</td>\n",
       "      <td>5</td>\n",
       "      <td>2014-04-13</td>\n",
       "    </tr>\n",
       "    <tr>\n",
       "      <th>...</th>\n",
       "      <td>...</td>\n",
       "      <td>...</td>\n",
       "      <td>...</td>\n",
       "      <td>...</td>\n",
       "      <td>...</td>\n",
       "      <td>...</td>\n",
       "      <td>...</td>\n",
       "      <td>...</td>\n",
       "    </tr>\n",
       "    <tr>\n",
       "      <th>3916</th>\n",
       "      <td>A3FCCLICKZSAJP</td>\n",
       "      <td>B000TUP97A</td>\n",
       "      <td>RGW</td>\n",
       "      <td>[0, 0]</td>\n",
       "      <td>I had an old Motorola Razor cell phone, but it would not charge.  I tried this battery because the price was right a...</td>\n",
       "      <td>Did the trick</td>\n",
       "      <td>5</td>\n",
       "      <td>2013-08-15</td>\n",
       "    </tr>\n",
       "    <tr>\n",
       "      <th>3917</th>\n",
       "      <td>A3D035KQL9KQFK</td>\n",
       "      <td>B000TUP97A</td>\n",
       "      <td>Shawn Stiner</td>\n",
       "      <td>[0, 0]</td>\n",
       "      <td>Looking for an OEM replacement...this is it. Works just as good as the orginal battery maybe even better because it ...</td>\n",
       "      <td>OEM</td>\n",
       "      <td>5</td>\n",
       "      <td>2012-12-29</td>\n",
       "    </tr>\n",
       "    <tr>\n",
       "      <th>3918</th>\n",
       "      <td>ASF3J4UYV34KA</td>\n",
       "      <td>B000TUWHFM</td>\n",
       "      <td>Average Customer</td>\n",
       "      <td>[0, 0]</td>\n",
       "      <td>The power retention of this battery is half as much as the original battery.  Many of the replacement batteries do n...</td>\n",
       "      <td>Good but not Great</td>\n",
       "      <td>3</td>\n",
       "      <td>2010-08-10</td>\n",
       "    </tr>\n",
       "    <tr>\n",
       "      <th>3919</th>\n",
       "      <td>A18TW6ZA16VUM2</td>\n",
       "      <td>B000TUWHFM</td>\n",
       "      <td>David Taber, SalesLogistix CEO www.SFDC-secr...</td>\n",
       "      <td>[0, 0]</td>\n",
       "      <td>This is the original equipment OEM battery for Razors and other vintage motorola phones.  works great, charges quick...</td>\n",
       "      <td>Great battery, great price</td>\n",
       "      <td>5</td>\n",
       "      <td>2013-02-17</td>\n",
       "    </tr>\n",
       "    <tr>\n",
       "      <th>3920</th>\n",
       "      <td>A19R7GVV216QKY</td>\n",
       "      <td>B000TUWHFM</td>\n",
       "      <td>Kunchok</td>\n",
       "      <td>[0, 0]</td>\n",
       "      <td>I am satisfied with this purchase at this price. I searched in few local stores and they told me i wont get it. They...</td>\n",
       "      <td>Not Bad..</td>\n",
       "      <td>4</td>\n",
       "      <td>2010-10-18</td>\n",
       "    </tr>\n",
       "  </tbody>\n",
       "</table>\n",
       "<p>3921 rows × 8 columns</p>\n",
       "</div>"
      ],
      "text/plain": [
       "          reviewerID        asin                    reviewerName helpful  \\\n",
       "0     A30TL5EWN6DFXT  120401325X                       christina  [0, 0]   \n",
       "1      APX47D16JOP7H  120401325X                             RLH  [1, 2]   \n",
       "2      A6FGO4TBZ3QFZ  3998899561                Abdullah Albyati  [1, 2]   \n",
       "3      A8AJS1DW7L3JJ  3998899561                 Agata Majchrzak  [1, 1]   \n",
       "4     A2YO4SCWAWNYBI  3998899561                   Alex Maslakov  [0, 0]   \n",
       "...              ...         ...                             ...     ...   \n",
       "3916  A3ON3XWGRCIS4I  B000TLVMMA                         A. LANE  [1, 2]   \n",
       "3917   ABXANRX4GPYRZ  B000TLVMMA                        hdtravel  [0, 4]   \n",
       "3918  A3UKWQS8SRW6IO  B000TLVMMA                    OrchidSlayer  [7, 9]   \n",
       "3919    ASM1YXKJZADC  B000TLVMMA  S. Alexander Suzanne Alexander  [0, 0]   \n",
       "3920  A368J1XGQ42CKR  B000TUWHFM                            carl  [0, 0]   \n",
       "\n",
       "                                                                                                                   reviewText  \\\n",
       "0     They look good and stick good! I just don't like the rounded shape because I was always bumping it and Siri kept pop...   \n",
       "1     These make using the home button easy. My daughter and I both like them.  I would purchase them again. Well worth th...   \n",
       "2                                   it worked for the first week then it only charge my phone to 20%. it is a waste of money.   \n",
       "3     This is a fantastic case. Very stylish and protects my phone. Easy access to all buttons and features, without any l...   \n",
       "4                     this case fits perfectly on the s4 and keeps me powerd all day I can't complain! a+ recommend it to all   \n",
       "...                                                                                                                       ...   \n",
       "3916  I got this sim card as a free promo item with the purchase of a cell phone, the rates for this service are really nu...   \n",
       "3917  This SIM is an excellent product to have with you and your unlocked Quad band GSM phone when you travel abroad.The c...   \n",
       "3918  I have been using this card for several years. I frequently travel internationally and need short-term access to int...   \n",
       "3919  I bought the card and took it on an international trip.  I put the card into my phoneand went to the site to activat...   \n",
       "3920  I shopped around a bit before deciding on this product. I knew i wasn't taking a chance,not with Amazon guaranty and...   \n",
       "\n",
       "                                     summary  overall       date  \n",
       "0                                 Looks Good        4 2014-05-21  \n",
       "1                                       Cute        3 2013-10-12  \n",
       "2                            not a good Idea        1 2013-11-21  \n",
       "3                               Perfect Case        5 2014-04-03  \n",
       "4                         Just what I needed        5 2014-04-13  \n",
       "...                                      ...      ...        ...  \n",
       "3916                         very overpriced        1 2009-10-22  \n",
       "3917             Good Deal for Emergency Use        4 2008-06-11  \n",
       "3918  Great for short term international use        5 2008-12-01  \n",
       "3919    A great mystery, and not a good one.        1 2014-06-23  \n",
       "3920                           BC 50 battery        5 2013-05-26  \n",
       "\n",
       "[3921 rows x 8 columns]"
      ]
     },
     "execution_count": 17,
     "metadata": {},
     "output_type": "execute_result"
    }
   ],
   "source": [
    "phones_tbl = phones_tbl[columns] \n",
    "phones_tbl"
   ]
  },
  {
   "cell_type": "markdown",
   "id": "4847b100-1322-47dc-a216-a3a82371fde3",
   "metadata": {},
   "source": [
    "The `phones_tbl` object now contains both references to actual columns in the `phones` table as well as computed expressions.\n",
    "It can be thought of as a client-side view object, but still works the same way as our original table. We can use the `info`\n",
    "method to show the schema information."
   ]
  },
  {
   "cell_type": "code",
   "execution_count": 18,
   "id": "f6da4b8a-9bf4-46a7-b4f9-4348829b6ab2",
   "metadata": {},
   "outputs": [
    {
     "data": {
      "text/html": [
       "<pre style=\"white-space:pre;overflow-x:auto;line-height:normal;font-family:Menlo,'DejaVu Sans Mono',consolas,'Courier New',monospace\"></pre>\n"
      ],
      "text/plain": []
     },
     "metadata": {},
     "output_type": "display_data"
    },
    {
     "name": "stdout",
     "output_type": "stream",
     "text": [
      "\u001b[3m                             Summary of Selection                             \u001b[0m\n",
      "\u001b[3m                                  3921 rows                                   \u001b[0m\n",
      "┏━━━━━━━━━━━━━━┳━━━━━━━━━━━━━━━━━━━━━━━━━━━━━━━━━━━━━━━━━┳━━━━━━━━━┳━━━━━━━━━┓\n",
      "┃\u001b[1m \u001b[0m\u001b[1mName        \u001b[0m\u001b[1m \u001b[0m┃\u001b[1m \u001b[0m\u001b[1mType                                   \u001b[0m\u001b[1m \u001b[0m┃\u001b[1m \u001b[0m\u001b[1m# Nulls\u001b[0m\u001b[1m \u001b[0m┃\u001b[1m \u001b[0m\u001b[1m% Nulls\u001b[0m\u001b[1m \u001b[0m┃\n",
      "┡━━━━━━━━━━━━━━╇━━━━━━━━━━━━━━━━━━━━━━━━━━━━━━━━━━━━━━━━━╇━━━━━━━━━╇━━━━━━━━━┩\n",
      "│ reviewerID   │ \u001b[1;35mString\u001b[0m\u001b[1m(\u001b[0m\u001b[33mnullable\u001b[0m=\u001b[3;92mTrue\u001b[0m\u001b[1m)\u001b[0m                   │       0 │    0.00 │\n",
      "│ asin         │ \u001b[1;35mString\u001b[0m\u001b[1m(\u001b[0m\u001b[33mnullable\u001b[0m=\u001b[3;92mTrue\u001b[0m\u001b[1m)\u001b[0m                   │       0 │    0.00 │\n",
      "│ reviewerName │ \u001b[1;35mString\u001b[0m\u001b[1m(\u001b[0m\u001b[33mnullable\u001b[0m=\u001b[3;92mTrue\u001b[0m\u001b[1m)\u001b[0m                   │       0 │    0.00 │\n",
      "│ helpful      │ \u001b[1;35mString\u001b[0m\u001b[1m(\u001b[0m\u001b[33mnullable\u001b[0m=\u001b[3;92mTrue\u001b[0m\u001b[1m)\u001b[0m                   │       0 │    0.00 │\n",
      "│ reviewText   │ \u001b[1;35mString\u001b[0m\u001b[1m(\u001b[0m\u001b[33mnullable\u001b[0m=\u001b[3;92mTrue\u001b[0m\u001b[1m)\u001b[0m                   │       0 │    0.00 │\n",
      "│ summary      │ \u001b[1;35mString\u001b[0m\u001b[1m(\u001b[0m\u001b[33mnullable\u001b[0m=\u001b[3;92mTrue\u001b[0m\u001b[1m)\u001b[0m                   │       1 │    0.03 │\n",
      "│ overall      │ \u001b[1;35mInt64\u001b[0m\u001b[1m(\u001b[0m\u001b[33mnullable\u001b[0m=\u001b[3;92mTrue\u001b[0m\u001b[1m)\u001b[0m                    │       0 │    0.00 │\n",
      "│ date         │ \u001b[1;35mTimestamp\u001b[0m\u001b[1m(\u001b[0m\u001b[33mtimezone\u001b[0m=\u001b[3;35mNone\u001b[0m, \u001b[33mnullable\u001b[0m=\u001b[3;92mTrue\u001b[0m\u001b[1m)\u001b[0m │       0 │    0.00 │\n",
      "└──────────────┴─────────────────────────────────────────┴─────────┴─────────┘\n"
     ]
    }
   ],
   "source": [
    "phones_tbl.info()"
   ]
  },
  {
   "cell_type": "markdown",
   "id": "160dfb54-511c-47af-b127-d7fd48f23975",
   "metadata": {},
   "source": [
    "It's also possible to access the schema information for traversing progamatically using the `schema` method of the table."
   ]
  },
  {
   "cell_type": "code",
   "execution_count": 19,
   "id": "d8a40ddb-6f7c-4ec0-bba9-7d91414e3a88",
   "metadata": {},
   "outputs": [
    {
     "data": {
      "text/plain": [
       "ibis.Schema {\n",
       "  reviewerID    string\n",
       "  asin          string\n",
       "  reviewerName  string\n",
       "  helpful       string\n",
       "  reviewText    string\n",
       "  summary       string\n",
       "  overall       int64\n",
       "  date          timestamp\n",
       "}"
      ]
     },
     "execution_count": 19,
     "metadata": {},
     "output_type": "execute_result"
    }
   ],
   "source": [
    "phones_tbl.schema()"
   ]
  },
  {
   "cell_type": "markdown",
   "id": "1595b069-95b6-4c4c-b8fb-6590ae7b45a8",
   "metadata": {},
   "source": [
    "### Create a table from a table expression\n",
    "\n",
    "As mentioned earlier, the `create_table` method can be used to create tables in the database from Ibis table\n",
    "expressions. That means that we can materialize our new table into the database if we so desire. This simply\n",
    "selects data from an expression into a new table, no work is being done on the client side."
   ]
  },
  {
   "cell_type": "code",
   "execution_count": 20,
   "id": "f427c60c-2fdd-4874-a219-38b27759f86d",
   "metadata": {},
   "outputs": [
    {
     "data": {
      "text/html": [
       "<div>\n",
       "<style scoped>\n",
       "    .dataframe tbody tr th:only-of-type {\n",
       "        vertical-align: middle;\n",
       "    }\n",
       "\n",
       "    .dataframe tbody tr th {\n",
       "        vertical-align: top;\n",
       "    }\n",
       "\n",
       "    .dataframe thead th {\n",
       "        text-align: right;\n",
       "    }\n",
       "</style>\n",
       "<table border=\"1\" class=\"dataframe\">\n",
       "  <thead>\n",
       "    <tr style=\"text-align: right;\">\n",
       "      <th></th>\n",
       "      <th>reviewerID</th>\n",
       "      <th>asin</th>\n",
       "      <th>reviewerName</th>\n",
       "      <th>helpful</th>\n",
       "      <th>reviewText</th>\n",
       "      <th>summary</th>\n",
       "      <th>overall</th>\n",
       "      <th>date</th>\n",
       "    </tr>\n",
       "  </thead>\n",
       "  <tbody>\n",
       "    <tr>\n",
       "      <th>0</th>\n",
       "      <td>A30TL5EWN6DFXT</td>\n",
       "      <td>120401325X</td>\n",
       "      <td>christina</td>\n",
       "      <td>[0, 0]</td>\n",
       "      <td>They look good and stick good! I just don't like the rounded shape because I was always bumping it and Siri kept pop...</td>\n",
       "      <td>Looks Good</td>\n",
       "      <td>4</td>\n",
       "      <td>2014-05-21</td>\n",
       "    </tr>\n",
       "    <tr>\n",
       "      <th>1</th>\n",
       "      <td>APX47D16JOP7H</td>\n",
       "      <td>120401325X</td>\n",
       "      <td>RLH</td>\n",
       "      <td>[1, 2]</td>\n",
       "      <td>These make using the home button easy. My daughter and I both like them.  I would purchase them again. Well worth th...</td>\n",
       "      <td>Cute</td>\n",
       "      <td>3</td>\n",
       "      <td>2013-10-12</td>\n",
       "    </tr>\n",
       "    <tr>\n",
       "      <th>2</th>\n",
       "      <td>A6FGO4TBZ3QFZ</td>\n",
       "      <td>3998899561</td>\n",
       "      <td>Abdullah Albyati</td>\n",
       "      <td>[1, 2]</td>\n",
       "      <td>it worked for the first week then it only charge my phone to 20%. it is a waste of money.</td>\n",
       "      <td>not a good Idea</td>\n",
       "      <td>1</td>\n",
       "      <td>2013-11-21</td>\n",
       "    </tr>\n",
       "    <tr>\n",
       "      <th>3</th>\n",
       "      <td>A8AJS1DW7L3JJ</td>\n",
       "      <td>3998899561</td>\n",
       "      <td>Agata Majchrzak</td>\n",
       "      <td>[1, 1]</td>\n",
       "      <td>This is a fantastic case. Very stylish and protects my phone. Easy access to all buttons and features, without any l...</td>\n",
       "      <td>Perfect Case</td>\n",
       "      <td>5</td>\n",
       "      <td>2014-04-03</td>\n",
       "    </tr>\n",
       "    <tr>\n",
       "      <th>4</th>\n",
       "      <td>A2YO4SCWAWNYBI</td>\n",
       "      <td>3998899561</td>\n",
       "      <td>Alex Maslakov</td>\n",
       "      <td>[0, 0]</td>\n",
       "      <td>this case fits perfectly on the s4 and keeps me powerd all day I can't complain! a+ recommend it to all</td>\n",
       "      <td>Just what I needed</td>\n",
       "      <td>5</td>\n",
       "      <td>2014-04-13</td>\n",
       "    </tr>\n",
       "    <tr>\n",
       "      <th>...</th>\n",
       "      <td>...</td>\n",
       "      <td>...</td>\n",
       "      <td>...</td>\n",
       "      <td>...</td>\n",
       "      <td>...</td>\n",
       "      <td>...</td>\n",
       "      <td>...</td>\n",
       "      <td>...</td>\n",
       "    </tr>\n",
       "    <tr>\n",
       "      <th>3916</th>\n",
       "      <td>A3ON3XWGRCIS4I</td>\n",
       "      <td>B000TLVMMA</td>\n",
       "      <td>A. LANE</td>\n",
       "      <td>[1, 2]</td>\n",
       "      <td>I got this sim card as a free promo item with the purchase of a cell phone, the rates for this service are really nu...</td>\n",
       "      <td>very overpriced</td>\n",
       "      <td>1</td>\n",
       "      <td>2009-10-22</td>\n",
       "    </tr>\n",
       "    <tr>\n",
       "      <th>3917</th>\n",
       "      <td>ABXANRX4GPYRZ</td>\n",
       "      <td>B000TLVMMA</td>\n",
       "      <td>hdtravel</td>\n",
       "      <td>[0, 4]</td>\n",
       "      <td>This SIM is an excellent product to have with you and your unlocked Quad band GSM phone when you travel abroad.The c...</td>\n",
       "      <td>Good Deal for Emergency Use</td>\n",
       "      <td>4</td>\n",
       "      <td>2008-06-11</td>\n",
       "    </tr>\n",
       "    <tr>\n",
       "      <th>3918</th>\n",
       "      <td>A3UKWQS8SRW6IO</td>\n",
       "      <td>B000TLVMMA</td>\n",
       "      <td>OrchidSlayer</td>\n",
       "      <td>[7, 9]</td>\n",
       "      <td>I have been using this card for several years. I frequently travel internationally and need short-term access to int...</td>\n",
       "      <td>Great for short term international use</td>\n",
       "      <td>5</td>\n",
       "      <td>2008-12-01</td>\n",
       "    </tr>\n",
       "    <tr>\n",
       "      <th>3919</th>\n",
       "      <td>ASM1YXKJZADC</td>\n",
       "      <td>B000TLVMMA</td>\n",
       "      <td>S. Alexander Suzanne Alexander</td>\n",
       "      <td>[0, 0]</td>\n",
       "      <td>I bought the card and took it on an international trip.  I put the card into my phoneand went to the site to activat...</td>\n",
       "      <td>A great mystery, and not a good one.</td>\n",
       "      <td>1</td>\n",
       "      <td>2014-06-23</td>\n",
       "    </tr>\n",
       "    <tr>\n",
       "      <th>3920</th>\n",
       "      <td>A368J1XGQ42CKR</td>\n",
       "      <td>B000TUWHFM</td>\n",
       "      <td>carl</td>\n",
       "      <td>[0, 0]</td>\n",
       "      <td>I shopped around a bit before deciding on this product. I knew i wasn't taking a chance,not with Amazon guaranty and...</td>\n",
       "      <td>BC 50 battery</td>\n",
       "      <td>5</td>\n",
       "      <td>2013-05-26</td>\n",
       "    </tr>\n",
       "  </tbody>\n",
       "</table>\n",
       "<p>3921 rows × 8 columns</p>\n",
       "</div>"
      ],
      "text/plain": [
       "          reviewerID        asin                       reviewerName helpful  \\\n",
       "0      ASY55RVNIL0UD  120401325X                           emily l.  [0, 0]   \n",
       "1      AWJ0WZQYMYFQ4  120401325X                                 JM  [4, 4]   \n",
       "2      ATX7CZYFXI1KW  120401325X                   patrice m rogoza  [2, 3]   \n",
       "3      A6Q0P54QSP11J  3998899561                      Olivia \u001aysiak  [3, 3]   \n",
       "4     A1ZTTNS6SWFV52  6073894996  Alexander Graham Bell Very-Junior  [0, 0]   \n",
       "...              ...         ...                                ...     ...   \n",
       "3916  A3ON3XWGRCIS4I  B000TLVMMA                            A. LANE  [1, 2]   \n",
       "3917   ABXANRX4GPYRZ  B000TLVMMA                           hdtravel  [0, 4]   \n",
       "3918  A3UKWQS8SRW6IO  B000TLVMMA                       OrchidSlayer  [7, 9]   \n",
       "3919    ASM1YXKJZADC  B000TLVMMA     S. Alexander Suzanne Alexander  [0, 0]   \n",
       "3920  A368J1XGQ42CKR  B000TUWHFM                               carl  [0, 0]   \n",
       "\n",
       "                                                                                                                   reviewText  \\\n",
       "0     These stickers work like the review says they do. They stick on great and they stay on the phone. They are super sty...   \n",
       "1     Item arrived in great time and was in perfect condition. However, I ordered these buttons because they were a great ...   \n",
       "2     awesome! stays on, and looks great. can be used on multiple apple products.  especially having nails, it helps to ha...   \n",
       "3     Performs exactly as advertised . It's very  sturdily built,and provides lots of boost . It does exactly what it's su...   \n",
       "4     Surprisingly, this inexpensive version works just as well and just as reliably as the expensive variety. It has been...   \n",
       "...                                                                                                                       ...   \n",
       "3916  I got this sim card as a free promo item with the purchase of a cell phone, the rates for this service are really nu...   \n",
       "3917  This SIM is an excellent product to have with you and your unlocked Quad band GSM phone when you travel abroad.The c...   \n",
       "3918  I have been using this card for several years. I frequently travel internationally and need short-term access to int...   \n",
       "3919  I bought the card and took it on an international trip.  I put the card into my phoneand went to the site to activat...   \n",
       "3920  I shopped around a bit before deciding on this product. I knew i wasn't taking a chance,not with Amazon guaranty and...   \n",
       "\n",
       "                                            summary  overall       date  \n",
       "0                             Really great product.        5 2014-01-14  \n",
       "1                                             Cute!        4 2013-10-21  \n",
       "2         leopard home button sticker for iphone 4s        5 2013-02-03  \n",
       "3                       Absolutely love the case !!        5 2013-12-05  \n",
       "4     Top Quality. Works like the Expensive Version        5 2013-05-11  \n",
       "...                                             ...      ...        ...  \n",
       "3916                                very overpriced        1 2009-10-22  \n",
       "3917                    Good Deal for Emergency Use        4 2008-06-11  \n",
       "3918         Great for short term international use        5 2008-12-01  \n",
       "3919           A great mystery, and not a good one.        1 2014-06-23  \n",
       "3920                                  BC 50 battery        5 2013-05-26  \n",
       "\n",
       "[3921 rows x 8 columns]"
      ]
     },
     "execution_count": 20,
     "metadata": {},
     "output_type": "execute_result"
    }
   ],
   "source": [
    "tbl_2 = conn.create_table('phones2', phones_tbl, force=True)\n",
    "tbl_2"
   ]
  },
  {
   "cell_type": "code",
   "execution_count": 21,
   "id": "60a0dfb0-a8c0-4047-8658-858f79e90a02",
   "metadata": {},
   "outputs": [
    {
     "data": {
      "text/html": [
       "<table border=\"1\" class=\"dataframe\"><thead><tr><th style=\"text-align: left; vertical-align: top\">Name</th></tr></thead><tbody><tr><td style=\"text-align: left; vertical-align: top\">phones</td></tr><tr><td style=\"text-align: left; vertical-align: top\">phones2</td></tr><tr><td style=\"text-align: left; vertical-align: top\">titanic</td></tr></tbody></table>"
      ],
      "text/plain": [
       "\n",
       "|  Name     |\n",
       "-------------\n",
       "|  phones   |\n",
       "|  phones2  |\n",
       "|  titanic  |"
      ]
     },
     "execution_count": 21,
     "metadata": {},
     "output_type": "execute_result"
    }
   ],
   "source": [
    "conn.show.tables()"
   ]
  },
  {
   "cell_type": "code",
   "execution_count": 22,
   "id": "03fe4942-f3e7-4d2c-96ad-721bed730c8f",
   "metadata": {},
   "outputs": [
    {
     "data": {
      "text/html": [
       "<pre style=\"white-space:pre;overflow-x:auto;line-height:normal;font-family:Menlo,'DejaVu Sans Mono',consolas,'Courier New',monospace\"></pre>\n"
      ],
      "text/plain": []
     },
     "metadata": {},
     "output_type": "display_data"
    },
    {
     "name": "stdout",
     "output_type": "stream",
     "text": [
      "\u001b[3m                              Summary of phones2                              \u001b[0m\n",
      "\u001b[3m                                  3921 rows                                   \u001b[0m\n",
      "┏━━━━━━━━━━━━━━┳━━━━━━━━━━━━━━━━━━━━━━━━━━━━━━━━━━━━━━━━━┳━━━━━━━━━┳━━━━━━━━━┓\n",
      "┃\u001b[1m \u001b[0m\u001b[1mName        \u001b[0m\u001b[1m \u001b[0m┃\u001b[1m \u001b[0m\u001b[1mType                                   \u001b[0m\u001b[1m \u001b[0m┃\u001b[1m \u001b[0m\u001b[1m# Nulls\u001b[0m\u001b[1m \u001b[0m┃\u001b[1m \u001b[0m\u001b[1m% Nulls\u001b[0m\u001b[1m \u001b[0m┃\n",
      "┡━━━━━━━━━━━━━━╇━━━━━━━━━━━━━━━━━━━━━━━━━━━━━━━━━━━━━━━━━╇━━━━━━━━━╇━━━━━━━━━┩\n",
      "│ reviewerID   │ \u001b[1;35mString\u001b[0m\u001b[1m(\u001b[0m\u001b[33mnullable\u001b[0m=\u001b[3;92mTrue\u001b[0m\u001b[1m)\u001b[0m                   │       0 │    0.00 │\n",
      "│ asin         │ \u001b[1;35mString\u001b[0m\u001b[1m(\u001b[0m\u001b[33mnullable\u001b[0m=\u001b[3;92mTrue\u001b[0m\u001b[1m)\u001b[0m                   │       0 │    0.00 │\n",
      "│ reviewerName │ \u001b[1;35mString\u001b[0m\u001b[1m(\u001b[0m\u001b[33mnullable\u001b[0m=\u001b[3;92mTrue\u001b[0m\u001b[1m)\u001b[0m                   │       0 │    0.00 │\n",
      "│ helpful      │ \u001b[1;35mString\u001b[0m\u001b[1m(\u001b[0m\u001b[33mnullable\u001b[0m=\u001b[3;92mTrue\u001b[0m\u001b[1m)\u001b[0m                   │       0 │    0.00 │\n",
      "│ reviewText   │ \u001b[1;35mString\u001b[0m\u001b[1m(\u001b[0m\u001b[33mnullable\u001b[0m=\u001b[3;92mTrue\u001b[0m\u001b[1m)\u001b[0m                   │       0 │    0.00 │\n",
      "│ summary      │ \u001b[1;35mString\u001b[0m\u001b[1m(\u001b[0m\u001b[33mnullable\u001b[0m=\u001b[3;92mTrue\u001b[0m\u001b[1m)\u001b[0m                   │       1 │    0.03 │\n",
      "│ overall      │ \u001b[1;35mInt64\u001b[0m\u001b[1m(\u001b[0m\u001b[33mnullable\u001b[0m=\u001b[3;92mTrue\u001b[0m\u001b[1m)\u001b[0m                    │       0 │    0.00 │\n",
      "│ date         │ \u001b[1;35mTimestamp\u001b[0m\u001b[1m(\u001b[0m\u001b[33mtimezone\u001b[0m=\u001b[3;35mNone\u001b[0m, \u001b[33mnullable\u001b[0m=\u001b[3;92mTrue\u001b[0m\u001b[1m)\u001b[0m │       0 │    0.00 │\n",
      "└──────────────┴─────────────────────────────────────────┴─────────┴─────────┘\n"
     ]
    }
   ],
   "source": [
    "tbl_2.info()"
   ]
  },
  {
   "cell_type": "code",
   "execution_count": 23,
   "id": "e91d0901-6031-4ffe-b485-d167bdfa15c1",
   "metadata": {},
   "outputs": [
    {
     "data": {
      "text/html": [
       "<table border=\"1\" class=\"dataframe\"><thead><tr><th style=\"text-align: left; vertical-align: top\">Name</th><th style=\"text-align: left; vertical-align: top\">CreateTable</th></tr></thead><tbody><tr><td style=\"text-align: left; vertical-align: top\">phones2</td><td style=\"text-align: left; vertical-align: top\">CREATE TABLE `phones2` (\n",
       "  `reviewerID` text CHARACTER SET utf8 COLLATE utf8_general_ci,\n",
       "  `asin` text CHARACTER SET utf8 COLLATE utf8_general_ci,\n",
       "  `reviewerName` text CHARACTER SET utf8 COLLATE utf8_general_ci,\n",
       "  `helpful` text CHARACTER SET utf8 COLLATE utf8_general_ci,\n",
       "  `reviewText` text CHARACTER SET utf8 COLLATE utf8_general_ci,\n",
       "  `summary` text CHARACTER SET utf8 COLLATE utf8_general_ci,\n",
       "  `overall` bigint(20) DEFAULT NULL,\n",
       "  `date` timestamp NULL DEFAULT NULL,\n",
       "  KEY `__UNORDERED` () USING CLUSTERED COLUMNSTORE\n",
       "  , SHARD KEY () \n",
       ") AUTOSTATS_CARDINALITY_MODE=OFF AUTOSTATS_HISTOGRAM_MODE=OFF AUTOSTATS_SAMPLING=OFF SQL_MODE='STRICT_ALL_TABLES'</td></tr></tbody></table>"
      ],
      "text/plain": [
       "\n",
       "|  Name    | CreateTable                                                                                                                                                                                                                                                                                                                                                                                                                                                                                                                                                                                                                                                                       |\n",
       "------------------------------------------------------------------------------------------------------------------------------------------------------------------------------------------------------------------------------------------------------------------------------------------------------------------------------------------------------------------------------------------------------------------------------------------------------------------------------------------------------------------------------------------------------------------------------------------------------------------------------------------------------------------------------------------------\n",
       "|  phones2 | CREATE TABLE `phones2` (\n",
       "  `reviewerID` text CHARACTER SET utf8 COLLATE utf8_general_ci,\n",
       "  `asin` text CHARACTER SET utf8 COLLATE utf8_general_ci,\n",
       "  `reviewerName` text CHARACTER SET utf8 COLLATE utf8_general_ci,\n",
       "  `helpful` text CHARACTER SET utf8 COLLATE utf8_general_ci,\n",
       "  `reviewText` text CHARACTER SET utf8 COLLATE utf8_general_ci,\n",
       "  `summary` text CHARACTER SET utf8 COLLATE utf8_general_ci,\n",
       "  `overall` bigint(20) DEFAULT NULL,\n",
       "  `date` timestamp NULL DEFAULT NULL,\n",
       "  KEY `__UNORDERED` () USING CLUSTERED COLUMNSTORE\n",
       "  , SHARD KEY () \n",
       ") AUTOSTATS_CARDINALITY_MODE=OFF AUTOSTATS_HISTOGRAM_MODE=OFF AUTOSTATS_SAMPLING=OFF SQL_MODE='STRICT_ALL_TABLES'  |"
      ]
     },
     "execution_count": 23,
     "metadata": {},
     "output_type": "execute_result"
    }
   ],
   "source": [
    "conn.show.create_table('phones2')"
   ]
  },
  {
   "cell_type": "markdown",
   "id": "b4425759-a20e-41dd-84c8-8ae89ab65f15",
   "metadata": {},
   "source": [
    "For this example, we'll drop this table and use our original object."
   ]
  },
  {
   "cell_type": "code",
   "execution_count": 24,
   "id": "cbeac008-f266-44ab-aef4-78142cf45ef6",
   "metadata": {},
   "outputs": [],
   "source": [
    "conn.drop_table('phones2')"
   ]
  },
  {
   "cell_type": "markdown",
   "id": "c7befbbf-c24c-41ed-a685-ad7c5e8da16b",
   "metadata": {},
   "source": [
    "### DataFrame operations"
   ]
  },
  {
   "cell_type": "markdown",
   "id": "b79ba74b-b713-4981-b657-6a128b61c8e1",
   "metadata": {},
   "source": [
    "Now that we have a table in the database and a DataFrame-like obect connected to it, let's do some operations with the data. For this example, \n",
    "we'll enable the `verbose` option in Ibis. This will display the SQL code that is sent to the server when evaluating the expression. In this \n",
    "example, we are building a sentence from various columns in the data table. We are using the reviwer name (which is capitalized), the summary,\n",
    "and the overall rating (which is cast to a string). All of these are concatenated together using the `+` as you normally would when\n",
    "concatenating strings in Python."
   ]
  },
  {
   "cell_type": "code",
   "execution_count": 25,
   "id": "7d5d4e1d-ac82-42ee-926c-e7afb73db3f8",
   "metadata": {},
   "outputs": [
    {
     "name": "stdout",
     "output_type": "stream",
     "text": [
      "SELECT concat(concat(concat(concat(concat(concat(ucase(left(t0.`reviewerName`, %(left_1)s)), substring(t0.`reviewerName`, %(substring_1)s)), %(param_1)s), t0.summary), %(param_2)s), CAST(t0.overall AS CHAR)), %(param_3)s) AS tmp \n",
      "FROM (SELECT t1.`reviewerID` AS `reviewerID`, t1.asin AS asin, t1.`reviewerName` AS `reviewerName`, t1.helpful AS helpful, t1.`reviewText` AS `reviewText`, t1.summary AS summary, CAST(t1.overall AS SIGNED INTEGER) AS overall, convert_tz(from_unixtime(t1.`unixReviewTime`), %(convert_tz_1)s, %(convert_tz_2)s) AS date \n",
      "FROM phones AS t1) AS t0 \n",
      " LIMIT %(param_4)s\n",
      "SELECT concat(concat(concat(concat(concat(concat(ucase(left(t0.`reviewerName`, %(left_1)s)), substring(t0.`reviewerName`, %(substring_1)s)), %(param_1)s), t0.summary), %(param_2)s), CAST(t0.overall AS CHAR)), %(param_3)s) AS tmp \n",
      "FROM (SELECT t1.`reviewerID` AS `reviewerID`, t1.asin AS asin, t1.`reviewerName` AS `reviewerName`, t1.helpful AS helpful, t1.`reviewText` AS `reviewText`, t1.summary AS summary, CAST(t1.overall AS SIGNED INTEGER) AS overall, convert_tz(from_unixtime(t1.`unixReviewTime`), %(convert_tz_1)s, %(convert_tz_2)s) AS date \n",
      "FROM phones AS t1) AS t0 \n",
      " LIMIT %(param_4)s\n"
     ]
    },
    {
     "data": {
      "text/html": [
       "<div>\n",
       "<style scoped>\n",
       "    .dataframe tbody tr th:only-of-type {\n",
       "        vertical-align: middle;\n",
       "    }\n",
       "\n",
       "    .dataframe tbody tr th {\n",
       "        vertical-align: top;\n",
       "    }\n",
       "\n",
       "    .dataframe thead th {\n",
       "        text-align: right;\n",
       "    }\n",
       "</style>\n",
       "<table border=\"1\" class=\"dataframe\">\n",
       "  <thead>\n",
       "    <tr style=\"text-align: right;\">\n",
       "      <th></th>\n",
       "      <th>tmp</th>\n",
       "    </tr>\n",
       "  </thead>\n",
       "  <tbody>\n",
       "    <tr>\n",
       "      <th>0</th>\n",
       "      <td>Erica says \"LOVE LOVE LOVE\" and gives it 5 stars.</td>\n",
       "    </tr>\n",
       "    <tr>\n",
       "      <th>1</th>\n",
       "      <td>Tyler Evans says \"best thing ever..\" and gives it 5 stars.</td>\n",
       "    </tr>\n",
       "    <tr>\n",
       "      <th>2</th>\n",
       "      <td>Adam says \"Solid Case\" and gives it 5 stars.</td>\n",
       "    </tr>\n",
       "    <tr>\n",
       "      <th>3</th>\n",
       "      <td>Tim g says \"Exactly what I needed\" and gives it 5 stars.</td>\n",
       "    </tr>\n",
       "    <tr>\n",
       "      <th>4</th>\n",
       "      <td>Zonaldo Reefey Zonaldo Reefey says \"SUPER DUPER QUALITY!\" and gives it 5 stars.</td>\n",
       "    </tr>\n",
       "    <tr>\n",
       "      <th>...</th>\n",
       "      <td>...</td>\n",
       "    </tr>\n",
       "    <tr>\n",
       "      <th>3916</th>\n",
       "      <td>A. LANE says \"very overpriced\" and gives it 1 stars.</td>\n",
       "    </tr>\n",
       "    <tr>\n",
       "      <th>3917</th>\n",
       "      <td>Hdtravel says \"Good Deal for Emergency Use\" and gives it 4 stars.</td>\n",
       "    </tr>\n",
       "    <tr>\n",
       "      <th>3918</th>\n",
       "      <td>OrchidSlayer says \"Great for short term international use\" and gives it 5 stars.</td>\n",
       "    </tr>\n",
       "    <tr>\n",
       "      <th>3919</th>\n",
       "      <td>S. Alexander Suzanne Alexander says \"A great mystery, and not a good one.\" and gives it 1 stars.</td>\n",
       "    </tr>\n",
       "    <tr>\n",
       "      <th>3920</th>\n",
       "      <td>Carl says \"BC 50 battery\" and gives it 5 stars.</td>\n",
       "    </tr>\n",
       "  </tbody>\n",
       "</table>\n",
       "<p>3921 rows × 1 columns</p>\n",
       "</div>"
      ],
      "text/plain": [
       "0                                                             Christina says \"Looks Good\" and gives it 4 stars.\n",
       "1                                                                         RLH says \"Cute\" and gives it 3 stars.\n",
       "2                                                 Abdullah Albyati says \"not a good Idea\" and gives it 1 stars.\n",
       "3                                                     Agata Majchrzak says \"Perfect Case\" and gives it 5 stars.\n",
       "4                                                 Alex Maslakov says \"Just what I needed\" and gives it 5 stars.\n",
       "                                                         ...                                                   \n",
       "3916                                                             RGW says \"Did the trick\" and gives it 5 stars.\n",
       "3917                                                              Shawn Stiner says \"OEM\" and gives it 5 stars.\n",
       "3918                                           Average Customer says \"Good but not Great\" and gives it 3 stars.\n",
       "3919    David Taber, SalesLogistix CEO www.SFDC-secr... says \"Great battery, great price\" and gives it 5 stars.\n",
       "3920                                                             Kunchok says \"Not Bad..\" and gives it 4 stars.\n",
       "Name: tmp, Length: 3921, dtype: object"
      ]
     },
     "execution_count": 25,
     "metadata": {},
     "output_type": "execute_result"
    }
   ],
   "source": [
    "# Enable display of SQL that is executed in the background\n",
    "ibis.options.verbose = True\n",
    "\n",
    "texpr = phones_tbl.reviewerName.capitalize() + \\\n",
    "        ' says \"' + \\\n",
    "        phones_tbl.summary + \\\n",
    "        '\" and gives it ' + \\\n",
    "        phones_tbl.overall.cast('string') + \\\n",
    "        ' stars.'\n",
    "texpr"
   ]
  },
  {
   "cell_type": "markdown",
   "id": "f546bca3-5d61-48df-b178-c9fca4356e5f",
   "metadata": {},
   "source": [
    "As you can see from the SQL output above, the sentence is constructed using `concat` in the query. Capitalization is done using `ucase` and `substring`. \n",
    "The `:param_#` portions are used by Ibis to inject literal Python values from the expression. And, you'll see that the result table contains a column\n",
    "of string values that are the result of the expression."
   ]
  },
  {
   "cell_type": "markdown",
   "id": "6475b645-7620-401d-8da4-99594a67895f",
   "metadata": {},
   "source": [
    "#### String operations\n",
    "\n",
    "There are many string operations available in Ibis. Many of them correspond to operations on pandas DataFrames and / or Python string methods.\n",
    "The code below prints a list of all methods on string columns."
   ]
  },
  {
   "cell_type": "code",
   "execution_count": 26,
   "id": "649d054f-ad0b-43e3-91c3-25ff4915f25a",
   "metadata": {},
   "outputs": [
    {
     "name": "stdout",
     "output_type": "stream",
     "text": [
      "approx_median approx_nunique arbitrary argmax argmin ascii_str between bottomk capitalize case cases cast coalesce collect compile concat contains convert_base count cume_dist cummax cummin dense_rank describe endswith equals execute fillna find find_in_set first get_name greatest group_concat has_name hash hashbytes identical_to ilike initcap isin isnull join lag last lead least left length like lower lpad lstrip max min name notin notnull nth ntile nullif nunique op over parent parse_url percent_rank pipe rank re_extract re_replace re_search repeat replace reverse right rlike rpad rstrip split startswith strip substitute substr summary to_projection to_timestamp topk translate type typeof upper value_counts verify visualize\n"
     ]
    }
   ],
   "source": [
    "print(' '.join([x for x in dir(texpr) if not x.startswith('_')]))"
   ]
  },
  {
   "cell_type": "markdown",
   "id": "87837e24-c8ad-4b88-ad69-9527b56677f9",
   "metadata": {},
   "source": [
    "#### Operations on other column types\n",
    "\n",
    "Other data types have different methods that can be called. For example, this is the list of methods on date/time columns."
   ]
  },
  {
   "cell_type": "code",
   "execution_count": 27,
   "id": "a5d65bdd-bcd8-43a8-b351-0d2492320ec7",
   "metadata": {},
   "outputs": [
    {
     "name": "stdout",
     "output_type": "stream",
     "text": [
      "add approx_median approx_nunique arbitrary argmax argmin between bottomk case cases cast coalesce collect compile count cume_dist cummax cummin date day day_of_week day_of_year dense_rank describe epoch_seconds equals execute fillna first get_name greatest group_concat has_name hash hour identical_to isin isnull lag last lead least max millisecond min minute month name notin notnull nth ntile nullif nunique op over parent percent_rank pipe quarter radd rank rsub second strftime sub substitute summary time to_projection topk truncate type typeof value_counts verify visualize week_of_year year\n"
     ]
    }
   ],
   "source": [
    "print(' '.join([x for x in dir(phones_tbl.date) if not x.startswith('_')]))"
   ]
  },
  {
   "cell_type": "markdown",
   "id": "6d292dc6-72cc-4abf-8cb0-b0434f15c5e4",
   "metadata": {},
   "source": [
    "Here are the methods for numeric columns."
   ]
  },
  {
   "cell_type": "code",
   "execution_count": 28,
   "id": "9d540c05-f7e0-4bfa-9508-2f25176f5ec7",
   "metadata": {},
   "outputs": [
    {
     "name": "stdout",
     "output_type": "stream",
     "text": [
      "abs acos add approx_median approx_nunique arbitrary argmax argmin asin atan atan2 between bit_and bit_or bit_xor bottomk bucket case cases cast ceil clip coalesce collect compile convert_base corr cos cot count cov cume_dist cummax cummean cummin cumsum deg2rad degrees dense_rank describe div equals execute exp fillna first floor floordiv get_name greatest group_concat has_name hash histogram identical_to isin isnull lag last lead least ln log log10 log2 max mean min mod mul name negate notin notnull nth ntile nullif nullifzero nunique op over parent percent_rank pipe point pow quantile rad2deg radd radians rank rdiv rfloordiv rmod rmul round rpow rsub sign sin sqrt std sub substitute sum summary tan to_interval to_projection to_timestamp topk type typeof value_counts var verify visualize zeroifnull\n"
     ]
    }
   ],
   "source": [
    "print(' '.join([x for x in dir(phones_tbl.overall) if not x.startswith('_')]))"
   ]
  },
  {
   "cell_type": "code",
   "execution_count": 29,
   "id": "f5624059-dc62-4405-bb22-34269fb2c44e",
   "metadata": {},
   "outputs": [],
   "source": [
    "ibis.options.verbose = False"
   ]
  },
  {
   "cell_type": "markdown",
   "id": "8a24fd59-159b-4ef6-bd55-35ec71ac4089",
   "metadata": {},
   "source": [
    "### Filter reviews containing \"iphone 4\"\n",
    "\n",
    "Now that we've seen how to construct expressions that can be used in the database, let's use that expression for use in further queries.\n",
    "The expression below takes the result of our previous expression, lower-cases it, then checks for the occurrence of the substring\n",
    "\"iphone 4\". This will return a column of booleans which can be used to filter our original table, just like with a pandas DataFrame."
   ]
  },
  {
   "cell_type": "code",
   "execution_count": 30,
   "id": "6251e20b-f0e6-4368-aff2-3191b3cf5611",
   "metadata": {},
   "outputs": [
    {
     "data": {
      "text/html": [
       "<div>\n",
       "<style scoped>\n",
       "    .dataframe tbody tr th:only-of-type {\n",
       "        vertical-align: middle;\n",
       "    }\n",
       "\n",
       "    .dataframe tbody tr th {\n",
       "        vertical-align: top;\n",
       "    }\n",
       "\n",
       "    .dataframe thead th {\n",
       "        text-align: right;\n",
       "    }\n",
       "</style>\n",
       "<table border=\"1\" class=\"dataframe\">\n",
       "  <thead>\n",
       "    <tr style=\"text-align: right;\">\n",
       "      <th></th>\n",
       "      <th>tmp</th>\n",
       "    </tr>\n",
       "  </thead>\n",
       "  <tbody>\n",
       "    <tr>\n",
       "      <th>0</th>\n",
       "      <td>False</td>\n",
       "    </tr>\n",
       "    <tr>\n",
       "      <th>1</th>\n",
       "      <td>False</td>\n",
       "    </tr>\n",
       "    <tr>\n",
       "      <th>2</th>\n",
       "      <td>False</td>\n",
       "    </tr>\n",
       "    <tr>\n",
       "      <th>3</th>\n",
       "      <td>False</td>\n",
       "    </tr>\n",
       "    <tr>\n",
       "      <th>4</th>\n",
       "      <td>False</td>\n",
       "    </tr>\n",
       "    <tr>\n",
       "      <th>...</th>\n",
       "      <td>...</td>\n",
       "    </tr>\n",
       "    <tr>\n",
       "      <th>3916</th>\n",
       "      <td>False</td>\n",
       "    </tr>\n",
       "    <tr>\n",
       "      <th>3917</th>\n",
       "      <td>False</td>\n",
       "    </tr>\n",
       "    <tr>\n",
       "      <th>3918</th>\n",
       "      <td>False</td>\n",
       "    </tr>\n",
       "    <tr>\n",
       "      <th>3919</th>\n",
       "      <td>False</td>\n",
       "    </tr>\n",
       "    <tr>\n",
       "      <th>3920</th>\n",
       "      <td>False</td>\n",
       "    </tr>\n",
       "  </tbody>\n",
       "</table>\n",
       "<p>3921 rows × 1 columns</p>\n",
       "</div>"
      ],
      "text/plain": [
       "0       False\n",
       "1       False\n",
       "2       False\n",
       "3       False\n",
       "4       False\n",
       "        ...  \n",
       "3916    False\n",
       "3917    False\n",
       "3918    False\n",
       "3919    False\n",
       "3920    False\n",
       "Name: tmp, Length: 3921, dtype: object"
      ]
     },
     "execution_count": 30,
     "metadata": {},
     "output_type": "execute_result"
    }
   ],
   "source": [
    "has_iphone_4 = texpr.lower().contains('iphone 4')\n",
    "has_iphone_4"
   ]
  },
  {
   "cell_type": "markdown",
   "id": "6f2fe329-fbcd-401d-9acb-472fd1b49ce6",
   "metadata": {},
   "source": [
    "First, let's use the filter expression to see how many of our generated sentences contain \"iphone 4\". We do this by using our previous\n",
    "expression as an indexing expression to our original table object (e.g., `tbl[filter-expr]`). This will return only the rows where\n",
    "the filter expression was `True`. We can then count the number of rows using the `count` method."
   ]
  },
  {
   "cell_type": "code",
   "execution_count": 31,
   "id": "ba0b72a1-bcd1-4021-8312-894493d1d8e6",
   "metadata": {},
   "outputs": [
    {
     "data": {
      "text/plain": [
       "7"
      ]
     },
     "execution_count": 31,
     "metadata": {},
     "output_type": "execute_result"
    }
   ],
   "source": [
    "phones_tbl[has_iphone_4].count()"
   ]
  },
  {
   "cell_type": "markdown",
   "id": "80e7cf08-a3fa-421d-8c2b-aac700b1ca86",
   "metadata": {},
   "source": [
    "Now we can print selected columns from the filtered table. We can also sort them according to the `overall` column as shown below."
   ]
  },
  {
   "cell_type": "code",
   "execution_count": 32,
   "id": "2a3d6d92-4093-4837-b4da-2fb59ea313ed",
   "metadata": {},
   "outputs": [
    {
     "data": {
      "text/html": [
       "<div>\n",
       "<style scoped>\n",
       "    .dataframe tbody tr th:only-of-type {\n",
       "        vertical-align: middle;\n",
       "    }\n",
       "\n",
       "    .dataframe tbody tr th {\n",
       "        vertical-align: top;\n",
       "    }\n",
       "\n",
       "    .dataframe thead th {\n",
       "        text-align: right;\n",
       "    }\n",
       "</style>\n",
       "<table border=\"1\" class=\"dataframe\">\n",
       "  <thead>\n",
       "    <tr style=\"text-align: right;\">\n",
       "      <th></th>\n",
       "      <th>reviewerName</th>\n",
       "      <th>helpful</th>\n",
       "      <th>overall</th>\n",
       "    </tr>\n",
       "  </thead>\n",
       "  <tbody>\n",
       "    <tr>\n",
       "      <th>0</th>\n",
       "      <td>patrice m rogoza</td>\n",
       "      <td>[2, 3]</td>\n",
       "      <td>5</td>\n",
       "    </tr>\n",
       "    <tr>\n",
       "      <th>1</th>\n",
       "      <td>Stephan S.</td>\n",
       "      <td>[2, 2]</td>\n",
       "      <td>5</td>\n",
       "    </tr>\n",
       "    <tr>\n",
       "      <th>2</th>\n",
       "      <td>Monica</td>\n",
       "      <td>[0, 0]</td>\n",
       "      <td>5</td>\n",
       "    </tr>\n",
       "    <tr>\n",
       "      <th>3</th>\n",
       "      <td>Mufasa</td>\n",
       "      <td>[6, 6]</td>\n",
       "      <td>5</td>\n",
       "    </tr>\n",
       "    <tr>\n",
       "      <th>4</th>\n",
       "      <td>Dennis Dennis in NH</td>\n",
       "      <td>[1, 1]</td>\n",
       "      <td>5</td>\n",
       "    </tr>\n",
       "    <tr>\n",
       "      <th>5</th>\n",
       "      <td>Mike</td>\n",
       "      <td>[0, 0]</td>\n",
       "      <td>4</td>\n",
       "    </tr>\n",
       "    <tr>\n",
       "      <th>6</th>\n",
       "      <td>Mark T.</td>\n",
       "      <td>[1, 1]</td>\n",
       "      <td>4</td>\n",
       "    </tr>\n",
       "  </tbody>\n",
       "</table>\n",
       "</div>"
      ],
      "text/plain": [
       "          reviewerName helpful  overall\n",
       "0           Stephan S.  [2, 2]        5\n",
       "1     patrice m rogoza  [2, 3]        5\n",
       "2               Mufasa  [6, 6]        5\n",
       "3               Monica  [0, 0]        5\n",
       "4  Dennis Dennis in NH  [1, 1]        5\n",
       "5                 Mike  [0, 0]        4\n",
       "6              Mark T.  [1, 1]        4"
      ]
     },
     "execution_count": 32,
     "metadata": {},
     "output_type": "execute_result"
    }
   ],
   "source": [
    "phones_tbl[has_iphone_4]['reviewerName', 'helpful', 'overall'].sort_by(ibis.desc('overall'))"
   ]
  },
  {
   "cell_type": "markdown",
   "id": "cabaa7b9-3374-43ab-8515-dd21213a68a3",
   "metadata": {},
   "source": [
    "So far we've uploaded data to the database using `create_table` and a local DataFrame, we've constructed Python expressions that get translated\n",
    "to SQL and executed on the server, used those expressions in filtering operations, and selected columns from and sorted the results of\n",
    "the filtering operation. This covers a small number of the abilities of the table and column objects created by Ibis. For additional methods\n",
    "on the various types, see the [Ibis API reference](https://ibis-project.org/docs/3.2.0/api/expressions/)."
   ]
  },
  {
   "cell_type": "markdown",
   "id": "1b002ca5-9dc8-40ac-87b4-ee5c8dca6615",
   "metadata": {},
   "source": [
    "## XML book data example\n",
    "\n",
    "We are going to look at another example utilitizing XML data now. This will demonstrate integration with user-defined functions (UDF) in the server."
   ]
  },
  {
   "cell_type": "markdown",
   "id": "51e1da60-5b88-476b-9ce5-62db400fe90f",
   "metadata": {},
   "source": [
    "### Define book information in XML\n",
    "\n",
    "As before, we'll use a local pandas DataFrame to construct a table of data and upload it to the server."
   ]
  },
  {
   "cell_type": "code",
   "execution_count": 33,
   "id": "dd76435d-cce4-44c9-9ad9-4f40e6b9ada2",
   "metadata": {},
   "outputs": [],
   "source": [
    "xml_df = pd.DataFrame([\n",
    "    (1, '<book><author>James McGovern</author><title>XQuery Kick Start</title></book>'),\n",
    "    (2, '<book><author>Aurelien Geron</author><title>Hands-On Machine Learning</title></book>'),\n",
    "    (3, '<book><author>Luciano Ramalho</author><title>Fluent Python</title></book>'),\n",
    "    (4, '<book><author>Scott Chacon</author><title>Pro Git</title></book>'),\n",
    "], columns=['id', 'xml'])"
   ]
  },
  {
   "cell_type": "code",
   "execution_count": 34,
   "id": "97de03ac-db8a-48c7-a77f-29e00e930663",
   "metadata": {},
   "outputs": [
    {
     "data": {
      "text/html": [
       "<div>\n",
       "<style scoped>\n",
       "    .dataframe tbody tr th:only-of-type {\n",
       "        vertical-align: middle;\n",
       "    }\n",
       "\n",
       "    .dataframe tbody tr th {\n",
       "        vertical-align: top;\n",
       "    }\n",
       "\n",
       "    .dataframe thead th {\n",
       "        text-align: right;\n",
       "    }\n",
       "</style>\n",
       "<table border=\"1\" class=\"dataframe\">\n",
       "  <thead>\n",
       "    <tr style=\"text-align: right;\">\n",
       "      <th></th>\n",
       "      <th>id</th>\n",
       "      <th>xml</th>\n",
       "    </tr>\n",
       "  </thead>\n",
       "  <tbody>\n",
       "    <tr>\n",
       "      <th>0</th>\n",
       "      <td>1</td>\n",
       "      <td>&lt;book&gt;&lt;author&gt;James McGovern&lt;/author&gt;&lt;title&gt;XQuery Kick Start&lt;/title&gt;&lt;/book&gt;</td>\n",
       "    </tr>\n",
       "    <tr>\n",
       "      <th>1</th>\n",
       "      <td>2</td>\n",
       "      <td>&lt;book&gt;&lt;author&gt;Aurelien Geron&lt;/author&gt;&lt;title&gt;Hands-On Machine Learning&lt;/title&gt;&lt;/book&gt;</td>\n",
       "    </tr>\n",
       "    <tr>\n",
       "      <th>2</th>\n",
       "      <td>4</td>\n",
       "      <td>&lt;book&gt;&lt;author&gt;Scott Chacon&lt;/author&gt;&lt;title&gt;Pro Git&lt;/title&gt;&lt;/book&gt;</td>\n",
       "    </tr>\n",
       "    <tr>\n",
       "      <th>3</th>\n",
       "      <td>3</td>\n",
       "      <td>&lt;book&gt;&lt;author&gt;Luciano Ramalho&lt;/author&gt;&lt;title&gt;Fluent Python&lt;/title&gt;&lt;/book&gt;</td>\n",
       "    </tr>\n",
       "  </tbody>\n",
       "</table>\n",
       "</div>"
      ],
      "text/plain": [
       "   id  \\\n",
       "0   1   \n",
       "1   2   \n",
       "2   4   \n",
       "3   3   \n",
       "\n",
       "                                                                                    xml  \n",
       "0          <book><author>James McGovern</author><title>XQuery Kick Start</title></book>  \n",
       "1  <book><author>Aurelien Geron</author><title>Hands-On Machine Learning</title></book>  \n",
       "2                      <book><author>Scott Chacon</author><title>Pro Git</title></book>  \n",
       "3             <book><author>Luciano Ramalho</author><title>Fluent Python</title></book>  "
      ]
     },
     "execution_count": 34,
     "metadata": {},
     "output_type": "execute_result"
    }
   ],
   "source": [
    "xml_tbl = conn.create_table('books', xml_df, force=True)\n",
    "xml_tbl.head()"
   ]
  },
  {
   "cell_type": "markdown",
   "id": "82c8664a-f05f-4068-9be6-acce74599438",
   "metadata": {},
   "source": [
    "### Build and push `eval_xpath` WASM function\n",
    "\n",
    "We are going to define a UDF using WASM and the [SingleStore WASM toolkit](https://github.com/singlestore-labs/singlestore-wasm-toolkit).\n",
    "If you want to develop your own UDFs using WASM, you'll want to \n",
    "[check out the tutorial](https://singlestore-labs.github.io/singlestore-wasm-toolkit/html/Tutorial-Overview.html). For our purposes here,\n",
    "we'll use one of the examples from the toolkit.\n",
    "\n",
    "The `examples/rust/xpath` directory includes a sample UDF that evaluates XPath expressions against strings containing XML documents.\n",
    "[XPath](https://www.w3.org/TR/xpath/) is a file path-like syntax that can be used to traverse and extract values from XML content.\n",
    "To build and install the `eval_xpath` function from the examples, you need to run the following commands.\n",
    "\n",
    "```\n",
    "> git clone git@github.com:singlestore-labs/singlestore-wasm-toolkit.git\n",
    "> cd singlestore-wasm-toolkit/examples/rust/xpath\n",
    "> cargo wasi build --lib --release\n",
    "> pushwasm --prompt mysql://root@mate:3306/x_db --wit xpath.wit target/wasm32-wasi/release/xpath.wasm eval_xpath\n",
    "```"
   ]
  },
  {
   "cell_type": "markdown",
   "id": "bc7dd696-0280-45b8-94f7-f8a6fa7ec71e",
   "metadata": {},
   "source": [
    "Because the function was created before the UDF existed in the server, you'll need to synchronize the functions\n",
    "to the client manually. However, any UDFs that exist when the connection is created will already be available."
   ]
  },
  {
   "cell_type": "code",
   "execution_count": 35,
   "id": "7bfacf11-c700-40f0-b869-4871fd15a68b",
   "metadata": {},
   "outputs": [],
   "source": [
    "conn.sync_functions()"
   ]
  },
  {
   "cell_type": "markdown",
   "id": "ffec9a7b-6c8d-4817-82d6-579baf363893",
   "metadata": {},
   "source": [
    "We can use the `functions` method on the `show` object to display the information for all of the available functions."
   ]
  },
  {
   "cell_type": "code",
   "execution_count": 36,
   "id": "79098a01-e521-42f8-9de0-bc209269722a",
   "metadata": {},
   "outputs": [
    {
     "data": {
      "text/html": [],
      "text/plain": []
     },
     "execution_count": 36,
     "metadata": {},
     "output_type": "execute_result"
    }
   ],
   "source": [
    "conn.show.functions()"
   ]
  },
  {
   "cell_type": "markdown",
   "id": "c895e513-3ae2-4f1b-b231-2ccba8c76679",
   "metadata": {},
   "source": [
    "We can use the `create_function` method of the `show` object to display the `CREATE FUNCTION` syntax of the function."
   ]
  },
  {
   "cell_type": "code",
   "execution_count": 37,
   "id": "d4e41f3c-3d47-4ec3-80ab-3fae33f86955",
   "metadata": {},
   "outputs": [
    {
     "ename": "OperationalError",
     "evalue": "1347: 'x_db.eval_xpath' is not a FUNCTION",
     "output_type": "error",
     "traceback": [
      "\u001b[0;31m---------------------------------------------------------------------------\u001b[0m",
      "\u001b[0;31mOperationalError\u001b[0m                          Traceback (most recent call last)",
      "\u001b[0;32m/tmp/ipykernel_982832/2335306358.py\u001b[0m in \u001b[0;36m<module>\u001b[0;34m\u001b[0m\n\u001b[0;32m----> 1\u001b[0;31m \u001b[0mconn\u001b[0m\u001b[0;34m.\u001b[0m\u001b[0mshow\u001b[0m\u001b[0;34m.\u001b[0m\u001b[0mcreate_function\u001b[0m\u001b[0;34m(\u001b[0m\u001b[0;34m'eval_xpath'\u001b[0m\u001b[0;34m)\u001b[0m\u001b[0;34m\u001b[0m\u001b[0;34m\u001b[0m\u001b[0m\n\u001b[0m",
      "\u001b[0;32m~/src/singlestoredb-python/singlestoredb/connection.py\u001b[0m in \u001b[0;36mcreate_function\u001b[0;34m(self, name)\u001b[0m\n\u001b[1;32m    949\u001b[0m         \u001b[0;34m\"\"\"Show the function creation code for the given function.\"\"\"\u001b[0m\u001b[0;34m\u001b[0m\u001b[0;34m\u001b[0m\u001b[0m\n\u001b[1;32m    950\u001b[0m         \u001b[0mname\u001b[0m \u001b[0;34m=\u001b[0m \u001b[0mquote_identifier\u001b[0m\u001b[0;34m(\u001b[0m\u001b[0mname\u001b[0m\u001b[0;34m)\u001b[0m\u001b[0;34m\u001b[0m\u001b[0;34m\u001b[0m\u001b[0m\n\u001b[0;32m--> 951\u001b[0;31m         \u001b[0;32mreturn\u001b[0m \u001b[0mself\u001b[0m\u001b[0;34m.\u001b[0m\u001b[0m_iquery\u001b[0m\u001b[0;34m(\u001b[0m\u001b[0;34mf'create function {name}'\u001b[0m\u001b[0;34m)\u001b[0m\u001b[0;34m\u001b[0m\u001b[0;34m\u001b[0m\u001b[0m\n\u001b[0m\u001b[1;32m    952\u001b[0m \u001b[0;34m\u001b[0m\u001b[0m\n\u001b[1;32m    953\u001b[0m     \u001b[0;32mdef\u001b[0m \u001b[0mcreate_pipeline\u001b[0m\u001b[0;34m(\u001b[0m\u001b[0mself\u001b[0m\u001b[0;34m,\u001b[0m \u001b[0mname\u001b[0m\u001b[0;34m:\u001b[0m \u001b[0mstr\u001b[0m\u001b[0;34m,\u001b[0m \u001b[0mextended\u001b[0m\u001b[0;34m:\u001b[0m \u001b[0mbool\u001b[0m \u001b[0;34m=\u001b[0m \u001b[0;32mFalse\u001b[0m\u001b[0;34m)\u001b[0m \u001b[0;34m->\u001b[0m \u001b[0mShowResult\u001b[0m\u001b[0;34m:\u001b[0m\u001b[0;34m\u001b[0m\u001b[0;34m\u001b[0m\u001b[0m\n",
      "\u001b[0;32m~/src/singlestoredb-python/singlestoredb/connection.py\u001b[0m in \u001b[0;36m_iquery\u001b[0;34m(self, qtype)\u001b[0m\n\u001b[1;32m    991\u001b[0m     \u001b[0;32mdef\u001b[0m \u001b[0m_iquery\u001b[0m\u001b[0;34m(\u001b[0m\u001b[0mself\u001b[0m\u001b[0;34m,\u001b[0m \u001b[0mqtype\u001b[0m\u001b[0;34m:\u001b[0m \u001b[0mstr\u001b[0m\u001b[0;34m)\u001b[0m \u001b[0;34m->\u001b[0m \u001b[0mShowResult\u001b[0m\u001b[0;34m:\u001b[0m\u001b[0;34m\u001b[0m\u001b[0;34m\u001b[0m\u001b[0m\n\u001b[1;32m    992\u001b[0m         \u001b[0;34m\"\"\"Query the given object type.\"\"\"\u001b[0m\u001b[0;34m\u001b[0m\u001b[0;34m\u001b[0m\u001b[0m\n\u001b[0;32m--> 993\u001b[0;31m         \u001b[0mout\u001b[0m \u001b[0;34m=\u001b[0m \u001b[0mself\u001b[0m\u001b[0;34m.\u001b[0m\u001b[0m_conn\u001b[0m\u001b[0;34m.\u001b[0m\u001b[0m_iquery\u001b[0m\u001b[0;34m(\u001b[0m\u001b[0;34mf'show {qtype}'\u001b[0m\u001b[0;34m)\u001b[0m\u001b[0;34m\u001b[0m\u001b[0;34m\u001b[0m\u001b[0m\n\u001b[0m\u001b[1;32m    994\u001b[0m         \u001b[0;32mfor\u001b[0m \u001b[0mi\u001b[0m\u001b[0;34m,\u001b[0m \u001b[0mrow\u001b[0m \u001b[0;32min\u001b[0m \u001b[0menumerate\u001b[0m\u001b[0;34m(\u001b[0m\u001b[0mout\u001b[0m\u001b[0;34m)\u001b[0m\u001b[0;34m:\u001b[0m\u001b[0;34m\u001b[0m\u001b[0;34m\u001b[0m\u001b[0m\n\u001b[1;32m    995\u001b[0m             \u001b[0mnew_row\u001b[0m \u001b[0;34m=\u001b[0m \u001b[0;34m{\u001b[0m\u001b[0;34m}\u001b[0m\u001b[0;34m\u001b[0m\u001b[0;34m\u001b[0m\u001b[0m\n",
      "\u001b[0;32m~/src/singlestoredb-python/singlestoredb/connection.py\u001b[0m in \u001b[0;36m_iquery\u001b[0;34m(self, oper, params, fix_names)\u001b[0m\n\u001b[1;32m   1125\u001b[0m         \u001b[0;34m\"\"\"Return the results of a query as a list of dicts (for internal use).\"\"\"\u001b[0m\u001b[0;34m\u001b[0m\u001b[0;34m\u001b[0m\u001b[0m\n\u001b[1;32m   1126\u001b[0m         \u001b[0;32mwith\u001b[0m \u001b[0mself\u001b[0m\u001b[0;34m.\u001b[0m\u001b[0mcursor\u001b[0m\u001b[0;34m(\u001b[0m\u001b[0;34m)\u001b[0m \u001b[0;32mas\u001b[0m \u001b[0mcur\u001b[0m\u001b[0;34m:\u001b[0m\u001b[0;34m\u001b[0m\u001b[0;34m\u001b[0m\u001b[0m\n\u001b[0;32m-> 1127\u001b[0;31m             \u001b[0mcur\u001b[0m\u001b[0;34m.\u001b[0m\u001b[0mexecute\u001b[0m\u001b[0;34m(\u001b[0m\u001b[0moper\u001b[0m\u001b[0;34m,\u001b[0m \u001b[0mparams\u001b[0m\u001b[0;34m)\u001b[0m\u001b[0;34m\u001b[0m\u001b[0;34m\u001b[0m\u001b[0m\n\u001b[0m\u001b[1;32m   1128\u001b[0m             \u001b[0;32mif\u001b[0m \u001b[0;32mnot\u001b[0m \u001b[0mre\u001b[0m\u001b[0;34m.\u001b[0m\u001b[0mmatch\u001b[0m\u001b[0;34m(\u001b[0m\u001b[0;34mr'^\\s*(select|show|call|echo)\\s+'\u001b[0m\u001b[0;34m,\u001b[0m \u001b[0moper\u001b[0m\u001b[0;34m,\u001b[0m \u001b[0mflags\u001b[0m\u001b[0;34m=\u001b[0m\u001b[0mre\u001b[0m\u001b[0;34m.\u001b[0m\u001b[0mI\u001b[0m\u001b[0;34m)\u001b[0m\u001b[0;34m:\u001b[0m\u001b[0;34m\u001b[0m\u001b[0;34m\u001b[0m\u001b[0m\n\u001b[1;32m   1129\u001b[0m                 \u001b[0;32mreturn\u001b[0m \u001b[0;34m[\u001b[0m\u001b[0;34m]\u001b[0m\u001b[0;34m\u001b[0m\u001b[0;34m\u001b[0m\u001b[0m\n",
      "\u001b[0;32m~/src/singlestoredb-python/singlestoredb/mysql/cursors.py\u001b[0m in \u001b[0;36mexecute\u001b[0;34m(self, query, args)\u001b[0m\n\u001b[1;32m    204\u001b[0m         \u001b[0mquery\u001b[0m \u001b[0;34m=\u001b[0m \u001b[0mself\u001b[0m\u001b[0;34m.\u001b[0m\u001b[0mmogrify\u001b[0m\u001b[0;34m(\u001b[0m\u001b[0mquery\u001b[0m\u001b[0;34m,\u001b[0m \u001b[0margs\u001b[0m\u001b[0;34m)\u001b[0m\u001b[0;34m\u001b[0m\u001b[0;34m\u001b[0m\u001b[0m\n\u001b[1;32m    205\u001b[0m \u001b[0;34m\u001b[0m\u001b[0m\n\u001b[0;32m--> 206\u001b[0;31m         \u001b[0mresult\u001b[0m \u001b[0;34m=\u001b[0m \u001b[0mself\u001b[0m\u001b[0;34m.\u001b[0m\u001b[0m_query\u001b[0m\u001b[0;34m(\u001b[0m\u001b[0mquery\u001b[0m\u001b[0;34m)\u001b[0m\u001b[0;34m\u001b[0m\u001b[0;34m\u001b[0m\u001b[0m\n\u001b[0m\u001b[1;32m    207\u001b[0m         \u001b[0mself\u001b[0m\u001b[0;34m.\u001b[0m\u001b[0m_executed\u001b[0m \u001b[0;34m=\u001b[0m \u001b[0mquery\u001b[0m\u001b[0;34m\u001b[0m\u001b[0;34m\u001b[0m\u001b[0m\n\u001b[1;32m    208\u001b[0m         \u001b[0;32mreturn\u001b[0m \u001b[0mresult\u001b[0m\u001b[0;34m\u001b[0m\u001b[0;34m\u001b[0m\u001b[0m\n",
      "\u001b[0;32m~/src/singlestoredb-python/singlestoredb/mysql/cursors.py\u001b[0m in \u001b[0;36m_query\u001b[0;34m(self, q)\u001b[0m\n\u001b[1;32m    388\u001b[0m         \u001b[0mconn\u001b[0m \u001b[0;34m=\u001b[0m \u001b[0mself\u001b[0m\u001b[0;34m.\u001b[0m\u001b[0m_get_db\u001b[0m\u001b[0;34m(\u001b[0m\u001b[0;34m)\u001b[0m\u001b[0;34m\u001b[0m\u001b[0;34m\u001b[0m\u001b[0m\n\u001b[1;32m    389\u001b[0m         \u001b[0mself\u001b[0m\u001b[0;34m.\u001b[0m\u001b[0m_clear_result\u001b[0m\u001b[0;34m(\u001b[0m\u001b[0;34m)\u001b[0m\u001b[0;34m\u001b[0m\u001b[0;34m\u001b[0m\u001b[0m\n\u001b[0;32m--> 390\u001b[0;31m         \u001b[0mconn\u001b[0m\u001b[0;34m.\u001b[0m\u001b[0mquery\u001b[0m\u001b[0;34m(\u001b[0m\u001b[0mq\u001b[0m\u001b[0;34m)\u001b[0m\u001b[0;34m\u001b[0m\u001b[0;34m\u001b[0m\u001b[0m\n\u001b[0m\u001b[1;32m    391\u001b[0m         \u001b[0mself\u001b[0m\u001b[0;34m.\u001b[0m\u001b[0m_do_get_result\u001b[0m\u001b[0;34m(\u001b[0m\u001b[0;34m)\u001b[0m\u001b[0;34m\u001b[0m\u001b[0;34m\u001b[0m\u001b[0m\n\u001b[1;32m    392\u001b[0m         \u001b[0;32mreturn\u001b[0m \u001b[0mself\u001b[0m\u001b[0;34m.\u001b[0m\u001b[0mrowcount\u001b[0m\u001b[0;34m\u001b[0m\u001b[0;34m\u001b[0m\u001b[0m\n",
      "\u001b[0;32m~/src/singlestoredb-python/singlestoredb/mysql/connection.py\u001b[0m in \u001b[0;36mquery\u001b[0;34m(self, sql, unbuffered)\u001b[0m\n\u001b[1;32m    725\u001b[0m             \u001b[0msql\u001b[0m \u001b[0;34m=\u001b[0m \u001b[0msql\u001b[0m\u001b[0;34m.\u001b[0m\u001b[0mencode\u001b[0m\u001b[0;34m(\u001b[0m\u001b[0mself\u001b[0m\u001b[0;34m.\u001b[0m\u001b[0mencoding\u001b[0m\u001b[0;34m,\u001b[0m \u001b[0;34m'surrogateescape'\u001b[0m\u001b[0;34m)\u001b[0m\u001b[0;34m\u001b[0m\u001b[0;34m\u001b[0m\u001b[0m\n\u001b[1;32m    726\u001b[0m         \u001b[0mself\u001b[0m\u001b[0;34m.\u001b[0m\u001b[0m_execute_command\u001b[0m\u001b[0;34m(\u001b[0m\u001b[0mCOMMAND\u001b[0m\u001b[0;34m.\u001b[0m\u001b[0mCOM_QUERY\u001b[0m\u001b[0;34m,\u001b[0m \u001b[0msql\u001b[0m\u001b[0;34m)\u001b[0m\u001b[0;34m\u001b[0m\u001b[0;34m\u001b[0m\u001b[0m\n\u001b[0;32m--> 727\u001b[0;31m         \u001b[0mself\u001b[0m\u001b[0;34m.\u001b[0m\u001b[0m_affected_rows\u001b[0m \u001b[0;34m=\u001b[0m \u001b[0mself\u001b[0m\u001b[0;34m.\u001b[0m\u001b[0m_read_query_result\u001b[0m\u001b[0;34m(\u001b[0m\u001b[0munbuffered\u001b[0m\u001b[0;34m=\u001b[0m\u001b[0munbuffered\u001b[0m\u001b[0;34m)\u001b[0m\u001b[0;34m\u001b[0m\u001b[0;34m\u001b[0m\u001b[0m\n\u001b[0m\u001b[1;32m    728\u001b[0m         \u001b[0;32mreturn\u001b[0m \u001b[0mself\u001b[0m\u001b[0;34m.\u001b[0m\u001b[0m_affected_rows\u001b[0m\u001b[0;34m\u001b[0m\u001b[0;34m\u001b[0m\u001b[0m\n\u001b[1;32m    729\u001b[0m \u001b[0;34m\u001b[0m\u001b[0m\n",
      "\u001b[0;32m~/src/singlestoredb-python/singlestoredb/mysql/connection.py\u001b[0m in \u001b[0;36m_read_query_result\u001b[0;34m(self, unbuffered)\u001b[0m\n\u001b[1;32m    999\u001b[0m         \u001b[0;32melse\u001b[0m\u001b[0;34m:\u001b[0m\u001b[0;34m\u001b[0m\u001b[0;34m\u001b[0m\u001b[0m\n\u001b[1;32m   1000\u001b[0m             \u001b[0mresult\u001b[0m \u001b[0;34m=\u001b[0m \u001b[0mself\u001b[0m\u001b[0;34m.\u001b[0m\u001b[0mresultclass\u001b[0m\u001b[0;34m(\u001b[0m\u001b[0mself\u001b[0m\u001b[0;34m)\u001b[0m\u001b[0;34m\u001b[0m\u001b[0;34m\u001b[0m\u001b[0m\n\u001b[0;32m-> 1001\u001b[0;31m             \u001b[0mresult\u001b[0m\u001b[0;34m.\u001b[0m\u001b[0mread\u001b[0m\u001b[0;34m(\u001b[0m\u001b[0;34m)\u001b[0m\u001b[0;34m\u001b[0m\u001b[0;34m\u001b[0m\u001b[0m\n\u001b[0m\u001b[1;32m   1002\u001b[0m         \u001b[0mself\u001b[0m\u001b[0;34m.\u001b[0m\u001b[0m_result\u001b[0m \u001b[0;34m=\u001b[0m \u001b[0mresult\u001b[0m\u001b[0;34m\u001b[0m\u001b[0;34m\u001b[0m\u001b[0m\n\u001b[1;32m   1003\u001b[0m         \u001b[0;32mif\u001b[0m \u001b[0mresult\u001b[0m\u001b[0;34m.\u001b[0m\u001b[0mserver_status\u001b[0m \u001b[0;32mis\u001b[0m \u001b[0;32mnot\u001b[0m \u001b[0;32mNone\u001b[0m\u001b[0;34m:\u001b[0m\u001b[0;34m\u001b[0m\u001b[0;34m\u001b[0m\u001b[0m\n",
      "\u001b[0;32m~/src/singlestoredb-python/singlestoredb/mysql/connection.py\u001b[0m in \u001b[0;36mread\u001b[0;34m(self)\u001b[0m\n\u001b[1;32m   1399\u001b[0m     \u001b[0;32mdef\u001b[0m \u001b[0mread\u001b[0m\u001b[0;34m(\u001b[0m\u001b[0mself\u001b[0m\u001b[0;34m)\u001b[0m\u001b[0;34m:\u001b[0m\u001b[0;34m\u001b[0m\u001b[0;34m\u001b[0m\u001b[0m\n\u001b[1;32m   1400\u001b[0m         \u001b[0;32mtry\u001b[0m\u001b[0;34m:\u001b[0m\u001b[0;34m\u001b[0m\u001b[0;34m\u001b[0m\u001b[0m\n\u001b[0;32m-> 1401\u001b[0;31m             \u001b[0mfirst_packet\u001b[0m \u001b[0;34m=\u001b[0m \u001b[0mself\u001b[0m\u001b[0;34m.\u001b[0m\u001b[0mconnection\u001b[0m\u001b[0;34m.\u001b[0m\u001b[0m_read_packet\u001b[0m\u001b[0;34m(\u001b[0m\u001b[0;34m)\u001b[0m\u001b[0;34m\u001b[0m\u001b[0;34m\u001b[0m\u001b[0m\n\u001b[0m\u001b[1;32m   1402\u001b[0m \u001b[0;34m\u001b[0m\u001b[0m\n\u001b[1;32m   1403\u001b[0m             \u001b[0;32mif\u001b[0m \u001b[0mfirst_packet\u001b[0m\u001b[0;34m.\u001b[0m\u001b[0mis_ok_packet\u001b[0m\u001b[0;34m(\u001b[0m\u001b[0;34m)\u001b[0m\u001b[0;34m:\u001b[0m\u001b[0;34m\u001b[0m\u001b[0;34m\u001b[0m\u001b[0m\n",
      "\u001b[0;32m~/src/singlestoredb-python/singlestoredb/mysql/connection.py\u001b[0m in \u001b[0;36m_read_packet\u001b[0;34m(self, packet_type)\u001b[0m\n\u001b[1;32m    955\u001b[0m             \u001b[0;32mif\u001b[0m \u001b[0mself\u001b[0m\u001b[0;34m.\u001b[0m\u001b[0m_result\u001b[0m \u001b[0;32mis\u001b[0m \u001b[0;32mnot\u001b[0m \u001b[0;32mNone\u001b[0m \u001b[0;32mand\u001b[0m \u001b[0mself\u001b[0m\u001b[0;34m.\u001b[0m\u001b[0m_result\u001b[0m\u001b[0;34m.\u001b[0m\u001b[0munbuffered_active\u001b[0m \u001b[0;32mis\u001b[0m \u001b[0;32mTrue\u001b[0m\u001b[0;34m:\u001b[0m\u001b[0;34m\u001b[0m\u001b[0;34m\u001b[0m\u001b[0m\n\u001b[1;32m    956\u001b[0m                 \u001b[0mself\u001b[0m\u001b[0;34m.\u001b[0m\u001b[0m_result\u001b[0m\u001b[0;34m.\u001b[0m\u001b[0munbuffered_active\u001b[0m \u001b[0;34m=\u001b[0m \u001b[0;32mFalse\u001b[0m\u001b[0;34m\u001b[0m\u001b[0;34m\u001b[0m\u001b[0m\n\u001b[0;32m--> 957\u001b[0;31m             \u001b[0mpacket\u001b[0m\u001b[0;34m.\u001b[0m\u001b[0mraise_for_error\u001b[0m\u001b[0;34m(\u001b[0m\u001b[0;34m)\u001b[0m\u001b[0;34m\u001b[0m\u001b[0;34m\u001b[0m\u001b[0m\n\u001b[0m\u001b[1;32m    958\u001b[0m         \u001b[0;32mreturn\u001b[0m \u001b[0mpacket\u001b[0m\u001b[0;34m\u001b[0m\u001b[0;34m\u001b[0m\u001b[0m\n\u001b[1;32m    959\u001b[0m \u001b[0;34m\u001b[0m\u001b[0m\n",
      "\u001b[0;32m~/src/singlestoredb-python/singlestoredb/mysql/protocol.py\u001b[0m in \u001b[0;36mraise_for_error\u001b[0;34m(self)\u001b[0m\n\u001b[1;32m    232\u001b[0m         \u001b[0;32mif\u001b[0m \u001b[0mDEBUG\u001b[0m\u001b[0;34m:\u001b[0m\u001b[0;34m\u001b[0m\u001b[0;34m\u001b[0m\u001b[0m\n\u001b[1;32m    233\u001b[0m             \u001b[0mprint\u001b[0m\u001b[0;34m(\u001b[0m\u001b[0;34m'errno ='\u001b[0m\u001b[0;34m,\u001b[0m \u001b[0merrno\u001b[0m\u001b[0;34m)\u001b[0m\u001b[0;34m\u001b[0m\u001b[0;34m\u001b[0m\u001b[0m\n\u001b[0;32m--> 234\u001b[0;31m         \u001b[0merr\u001b[0m\u001b[0;34m.\u001b[0m\u001b[0mraise_mysql_exception\u001b[0m\u001b[0;34m(\u001b[0m\u001b[0mself\u001b[0m\u001b[0;34m.\u001b[0m\u001b[0m_data\u001b[0m\u001b[0;34m)\u001b[0m\u001b[0;34m\u001b[0m\u001b[0;34m\u001b[0m\u001b[0m\n\u001b[0m\u001b[1;32m    235\u001b[0m \u001b[0;34m\u001b[0m\u001b[0m\n\u001b[1;32m    236\u001b[0m     \u001b[0;32mdef\u001b[0m \u001b[0mdump\u001b[0m\u001b[0;34m(\u001b[0m\u001b[0mself\u001b[0m\u001b[0;34m)\u001b[0m\u001b[0;34m:\u001b[0m\u001b[0;34m\u001b[0m\u001b[0;34m\u001b[0m\u001b[0m\n",
      "\u001b[0;32m~/src/singlestoredb-python/singlestoredb/mysql/err.py\u001b[0m in \u001b[0;36mraise_mysql_exception\u001b[0;34m(data)\u001b[0m\n\u001b[1;32m     90\u001b[0m     \u001b[0;32mif\u001b[0m \u001b[0merrorclass\u001b[0m \u001b[0;32mis\u001b[0m \u001b[0;32mNone\u001b[0m\u001b[0;34m:\u001b[0m\u001b[0;34m\u001b[0m\u001b[0;34m\u001b[0m\u001b[0m\n\u001b[1;32m     91\u001b[0m         \u001b[0merrorclass\u001b[0m \u001b[0;34m=\u001b[0m \u001b[0mInternalError\u001b[0m \u001b[0;32mif\u001b[0m \u001b[0merrno\u001b[0m \u001b[0;34m<\u001b[0m \u001b[0;36m1000\u001b[0m \u001b[0;32melse\u001b[0m \u001b[0mOperationalError\u001b[0m\u001b[0;34m\u001b[0m\u001b[0;34m\u001b[0m\u001b[0m\n\u001b[0;32m---> 92\u001b[0;31m     \u001b[0;32mraise\u001b[0m \u001b[0merrorclass\u001b[0m\u001b[0;34m(\u001b[0m\u001b[0merrno\u001b[0m\u001b[0;34m,\u001b[0m \u001b[0merrval\u001b[0m\u001b[0;34m)\u001b[0m\u001b[0;34m\u001b[0m\u001b[0;34m\u001b[0m\u001b[0m\n\u001b[0m",
      "\u001b[0;31mOperationalError\u001b[0m: 1347: 'x_db.eval_xpath' is not a FUNCTION"
     ]
    }
   ],
   "source": [
    "conn.show.create_function('eval_xpath')"
   ]
  },
  {
   "cell_type": "markdown",
   "id": "72568ae9-9c8b-4604-b440-d7717350ed51",
   "metadata": {},
   "source": [
    "### Using the UDF\n",
    "\n",
    "Since the first parameter of the `eval_xpath` is a string, the function can be called on string columns in the table object.\n",
    "In the code below, we are using the XPath expression `/book/author` to pull the author entry out of each of the XML\n",
    "documents in the `xml` column. This will return a string expression which we then use to create a filtering expression\n",
    "by looking for a capital letter 'G' in the author name returned by the XPath expression."
   ]
  },
  {
   "cell_type": "code",
   "execution_count": 38,
   "id": "8bf7002d-d21c-4683-94af-4668f73fdc81",
   "metadata": {},
   "outputs": [
    {
     "ename": "AttributeError",
     "evalue": "'StringColumn' object has no attribute 'eval_xpath'",
     "output_type": "error",
     "traceback": [
      "\u001b[0;31m---------------------------------------------------------------------------\u001b[0m",
      "\u001b[0;31mAttributeError\u001b[0m                            Traceback (most recent call last)",
      "\u001b[0;32m/tmp/ipykernel_982832/3595985699.py\u001b[0m in \u001b[0;36m<module>\u001b[0;34m\u001b[0m\n\u001b[0;32m----> 1\u001b[0;31m \u001b[0mg_authors\u001b[0m \u001b[0;34m=\u001b[0m \u001b[0mxml_tbl\u001b[0m\u001b[0;34m.\u001b[0m\u001b[0mxml\u001b[0m\u001b[0;34m.\u001b[0m\u001b[0meval_xpath\u001b[0m\u001b[0;34m(\u001b[0m\u001b[0;34m'/book/author'\u001b[0m\u001b[0;34m)\u001b[0m\u001b[0;34m.\u001b[0m\u001b[0mcontains\u001b[0m\u001b[0;34m(\u001b[0m\u001b[0;34m'G'\u001b[0m\u001b[0;34m)\u001b[0m\u001b[0;34m\u001b[0m\u001b[0;34m\u001b[0m\u001b[0m\n\u001b[0m\u001b[1;32m      2\u001b[0m \u001b[0mg_authors\u001b[0m\u001b[0;34m\u001b[0m\u001b[0;34m\u001b[0m\u001b[0m\n",
      "\u001b[0;31mAttributeError\u001b[0m: 'StringColumn' object has no attribute 'eval_xpath'"
     ]
    }
   ],
   "source": [
    "g_authors = xml_tbl.xml.eval_xpath('/book/author').contains('G')\n",
    "g_authors"
   ]
  },
  {
   "cell_type": "markdown",
   "id": "b52585f5-2cac-4001-850c-c7b6f4040294",
   "metadata": {},
   "source": [
    "As you can see in the result above, two of the author's names contained a capital 'G'. We will now use that filtering expression\n",
    "to subset the rows in the `xml_tbl` object and return the title of each of the books associated with those authors."
   ]
  },
  {
   "cell_type": "code",
   "execution_count": 40,
   "id": "870879ad-6b94-469e-9ae1-e8cddcf556ec",
   "metadata": {},
   "outputs": [
    {
     "ename": "NameError",
     "evalue": "name 'g_authors' is not defined",
     "output_type": "error",
     "traceback": [
      "\u001b[0;31m---------------------------------------------------------------------------\u001b[0m",
      "\u001b[0;31mNameError\u001b[0m                                 Traceback (most recent call last)",
      "\u001b[0;32m/tmp/ipykernel_964171/2394508800.py\u001b[0m in \u001b[0;36m<module>\u001b[0;34m\u001b[0m\n\u001b[0;32m----> 1\u001b[0;31m \u001b[0mtitle\u001b[0m \u001b[0;34m=\u001b[0m \u001b[0mxml_tbl\u001b[0m\u001b[0;34m[\u001b[0m\u001b[0mg_authors\u001b[0m\u001b[0;34m]\u001b[0m\u001b[0;34m.\u001b[0m\u001b[0mxml\u001b[0m\u001b[0;34m.\u001b[0m\u001b[0meval_xpath\u001b[0m\u001b[0;34m(\u001b[0m\u001b[0;34m'/book/title'\u001b[0m\u001b[0;34m)\u001b[0m\u001b[0;34m.\u001b[0m\u001b[0mname\u001b[0m\u001b[0;34m(\u001b[0m\u001b[0;34m'Title'\u001b[0m\u001b[0;34m)\u001b[0m\u001b[0;34m\u001b[0m\u001b[0;34m\u001b[0m\u001b[0m\n\u001b[0m\u001b[1;32m      2\u001b[0m \u001b[0mtitle\u001b[0m\u001b[0;34m\u001b[0m\u001b[0;34m\u001b[0m\u001b[0m\n",
      "\u001b[0;31mNameError\u001b[0m: name 'g_authors' is not defined"
     ]
    }
   ],
   "source": [
    "title = xml_tbl[g_authors].xml.eval_xpath('/book/title').name('Title')\n",
    "title"
   ]
  },
  {
   "cell_type": "code",
   "execution_count": null,
   "id": "7135e0aa-2b0d-406f-91cd-0ec1934aba1a",
   "metadata": {},
   "outputs": [],
   "source": []
  }
 ],
 "metadata": {
  "kernelspec": {
   "display_name": "Python 3 (ipykernel)",
   "language": "python",
   "name": "python3"
  },
  "language_info": {
   "codemirror_mode": {
    "name": "ipython",
    "version": 3
   },
   "file_extension": ".py",
   "mimetype": "text/x-python",
   "name": "python",
   "nbconvert_exporter": "python",
   "pygments_lexer": "ipython3",
   "version": "3.9.4"
  }
 },
 "nbformat": 4,
 "nbformat_minor": 5
}
