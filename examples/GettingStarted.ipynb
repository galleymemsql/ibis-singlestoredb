{
 "cells": [
  {
   "cell_type": "markdown",
   "id": "8d01d69e-f7d4-4efc-815f-148e0c099b90",
   "metadata": {},
   "source": [
    "# Getting Started with SingleStoreDB and Python\n",
    "\n",
    "This notebook is a simple demonstration of the SingleStore Python package capabilities. It is by no means exhaustive of all features, but is \n",
    "meant as an introduction to the types of things you can do. There are three Python packages utilized which represent layers of capabilities\n",
    "that build on each other. The three packages are:\n",
    "\n",
    "* SingleStoreDB Python - the base layer which implements the [Python DB-API](https://peps.python.org/pep-0249/) as well as the \n",
    "  [SingleStoreDB Cloud Management API](https://docs.singlestore.com/managed-service/en/user-and-workspace-administration/management-api.html).\n",
    "* SingleStoreDB SQLAlchemy Dialect - this is a [SQLAlchemy](https://www.sqlalchemy.org) plugin which allows you to interact with SingleStoreDB using SQLAlchemy.\n",
    "* SingleStoreDB Ibis Backend - this package implements a backend for the [Ibis](https://ibis-project.org/) framework which contains a generalized DataFrame\n",
    "  API similar to the [pandas](https://pandas.pydata.org) DataFrame API that works with databases, data warehouses, and other backends (such as pandas itself).\n",
    "  \n",
    "Since the SingleStoreDB Ibis backend is built on the SingleStore SQLAlchemy dialect which is in turn built on the SingleStoreDB Python package,\n",
    "we'll start right out using Ibis to exercise all of them at once."
   ]
  },
  {
   "cell_type": "code",
   "execution_count": 1,
   "id": "e388a2f8-1c79-4163-9a87-aaea862e5199",
   "metadata": {
    "tags": []
   },
   "outputs": [],
   "source": [
    "import ibis\n",
    "import pandas as pd"
   ]
  },
  {
   "cell_type": "markdown",
   "id": "49612202-48ef-4d8a-8e7f-f5728c5142aa",
   "metadata": {},
   "source": [
    "We'll set up a few options to make the notebook nicer to use, including the display width of DataFrames and enabling the interactive features\n",
    "of the Ibis package. The primary purpose of the `interactive` option is so that you don't have to manually run the `execute` method on expressions\n",
    "to see the results. In our notebook, the `execute` method will be called implicitly each time an Ibis expression is rendered by the notebook."
   ]
  },
  {
   "cell_type": "code",
   "execution_count": 2,
   "id": "39cfa389-721a-4044-8f12-38bf06701bb1",
   "metadata": {
    "tags": []
   },
   "outputs": [],
   "source": [
    "pd.options.display.max_colwidth = 120\n",
    "ibis.options.verbose = False\n",
    "ibis.options.interactive = True"
   ]
  },
  {
   "cell_type": "markdown",
   "id": "d185e3b6-b8b1-4fcd-be2f-c5b638f4ec9b",
   "metadata": {},
   "source": [
    "## Make a connection using Ibis\n",
    "\n",
    "Connections to Ibis are made through the `ibis.singlestoredb` method. The connection parameters can be given using either the suggested Python DB-API\n",
    "parameters (i.e., host=, user=, port=, etc.) or as a SQLAlchemy URL (e.g., user:password@host:port/database). In this case, we are getting the username and password from the environment variable `SINGLESTOREDB_USER` and `SINGLESTOREDB_PASSWORD`."
   ]
  },
  {
   "cell_type": "code",
   "execution_count": 3,
   "id": "18fef268-343d-47d9-bbf8-9693cea73a16",
   "metadata": {
    "tags": []
   },
   "outputs": [],
   "source": [
    "conn = ibis.singlestoredb.connect('root:@127.0.0.1:9306/x_db')"
   ]
  },
  {
   "cell_type": "markdown",
   "id": "40330f31-727b-468c-a929-23e7b1815c59",
   "metadata": {},
   "source": [
    "SingleStoreDB also has an HTTP API which is wrapped in a Python DB-API compliant form, so it can be used as well by specifying an HTTP(s) URL and\n",
    "the corresponding port number."
   ]
  },
  {
   "cell_type": "code",
   "execution_count": 4,
   "id": "e14030a4-2c3e-4a37-9264-f31a70dc98ec",
   "metadata": {
    "tags": []
   },
   "outputs": [],
   "source": [
    "# conn = ibis.singlestoredb.connect('http://127.0.0.1:8000/x_db')"
   ]
  },
  {
   "cell_type": "markdown",
   "id": "baa19853-0d9b-45b2-908a-a1b92de08f97",
   "metadata": {},
   "source": [
    "## Phone review data example\n",
    "\n",
    "Our first example will use customer review data for phones. It includes information such as a reviewer name, the text of the review, a short summary\n",
    "of the review, a numeric rating from 1 to 5, and the date of the review. We'll first read the data into a local pandas DataFrame to do some\n",
    "cleanup, then upload it to the database to demonstrate the SingleStoreDB package capabilities"
   ]
  },
  {
   "cell_type": "markdown",
   "id": "d10f036f-6519-4b52-b671-aa4e806927cf",
   "metadata": {},
   "source": [
    "### Read sample data into pandas DataFrame\n",
    "\n",
    "Here we're simply displaying the top of the CSV file containing the data to see the column names and the first line of data."
   ]
  },
  {
   "cell_type": "code",
   "execution_count": 5,
   "id": "bdfd80be-377e-437f-91bf-50cd8203a5d1",
   "metadata": {
    "tags": []
   },
   "outputs": [
    {
     "name": "stdout",
     "output_type": "stream",
     "text": [
      "reviewerID,asin,reviewerName,helpful,reviewText,overall,summary,unixReviewTime,reviewTime\n",
      "\"A30TL5EWN6DFXT\",\"120401325X\",\"christina\",\"[0, 0]\",\"They look good and stick good! I just don't like the rounded shape because I was always bumping it and Siri kept popping up and it was irritating. I just won't buy a product like this again\",\"4.0\",\"Looks Good\",\"1400630400\",\"05 21, 2014\"\n"
     ]
    }
   ],
   "source": [
    "%%sh \n",
    "\n",
    "head -2 phones.csv"
   ]
  },
  {
   "cell_type": "markdown",
   "id": "a5b1158a-d6d9-4b62-ad92-eb8906319e64",
   "metadata": {},
   "source": [
    "The data is read using the `read_csv` function."
   ]
  },
  {
   "cell_type": "code",
   "execution_count": 6,
   "id": "bce0e67d-f9e3-4c29-a21a-0ad6e84e05c8",
   "metadata": {
    "tags": []
   },
   "outputs": [
    {
     "data": {
      "text/html": [
       "<div>\n",
       "<style scoped>\n",
       "    .dataframe tbody tr th:only-of-type {\n",
       "        vertical-align: middle;\n",
       "    }\n",
       "\n",
       "    .dataframe tbody tr th {\n",
       "        vertical-align: top;\n",
       "    }\n",
       "\n",
       "    .dataframe thead th {\n",
       "        text-align: right;\n",
       "    }\n",
       "</style>\n",
       "<table border=\"1\" class=\"dataframe\">\n",
       "  <thead>\n",
       "    <tr style=\"text-align: right;\">\n",
       "      <th></th>\n",
       "      <th>reviewerID</th>\n",
       "      <th>asin</th>\n",
       "      <th>reviewerName</th>\n",
       "      <th>helpful</th>\n",
       "      <th>reviewText</th>\n",
       "      <th>overall</th>\n",
       "      <th>summary</th>\n",
       "      <th>unixReviewTime</th>\n",
       "      <th>reviewTime</th>\n",
       "    </tr>\n",
       "  </thead>\n",
       "  <tbody>\n",
       "    <tr>\n",
       "      <th>0</th>\n",
       "      <td>A30TL5EWN6DFXT</td>\n",
       "      <td>120401325X</td>\n",
       "      <td>christina</td>\n",
       "      <td>[0, 0]</td>\n",
       "      <td>They look good and stick good! I just don't like the rounded shape because I was always bumping it and Siri kept pop...</td>\n",
       "      <td>4.0</td>\n",
       "      <td>Looks Good</td>\n",
       "      <td>1400630400</td>\n",
       "      <td>05 21, 2014</td>\n",
       "    </tr>\n",
       "    <tr>\n",
       "      <th>1</th>\n",
       "      <td>ASY55RVNIL0UD</td>\n",
       "      <td>120401325X</td>\n",
       "      <td>emily l.</td>\n",
       "      <td>[0, 0]</td>\n",
       "      <td>These stickers work like the review says they do. They stick on great and they stay on the phone. They are super sty...</td>\n",
       "      <td>5.0</td>\n",
       "      <td>Really great product.</td>\n",
       "      <td>1389657600</td>\n",
       "      <td>01 14, 2014</td>\n",
       "    </tr>\n",
       "    <tr>\n",
       "      <th>2</th>\n",
       "      <td>A2TMXE2AFO7ONB</td>\n",
       "      <td>120401325X</td>\n",
       "      <td>Erica</td>\n",
       "      <td>[0, 0]</td>\n",
       "      <td>These are awesome and make my phone look so stylish! I have only used one so far and have had it on for almost a yea...</td>\n",
       "      <td>5.0</td>\n",
       "      <td>LOVE LOVE LOVE</td>\n",
       "      <td>1403740800</td>\n",
       "      <td>06 26, 2014</td>\n",
       "    </tr>\n",
       "  </tbody>\n",
       "</table>\n",
       "</div>"
      ],
      "text/plain": [
       "       reviewerID        asin reviewerName helpful  \\\n",
       "0  A30TL5EWN6DFXT  120401325X    christina  [0, 0]   \n",
       "1   ASY55RVNIL0UD  120401325X     emily l.  [0, 0]   \n",
       "2  A2TMXE2AFO7ONB  120401325X        Erica  [0, 0]   \n",
       "\n",
       "                                                                                                                reviewText  \\\n",
       "0  They look good and stick good! I just don't like the rounded shape because I was always bumping it and Siri kept pop...   \n",
       "1  These stickers work like the review says they do. They stick on great and they stay on the phone. They are super sty...   \n",
       "2  These are awesome and make my phone look so stylish! I have only used one so far and have had it on for almost a yea...   \n",
       "\n",
       "   overall                summary  unixReviewTime   reviewTime  \n",
       "0      4.0             Looks Good      1400630400  05 21, 2014  \n",
       "1      5.0  Really great product.      1389657600  01 14, 2014  \n",
       "2      5.0         LOVE LOVE LOVE      1403740800  06 26, 2014  "
      ]
     },
     "execution_count": 6,
     "metadata": {},
     "output_type": "execute_result"
    }
   ],
   "source": [
    "phones_df = pd.read_csv('phones.csv')\n",
    "phones_df.head(3)"
   ]
  },
  {
   "cell_type": "markdown",
   "id": "4c6a0e46-0710-44dc-a826-27d8442273b0",
   "metadata": {},
   "source": [
    "We can see the column types using the `info` method. As you can see, there are two date columns, neither of which is in a convenient\n",
    "format for use as a date. We'll first create an actual datetime column from those and drop the original columns."
   ]
  },
  {
   "cell_type": "code",
   "execution_count": 7,
   "id": "e8195553-9c4b-4322-a55a-7b2f7eb331a9",
   "metadata": {
    "tags": []
   },
   "outputs": [
    {
     "name": "stdout",
     "output_type": "stream",
     "text": [
      "<class 'pandas.core.frame.DataFrame'>\n",
      "RangeIndex: 3921 entries, 0 to 3920\n",
      "Data columns (total 9 columns):\n",
      " #   Column          Non-Null Count  Dtype  \n",
      "---  ------          --------------  -----  \n",
      " 0   reviewerID      3921 non-null   object \n",
      " 1   asin            3921 non-null   object \n",
      " 2   reviewerName    3921 non-null   object \n",
      " 3   helpful         3921 non-null   object \n",
      " 4   reviewText      3921 non-null   object \n",
      " 5   overall         3921 non-null   float64\n",
      " 6   summary         3920 non-null   object \n",
      " 7   unixReviewTime  3921 non-null   int64  \n",
      " 8   reviewTime      3921 non-null   object \n",
      "dtypes: float64(1), int64(1), object(7)\n",
      "memory usage: 275.8+ KB\n"
     ]
    }
   ],
   "source": [
    "phones_df.info()"
   ]
  },
  {
   "cell_type": "markdown",
   "id": "59ae51ff-7fef-4ccd-a84e-a4c5ba8952c6",
   "metadata": {},
   "source": [
    "### Upload the data to the server\n",
    "\n",
    "Now that we have some data to work with, we can upload it to the server using the `create_table` method. This method allows you to upload\n",
    "data from a local DataFrame or materialize a table from an Ibis table expression."
   ]
  },
  {
   "cell_type": "code",
   "execution_count": 8,
   "id": "e549d41d-6b42-4f3a-a0a1-2cdbbc60178e",
   "metadata": {
    "tags": []
   },
   "outputs": [
    {
     "data": {
      "text/plain": [
       "\u001b[0;31mSignature:\u001b[0m\n",
       "\u001b[0mconn\u001b[0m\u001b[0;34m.\u001b[0m\u001b[0mcreate_table\u001b[0m\u001b[0;34m(\u001b[0m\u001b[0;34m\u001b[0m\n",
       "\u001b[0;34m\u001b[0m    \u001b[0mname\u001b[0m\u001b[0;34m:\u001b[0m \u001b[0;34m'str'\u001b[0m\u001b[0;34m,\u001b[0m\u001b[0;34m\u001b[0m\n",
       "\u001b[0;34m\u001b[0m    \u001b[0mexpr\u001b[0m\u001b[0;34m:\u001b[0m \u001b[0;34m'Optional[Union[pd.DataFrame, ir.TableExpr]]'\u001b[0m \u001b[0;34m=\u001b[0m \u001b[0;32mNone\u001b[0m\u001b[0;34m,\u001b[0m\u001b[0;34m\u001b[0m\n",
       "\u001b[0;34m\u001b[0m    \u001b[0mschema\u001b[0m\u001b[0;34m:\u001b[0m \u001b[0;34m'Optional[sch.Schema]'\u001b[0m \u001b[0;34m=\u001b[0m \u001b[0;32mNone\u001b[0m\u001b[0;34m,\u001b[0m\u001b[0;34m\u001b[0m\n",
       "\u001b[0;34m\u001b[0m    \u001b[0mdatabase\u001b[0m\u001b[0;34m:\u001b[0m \u001b[0;34m'Optional[str]'\u001b[0m \u001b[0;34m=\u001b[0m \u001b[0;32mNone\u001b[0m\u001b[0;34m,\u001b[0m\u001b[0;34m\u001b[0m\n",
       "\u001b[0;34m\u001b[0m    \u001b[0moverwrite\u001b[0m\u001b[0;34m:\u001b[0m \u001b[0;34m'bool'\u001b[0m \u001b[0;34m=\u001b[0m \u001b[0;32mFalse\u001b[0m\u001b[0;34m,\u001b[0m\u001b[0;34m\u001b[0m\n",
       "\u001b[0;34m\u001b[0m    \u001b[0mstorage_type\u001b[0m\u001b[0;34m:\u001b[0m \u001b[0;34m'Optional[str]'\u001b[0m \u001b[0;34m=\u001b[0m \u001b[0;32mNone\u001b[0m\u001b[0;34m,\u001b[0m\u001b[0;34m\u001b[0m\n",
       "\u001b[0;34m\u001b[0m    \u001b[0mschema_overrides\u001b[0m\u001b[0;34m:\u001b[0m \u001b[0;34m'Optional[Union[Dict[str, str], sch.Schema]]'\u001b[0m \u001b[0;34m=\u001b[0m \u001b[0;32mNone\u001b[0m\u001b[0;34m,\u001b[0m\u001b[0;34m\u001b[0m\n",
       "\u001b[0;34m\u001b[0m    \u001b[0mtemp\u001b[0m\u001b[0;34m:\u001b[0m \u001b[0;34m'bool'\u001b[0m \u001b[0;34m=\u001b[0m \u001b[0;32mFalse\u001b[0m\u001b[0;34m,\u001b[0m\u001b[0;34m\u001b[0m\n",
       "\u001b[0;34m\u001b[0m\u001b[0;34m)\u001b[0m \u001b[0;34m->\u001b[0m \u001b[0;34m'ir.Table'\u001b[0m\u001b[0;34m\u001b[0m\u001b[0;34m\u001b[0m\u001b[0m\n",
       "\u001b[0;31mDocstring:\u001b[0m\n",
       "Create a new table.\n",
       "\n",
       "Parameters\n",
       "----------\n",
       "name : str\n",
       "    Name of the new table.\n",
       "expr : Schema or DataFrame, optional\n",
       "    An Ibis table expression or pandas DataFrame that will be used to\n",
       "    extract the schema and the data of the new table. If not provided,\n",
       "    ``schema`` must be given.\n",
       "schema : Schema, optional\n",
       "    The schema for the new table. Only one of ``schema`` or ``expr`` can be\n",
       "    provided.\n",
       "database : str, optional\n",
       "    Name of the database where the table will be created, if not the\n",
       "    default.\n",
       "overwrite : bool, optional\n",
       "    Check whether a table exists before creating it\n",
       "storage_type : str, optional\n",
       "    The storage type of table to create: COLUMNSTORE or ROWSTORE\n",
       "schema_overrides : dict or Schema, optional\n",
       "    If the ``expr`` is a DataFrame, the data types of specific fields\n",
       "    can be overridden using a partial Schema or dict with keys for\n",
       "    the overridden columns. Values of the dict are simply the string\n",
       "    names of the data types: bool, int32, int64, float64, etc.\n",
       "temp : bool, optional\n",
       "    Should the table be a temporary table?\n",
       "\n",
       "Returns\n",
       "-------\n",
       "Table expression\n",
       "\u001b[0;31mFile:\u001b[0m      ~/.pyenv/versions/3.11.3/lib/python3.11/site-packages/ibis_singlestoredb/__init__.py\n",
       "\u001b[0;31mType:\u001b[0m      method"
      ]
     },
     "metadata": {},
     "output_type": "display_data"
    }
   ],
   "source": [
    "conn.create_table?"
   ]
  },
  {
   "cell_type": "markdown",
   "id": "e3e9d2ec-a30c-4280-a05b-88aa5b34a7bb",
   "metadata": {},
   "source": [
    "The code below will create the table in the server from the given DataFrame. The data types for the database table will be inferred from\n",
    "the DataFrame data types. The `force=True` is merely used here in case you run the notebook code multiple times against the same\n",
    "database. It will cause an existing `phones` table to be overwritten if it already exists."
   ]
  },
  {
   "cell_type": "code",
   "execution_count": 9,
   "id": "987d9e59-09e3-46f5-9487-da21b9975eba",
   "metadata": {
    "tags": []
   },
   "outputs": [
    {
     "data": {
      "text/html": [
       "<pre style=\"white-space:pre;overflow-x:auto;line-height:normal;font-family:Menlo,'DejaVu Sans Mono',consolas,'Courier New',monospace\">┏━━━━━━━━━━━━━━━━┳━━━━━━━━━━━━┳━━━━━━━━━━━━━━━━━━┳━━━━━━━━━┳━━━━━━━━━━━━━━━━━━━━━━━━━━━━━━━━━━━━━━━━━━━━━━━━━━━━━━━━━━━━━━━━━━━━━━━━━━━━━━━━━━┳━━━━━━━━━┳━━━━━━━━━━━━━━━━━━━━━━━━━━━━━┳━━━━━━━━━━━━━━━━┳━━━━━━━━━━━━━┓\n",
       "┃<span style=\"font-weight: bold\"> reviewerID     </span>┃<span style=\"font-weight: bold\"> asin       </span>┃<span style=\"font-weight: bold\"> reviewerName     </span>┃<span style=\"font-weight: bold\"> helpful </span>┃<span style=\"font-weight: bold\"> reviewText                                                                       </span>┃<span style=\"font-weight: bold\"> overall </span>┃<span style=\"font-weight: bold\"> summary                     </span>┃<span style=\"font-weight: bold\"> unixReviewTime </span>┃<span style=\"font-weight: bold\"> reviewTime  </span>┃\n",
       "┡━━━━━━━━━━━━━━━━╇━━━━━━━━━━━━╇━━━━━━━━━━━━━━━━━━╇━━━━━━━━━╇━━━━━━━━━━━━━━━━━━━━━━━━━━━━━━━━━━━━━━━━━━━━━━━━━━━━━━━━━━━━━━━━━━━━━━━━━━━━━━━━━━╇━━━━━━━━━╇━━━━━━━━━━━━━━━━━━━━━━━━━━━━━╇━━━━━━━━━━━━━━━━╇━━━━━━━━━━━━━┩\n",
       "│ <span style=\"color: #7f7f7f; text-decoration-color: #7f7f7f\">string</span>         │ <span style=\"color: #7f7f7f; text-decoration-color: #7f7f7f\">string</span>     │ <span style=\"color: #7f7f7f; text-decoration-color: #7f7f7f\">string</span>           │ <span style=\"color: #7f7f7f; text-decoration-color: #7f7f7f\">string</span>  │ <span style=\"color: #7f7f7f; text-decoration-color: #7f7f7f\">string</span>                                                                           │ <span style=\"color: #7f7f7f; text-decoration-color: #7f7f7f\">float64</span> │ <span style=\"color: #7f7f7f; text-decoration-color: #7f7f7f\">string</span>                      │ <span style=\"color: #7f7f7f; text-decoration-color: #7f7f7f\">int64</span>          │ <span style=\"color: #7f7f7f; text-decoration-color: #7f7f7f\">string</span>      │\n",
       "├────────────────┼────────────┼──────────────────┼─────────┼──────────────────────────────────────────────────────────────────────────────────┼─────────┼─────────────────────────────┼────────────────┼─────────────┤\n",
       "│ <span style=\"color: #008000; text-decoration-color: #008000\">A6Q0P54QSP11J </span> │ <span style=\"color: #008000; text-decoration-color: #008000\">3998899561</span> │ <span style=\"color: #008000; text-decoration-color: #008000\">Olivia </span><span style=\"color: #7fbf7f; text-decoration-color: #7fbf7f\">\\x1a</span><span style=\"color: #008000; text-decoration-color: #008000\">ysiak</span> │ <span style=\"color: #008000; text-decoration-color: #008000\">[3, 3] </span> │ <span style=\"color: #008000; text-decoration-color: #008000\">Performs exactly as advertised . It's very  sturdily built,and provides lots of…</span> │     <span style=\"color: #008080; text-decoration-color: #008080; font-weight: bold\">5.0</span> │ <span style=\"color: #008000; text-decoration-color: #008000\">Absolutely love the case !!</span> │     <span style=\"color: #008080; text-decoration-color: #008080; font-weight: bold\">1386201600</span> │ <span style=\"color: #008000; text-decoration-color: #008000\">12 5, 2013 </span> │\n",
       "│ <span style=\"color: #008000; text-decoration-color: #008000\">A29OXVQRZ154KX</span> │ <span style=\"color: #008000; text-decoration-color: #008000\">6073894996</span> │ <span style=\"color: #008000; text-decoration-color: #008000\">Don Powell      </span> │ <span style=\"color: #008000; text-decoration-color: #008000\">[3, 4] </span> │ <span style=\"color: #008000; text-decoration-color: #008000\">This is a nice charger but you can tell it was made cheaply in China.  When it …</span> │     <span style=\"color: #008080; text-decoration-color: #008080; font-weight: bold\">4.0</span> │ <span style=\"color: #008000; text-decoration-color: #008000\">Solid Charger but RF noisy </span> │     <span style=\"color: #008080; text-decoration-color: #008080; font-weight: bold\">1363737600</span> │ <span style=\"color: #008000; text-decoration-color: #008000\">03 20, 2013</span> │\n",
       "│ <span style=\"color: #008000; text-decoration-color: #008000\">A1LG9RKAK8NMYB</span> │ <span style=\"color: #008000; text-decoration-color: #008000\">8288862993</span> │ <span style=\"color: #008000; text-decoration-color: #008000\">DiStasi DiStasi </span> │ <span style=\"color: #008000; text-decoration-color: #008000\">[0, 0] </span> │ <span style=\"color: #008000; text-decoration-color: #008000\">Sprint wanted $30 fro the same item.  This is OEM and not third party after mar…</span> │     <span style=\"color: #008080; text-decoration-color: #008080; font-weight: bold\">5.0</span> │ <span style=\"color: #008000; text-decoration-color: #008000\">Beats the Sprint.com price </span> │     <span style=\"color: #008080; text-decoration-color: #008080; font-weight: bold\">1371168000</span> │ <span style=\"color: #008000; text-decoration-color: #008000\">06 14, 2013</span> │\n",
       "└────────────────┴────────────┴──────────────────┴─────────┴──────────────────────────────────────────────────────────────────────────────────┴─────────┴─────────────────────────────┴────────────────┴─────────────┘\n",
       "</pre>\n"
      ],
      "text/plain": [
       "┏━━━━━━━━━━━━━━━━┳━━━━━━━━━━━━┳━━━━━━━━━━━━━━━━━━┳━━━━━━━━━┳━━━━━━━━━━━━━━━━━━━━━━━━━━━━━━━━━━━━━━━━━━━━━━━━━━━━━━━━━━━━━━━━━━━━━━━━━━━━━━━━━━┳━━━━━━━━━┳━━━━━━━━━━━━━━━━━━━━━━━━━━━━━┳━━━━━━━━━━━━━━━━┳━━━━━━━━━━━━━┓\n",
       "┃\u001b[1m \u001b[0m\u001b[1mreviewerID\u001b[0m\u001b[1m    \u001b[0m\u001b[1m \u001b[0m┃\u001b[1m \u001b[0m\u001b[1masin\u001b[0m\u001b[1m      \u001b[0m\u001b[1m \u001b[0m┃\u001b[1m \u001b[0m\u001b[1mreviewerName\u001b[0m\u001b[1m    \u001b[0m\u001b[1m \u001b[0m┃\u001b[1m \u001b[0m\u001b[1mhelpful\u001b[0m\u001b[1m \u001b[0m┃\u001b[1m \u001b[0m\u001b[1mreviewText\u001b[0m\u001b[1m                                                                      \u001b[0m\u001b[1m \u001b[0m┃\u001b[1m \u001b[0m\u001b[1moverall\u001b[0m\u001b[1m \u001b[0m┃\u001b[1m \u001b[0m\u001b[1msummary\u001b[0m\u001b[1m                    \u001b[0m\u001b[1m \u001b[0m┃\u001b[1m \u001b[0m\u001b[1munixReviewTime\u001b[0m\u001b[1m \u001b[0m┃\u001b[1m \u001b[0m\u001b[1mreviewTime\u001b[0m\u001b[1m \u001b[0m\u001b[1m \u001b[0m┃\n",
       "┡━━━━━━━━━━━━━━━━╇━━━━━━━━━━━━╇━━━━━━━━━━━━━━━━━━╇━━━━━━━━━╇━━━━━━━━━━━━━━━━━━━━━━━━━━━━━━━━━━━━━━━━━━━━━━━━━━━━━━━━━━━━━━━━━━━━━━━━━━━━━━━━━━╇━━━━━━━━━╇━━━━━━━━━━━━━━━━━━━━━━━━━━━━━╇━━━━━━━━━━━━━━━━╇━━━━━━━━━━━━━┩\n",
       "│ \u001b[2mstring\u001b[0m         │ \u001b[2mstring\u001b[0m     │ \u001b[2mstring\u001b[0m           │ \u001b[2mstring\u001b[0m  │ \u001b[2mstring\u001b[0m                                                                           │ \u001b[2mfloat64\u001b[0m │ \u001b[2mstring\u001b[0m                      │ \u001b[2mint64\u001b[0m          │ \u001b[2mstring\u001b[0m      │\n",
       "├────────────────┼────────────┼──────────────────┼─────────┼──────────────────────────────────────────────────────────────────────────────────┼─────────┼─────────────────────────────┼────────────────┼─────────────┤\n",
       "│ \u001b[32mA6Q0P54QSP11J \u001b[0m │ \u001b[32m3998899561\u001b[0m │ \u001b[32mOlivia \u001b[0m\u001b[2;32m\\x1a\u001b[0m\u001b[32mysiak\u001b[0m │ \u001b[32m[3, 3] \u001b[0m │ \u001b[32mPerforms exactly as advertised . It's very  sturdily built,and provides lots of…\u001b[0m │     \u001b[1;36m5.0\u001b[0m │ \u001b[32mAbsolutely love the case !!\u001b[0m │     \u001b[1;36m1386201600\u001b[0m │ \u001b[32m12 5, 2013 \u001b[0m │\n",
       "│ \u001b[32mA29OXVQRZ154KX\u001b[0m │ \u001b[32m6073894996\u001b[0m │ \u001b[32mDon Powell      \u001b[0m │ \u001b[32m[3, 4] \u001b[0m │ \u001b[32mThis is a nice charger but you can tell it was made cheaply in China.  When it …\u001b[0m │     \u001b[1;36m4.0\u001b[0m │ \u001b[32mSolid Charger but RF noisy \u001b[0m │     \u001b[1;36m1363737600\u001b[0m │ \u001b[32m03 20, 2013\u001b[0m │\n",
       "│ \u001b[32mA1LG9RKAK8NMYB\u001b[0m │ \u001b[32m8288862993\u001b[0m │ \u001b[32mDiStasi DiStasi \u001b[0m │ \u001b[32m[0, 0] \u001b[0m │ \u001b[32mSprint wanted $30 fro the same item.  This is OEM and not third party after mar…\u001b[0m │     \u001b[1;36m5.0\u001b[0m │ \u001b[32mBeats the Sprint.com price \u001b[0m │     \u001b[1;36m1371168000\u001b[0m │ \u001b[32m06 14, 2013\u001b[0m │\n",
       "└────────────────┴────────────┴──────────────────┴─────────┴──────────────────────────────────────────────────────────────────────────────────┴─────────┴─────────────────────────────┴────────────────┴─────────────┘"
      ]
     },
     "execution_count": 9,
     "metadata": {},
     "output_type": "execute_result"
    }
   ],
   "source": [
    "phones_tbl = conn.create_table('phones', phones_df, overwrite=True)\n",
    "phones_tbl.head(3)"
   ]
  },
  {
   "cell_type": "markdown",
   "id": "2e95fef6-a6f3-4f9d-9338-efc0f8807c48",
   "metadata": {},
   "source": [
    "We can get information about the table in the server by using the `info` method, just as you would with a local pandas DataFrame."
   ]
  },
  {
   "cell_type": "code",
   "execution_count": 10,
   "id": "c3770704-41b0-4a99-b639-5e8242e952ec",
   "metadata": {
    "tags": []
   },
   "outputs": [
    {
     "data": {
      "text/html": [
       "<pre style=\"white-space:pre;overflow-x:auto;line-height:normal;font-family:Menlo,'DejaVu Sans Mono',consolas,'Courier New',monospace\">┏━━━━━━━━━━━━━━━━┳━━━━━━━━━┳━━━━━━━━━━┳━━━━━━━┳━━━━━━━━━━━┳━━━━━━━━━━━┳━━━━━━┓\n",
       "┃<span style=\"font-weight: bold\"> name           </span>┃<span style=\"font-weight: bold\"> type    </span>┃<span style=\"font-weight: bold\"> nullable </span>┃<span style=\"font-weight: bold\"> nulls </span>┃<span style=\"font-weight: bold\"> non_nulls </span>┃<span style=\"font-weight: bold\"> null_frac </span>┃<span style=\"font-weight: bold\"> pos  </span>┃\n",
       "┡━━━━━━━━━━━━━━━━╇━━━━━━━━━╇━━━━━━━━━━╇━━━━━━━╇━━━━━━━━━━━╇━━━━━━━━━━━╇━━━━━━┩\n",
       "│ <span style=\"color: #7f7f7f; text-decoration-color: #7f7f7f\">string</span>         │ <span style=\"color: #7f7f7f; text-decoration-color: #7f7f7f\">string</span>  │ <span style=\"color: #7f7f7f; text-decoration-color: #7f7f7f\">boolean</span>  │ <span style=\"color: #7f7f7f; text-decoration-color: #7f7f7f\">int64</span> │ <span style=\"color: #7f7f7f; text-decoration-color: #7f7f7f\">int64</span>     │ <span style=\"color: #7f7f7f; text-decoration-color: #7f7f7f\">float64</span>   │ <span style=\"color: #7f7f7f; text-decoration-color: #7f7f7f\">int8</span> │\n",
       "├────────────────┼─────────┼──────────┼───────┼───────────┼───────────┼──────┤\n",
       "│ <span style=\"color: #008000; text-decoration-color: #008000\">reviewerID    </span> │ <span style=\"color: #008000; text-decoration-color: #008000\">string </span> │ True     │     <span style=\"color: #008080; text-decoration-color: #008080; font-weight: bold\">0</span> │      <span style=\"color: #008080; text-decoration-color: #008080; font-weight: bold\">3921</span> │    <span style=\"color: #008080; text-decoration-color: #008080; font-weight: bold\">0.0000</span> │    <span style=\"color: #008080; text-decoration-color: #008080; font-weight: bold\">0</span> │\n",
       "│ <span style=\"color: #008000; text-decoration-color: #008000\">asin          </span> │ <span style=\"color: #008000; text-decoration-color: #008000\">string </span> │ True     │     <span style=\"color: #008080; text-decoration-color: #008080; font-weight: bold\">0</span> │      <span style=\"color: #008080; text-decoration-color: #008080; font-weight: bold\">3921</span> │    <span style=\"color: #008080; text-decoration-color: #008080; font-weight: bold\">0.0000</span> │    <span style=\"color: #008080; text-decoration-color: #008080; font-weight: bold\">1</span> │\n",
       "│ <span style=\"color: #008000; text-decoration-color: #008000\">reviewerName  </span> │ <span style=\"color: #008000; text-decoration-color: #008000\">string </span> │ True     │     <span style=\"color: #008080; text-decoration-color: #008080; font-weight: bold\">0</span> │      <span style=\"color: #008080; text-decoration-color: #008080; font-weight: bold\">3921</span> │    <span style=\"color: #008080; text-decoration-color: #008080; font-weight: bold\">0.0000</span> │    <span style=\"color: #008080; text-decoration-color: #008080; font-weight: bold\">2</span> │\n",
       "│ <span style=\"color: #008000; text-decoration-color: #008000\">helpful       </span> │ <span style=\"color: #008000; text-decoration-color: #008000\">string </span> │ True     │     <span style=\"color: #008080; text-decoration-color: #008080; font-weight: bold\">0</span> │      <span style=\"color: #008080; text-decoration-color: #008080; font-weight: bold\">3921</span> │    <span style=\"color: #008080; text-decoration-color: #008080; font-weight: bold\">0.0000</span> │    <span style=\"color: #008080; text-decoration-color: #008080; font-weight: bold\">3</span> │\n",
       "│ <span style=\"color: #008000; text-decoration-color: #008000\">reviewText    </span> │ <span style=\"color: #008000; text-decoration-color: #008000\">string </span> │ True     │     <span style=\"color: #008080; text-decoration-color: #008080; font-weight: bold\">0</span> │      <span style=\"color: #008080; text-decoration-color: #008080; font-weight: bold\">3921</span> │    <span style=\"color: #008080; text-decoration-color: #008080; font-weight: bold\">0.0000</span> │    <span style=\"color: #008080; text-decoration-color: #008080; font-weight: bold\">4</span> │\n",
       "│ <span style=\"color: #008000; text-decoration-color: #008000\">overall       </span> │ <span style=\"color: #008000; text-decoration-color: #008000\">float64</span> │ True     │     <span style=\"color: #008080; text-decoration-color: #008080; font-weight: bold\">0</span> │      <span style=\"color: #008080; text-decoration-color: #008080; font-weight: bold\">3921</span> │    <span style=\"color: #008080; text-decoration-color: #008080; font-weight: bold\">0.0000</span> │    <span style=\"color: #008080; text-decoration-color: #008080; font-weight: bold\">5</span> │\n",
       "│ <span style=\"color: #008000; text-decoration-color: #008000\">summary       </span> │ <span style=\"color: #008000; text-decoration-color: #008000\">string </span> │ True     │     <span style=\"color: #008080; text-decoration-color: #008080; font-weight: bold\">1</span> │      <span style=\"color: #008080; text-decoration-color: #008080; font-weight: bold\">3920</span> │    <span style=\"color: #008080; text-decoration-color: #008080; font-weight: bold\">0.0003</span> │    <span style=\"color: #008080; text-decoration-color: #008080; font-weight: bold\">6</span> │\n",
       "│ <span style=\"color: #008000; text-decoration-color: #008000\">unixReviewTime</span> │ <span style=\"color: #008000; text-decoration-color: #008000\">int64  </span> │ True     │     <span style=\"color: #008080; text-decoration-color: #008080; font-weight: bold\">0</span> │      <span style=\"color: #008080; text-decoration-color: #008080; font-weight: bold\">3921</span> │    <span style=\"color: #008080; text-decoration-color: #008080; font-weight: bold\">0.0000</span> │    <span style=\"color: #008080; text-decoration-color: #008080; font-weight: bold\">7</span> │\n",
       "│ <span style=\"color: #008000; text-decoration-color: #008000\">reviewTime    </span> │ <span style=\"color: #008000; text-decoration-color: #008000\">string </span> │ True     │     <span style=\"color: #008080; text-decoration-color: #008080; font-weight: bold\">0</span> │      <span style=\"color: #008080; text-decoration-color: #008080; font-weight: bold\">3921</span> │    <span style=\"color: #008080; text-decoration-color: #008080; font-weight: bold\">0.0000</span> │    <span style=\"color: #008080; text-decoration-color: #008080; font-weight: bold\">8</span> │\n",
       "└────────────────┴─────────┴──────────┴───────┴───────────┴───────────┴──────┘\n",
       "</pre>\n"
      ],
      "text/plain": [
       "┏━━━━━━━━━━━━━━━━┳━━━━━━━━━┳━━━━━━━━━━┳━━━━━━━┳━━━━━━━━━━━┳━━━━━━━━━━━┳━━━━━━┓\n",
       "┃\u001b[1m \u001b[0m\u001b[1mname\u001b[0m\u001b[1m          \u001b[0m\u001b[1m \u001b[0m┃\u001b[1m \u001b[0m\u001b[1mtype\u001b[0m\u001b[1m   \u001b[0m\u001b[1m \u001b[0m┃\u001b[1m \u001b[0m\u001b[1mnullable\u001b[0m\u001b[1m \u001b[0m┃\u001b[1m \u001b[0m\u001b[1mnulls\u001b[0m\u001b[1m \u001b[0m┃\u001b[1m \u001b[0m\u001b[1mnon_nulls\u001b[0m\u001b[1m \u001b[0m┃\u001b[1m \u001b[0m\u001b[1mnull_frac\u001b[0m\u001b[1m \u001b[0m┃\u001b[1m \u001b[0m\u001b[1mpos\u001b[0m\u001b[1m \u001b[0m\u001b[1m \u001b[0m┃\n",
       "┡━━━━━━━━━━━━━━━━╇━━━━━━━━━╇━━━━━━━━━━╇━━━━━━━╇━━━━━━━━━━━╇━━━━━━━━━━━╇━━━━━━┩\n",
       "│ \u001b[2mstring\u001b[0m         │ \u001b[2mstring\u001b[0m  │ \u001b[2mboolean\u001b[0m  │ \u001b[2mint64\u001b[0m │ \u001b[2mint64\u001b[0m     │ \u001b[2mfloat64\u001b[0m   │ \u001b[2mint8\u001b[0m │\n",
       "├────────────────┼─────────┼──────────┼───────┼───────────┼───────────┼──────┤\n",
       "│ \u001b[32mreviewerID    \u001b[0m │ \u001b[32mstring \u001b[0m │ True     │     \u001b[1;36m0\u001b[0m │      \u001b[1;36m3921\u001b[0m │    \u001b[1;36m0.0000\u001b[0m │    \u001b[1;36m0\u001b[0m │\n",
       "│ \u001b[32masin          \u001b[0m │ \u001b[32mstring \u001b[0m │ True     │     \u001b[1;36m0\u001b[0m │      \u001b[1;36m3921\u001b[0m │    \u001b[1;36m0.0000\u001b[0m │    \u001b[1;36m1\u001b[0m │\n",
       "│ \u001b[32mreviewerName  \u001b[0m │ \u001b[32mstring \u001b[0m │ True     │     \u001b[1;36m0\u001b[0m │      \u001b[1;36m3921\u001b[0m │    \u001b[1;36m0.0000\u001b[0m │    \u001b[1;36m2\u001b[0m │\n",
       "│ \u001b[32mhelpful       \u001b[0m │ \u001b[32mstring \u001b[0m │ True     │     \u001b[1;36m0\u001b[0m │      \u001b[1;36m3921\u001b[0m │    \u001b[1;36m0.0000\u001b[0m │    \u001b[1;36m3\u001b[0m │\n",
       "│ \u001b[32mreviewText    \u001b[0m │ \u001b[32mstring \u001b[0m │ True     │     \u001b[1;36m0\u001b[0m │      \u001b[1;36m3921\u001b[0m │    \u001b[1;36m0.0000\u001b[0m │    \u001b[1;36m4\u001b[0m │\n",
       "│ \u001b[32moverall       \u001b[0m │ \u001b[32mfloat64\u001b[0m │ True     │     \u001b[1;36m0\u001b[0m │      \u001b[1;36m3921\u001b[0m │    \u001b[1;36m0.0000\u001b[0m │    \u001b[1;36m5\u001b[0m │\n",
       "│ \u001b[32msummary       \u001b[0m │ \u001b[32mstring \u001b[0m │ True     │     \u001b[1;36m1\u001b[0m │      \u001b[1;36m3920\u001b[0m │    \u001b[1;36m0.0003\u001b[0m │    \u001b[1;36m6\u001b[0m │\n",
       "│ \u001b[32munixReviewTime\u001b[0m │ \u001b[32mint64  \u001b[0m │ True     │     \u001b[1;36m0\u001b[0m │      \u001b[1;36m3921\u001b[0m │    \u001b[1;36m0.0000\u001b[0m │    \u001b[1;36m7\u001b[0m │\n",
       "│ \u001b[32mreviewTime    \u001b[0m │ \u001b[32mstring \u001b[0m │ True     │     \u001b[1;36m0\u001b[0m │      \u001b[1;36m3921\u001b[0m │    \u001b[1;36m0.0000\u001b[0m │    \u001b[1;36m8\u001b[0m │\n",
       "└────────────────┴─────────┴──────────┴───────┴───────────┴───────────┴──────┘"
      ]
     },
     "execution_count": 10,
     "metadata": {},
     "output_type": "execute_result"
    }
   ],
   "source": [
    "phones_tbl.info()"
   ]
  },
  {
   "cell_type": "markdown",
   "id": "76309280-afb7-46e6-91c9-f84fdc4ed7a7",
   "metadata": {},
   "source": [
    "Here is the `CREATE TABLE` statement resulting from the data upload step. The `show` attribute of the connection gives access to all of\n",
    "the `SHOW` commands in the database such as `functions`, `create_function`, `status`, `databases`, and so on."
   ]
  },
  {
   "cell_type": "code",
   "execution_count": 11,
   "id": "d63e3978-33ab-4154-a31a-367bf52aa3a9",
   "metadata": {
    "tags": []
   },
   "outputs": [
    {
     "data": {
      "text/html": [
       "<table border=\"1\" class=\"dataframe\"><thead><tr><th style=\"text-align: left; vertical-align: top\">Name</th><th style=\"text-align: left; vertical-align: top\">CreateTable</th></tr></thead><tbody><tr><td style=\"text-align: left; vertical-align: top\">phones</td><td style=\"text-align: left; vertical-align: top\">CREATE TABLE `phones` (\n",
       "  `reviewerID` text CHARACTER SET utf8 COLLATE utf8_general_ci,\n",
       "  `asin` text CHARACTER SET utf8 COLLATE utf8_general_ci,\n",
       "  `reviewerName` text CHARACTER SET utf8 COLLATE utf8_general_ci,\n",
       "  `helpful` text CHARACTER SET utf8 COLLATE utf8_general_ci,\n",
       "  `reviewText` text CHARACTER SET utf8 COLLATE utf8_general_ci,\n",
       "  `overall` double DEFAULT NULL,\n",
       "  `summary` text CHARACTER SET utf8 COLLATE utf8_general_ci,\n",
       "  `unixReviewTime` bigint(20) DEFAULT NULL,\n",
       "  `reviewTime` text CHARACTER SET utf8 COLLATE utf8_general_ci,\n",
       "  SORT KEY `__UNORDERED` ()\n",
       "  , SHARD KEY () \n",
       ") AUTOSTATS_CARDINALITY_MODE=OFF AUTOSTATS_HISTOGRAM_MODE=OFF AUTOSTATS_SAMPLING=OFF SQL_MODE='STRICT_ALL_TABLES'</td></tr></tbody></table>"
      ],
      "text/plain": [
       "\n",
       "|  Name   | CreateTable                                                                                                                                                                                                                                                                                                                                                                                                                                                                                                                                                                                                                                                                                                                 |\n",
       "-----------------------------------------------------------------------------------------------------------------------------------------------------------------------------------------------------------------------------------------------------------------------------------------------------------------------------------------------------------------------------------------------------------------------------------------------------------------------------------------------------------------------------------------------------------------------------------------------------------------------------------------------------------------------------------------------------------------------------------------\n",
       "|  phones | CREATE TABLE `phones` (\n",
       "  `reviewerID` text CHARACTER SET utf8 COLLATE utf8_general_ci,\n",
       "  `asin` text CHARACTER SET utf8 COLLATE utf8_general_ci,\n",
       "  `reviewerName` text CHARACTER SET utf8 COLLATE utf8_general_ci,\n",
       "  `helpful` text CHARACTER SET utf8 COLLATE utf8_general_ci,\n",
       "  `reviewText` text CHARACTER SET utf8 COLLATE utf8_general_ci,\n",
       "  `overall` double DEFAULT NULL,\n",
       "  `summary` text CHARACTER SET utf8 COLLATE utf8_general_ci,\n",
       "  `unixReviewTime` bigint(20) DEFAULT NULL,\n",
       "  `reviewTime` text CHARACTER SET utf8 COLLATE utf8_general_ci,\n",
       "  SORT KEY `__UNORDERED` ()\n",
       "  , SHARD KEY () \n",
       ") AUTOSTATS_CARDINALITY_MODE=OFF AUTOSTATS_HISTOGRAM_MODE=OFF AUTOSTATS_SAMPLING=OFF SQL_MODE='STRICT_ALL_TABLES'  |"
      ]
     },
     "execution_count": 11,
     "metadata": {},
     "output_type": "execute_result"
    }
   ],
   "source": [
    "conn.show.create_table('phones')"
   ]
  },
  {
   "cell_type": "markdown",
   "id": "887e730f-e7da-4078-a9d9-1fbbe4435a47",
   "metadata": {},
   "source": [
    "### Convert review date / time columns\n",
    "\n",
    "This data set has a less than optimal way of storing the dates of the reviews. It has two columns that contain the same information, and neither\n",
    "of them is convenient to work with. Let's create a new column that contains the date in a timestamp column. To do that, we simply cast the\n",
    "existing `unixReviewTime` column to a timestamp type. We'll also use the `name` method to assign a name to the resulting column expression."
   ]
  },
  {
   "cell_type": "code",
   "execution_count": 12,
   "id": "3a37d8f0-815a-4b5e-9cfe-11a31de6e0a3",
   "metadata": {
    "tags": []
   },
   "outputs": [
    {
     "data": {
      "text/html": [
       "<pre style=\"white-space:pre;overflow-x:auto;line-height:normal;font-family:Menlo,'DejaVu Sans Mono',consolas,'Courier New',monospace\">┏━━━━━━━━━━━━━━━━━━━━━┓\n",
       "┃<span style=\"font-weight: bold\"> date                </span>┃\n",
       "┡━━━━━━━━━━━━━━━━━━━━━┩\n",
       "│ <span style=\"color: #7f7f7f; text-decoration-color: #7f7f7f\">timestamp</span>           │\n",
       "├─────────────────────┤\n",
       "│ <span style=\"color: #800080; text-decoration-color: #800080\">2013-12-05 00:00:00</span> │\n",
       "│ <span style=\"color: #800080; text-decoration-color: #800080\">2013-03-20 00:00:00</span> │\n",
       "│ <span style=\"color: #800080; text-decoration-color: #800080\">2013-06-14 00:00:00</span> │\n",
       "│ <span style=\"color: #800080; text-decoration-color: #800080\">2013-03-21 00:00:00</span> │\n",
       "│ <span style=\"color: #800080; text-decoration-color: #800080\">2013-03-19 00:00:00</span> │\n",
       "│ <span style=\"color: #800080; text-decoration-color: #800080\">2012-12-24 00:00:00</span> │\n",
       "│ <span style=\"color: #800080; text-decoration-color: #800080\">2013-01-24 00:00:00</span> │\n",
       "│ <span style=\"color: #800080; text-decoration-color: #800080\">2013-03-19 00:00:00</span> │\n",
       "│ <span style=\"color: #800080; text-decoration-color: #800080\">2014-04-04 00:00:00</span> │\n",
       "│ <span style=\"color: #800080; text-decoration-color: #800080\">2014-02-07 00:00:00</span> │\n",
       "│ <span style=\"color: #7f7f7f; text-decoration-color: #7f7f7f\">…</span>                   │\n",
       "└─────────────────────┘\n",
       "</pre>\n"
      ],
      "text/plain": [
       "┏━━━━━━━━━━━━━━━━━━━━━┓\n",
       "┃\u001b[1m \u001b[0m\u001b[1mdate\u001b[0m\u001b[1m               \u001b[0m\u001b[1m \u001b[0m┃\n",
       "┡━━━━━━━━━━━━━━━━━━━━━┩\n",
       "│ \u001b[2mtimestamp\u001b[0m           │\n",
       "├─────────────────────┤\n",
       "│ \u001b[35m2013-12-05 00:00:00\u001b[0m │\n",
       "│ \u001b[35m2013-03-20 00:00:00\u001b[0m │\n",
       "│ \u001b[35m2013-06-14 00:00:00\u001b[0m │\n",
       "│ \u001b[35m2013-03-21 00:00:00\u001b[0m │\n",
       "│ \u001b[35m2013-03-19 00:00:00\u001b[0m │\n",
       "│ \u001b[35m2012-12-24 00:00:00\u001b[0m │\n",
       "│ \u001b[35m2013-01-24 00:00:00\u001b[0m │\n",
       "│ \u001b[35m2013-03-19 00:00:00\u001b[0m │\n",
       "│ \u001b[35m2014-04-04 00:00:00\u001b[0m │\n",
       "│ \u001b[35m2014-02-07 00:00:00\u001b[0m │\n",
       "│ \u001b[2m…\u001b[0m                   │\n",
       "└─────────────────────┘"
      ]
     },
     "execution_count": 12,
     "metadata": {},
     "output_type": "execute_result"
    }
   ],
   "source": [
    "date = phones_tbl.unixReviewTime.cast('timestamp').name('date')\n",
    "date"
   ]
  },
  {
   "cell_type": "markdown",
   "id": "7718eb94-0e45-4545-a5e3-f90ee4816775",
   "metadata": {},
   "source": [
    "The `overall` rating column was uploaded as floating point data, but it only contains integers. Let's cast that to an integer."
   ]
  },
  {
   "cell_type": "code",
   "execution_count": 13,
   "id": "1443148f-dc1b-4c04-b5b2-c182edbd601d",
   "metadata": {
    "tags": []
   },
   "outputs": [
    {
     "data": {
      "text/html": [
       "<pre style=\"white-space:pre;overflow-x:auto;line-height:normal;font-family:Menlo,'DejaVu Sans Mono',consolas,'Courier New',monospace\">┏━━━━━━━━━┓\n",
       "┃<span style=\"font-weight: bold\"> overall </span>┃\n",
       "┡━━━━━━━━━┩\n",
       "│ <span style=\"color: #7f7f7f; text-decoration-color: #7f7f7f\">int64</span>   │\n",
       "├─────────┤\n",
       "│       <span style=\"color: #008080; text-decoration-color: #008080; font-weight: bold\">5</span> │\n",
       "│       <span style=\"color: #008080; text-decoration-color: #008080; font-weight: bold\">5</span> │\n",
       "│       <span style=\"color: #008080; text-decoration-color: #008080; font-weight: bold\">5</span> │\n",
       "│       <span style=\"color: #008080; text-decoration-color: #008080; font-weight: bold\">5</span> │\n",
       "│       <span style=\"color: #008080; text-decoration-color: #008080; font-weight: bold\">5</span> │\n",
       "│       <span style=\"color: #008080; text-decoration-color: #008080; font-weight: bold\">5</span> │\n",
       "│       <span style=\"color: #008080; text-decoration-color: #008080; font-weight: bold\">4</span> │\n",
       "│       <span style=\"color: #008080; text-decoration-color: #008080; font-weight: bold\">5</span> │\n",
       "│       <span style=\"color: #008080; text-decoration-color: #008080; font-weight: bold\">5</span> │\n",
       "│       <span style=\"color: #008080; text-decoration-color: #008080; font-weight: bold\">5</span> │\n",
       "│       <span style=\"color: #7f7f7f; text-decoration-color: #7f7f7f\">…</span> │\n",
       "└─────────┘\n",
       "</pre>\n"
      ],
      "text/plain": [
       "┏━━━━━━━━━┓\n",
       "┃\u001b[1m \u001b[0m\u001b[1moverall\u001b[0m\u001b[1m \u001b[0m┃\n",
       "┡━━━━━━━━━┩\n",
       "│ \u001b[2mint64\u001b[0m   │\n",
       "├─────────┤\n",
       "│       \u001b[1;36m5\u001b[0m │\n",
       "│       \u001b[1;36m5\u001b[0m │\n",
       "│       \u001b[1;36m5\u001b[0m │\n",
       "│       \u001b[1;36m5\u001b[0m │\n",
       "│       \u001b[1;36m5\u001b[0m │\n",
       "│       \u001b[1;36m5\u001b[0m │\n",
       "│       \u001b[1;36m4\u001b[0m │\n",
       "│       \u001b[1;36m5\u001b[0m │\n",
       "│       \u001b[1;36m5\u001b[0m │\n",
       "│       \u001b[1;36m5\u001b[0m │\n",
       "│       \u001b[2m…\u001b[0m │\n",
       "└─────────┘"
      ]
     },
     "execution_count": 13,
     "metadata": {},
     "output_type": "execute_result"
    }
   ],
   "source": [
    "overall = phones_tbl.overall.cast('int').name('overall')\n",
    "overall"
   ]
  },
  {
   "cell_type": "markdown",
   "id": "51a81952-0045-4a7e-ad5d-e8d3fa3e2b4c",
   "metadata": {},
   "source": [
    "Now that we have our two processed columns, we can remove the old columns we don't need anymore and insert our\n",
    "new columns expressions with the cleaned data."
   ]
  },
  {
   "cell_type": "code",
   "execution_count": 14,
   "id": "53386ec8-05d7-40c9-83c6-037d815b9367",
   "metadata": {
    "tags": []
   },
   "outputs": [],
   "source": [
    "columns = [x for x in phones_tbl.columns if 'Time' not in x and x != 'overall'] + [overall, date]"
   ]
  },
  {
   "cell_type": "code",
   "execution_count": 15,
   "id": "3a27de1c-5f1b-4af1-af9a-2423fe9fc7d1",
   "metadata": {
    "tags": []
   },
   "outputs": [
    {
     "data": {
      "text/html": [
       "<pre style=\"white-space:pre;overflow-x:auto;line-height:normal;font-family:Menlo,'DejaVu Sans Mono',consolas,'Courier New',monospace\">┏━━━━━━━━━━━━━━━━┳━━━━━━━━━━━━┳━━━━━━━━━━━━━━━━━━━━━━━━━━━━━━━━━━━━━┳━━━━━━━━━┳━━━━━━━━━━━━━━━━━━━━━━━━━━━━━━━━━━━━━━━━━━━━━━━━━━━━━━━━━━━━━━━━━━━━━━━━━━━━━━━━━━┳━━━━━━━━━━━━━━━━━━━━━━━━━━━━━━━━━━━━━━━━━━━┳━━━━━━━━━┳━━━━━━━━━━━━━━━━━━━━━┓\n",
       "┃<span style=\"font-weight: bold\"> reviewerID     </span>┃<span style=\"font-weight: bold\"> asin       </span>┃<span style=\"font-weight: bold\"> reviewerName                        </span>┃<span style=\"font-weight: bold\"> helpful </span>┃<span style=\"font-weight: bold\"> reviewText                                                                       </span>┃<span style=\"font-weight: bold\"> summary                                   </span>┃<span style=\"font-weight: bold\"> overall </span>┃<span style=\"font-weight: bold\"> date                </span>┃\n",
       "┡━━━━━━━━━━━━━━━━╇━━━━━━━━━━━━╇━━━━━━━━━━━━━━━━━━━━━━━━━━━━━━━━━━━━━╇━━━━━━━━━╇━━━━━━━━━━━━━━━━━━━━━━━━━━━━━━━━━━━━━━━━━━━━━━━━━━━━━━━━━━━━━━━━━━━━━━━━━━━━━━━━━━╇━━━━━━━━━━━━━━━━━━━━━━━━━━━━━━━━━━━━━━━━━━━╇━━━━━━━━━╇━━━━━━━━━━━━━━━━━━━━━┩\n",
       "│ <span style=\"color: #7f7f7f; text-decoration-color: #7f7f7f\">string</span>         │ <span style=\"color: #7f7f7f; text-decoration-color: #7f7f7f\">string</span>     │ <span style=\"color: #7f7f7f; text-decoration-color: #7f7f7f\">string</span>                              │ <span style=\"color: #7f7f7f; text-decoration-color: #7f7f7f\">string</span>  │ <span style=\"color: #7f7f7f; text-decoration-color: #7f7f7f\">string</span>                                                                           │ <span style=\"color: #7f7f7f; text-decoration-color: #7f7f7f\">string</span>                                    │ <span style=\"color: #7f7f7f; text-decoration-color: #7f7f7f\">int64</span>   │ <span style=\"color: #7f7f7f; text-decoration-color: #7f7f7f\">timestamp</span>           │\n",
       "├────────────────┼────────────┼─────────────────────────────────────┼─────────┼──────────────────────────────────────────────────────────────────────────────────┼───────────────────────────────────────────┼─────────┼─────────────────────┤\n",
       "│ <span style=\"color: #008000; text-decoration-color: #008000\">A35C4777EXZZQH</span> │ <span style=\"color: #008000; text-decoration-color: #008000\">3998899561</span> │ <span style=\"color: #008000; text-decoration-color: #008000\">Viktoriya                          </span> │ <span style=\"color: #008000; text-decoration-color: #008000\">[0, 0] </span> │ <span style=\"color: #008000; text-decoration-color: #008000\">When there is no outlets, or chargers near by its Powerbear to the rescue! Orde…</span> │ <span style=\"color: #008000; text-decoration-color: #008000\">5 star phone case                        </span> │       <span style=\"color: #008080; text-decoration-color: #008080; font-weight: bold\">5</span> │ <span style=\"color: #800080; text-decoration-color: #800080\">2014-04-18 00:00:00</span> │\n",
       "│ <span style=\"color: #008000; text-decoration-color: #008000\">A9NETBZNEW2TP </span> │ <span style=\"color: #008000; text-decoration-color: #008000\">6073894996</span> │ <span style=\"color: #008000; text-decoration-color: #008000\">Bernadette Mitchell Lady Di        </span> │ <span style=\"color: #008000; text-decoration-color: #008000\">[0, 0] </span> │ <span style=\"color: #008000; text-decoration-color: #008000\">I love that it has two ports for my phone and ipod. Who wants to be putting too…</span> │ <span style=\"color: #008000; text-decoration-color: #008000\">USB Port                                 </span> │       <span style=\"color: #008080; text-decoration-color: #008080; font-weight: bold\">5</span> │ <span style=\"color: #800080; text-decoration-color: #800080\">2014-06-06 00:00:00</span> │\n",
       "│ <span style=\"color: #008000; text-decoration-color: #008000\">A10W7D1W5M4CHE</span> │ <span style=\"color: #008000; text-decoration-color: #008000\">6073894996</span> │ <span style=\"color: #008000; text-decoration-color: #008000\">Paul Rowland                       </span> │ <span style=\"color: #008000; text-decoration-color: #008000\">[0, 0] </span> │ <span style=\"color: #008000; text-decoration-color: #008000\">Works great. The blue led light is a nice touch in the car. We charge a Samsung…</span> │ <span style=\"color: #008000; text-decoration-color: #008000\">USB Outlet                               </span> │       <span style=\"color: #008080; text-decoration-color: #008080; font-weight: bold\">5</span> │ <span style=\"color: #800080; text-decoration-color: #800080\">2013-02-01 00:00:00</span> │\n",
       "│ <span style=\"color: #008000; text-decoration-color: #008000\">A3HWOEJ6BK7B7M</span> │ <span style=\"color: #008000; text-decoration-color: #008000\">6073894996</span> │ <span style=\"color: #008000; text-decoration-color: #008000\">Wei                                </span> │ <span style=\"color: #008000; text-decoration-color: #008000\">[0, 0] </span> │ <span style=\"color: #008000; text-decoration-color: #008000\">good product at low price.purchased this looking for a smaller charger and I lo…</span> │ <span style=\"color: #008000; text-decoration-color: #008000\">good product at low price                </span> │       <span style=\"color: #008080; text-decoration-color: #008080; font-weight: bold\">5</span> │ <span style=\"color: #800080; text-decoration-color: #800080\">2014-05-07 00:00:00</span> │\n",
       "│ <span style=\"color: #008000; text-decoration-color: #008000\">A2CCYTJQNBHFA0</span> │ <span style=\"color: #008000; text-decoration-color: #008000\">8199406933</span> │ <span style=\"color: #008000; text-decoration-color: #008000\">Messy MakeUp Drawer Michelle MakeUp</span> │ <span style=\"color: #008000; text-decoration-color: #008000\">[0, 0] </span> │ <span style=\"color: #008000; text-decoration-color: #008000\">This product arrived when promised and in the condition promised. It is a genui…</span> │ <span style=\"color: #008000; text-decoration-color: #008000\">Great buy, great quality                 </span> │       <span style=\"color: #008080; text-decoration-color: #008080; font-weight: bold\">5</span> │ <span style=\"color: #800080; text-decoration-color: #800080\">2012-08-25 00:00:00</span> │\n",
       "│ <span style=\"color: #008000; text-decoration-color: #008000\">A1ABWKQZJZPXMG</span> │ <span style=\"color: #008000; text-decoration-color: #008000\">8288853439</span> │ <span style=\"color: #008000; text-decoration-color: #008000\">Carolin Mng carolinm               </span> │ <span style=\"color: #008000; text-decoration-color: #008000\">[0, 0] </span> │ <span style=\"color: #008000; text-decoration-color: #008000\">so far no problems, it charges fast that is what i need it. it doesn' have an U…</span> │ <span style=\"color: #008000; text-decoration-color: #008000\">Working fine                             </span> │       <span style=\"color: #008080; text-decoration-color: #008080; font-weight: bold\">5</span> │ <span style=\"color: #800080; text-decoration-color: #800080\">2014-01-10 00:00:00</span> │\n",
       "│ <span style=\"color: #008000; text-decoration-color: #008000\">A3CHJDCPIUK6BZ</span> │ <span style=\"color: #008000; text-decoration-color: #008000\">8288853439</span> │ <span style=\"color: #008000; text-decoration-color: #008000\">Jade                               </span> │ <span style=\"color: #008000; text-decoration-color: #008000\">[1, 1] </span> │ <span style=\"color: #008000; text-decoration-color: #008000\">I needed a charger quick and I didn't want to spend $20.00 at the convenience s…</span> │ <span style=\"color: #008000; text-decoration-color: #008000\">Buy this if you want a good, long charger</span> │       <span style=\"color: #008080; text-decoration-color: #008080; font-weight: bold\">4</span> │ <span style=\"color: #800080; text-decoration-color: #800080\">2013-12-10 00:00:00</span> │\n",
       "│ <span style=\"color: #008000; text-decoration-color: #008000\">ACU3LCRX4A8RV </span> │ <span style=\"color: #008000; text-decoration-color: #008000\">878968897X</span> │ <span style=\"color: #008000; text-decoration-color: #008000\">Zonaldo Reefey Zonaldo Reefey      </span> │ <span style=\"color: #008000; text-decoration-color: #008000\">[0, 0] </span> │ <span style=\"color: #008000; text-decoration-color: #008000\">This is a very well built and designed case,with a very cool and attractive col…</span> │ <span style=\"color: #008000; text-decoration-color: #008000\">What a pleasant color                    </span> │       <span style=\"color: #008080; text-decoration-color: #008080; font-weight: bold\">5</span> │ <span style=\"color: #800080; text-decoration-color: #800080\">2014-05-08 00:00:00</span> │\n",
       "│ <span style=\"color: #008000; text-decoration-color: #008000\">A3L8SEH8LJO3Z1</span> │ <span style=\"color: #008000; text-decoration-color: #008000\">9574442764</span> │ <span style=\"color: #008000; text-decoration-color: #008000\">Monica                             </span> │ <span style=\"color: #008000; text-decoration-color: #008000\">[0, 0] </span> │ <span style=\"color: #008000; text-decoration-color: #008000\">this is really cute phone case, i like it alot, and it came in when it stated i…</span> │ <span style=\"color: #008000; text-decoration-color: #008000\">iphone 4 case                            </span> │       <span style=\"color: #008080; text-decoration-color: #008080; font-weight: bold\">5</span> │ <span style=\"color: #800080; text-decoration-color: #800080\">2014-03-10 00:00:00</span> │\n",
       "│ <span style=\"color: #008000; text-decoration-color: #008000\">ACU3LCRX4A8RV </span> │ <span style=\"color: #008000; text-decoration-color: #008000\">9658231950</span> │ <span style=\"color: #008000; text-decoration-color: #008000\">Zonaldo Reefey Zonaldo Reefey      </span> │ <span style=\"color: #008000; text-decoration-color: #008000\">[0, 3] </span> │ <span style=\"color: #008000; text-decoration-color: #008000\">My brother just got the HTC One, and I promised him an awesome case like the on…</span> │ <span style=\"color: #008000; text-decoration-color: #008000\">yet another awesome case from these guys </span> │       <span style=\"color: #008080; text-decoration-color: #008080; font-weight: bold\">5</span> │ <span style=\"color: #800080; text-decoration-color: #800080\">2014-04-16 00:00:00</span> │\n",
       "│ <span style=\"color: #7f7f7f; text-decoration-color: #7f7f7f\">…</span>              │ <span style=\"color: #7f7f7f; text-decoration-color: #7f7f7f\">…</span>          │ <span style=\"color: #7f7f7f; text-decoration-color: #7f7f7f\">…</span>                                   │ <span style=\"color: #7f7f7f; text-decoration-color: #7f7f7f\">…</span>       │ <span style=\"color: #7f7f7f; text-decoration-color: #7f7f7f\">…</span>                                                                                │ <span style=\"color: #7f7f7f; text-decoration-color: #7f7f7f\">…</span>                                         │       <span style=\"color: #7f7f7f; text-decoration-color: #7f7f7f\">…</span> │ <span style=\"color: #7f7f7f; text-decoration-color: #7f7f7f\">…</span>                   │\n",
       "└────────────────┴────────────┴─────────────────────────────────────┴─────────┴──────────────────────────────────────────────────────────────────────────────────┴───────────────────────────────────────────┴─────────┴─────────────────────┘\n",
       "</pre>\n"
      ],
      "text/plain": [
       "┏━━━━━━━━━━━━━━━━┳━━━━━━━━━━━━┳━━━━━━━━━━━━━━━━━━━━━━━━━━━━━━━━━━━━━┳━━━━━━━━━┳━━━━━━━━━━━━━━━━━━━━━━━━━━━━━━━━━━━━━━━━━━━━━━━━━━━━━━━━━━━━━━━━━━━━━━━━━━━━━━━━━━┳━━━━━━━━━━━━━━━━━━━━━━━━━━━━━━━━━━━━━━━━━━━┳━━━━━━━━━┳━━━━━━━━━━━━━━━━━━━━━┓\n",
       "┃\u001b[1m \u001b[0m\u001b[1mreviewerID\u001b[0m\u001b[1m    \u001b[0m\u001b[1m \u001b[0m┃\u001b[1m \u001b[0m\u001b[1masin\u001b[0m\u001b[1m      \u001b[0m\u001b[1m \u001b[0m┃\u001b[1m \u001b[0m\u001b[1mreviewerName\u001b[0m\u001b[1m                       \u001b[0m\u001b[1m \u001b[0m┃\u001b[1m \u001b[0m\u001b[1mhelpful\u001b[0m\u001b[1m \u001b[0m┃\u001b[1m \u001b[0m\u001b[1mreviewText\u001b[0m\u001b[1m                                                                      \u001b[0m\u001b[1m \u001b[0m┃\u001b[1m \u001b[0m\u001b[1msummary\u001b[0m\u001b[1m                                  \u001b[0m\u001b[1m \u001b[0m┃\u001b[1m \u001b[0m\u001b[1moverall\u001b[0m\u001b[1m \u001b[0m┃\u001b[1m \u001b[0m\u001b[1mdate\u001b[0m\u001b[1m               \u001b[0m\u001b[1m \u001b[0m┃\n",
       "┡━━━━━━━━━━━━━━━━╇━━━━━━━━━━━━╇━━━━━━━━━━━━━━━━━━━━━━━━━━━━━━━━━━━━━╇━━━━━━━━━╇━━━━━━━━━━━━━━━━━━━━━━━━━━━━━━━━━━━━━━━━━━━━━━━━━━━━━━━━━━━━━━━━━━━━━━━━━━━━━━━━━━╇━━━━━━━━━━━━━━━━━━━━━━━━━━━━━━━━━━━━━━━━━━━╇━━━━━━━━━╇━━━━━━━━━━━━━━━━━━━━━┩\n",
       "│ \u001b[2mstring\u001b[0m         │ \u001b[2mstring\u001b[0m     │ \u001b[2mstring\u001b[0m                              │ \u001b[2mstring\u001b[0m  │ \u001b[2mstring\u001b[0m                                                                           │ \u001b[2mstring\u001b[0m                                    │ \u001b[2mint64\u001b[0m   │ \u001b[2mtimestamp\u001b[0m           │\n",
       "├────────────────┼────────────┼─────────────────────────────────────┼─────────┼──────────────────────────────────────────────────────────────────────────────────┼───────────────────────────────────────────┼─────────┼─────────────────────┤\n",
       "│ \u001b[32mA35C4777EXZZQH\u001b[0m │ \u001b[32m3998899561\u001b[0m │ \u001b[32mViktoriya                          \u001b[0m │ \u001b[32m[0, 0] \u001b[0m │ \u001b[32mWhen there is no outlets, or chargers near by its Powerbear to the rescue! Orde…\u001b[0m │ \u001b[32m5 star phone case                        \u001b[0m │       \u001b[1;36m5\u001b[0m │ \u001b[35m2014-04-18 00:00:00\u001b[0m │\n",
       "│ \u001b[32mA9NETBZNEW2TP \u001b[0m │ \u001b[32m6073894996\u001b[0m │ \u001b[32mBernadette Mitchell Lady Di        \u001b[0m │ \u001b[32m[0, 0] \u001b[0m │ \u001b[32mI love that it has two ports for my phone and ipod. Who wants to be putting too…\u001b[0m │ \u001b[32mUSB Port                                 \u001b[0m │       \u001b[1;36m5\u001b[0m │ \u001b[35m2014-06-06 00:00:00\u001b[0m │\n",
       "│ \u001b[32mA10W7D1W5M4CHE\u001b[0m │ \u001b[32m6073894996\u001b[0m │ \u001b[32mPaul Rowland                       \u001b[0m │ \u001b[32m[0, 0] \u001b[0m │ \u001b[32mWorks great. The blue led light is a nice touch in the car. We charge a Samsung…\u001b[0m │ \u001b[32mUSB Outlet                               \u001b[0m │       \u001b[1;36m5\u001b[0m │ \u001b[35m2013-02-01 00:00:00\u001b[0m │\n",
       "│ \u001b[32mA3HWOEJ6BK7B7M\u001b[0m │ \u001b[32m6073894996\u001b[0m │ \u001b[32mWei                                \u001b[0m │ \u001b[32m[0, 0] \u001b[0m │ \u001b[32mgood product at low price.purchased this looking for a smaller charger and I lo…\u001b[0m │ \u001b[32mgood product at low price                \u001b[0m │       \u001b[1;36m5\u001b[0m │ \u001b[35m2014-05-07 00:00:00\u001b[0m │\n",
       "│ \u001b[32mA2CCYTJQNBHFA0\u001b[0m │ \u001b[32m8199406933\u001b[0m │ \u001b[32mMessy MakeUp Drawer Michelle MakeUp\u001b[0m │ \u001b[32m[0, 0] \u001b[0m │ \u001b[32mThis product arrived when promised and in the condition promised. It is a genui…\u001b[0m │ \u001b[32mGreat buy, great quality                 \u001b[0m │       \u001b[1;36m5\u001b[0m │ \u001b[35m2012-08-25 00:00:00\u001b[0m │\n",
       "│ \u001b[32mA1ABWKQZJZPXMG\u001b[0m │ \u001b[32m8288853439\u001b[0m │ \u001b[32mCarolin Mng carolinm               \u001b[0m │ \u001b[32m[0, 0] \u001b[0m │ \u001b[32mso far no problems, it charges fast that is what i need it. it doesn' have an U…\u001b[0m │ \u001b[32mWorking fine                             \u001b[0m │       \u001b[1;36m5\u001b[0m │ \u001b[35m2014-01-10 00:00:00\u001b[0m │\n",
       "│ \u001b[32mA3CHJDCPIUK6BZ\u001b[0m │ \u001b[32m8288853439\u001b[0m │ \u001b[32mJade                               \u001b[0m │ \u001b[32m[1, 1] \u001b[0m │ \u001b[32mI needed a charger quick and I didn't want to spend $20.00 at the convenience s…\u001b[0m │ \u001b[32mBuy this if you want a good, long charger\u001b[0m │       \u001b[1;36m4\u001b[0m │ \u001b[35m2013-12-10 00:00:00\u001b[0m │\n",
       "│ \u001b[32mACU3LCRX4A8RV \u001b[0m │ \u001b[32m878968897X\u001b[0m │ \u001b[32mZonaldo Reefey Zonaldo Reefey      \u001b[0m │ \u001b[32m[0, 0] \u001b[0m │ \u001b[32mThis is a very well built and designed case,with a very cool and attractive col…\u001b[0m │ \u001b[32mWhat a pleasant color                    \u001b[0m │       \u001b[1;36m5\u001b[0m │ \u001b[35m2014-05-08 00:00:00\u001b[0m │\n",
       "│ \u001b[32mA3L8SEH8LJO3Z1\u001b[0m │ \u001b[32m9574442764\u001b[0m │ \u001b[32mMonica                             \u001b[0m │ \u001b[32m[0, 0] \u001b[0m │ \u001b[32mthis is really cute phone case, i like it alot, and it came in when it stated i…\u001b[0m │ \u001b[32miphone 4 case                            \u001b[0m │       \u001b[1;36m5\u001b[0m │ \u001b[35m2014-03-10 00:00:00\u001b[0m │\n",
       "│ \u001b[32mACU3LCRX4A8RV \u001b[0m │ \u001b[32m9658231950\u001b[0m │ \u001b[32mZonaldo Reefey Zonaldo Reefey      \u001b[0m │ \u001b[32m[0, 3] \u001b[0m │ \u001b[32mMy brother just got the HTC One, and I promised him an awesome case like the on…\u001b[0m │ \u001b[32myet another awesome case from these guys \u001b[0m │       \u001b[1;36m5\u001b[0m │ \u001b[35m2014-04-16 00:00:00\u001b[0m │\n",
       "│ \u001b[2m…\u001b[0m              │ \u001b[2m…\u001b[0m          │ \u001b[2m…\u001b[0m                                   │ \u001b[2m…\u001b[0m       │ \u001b[2m…\u001b[0m                                                                                │ \u001b[2m…\u001b[0m                                         │       \u001b[2m…\u001b[0m │ \u001b[2m…\u001b[0m                   │\n",
       "└────────────────┴────────────┴─────────────────────────────────────┴─────────┴──────────────────────────────────────────────────────────────────────────────────┴───────────────────────────────────────────┴─────────┴─────────────────────┘"
      ]
     },
     "execution_count": 15,
     "metadata": {},
     "output_type": "execute_result"
    }
   ],
   "source": [
    "phones_tbl = phones_tbl[columns] \n",
    "phones_tbl"
   ]
  },
  {
   "cell_type": "markdown",
   "id": "4847b100-1322-47dc-a216-a3a82371fde3",
   "metadata": {},
   "source": [
    "The `phones_tbl` object now contains both references to actual columns in the `phones` table as well as computed expressions.\n",
    "It can be thought of as a client-side view object, but still works the same way as our original table. We can use the `info`\n",
    "method to show the schema information."
   ]
  },
  {
   "cell_type": "code",
   "execution_count": 16,
   "id": "f6da4b8a-9bf4-46a7-b4f9-4348829b6ab2",
   "metadata": {
    "tags": []
   },
   "outputs": [
    {
     "data": {
      "text/html": [
       "<pre style=\"white-space:pre;overflow-x:auto;line-height:normal;font-family:Menlo,'DejaVu Sans Mono',consolas,'Courier New',monospace\">┏━━━━━━━━━━━━━━┳━━━━━━━━━━━┳━━━━━━━━━━┳━━━━━━━┳━━━━━━━━━━━┳━━━━━━━━━━━┳━━━━━━┓\n",
       "┃<span style=\"font-weight: bold\"> name         </span>┃<span style=\"font-weight: bold\"> type      </span>┃<span style=\"font-weight: bold\"> nullable </span>┃<span style=\"font-weight: bold\"> nulls </span>┃<span style=\"font-weight: bold\"> non_nulls </span>┃<span style=\"font-weight: bold\"> null_frac </span>┃<span style=\"font-weight: bold\"> pos  </span>┃\n",
       "┡━━━━━━━━━━━━━━╇━━━━━━━━━━━╇━━━━━━━━━━╇━━━━━━━╇━━━━━━━━━━━╇━━━━━━━━━━━╇━━━━━━┩\n",
       "│ <span style=\"color: #7f7f7f; text-decoration-color: #7f7f7f\">string</span>       │ <span style=\"color: #7f7f7f; text-decoration-color: #7f7f7f\">string</span>    │ <span style=\"color: #7f7f7f; text-decoration-color: #7f7f7f\">boolean</span>  │ <span style=\"color: #7f7f7f; text-decoration-color: #7f7f7f\">int64</span> │ <span style=\"color: #7f7f7f; text-decoration-color: #7f7f7f\">int64</span>     │ <span style=\"color: #7f7f7f; text-decoration-color: #7f7f7f\">float64</span>   │ <span style=\"color: #7f7f7f; text-decoration-color: #7f7f7f\">int8</span> │\n",
       "├──────────────┼───────────┼──────────┼───────┼───────────┼───────────┼──────┤\n",
       "│ <span style=\"color: #008000; text-decoration-color: #008000\">reviewerID  </span> │ <span style=\"color: #008000; text-decoration-color: #008000\">string   </span> │ True     │     <span style=\"color: #008080; text-decoration-color: #008080; font-weight: bold\">0</span> │      <span style=\"color: #008080; text-decoration-color: #008080; font-weight: bold\">3921</span> │    <span style=\"color: #008080; text-decoration-color: #008080; font-weight: bold\">0.0000</span> │    <span style=\"color: #008080; text-decoration-color: #008080; font-weight: bold\">0</span> │\n",
       "│ <span style=\"color: #008000; text-decoration-color: #008000\">asin        </span> │ <span style=\"color: #008000; text-decoration-color: #008000\">string   </span> │ True     │     <span style=\"color: #008080; text-decoration-color: #008080; font-weight: bold\">0</span> │      <span style=\"color: #008080; text-decoration-color: #008080; font-weight: bold\">3921</span> │    <span style=\"color: #008080; text-decoration-color: #008080; font-weight: bold\">0.0000</span> │    <span style=\"color: #008080; text-decoration-color: #008080; font-weight: bold\">1</span> │\n",
       "│ <span style=\"color: #008000; text-decoration-color: #008000\">reviewerName</span> │ <span style=\"color: #008000; text-decoration-color: #008000\">string   </span> │ True     │     <span style=\"color: #008080; text-decoration-color: #008080; font-weight: bold\">0</span> │      <span style=\"color: #008080; text-decoration-color: #008080; font-weight: bold\">3921</span> │    <span style=\"color: #008080; text-decoration-color: #008080; font-weight: bold\">0.0000</span> │    <span style=\"color: #008080; text-decoration-color: #008080; font-weight: bold\">2</span> │\n",
       "│ <span style=\"color: #008000; text-decoration-color: #008000\">helpful     </span> │ <span style=\"color: #008000; text-decoration-color: #008000\">string   </span> │ True     │     <span style=\"color: #008080; text-decoration-color: #008080; font-weight: bold\">0</span> │      <span style=\"color: #008080; text-decoration-color: #008080; font-weight: bold\">3921</span> │    <span style=\"color: #008080; text-decoration-color: #008080; font-weight: bold\">0.0000</span> │    <span style=\"color: #008080; text-decoration-color: #008080; font-weight: bold\">3</span> │\n",
       "│ <span style=\"color: #008000; text-decoration-color: #008000\">reviewText  </span> │ <span style=\"color: #008000; text-decoration-color: #008000\">string   </span> │ True     │     <span style=\"color: #008080; text-decoration-color: #008080; font-weight: bold\">0</span> │      <span style=\"color: #008080; text-decoration-color: #008080; font-weight: bold\">3921</span> │    <span style=\"color: #008080; text-decoration-color: #008080; font-weight: bold\">0.0000</span> │    <span style=\"color: #008080; text-decoration-color: #008080; font-weight: bold\">4</span> │\n",
       "│ <span style=\"color: #008000; text-decoration-color: #008000\">summary     </span> │ <span style=\"color: #008000; text-decoration-color: #008000\">string   </span> │ True     │     <span style=\"color: #008080; text-decoration-color: #008080; font-weight: bold\">1</span> │      <span style=\"color: #008080; text-decoration-color: #008080; font-weight: bold\">3920</span> │    <span style=\"color: #008080; text-decoration-color: #008080; font-weight: bold\">0.0003</span> │    <span style=\"color: #008080; text-decoration-color: #008080; font-weight: bold\">5</span> │\n",
       "│ <span style=\"color: #008000; text-decoration-color: #008000\">overall     </span> │ <span style=\"color: #008000; text-decoration-color: #008000\">int64    </span> │ True     │     <span style=\"color: #008080; text-decoration-color: #008080; font-weight: bold\">0</span> │      <span style=\"color: #008080; text-decoration-color: #008080; font-weight: bold\">3921</span> │    <span style=\"color: #008080; text-decoration-color: #008080; font-weight: bold\">0.0000</span> │    <span style=\"color: #008080; text-decoration-color: #008080; font-weight: bold\">6</span> │\n",
       "│ <span style=\"color: #008000; text-decoration-color: #008000\">date        </span> │ <span style=\"color: #008000; text-decoration-color: #008000\">timestamp</span> │ True     │     <span style=\"color: #008080; text-decoration-color: #008080; font-weight: bold\">0</span> │      <span style=\"color: #008080; text-decoration-color: #008080; font-weight: bold\">3921</span> │    <span style=\"color: #008080; text-decoration-color: #008080; font-weight: bold\">0.0000</span> │    <span style=\"color: #008080; text-decoration-color: #008080; font-weight: bold\">7</span> │\n",
       "└──────────────┴───────────┴──────────┴───────┴───────────┴───────────┴──────┘\n",
       "</pre>\n"
      ],
      "text/plain": [
       "┏━━━━━━━━━━━━━━┳━━━━━━━━━━━┳━━━━━━━━━━┳━━━━━━━┳━━━━━━━━━━━┳━━━━━━━━━━━┳━━━━━━┓\n",
       "┃\u001b[1m \u001b[0m\u001b[1mname\u001b[0m\u001b[1m        \u001b[0m\u001b[1m \u001b[0m┃\u001b[1m \u001b[0m\u001b[1mtype\u001b[0m\u001b[1m     \u001b[0m\u001b[1m \u001b[0m┃\u001b[1m \u001b[0m\u001b[1mnullable\u001b[0m\u001b[1m \u001b[0m┃\u001b[1m \u001b[0m\u001b[1mnulls\u001b[0m\u001b[1m \u001b[0m┃\u001b[1m \u001b[0m\u001b[1mnon_nulls\u001b[0m\u001b[1m \u001b[0m┃\u001b[1m \u001b[0m\u001b[1mnull_frac\u001b[0m\u001b[1m \u001b[0m┃\u001b[1m \u001b[0m\u001b[1mpos\u001b[0m\u001b[1m \u001b[0m\u001b[1m \u001b[0m┃\n",
       "┡━━━━━━━━━━━━━━╇━━━━━━━━━━━╇━━━━━━━━━━╇━━━━━━━╇━━━━━━━━━━━╇━━━━━━━━━━━╇━━━━━━┩\n",
       "│ \u001b[2mstring\u001b[0m       │ \u001b[2mstring\u001b[0m    │ \u001b[2mboolean\u001b[0m  │ \u001b[2mint64\u001b[0m │ \u001b[2mint64\u001b[0m     │ \u001b[2mfloat64\u001b[0m   │ \u001b[2mint8\u001b[0m │\n",
       "├──────────────┼───────────┼──────────┼───────┼───────────┼───────────┼──────┤\n",
       "│ \u001b[32mreviewerID  \u001b[0m │ \u001b[32mstring   \u001b[0m │ True     │     \u001b[1;36m0\u001b[0m │      \u001b[1;36m3921\u001b[0m │    \u001b[1;36m0.0000\u001b[0m │    \u001b[1;36m0\u001b[0m │\n",
       "│ \u001b[32masin        \u001b[0m │ \u001b[32mstring   \u001b[0m │ True     │     \u001b[1;36m0\u001b[0m │      \u001b[1;36m3921\u001b[0m │    \u001b[1;36m0.0000\u001b[0m │    \u001b[1;36m1\u001b[0m │\n",
       "│ \u001b[32mreviewerName\u001b[0m │ \u001b[32mstring   \u001b[0m │ True     │     \u001b[1;36m0\u001b[0m │      \u001b[1;36m3921\u001b[0m │    \u001b[1;36m0.0000\u001b[0m │    \u001b[1;36m2\u001b[0m │\n",
       "│ \u001b[32mhelpful     \u001b[0m │ \u001b[32mstring   \u001b[0m │ True     │     \u001b[1;36m0\u001b[0m │      \u001b[1;36m3921\u001b[0m │    \u001b[1;36m0.0000\u001b[0m │    \u001b[1;36m3\u001b[0m │\n",
       "│ \u001b[32mreviewText  \u001b[0m │ \u001b[32mstring   \u001b[0m │ True     │     \u001b[1;36m0\u001b[0m │      \u001b[1;36m3921\u001b[0m │    \u001b[1;36m0.0000\u001b[0m │    \u001b[1;36m4\u001b[0m │\n",
       "│ \u001b[32msummary     \u001b[0m │ \u001b[32mstring   \u001b[0m │ True     │     \u001b[1;36m1\u001b[0m │      \u001b[1;36m3920\u001b[0m │    \u001b[1;36m0.0003\u001b[0m │    \u001b[1;36m5\u001b[0m │\n",
       "│ \u001b[32moverall     \u001b[0m │ \u001b[32mint64    \u001b[0m │ True     │     \u001b[1;36m0\u001b[0m │      \u001b[1;36m3921\u001b[0m │    \u001b[1;36m0.0000\u001b[0m │    \u001b[1;36m6\u001b[0m │\n",
       "│ \u001b[32mdate        \u001b[0m │ \u001b[32mtimestamp\u001b[0m │ True     │     \u001b[1;36m0\u001b[0m │      \u001b[1;36m3921\u001b[0m │    \u001b[1;36m0.0000\u001b[0m │    \u001b[1;36m7\u001b[0m │\n",
       "└──────────────┴───────────┴──────────┴───────┴───────────┴───────────┴──────┘"
      ]
     },
     "execution_count": 16,
     "metadata": {},
     "output_type": "execute_result"
    }
   ],
   "source": [
    "phones_tbl.info()"
   ]
  },
  {
   "cell_type": "markdown",
   "id": "160dfb54-511c-47af-b127-d7fd48f23975",
   "metadata": {},
   "source": [
    "It's also possible to access the schema information for traversing progamatically using the `schema` method of the table."
   ]
  },
  {
   "cell_type": "code",
   "execution_count": 17,
   "id": "d8a40ddb-6f7c-4ec0-bba9-7d91414e3a88",
   "metadata": {
    "tags": []
   },
   "outputs": [
    {
     "data": {
      "text/plain": [
       "ibis.Schema {\n",
       "  reviewerID    string\n",
       "  asin          string\n",
       "  reviewerName  string\n",
       "  helpful       string\n",
       "  reviewText    string\n",
       "  summary       string\n",
       "  overall       int64\n",
       "  date          timestamp\n",
       "}"
      ]
     },
     "execution_count": 17,
     "metadata": {},
     "output_type": "execute_result"
    }
   ],
   "source": [
    "phones_tbl.schema()"
   ]
  },
  {
   "cell_type": "markdown",
   "id": "1595b069-95b6-4c4c-b8fb-6590ae7b45a8",
   "metadata": {},
   "source": [
    "### Create a table from a table expression\n",
    "\n",
    "As mentioned earlier, the `create_table` method can be used to create tables in the database from Ibis table\n",
    "expressions. That means that we can materialize our new table into the database if we so desire. This simply\n",
    "selects data from an expression into a new table, no work is being done on the client side."
   ]
  },
  {
   "cell_type": "code",
   "execution_count": 19,
   "id": "f427c60c-2fdd-4874-a219-38b27759f86d",
   "metadata": {
    "tags": []
   },
   "outputs": [
    {
     "data": {
      "text/html": [
       "<pre style=\"white-space:pre;overflow-x:auto;line-height:normal;font-family:Menlo,'DejaVu Sans Mono',consolas,'Courier New',monospace\">┏━━━━━━━━━━━━━━━━┳━━━━━━━━━━━━┳━━━━━━━━━━━━━━━━━┳━━━━━━━━━┳━━━━━━━━━━━━━━━━━━━━━━━━━━━━━━━━━━━━━━━━━━━━━━━━━━━━━━━━━━━━━━━━━━━━━━━━━━━━━━━━━━┳━━━━━━━━━━━━━━━━━━━━━━━━━━━━━━━━━━━━━━━━━━━━━━━━━━━━━━━━━━━━━━━━━━━━━━━━━━━━━┳━━━━━━━━━┳━━━━━━━━━━━━━━━━━━━━━┓\n",
       "┃<span style=\"font-weight: bold\"> reviewerID     </span>┃<span style=\"font-weight: bold\"> asin       </span>┃<span style=\"font-weight: bold\"> reviewerName    </span>┃<span style=\"font-weight: bold\"> helpful </span>┃<span style=\"font-weight: bold\"> reviewText                                                                       </span>┃<span style=\"font-weight: bold\"> summary                                                                     </span>┃<span style=\"font-weight: bold\"> overall </span>┃<span style=\"font-weight: bold\"> date                </span>┃\n",
       "┡━━━━━━━━━━━━━━━━╇━━━━━━━━━━━━╇━━━━━━━━━━━━━━━━━╇━━━━━━━━━╇━━━━━━━━━━━━━━━━━━━━━━━━━━━━━━━━━━━━━━━━━━━━━━━━━━━━━━━━━━━━━━━━━━━━━━━━━━━━━━━━━━╇━━━━━━━━━━━━━━━━━━━━━━━━━━━━━━━━━━━━━━━━━━━━━━━━━━━━━━━━━━━━━━━━━━━━━━━━━━━━━╇━━━━━━━━━╇━━━━━━━━━━━━━━━━━━━━━┩\n",
       "│ <span style=\"color: #7f7f7f; text-decoration-color: #7f7f7f\">string</span>         │ <span style=\"color: #7f7f7f; text-decoration-color: #7f7f7f\">string</span>     │ <span style=\"color: #7f7f7f; text-decoration-color: #7f7f7f\">string</span>          │ <span style=\"color: #7f7f7f; text-decoration-color: #7f7f7f\">string</span>  │ <span style=\"color: #7f7f7f; text-decoration-color: #7f7f7f\">string</span>                                                                           │ <span style=\"color: #7f7f7f; text-decoration-color: #7f7f7f\">string</span>                                                                      │ <span style=\"color: #7f7f7f; text-decoration-color: #7f7f7f\">int64</span>   │ <span style=\"color: #7f7f7f; text-decoration-color: #7f7f7f\">timestamp</span>           │\n",
       "├────────────────┼────────────┼─────────────────┼─────────┼──────────────────────────────────────────────────────────────────────────────────┼─────────────────────────────────────────────────────────────────────────────┼─────────┼─────────────────────┤\n",
       "│ <span style=\"color: #008000; text-decoration-color: #008000\">A1JUZ1FVF06U2C</span> │ <span style=\"color: #008000; text-decoration-color: #008000\">8288862993</span> │ <span style=\"color: #008000; text-decoration-color: #008000\">Grymir         </span> │ <span style=\"color: #008000; text-decoration-color: #008000\">[0, 0] </span> │ <span style=\"color: #008000; text-decoration-color: #008000\">This charger works great. I love the fact that the LED on it does not light up …</span> │ <span style=\"color: #008000; text-decoration-color: #008000\">Good charger                                                               </span> │       <span style=\"color: #008080; text-decoration-color: #008080; font-weight: bold\">5</span> │ <span style=\"color: #800080; text-decoration-color: #800080\">2013-03-21 00:00:00</span> │\n",
       "│ <span style=\"color: #008000; text-decoration-color: #008000\">A3WS56UI56UC4 </span> │ <span style=\"color: #008000; text-decoration-color: #008000\">9985039998</span> │ <span style=\"color: #008000; text-decoration-color: #008000\">Music Freak Jen</span> │ <span style=\"color: #008000; text-decoration-color: #008000\">[0, 0] </span> │ <span style=\"color: #008000; text-decoration-color: #008000\">I'll never understand how one review can say this item works exactly as it shou…</span> │ <span style=\"color: #008000; text-decoration-color: #008000\">EXACTLY what i wanted!                                                     </span> │       <span style=\"color: #008080; text-decoration-color: #008080; font-weight: bold\">5</span> │ <span style=\"color: #800080; text-decoration-color: #800080\">2010-12-07 00:00:00</span> │\n",
       "│ <span style=\"color: #008000; text-decoration-color: #008000\">A2YL9IOLQ3ZD4M</span> │ <span style=\"color: #008000; text-decoration-color: #008000\">998554627X</span> │ <span style=\"color: #008000; text-decoration-color: #008000\">Callista Dawson</span> │ <span style=\"color: #008000; text-decoration-color: #008000\">[0, 0] </span> │ <span style=\"color: #008000; text-decoration-color: #008000\">This charger doesn't work very well. When plugged in, it shows that it is charg…</span> │ <span style=\"color: #008000; text-decoration-color: #008000\">Barely gives a charge                                                      </span> │       <span style=\"color: #008080; text-decoration-color: #008080; font-weight: bold\">2</span> │ <span style=\"color: #800080; text-decoration-color: #800080\">2013-04-12 00:00:00</span> │\n",
       "│ <span style=\"color: #008000; text-decoration-color: #008000\">A1E0QRXKP9DKIF</span> │ <span style=\"color: #008000; text-decoration-color: #008000\">9985612272</span> │ <span style=\"color: #008000; text-decoration-color: #008000\">Ms_Thrifty!    </span> │ <span style=\"color: #008000; text-decoration-color: #008000\">[0, 0] </span> │ <span style=\"color: #008000; text-decoration-color: #008000\">Paid $0.32 for the charger and $2.81 Shipping &amp; Handling.....Yeah, I know the s…</span> │ <span style=\"color: #008000; text-decoration-color: #008000\">I am charging away now.......                                              </span> │       <span style=\"color: #008080; text-decoration-color: #008080; font-weight: bold\">5</span> │ <span style=\"color: #800080; text-decoration-color: #800080\">2013-05-09 00:00:00</span> │\n",
       "│ <span style=\"color: #008000; text-decoration-color: #008000\">A13MBNZ67UUTZ5</span> │ <span style=\"color: #008000; text-decoration-color: #008000\">B00002X29G</span> │ <span style=\"color: #008000; text-decoration-color: #008000\">myctenor       </span> │ <span style=\"color: #008000; text-decoration-color: #008000\">[0, 0] </span> │ <span style=\"color: #008000; text-decoration-color: #008000\">This is a good buy if it is what you are wanting.  I misread the product info a…</span> │ <span style=\"color: #008000; text-decoration-color: #008000\">Read descriptions                                                          </span> │       <span style=\"color: #008080; text-decoration-color: #008080; font-weight: bold\">4</span> │ <span style=\"color: #800080; text-decoration-color: #800080\">2014-06-23 00:00:00</span> │\n",
       "│ <span style=\"color: #008000; text-decoration-color: #008000\">A22BT2BXYE4F0V</span> │ <span style=\"color: #008000; text-decoration-color: #008000\">B00006JPFU</span> │ <span style=\"color: #008000; text-decoration-color: #008000\">tino           </span> │ <span style=\"color: #008000; text-decoration-color: #008000\">[0, 0] </span> │ <span style=\"color: #008000; text-decoration-color: #008000\">I fixed the issues, for the time being.  I turned down the bass on my stereo.  …</span> │ <span style=\"color: #008000; text-decoration-color: #008000\">Popping NOises, and really bad sound...but                                 </span> │       <span style=\"color: #008080; text-decoration-color: #008080; font-weight: bold\">3</span> │ <span style=\"color: #800080; text-decoration-color: #800080\">2011-12-14 00:00:00</span> │\n",
       "│ <span style=\"color: #008000; text-decoration-color: #008000\">A1MFI9TR61DB0Z</span> │ <span style=\"color: #008000; text-decoration-color: #008000\">B0000ALPBP</span> │ <span style=\"color: #008000; text-decoration-color: #008000\">Jim C. Titus   </span> │ <span style=\"color: #008000; text-decoration-color: #008000\">[0, 0] </span> │ <span style=\"color: #008000; text-decoration-color: #008000\">Purchased a total of 3 so far.. 1st one had no sound but seller replaced immedi…</span> │ <span style=\"color: #008000; text-decoration-color: #008000\">Well worth the small cost                                                  </span> │       <span style=\"color: #008080; text-decoration-color: #008080; font-weight: bold\">5</span> │ <span style=\"color: #800080; text-decoration-color: #800080\">2009-11-02 00:00:00</span> │\n",
       "│ <span style=\"color: #008000; text-decoration-color: #008000\">A2ZDY0V4Q1SZD7</span> │ <span style=\"color: #008000; text-decoration-color: #008000\">B00013BL18</span> │ <span style=\"color: #008000; text-decoration-color: #008000\">Joseph R Joe   </span> │ <span style=\"color: #008000; text-decoration-color: #008000\">[1, 1] </span> │ <span style=\"color: #008000; text-decoration-color: #008000\">UPDATE:The person actually using these adapters (an 80 year old grandma) just r…</span> │ <span style=\"color: #008000; text-decoration-color: #008000\">UPDATE: reviews from the field (was:I haven't gotten to Europe yet, but...)</span> │       <span style=\"color: #008080; text-decoration-color: #008080; font-weight: bold\">5</span> │ <span style=\"color: #800080; text-decoration-color: #800080\">2013-08-24 00:00:00</span> │\n",
       "│ <span style=\"color: #008000; text-decoration-color: #008000\">A15U64VGUV6RBF</span> │ <span style=\"color: #008000; text-decoration-color: #008000\">B0001DVQNG</span> │ <span style=\"color: #008000; text-decoration-color: #008000\">S. Carlson     </span> │ <span style=\"color: #008000; text-decoration-color: #008000\">[1, 1] </span> │ <span style=\"color: #008000; text-decoration-color: #008000\">A very nice power inverter, especially for the price. Just be aware of the watt…</span> │ <span style=\"color: #008000; text-decoration-color: #008000\">Check your power needs first                                               </span> │       <span style=\"color: #008080; text-decoration-color: #008080; font-weight: bold\">4</span> │ <span style=\"color: #800080; text-decoration-color: #800080\">2011-09-01 00:00:00</span> │\n",
       "│ <span style=\"color: #008000; text-decoration-color: #008000\">A1I2PVMCVBPBQ6</span> │ <span style=\"color: #008000; text-decoration-color: #008000\">B000227PL8</span> │ <span style=\"color: #008000; text-decoration-color: #008000\">M. Vigod       </span> │ <span style=\"color: #008000; text-decoration-color: #008000\">[0, 0] </span> │ <span style=\"color: #008000; text-decoration-color: #008000\">I bought this one based on all the good user reviews and its popularity.  I had…</span> │ <span style=\"color: #008000; text-decoration-color: #008000\">Good solid USB Hub!                                                        </span> │       <span style=\"color: #008080; text-decoration-color: #008080; font-weight: bold\">5</span> │ <span style=\"color: #800080; text-decoration-color: #800080\">2010-12-02 00:00:00</span> │\n",
       "│ <span style=\"color: #7f7f7f; text-decoration-color: #7f7f7f\">…</span>              │ <span style=\"color: #7f7f7f; text-decoration-color: #7f7f7f\">…</span>          │ <span style=\"color: #7f7f7f; text-decoration-color: #7f7f7f\">…</span>               │ <span style=\"color: #7f7f7f; text-decoration-color: #7f7f7f\">…</span>       │ <span style=\"color: #7f7f7f; text-decoration-color: #7f7f7f\">…</span>                                                                                │ <span style=\"color: #7f7f7f; text-decoration-color: #7f7f7f\">…</span>                                                                           │       <span style=\"color: #7f7f7f; text-decoration-color: #7f7f7f\">…</span> │ <span style=\"color: #7f7f7f; text-decoration-color: #7f7f7f\">…</span>                   │\n",
       "└────────────────┴────────────┴─────────────────┴─────────┴──────────────────────────────────────────────────────────────────────────────────┴─────────────────────────────────────────────────────────────────────────────┴─────────┴─────────────────────┘\n",
       "</pre>\n"
      ],
      "text/plain": [
       "┏━━━━━━━━━━━━━━━━┳━━━━━━━━━━━━┳━━━━━━━━━━━━━━━━━┳━━━━━━━━━┳━━━━━━━━━━━━━━━━━━━━━━━━━━━━━━━━━━━━━━━━━━━━━━━━━━━━━━━━━━━━━━━━━━━━━━━━━━━━━━━━━━┳━━━━━━━━━━━━━━━━━━━━━━━━━━━━━━━━━━━━━━━━━━━━━━━━━━━━━━━━━━━━━━━━━━━━━━━━━━━━━┳━━━━━━━━━┳━━━━━━━━━━━━━━━━━━━━━┓\n",
       "┃\u001b[1m \u001b[0m\u001b[1mreviewerID\u001b[0m\u001b[1m    \u001b[0m\u001b[1m \u001b[0m┃\u001b[1m \u001b[0m\u001b[1masin\u001b[0m\u001b[1m      \u001b[0m\u001b[1m \u001b[0m┃\u001b[1m \u001b[0m\u001b[1mreviewerName\u001b[0m\u001b[1m   \u001b[0m\u001b[1m \u001b[0m┃\u001b[1m \u001b[0m\u001b[1mhelpful\u001b[0m\u001b[1m \u001b[0m┃\u001b[1m \u001b[0m\u001b[1mreviewText\u001b[0m\u001b[1m                                                                      \u001b[0m\u001b[1m \u001b[0m┃\u001b[1m \u001b[0m\u001b[1msummary\u001b[0m\u001b[1m                                                                    \u001b[0m\u001b[1m \u001b[0m┃\u001b[1m \u001b[0m\u001b[1moverall\u001b[0m\u001b[1m \u001b[0m┃\u001b[1m \u001b[0m\u001b[1mdate\u001b[0m\u001b[1m               \u001b[0m\u001b[1m \u001b[0m┃\n",
       "┡━━━━━━━━━━━━━━━━╇━━━━━━━━━━━━╇━━━━━━━━━━━━━━━━━╇━━━━━━━━━╇━━━━━━━━━━━━━━━━━━━━━━━━━━━━━━━━━━━━━━━━━━━━━━━━━━━━━━━━━━━━━━━━━━━━━━━━━━━━━━━━━━╇━━━━━━━━━━━━━━━━━━━━━━━━━━━━━━━━━━━━━━━━━━━━━━━━━━━━━━━━━━━━━━━━━━━━━━━━━━━━━╇━━━━━━━━━╇━━━━━━━━━━━━━━━━━━━━━┩\n",
       "│ \u001b[2mstring\u001b[0m         │ \u001b[2mstring\u001b[0m     │ \u001b[2mstring\u001b[0m          │ \u001b[2mstring\u001b[0m  │ \u001b[2mstring\u001b[0m                                                                           │ \u001b[2mstring\u001b[0m                                                                      │ \u001b[2mint64\u001b[0m   │ \u001b[2mtimestamp\u001b[0m           │\n",
       "├────────────────┼────────────┼─────────────────┼─────────┼──────────────────────────────────────────────────────────────────────────────────┼─────────────────────────────────────────────────────────────────────────────┼─────────┼─────────────────────┤\n",
       "│ \u001b[32mA1JUZ1FVF06U2C\u001b[0m │ \u001b[32m8288862993\u001b[0m │ \u001b[32mGrymir         \u001b[0m │ \u001b[32m[0, 0] \u001b[0m │ \u001b[32mThis charger works great. I love the fact that the LED on it does not light up …\u001b[0m │ \u001b[32mGood charger                                                               \u001b[0m │       \u001b[1;36m5\u001b[0m │ \u001b[35m2013-03-21 00:00:00\u001b[0m │\n",
       "│ \u001b[32mA3WS56UI56UC4 \u001b[0m │ \u001b[32m9985039998\u001b[0m │ \u001b[32mMusic Freak Jen\u001b[0m │ \u001b[32m[0, 0] \u001b[0m │ \u001b[32mI'll never understand how one review can say this item works exactly as it shou…\u001b[0m │ \u001b[32mEXACTLY what i wanted!                                                     \u001b[0m │       \u001b[1;36m5\u001b[0m │ \u001b[35m2010-12-07 00:00:00\u001b[0m │\n",
       "│ \u001b[32mA2YL9IOLQ3ZD4M\u001b[0m │ \u001b[32m998554627X\u001b[0m │ \u001b[32mCallista Dawson\u001b[0m │ \u001b[32m[0, 0] \u001b[0m │ \u001b[32mThis charger doesn't work very well. When plugged in, it shows that it is charg…\u001b[0m │ \u001b[32mBarely gives a charge                                                      \u001b[0m │       \u001b[1;36m2\u001b[0m │ \u001b[35m2013-04-12 00:00:00\u001b[0m │\n",
       "│ \u001b[32mA1E0QRXKP9DKIF\u001b[0m │ \u001b[32m9985612272\u001b[0m │ \u001b[32mMs_Thrifty!    \u001b[0m │ \u001b[32m[0, 0] \u001b[0m │ \u001b[32mPaid $0.32 for the charger and $2.81 Shipping & Handling.....Yeah, I know the s…\u001b[0m │ \u001b[32mI am charging away now.......                                              \u001b[0m │       \u001b[1;36m5\u001b[0m │ \u001b[35m2013-05-09 00:00:00\u001b[0m │\n",
       "│ \u001b[32mA13MBNZ67UUTZ5\u001b[0m │ \u001b[32mB00002X29G\u001b[0m │ \u001b[32mmyctenor       \u001b[0m │ \u001b[32m[0, 0] \u001b[0m │ \u001b[32mThis is a good buy if it is what you are wanting.  I misread the product info a…\u001b[0m │ \u001b[32mRead descriptions                                                          \u001b[0m │       \u001b[1;36m4\u001b[0m │ \u001b[35m2014-06-23 00:00:00\u001b[0m │\n",
       "│ \u001b[32mA22BT2BXYE4F0V\u001b[0m │ \u001b[32mB00006JPFU\u001b[0m │ \u001b[32mtino           \u001b[0m │ \u001b[32m[0, 0] \u001b[0m │ \u001b[32mI fixed the issues, for the time being.  I turned down the bass on my stereo.  …\u001b[0m │ \u001b[32mPopping NOises, and really bad sound...but                                 \u001b[0m │       \u001b[1;36m3\u001b[0m │ \u001b[35m2011-12-14 00:00:00\u001b[0m │\n",
       "│ \u001b[32mA1MFI9TR61DB0Z\u001b[0m │ \u001b[32mB0000ALPBP\u001b[0m │ \u001b[32mJim C. Titus   \u001b[0m │ \u001b[32m[0, 0] \u001b[0m │ \u001b[32mPurchased a total of 3 so far.. 1st one had no sound but seller replaced immedi…\u001b[0m │ \u001b[32mWell worth the small cost                                                  \u001b[0m │       \u001b[1;36m5\u001b[0m │ \u001b[35m2009-11-02 00:00:00\u001b[0m │\n",
       "│ \u001b[32mA2ZDY0V4Q1SZD7\u001b[0m │ \u001b[32mB00013BL18\u001b[0m │ \u001b[32mJoseph R Joe   \u001b[0m │ \u001b[32m[1, 1] \u001b[0m │ \u001b[32mUPDATE:The person actually using these adapters (an 80 year old grandma) just r…\u001b[0m │ \u001b[32mUPDATE: reviews from the field (was:I haven't gotten to Europe yet, but...)\u001b[0m │       \u001b[1;36m5\u001b[0m │ \u001b[35m2013-08-24 00:00:00\u001b[0m │\n",
       "│ \u001b[32mA15U64VGUV6RBF\u001b[0m │ \u001b[32mB0001DVQNG\u001b[0m │ \u001b[32mS. Carlson     \u001b[0m │ \u001b[32m[1, 1] \u001b[0m │ \u001b[32mA very nice power inverter, especially for the price. Just be aware of the watt…\u001b[0m │ \u001b[32mCheck your power needs first                                               \u001b[0m │       \u001b[1;36m4\u001b[0m │ \u001b[35m2011-09-01 00:00:00\u001b[0m │\n",
       "│ \u001b[32mA1I2PVMCVBPBQ6\u001b[0m │ \u001b[32mB000227PL8\u001b[0m │ \u001b[32mM. Vigod       \u001b[0m │ \u001b[32m[0, 0] \u001b[0m │ \u001b[32mI bought this one based on all the good user reviews and its popularity.  I had…\u001b[0m │ \u001b[32mGood solid USB Hub!                                                        \u001b[0m │       \u001b[1;36m5\u001b[0m │ \u001b[35m2010-12-02 00:00:00\u001b[0m │\n",
       "│ \u001b[2m…\u001b[0m              │ \u001b[2m…\u001b[0m          │ \u001b[2m…\u001b[0m               │ \u001b[2m…\u001b[0m       │ \u001b[2m…\u001b[0m                                                                                │ \u001b[2m…\u001b[0m                                                                           │       \u001b[2m…\u001b[0m │ \u001b[2m…\u001b[0m                   │\n",
       "└────────────────┴────────────┴─────────────────┴─────────┴──────────────────────────────────────────────────────────────────────────────────┴─────────────────────────────────────────────────────────────────────────────┴─────────┴─────────────────────┘"
      ]
     },
     "execution_count": 19,
     "metadata": {},
     "output_type": "execute_result"
    }
   ],
   "source": [
    "tbl_2 = conn.create_table('phones2', phones_tbl, overwrite=True)\n",
    "tbl_2"
   ]
  },
  {
   "cell_type": "code",
   "execution_count": 20,
   "id": "60a0dfb0-a8c0-4047-8658-858f79e90a02",
   "metadata": {
    "tags": []
   },
   "outputs": [
    {
     "data": {
      "text/html": [
       "<table border=\"1\" class=\"dataframe\"><thead><tr><th style=\"text-align: left; vertical-align: top\">Name</th></tr></thead><tbody><tr><td style=\"text-align: left; vertical-align: top\">phones</td></tr><tr><td style=\"text-align: left; vertical-align: top\">phones2</td></tr></tbody></table>"
      ],
      "text/plain": [
       "\n",
       "|  Name     |\n",
       "-------------\n",
       "|  phones   |\n",
       "|  phones2  |"
      ]
     },
     "execution_count": 20,
     "metadata": {},
     "output_type": "execute_result"
    }
   ],
   "source": [
    "conn.show.tables()"
   ]
  },
  {
   "cell_type": "code",
   "execution_count": 21,
   "id": "03fe4942-f3e7-4d2c-96ad-721bed730c8f",
   "metadata": {
    "tags": []
   },
   "outputs": [
    {
     "data": {
      "text/html": [
       "<pre style=\"white-space:pre;overflow-x:auto;line-height:normal;font-family:Menlo,'DejaVu Sans Mono',consolas,'Courier New',monospace\">┏━━━━━━━━━━━━━━┳━━━━━━━━━━━┳━━━━━━━━━━┳━━━━━━━┳━━━━━━━━━━━┳━━━━━━━━━━━┳━━━━━━┓\n",
       "┃<span style=\"font-weight: bold\"> name         </span>┃<span style=\"font-weight: bold\"> type      </span>┃<span style=\"font-weight: bold\"> nullable </span>┃<span style=\"font-weight: bold\"> nulls </span>┃<span style=\"font-weight: bold\"> non_nulls </span>┃<span style=\"font-weight: bold\"> null_frac </span>┃<span style=\"font-weight: bold\"> pos  </span>┃\n",
       "┡━━━━━━━━━━━━━━╇━━━━━━━━━━━╇━━━━━━━━━━╇━━━━━━━╇━━━━━━━━━━━╇━━━━━━━━━━━╇━━━━━━┩\n",
       "│ <span style=\"color: #7f7f7f; text-decoration-color: #7f7f7f\">string</span>       │ <span style=\"color: #7f7f7f; text-decoration-color: #7f7f7f\">string</span>    │ <span style=\"color: #7f7f7f; text-decoration-color: #7f7f7f\">boolean</span>  │ <span style=\"color: #7f7f7f; text-decoration-color: #7f7f7f\">int64</span> │ <span style=\"color: #7f7f7f; text-decoration-color: #7f7f7f\">int64</span>     │ <span style=\"color: #7f7f7f; text-decoration-color: #7f7f7f\">float64</span>   │ <span style=\"color: #7f7f7f; text-decoration-color: #7f7f7f\">int8</span> │\n",
       "├──────────────┼───────────┼──────────┼───────┼───────────┼───────────┼──────┤\n",
       "│ <span style=\"color: #008000; text-decoration-color: #008000\">reviewerID  </span> │ <span style=\"color: #008000; text-decoration-color: #008000\">string   </span> │ True     │     <span style=\"color: #008080; text-decoration-color: #008080; font-weight: bold\">0</span> │      <span style=\"color: #008080; text-decoration-color: #008080; font-weight: bold\">3921</span> │    <span style=\"color: #008080; text-decoration-color: #008080; font-weight: bold\">0.0000</span> │    <span style=\"color: #008080; text-decoration-color: #008080; font-weight: bold\">0</span> │\n",
       "│ <span style=\"color: #008000; text-decoration-color: #008000\">asin        </span> │ <span style=\"color: #008000; text-decoration-color: #008000\">string   </span> │ True     │     <span style=\"color: #008080; text-decoration-color: #008080; font-weight: bold\">0</span> │      <span style=\"color: #008080; text-decoration-color: #008080; font-weight: bold\">3921</span> │    <span style=\"color: #008080; text-decoration-color: #008080; font-weight: bold\">0.0000</span> │    <span style=\"color: #008080; text-decoration-color: #008080; font-weight: bold\">1</span> │\n",
       "│ <span style=\"color: #008000; text-decoration-color: #008000\">reviewerName</span> │ <span style=\"color: #008000; text-decoration-color: #008000\">string   </span> │ True     │     <span style=\"color: #008080; text-decoration-color: #008080; font-weight: bold\">0</span> │      <span style=\"color: #008080; text-decoration-color: #008080; font-weight: bold\">3921</span> │    <span style=\"color: #008080; text-decoration-color: #008080; font-weight: bold\">0.0000</span> │    <span style=\"color: #008080; text-decoration-color: #008080; font-weight: bold\">2</span> │\n",
       "│ <span style=\"color: #008000; text-decoration-color: #008000\">helpful     </span> │ <span style=\"color: #008000; text-decoration-color: #008000\">string   </span> │ True     │     <span style=\"color: #008080; text-decoration-color: #008080; font-weight: bold\">0</span> │      <span style=\"color: #008080; text-decoration-color: #008080; font-weight: bold\">3921</span> │    <span style=\"color: #008080; text-decoration-color: #008080; font-weight: bold\">0.0000</span> │    <span style=\"color: #008080; text-decoration-color: #008080; font-weight: bold\">3</span> │\n",
       "│ <span style=\"color: #008000; text-decoration-color: #008000\">reviewText  </span> │ <span style=\"color: #008000; text-decoration-color: #008000\">string   </span> │ True     │     <span style=\"color: #008080; text-decoration-color: #008080; font-weight: bold\">0</span> │      <span style=\"color: #008080; text-decoration-color: #008080; font-weight: bold\">3921</span> │    <span style=\"color: #008080; text-decoration-color: #008080; font-weight: bold\">0.0000</span> │    <span style=\"color: #008080; text-decoration-color: #008080; font-weight: bold\">4</span> │\n",
       "│ <span style=\"color: #008000; text-decoration-color: #008000\">summary     </span> │ <span style=\"color: #008000; text-decoration-color: #008000\">string   </span> │ True     │     <span style=\"color: #008080; text-decoration-color: #008080; font-weight: bold\">1</span> │      <span style=\"color: #008080; text-decoration-color: #008080; font-weight: bold\">3920</span> │    <span style=\"color: #008080; text-decoration-color: #008080; font-weight: bold\">0.0003</span> │    <span style=\"color: #008080; text-decoration-color: #008080; font-weight: bold\">5</span> │\n",
       "│ <span style=\"color: #008000; text-decoration-color: #008000\">overall     </span> │ <span style=\"color: #008000; text-decoration-color: #008000\">int64    </span> │ True     │     <span style=\"color: #008080; text-decoration-color: #008080; font-weight: bold\">0</span> │      <span style=\"color: #008080; text-decoration-color: #008080; font-weight: bold\">3921</span> │    <span style=\"color: #008080; text-decoration-color: #008080; font-weight: bold\">0.0000</span> │    <span style=\"color: #008080; text-decoration-color: #008080; font-weight: bold\">6</span> │\n",
       "│ <span style=\"color: #008000; text-decoration-color: #008000\">date        </span> │ <span style=\"color: #008000; text-decoration-color: #008000\">timestamp</span> │ True     │     <span style=\"color: #008080; text-decoration-color: #008080; font-weight: bold\">0</span> │      <span style=\"color: #008080; text-decoration-color: #008080; font-weight: bold\">3921</span> │    <span style=\"color: #008080; text-decoration-color: #008080; font-weight: bold\">0.0000</span> │    <span style=\"color: #008080; text-decoration-color: #008080; font-weight: bold\">7</span> │\n",
       "└──────────────┴───────────┴──────────┴───────┴───────────┴───────────┴──────┘\n",
       "</pre>\n"
      ],
      "text/plain": [
       "┏━━━━━━━━━━━━━━┳━━━━━━━━━━━┳━━━━━━━━━━┳━━━━━━━┳━━━━━━━━━━━┳━━━━━━━━━━━┳━━━━━━┓\n",
       "┃\u001b[1m \u001b[0m\u001b[1mname\u001b[0m\u001b[1m        \u001b[0m\u001b[1m \u001b[0m┃\u001b[1m \u001b[0m\u001b[1mtype\u001b[0m\u001b[1m     \u001b[0m\u001b[1m \u001b[0m┃\u001b[1m \u001b[0m\u001b[1mnullable\u001b[0m\u001b[1m \u001b[0m┃\u001b[1m \u001b[0m\u001b[1mnulls\u001b[0m\u001b[1m \u001b[0m┃\u001b[1m \u001b[0m\u001b[1mnon_nulls\u001b[0m\u001b[1m \u001b[0m┃\u001b[1m \u001b[0m\u001b[1mnull_frac\u001b[0m\u001b[1m \u001b[0m┃\u001b[1m \u001b[0m\u001b[1mpos\u001b[0m\u001b[1m \u001b[0m\u001b[1m \u001b[0m┃\n",
       "┡━━━━━━━━━━━━━━╇━━━━━━━━━━━╇━━━━━━━━━━╇━━━━━━━╇━━━━━━━━━━━╇━━━━━━━━━━━╇━━━━━━┩\n",
       "│ \u001b[2mstring\u001b[0m       │ \u001b[2mstring\u001b[0m    │ \u001b[2mboolean\u001b[0m  │ \u001b[2mint64\u001b[0m │ \u001b[2mint64\u001b[0m     │ \u001b[2mfloat64\u001b[0m   │ \u001b[2mint8\u001b[0m │\n",
       "├──────────────┼───────────┼──────────┼───────┼───────────┼───────────┼──────┤\n",
       "│ \u001b[32mreviewerID  \u001b[0m │ \u001b[32mstring   \u001b[0m │ True     │     \u001b[1;36m0\u001b[0m │      \u001b[1;36m3921\u001b[0m │    \u001b[1;36m0.0000\u001b[0m │    \u001b[1;36m0\u001b[0m │\n",
       "│ \u001b[32masin        \u001b[0m │ \u001b[32mstring   \u001b[0m │ True     │     \u001b[1;36m0\u001b[0m │      \u001b[1;36m3921\u001b[0m │    \u001b[1;36m0.0000\u001b[0m │    \u001b[1;36m1\u001b[0m │\n",
       "│ \u001b[32mreviewerName\u001b[0m │ \u001b[32mstring   \u001b[0m │ True     │     \u001b[1;36m0\u001b[0m │      \u001b[1;36m3921\u001b[0m │    \u001b[1;36m0.0000\u001b[0m │    \u001b[1;36m2\u001b[0m │\n",
       "│ \u001b[32mhelpful     \u001b[0m │ \u001b[32mstring   \u001b[0m │ True     │     \u001b[1;36m0\u001b[0m │      \u001b[1;36m3921\u001b[0m │    \u001b[1;36m0.0000\u001b[0m │    \u001b[1;36m3\u001b[0m │\n",
       "│ \u001b[32mreviewText  \u001b[0m │ \u001b[32mstring   \u001b[0m │ True     │     \u001b[1;36m0\u001b[0m │      \u001b[1;36m3921\u001b[0m │    \u001b[1;36m0.0000\u001b[0m │    \u001b[1;36m4\u001b[0m │\n",
       "│ \u001b[32msummary     \u001b[0m │ \u001b[32mstring   \u001b[0m │ True     │     \u001b[1;36m1\u001b[0m │      \u001b[1;36m3920\u001b[0m │    \u001b[1;36m0.0003\u001b[0m │    \u001b[1;36m5\u001b[0m │\n",
       "│ \u001b[32moverall     \u001b[0m │ \u001b[32mint64    \u001b[0m │ True     │     \u001b[1;36m0\u001b[0m │      \u001b[1;36m3921\u001b[0m │    \u001b[1;36m0.0000\u001b[0m │    \u001b[1;36m6\u001b[0m │\n",
       "│ \u001b[32mdate        \u001b[0m │ \u001b[32mtimestamp\u001b[0m │ True     │     \u001b[1;36m0\u001b[0m │      \u001b[1;36m3921\u001b[0m │    \u001b[1;36m0.0000\u001b[0m │    \u001b[1;36m7\u001b[0m │\n",
       "└──────────────┴───────────┴──────────┴───────┴───────────┴───────────┴──────┘"
      ]
     },
     "execution_count": 21,
     "metadata": {},
     "output_type": "execute_result"
    }
   ],
   "source": [
    "tbl_2.info()"
   ]
  },
  {
   "cell_type": "code",
   "execution_count": 22,
   "id": "e91d0901-6031-4ffe-b485-d167bdfa15c1",
   "metadata": {
    "tags": []
   },
   "outputs": [
    {
     "data": {
      "text/html": [
       "<table border=\"1\" class=\"dataframe\"><thead><tr><th style=\"text-align: left; vertical-align: top\">Name</th><th style=\"text-align: left; vertical-align: top\">CreateTable</th></tr></thead><tbody><tr><td style=\"text-align: left; vertical-align: top\">phones2</td><td style=\"text-align: left; vertical-align: top\">CREATE TABLE `phones2` (\n",
       "  `reviewerID` text CHARACTER SET utf8 COLLATE utf8_general_ci,\n",
       "  `asin` text CHARACTER SET utf8 COLLATE utf8_general_ci,\n",
       "  `reviewerName` text CHARACTER SET utf8 COLLATE utf8_general_ci,\n",
       "  `helpful` text CHARACTER SET utf8 COLLATE utf8_general_ci,\n",
       "  `reviewText` text CHARACTER SET utf8 COLLATE utf8_general_ci,\n",
       "  `summary` text CHARACTER SET utf8 COLLATE utf8_general_ci,\n",
       "  `overall` bigint(20) DEFAULT NULL,\n",
       "  `date` datetime DEFAULT NULL,\n",
       "  SORT KEY `__UNORDERED` ()\n",
       "  , SHARD KEY () \n",
       ") AUTOSTATS_CARDINALITY_MODE=OFF AUTOSTATS_HISTOGRAM_MODE=OFF AUTOSTATS_SAMPLING=OFF SQL_MODE='STRICT_ALL_TABLES'</td></tr></tbody></table>"
      ],
      "text/plain": [
       "\n",
       "|  Name    | CreateTable                                                                                                                                                                                                                                                                                                                                                                                                                                                                                                                                                                                                                                          |\n",
       "-------------------------------------------------------------------------------------------------------------------------------------------------------------------------------------------------------------------------------------------------------------------------------------------------------------------------------------------------------------------------------------------------------------------------------------------------------------------------------------------------------------------------------------------------------------------------------------------------------------------------------------------------------------------\n",
       "|  phones2 | CREATE TABLE `phones2` (\n",
       "  `reviewerID` text CHARACTER SET utf8 COLLATE utf8_general_ci,\n",
       "  `asin` text CHARACTER SET utf8 COLLATE utf8_general_ci,\n",
       "  `reviewerName` text CHARACTER SET utf8 COLLATE utf8_general_ci,\n",
       "  `helpful` text CHARACTER SET utf8 COLLATE utf8_general_ci,\n",
       "  `reviewText` text CHARACTER SET utf8 COLLATE utf8_general_ci,\n",
       "  `summary` text CHARACTER SET utf8 COLLATE utf8_general_ci,\n",
       "  `overall` bigint(20) DEFAULT NULL,\n",
       "  `date` datetime DEFAULT NULL,\n",
       "  SORT KEY `__UNORDERED` ()\n",
       "  , SHARD KEY () \n",
       ") AUTOSTATS_CARDINALITY_MODE=OFF AUTOSTATS_HISTOGRAM_MODE=OFF AUTOSTATS_SAMPLING=OFF SQL_MODE='STRICT_ALL_TABLES'  |"
      ]
     },
     "execution_count": 22,
     "metadata": {},
     "output_type": "execute_result"
    }
   ],
   "source": [
    "conn.show.create_table('phones2')"
   ]
  },
  {
   "cell_type": "markdown",
   "id": "b4425759-a20e-41dd-84c8-8ae89ab65f15",
   "metadata": {},
   "source": [
    "For this example, we'll drop this table and use our original object."
   ]
  },
  {
   "cell_type": "code",
   "execution_count": 23,
   "id": "cbeac008-f266-44ab-aef4-78142cf45ef6",
   "metadata": {
    "tags": []
   },
   "outputs": [],
   "source": [
    "conn.drop_table('phones2')"
   ]
  },
  {
   "cell_type": "markdown",
   "id": "c7befbbf-c24c-41ed-a685-ad7c5e8da16b",
   "metadata": {},
   "source": [
    "### DataFrame operations"
   ]
  },
  {
   "cell_type": "markdown",
   "id": "b79ba74b-b713-4981-b657-6a128b61c8e1",
   "metadata": {},
   "source": [
    "Now that we have a table in the database and a DataFrame-like obect connected to it, let's do some operations with the data. For this example, \n",
    "we'll enable the `verbose` option in Ibis. This will display the SQL code that is sent to the server when evaluating the expression. In this \n",
    "example, we are building a sentence from various columns in the data table. We are using the reviwer name (which is capitalized), the summary,\n",
    "and the overall rating (which is cast to a string). All of these are concatenated together using the `+` as you normally would when\n",
    "concatenating strings in Python."
   ]
  },
  {
   "cell_type": "code",
   "execution_count": 24,
   "id": "7d5d4e1d-ac82-42ee-926c-e7afb73db3f8",
   "metadata": {
    "tags": []
   },
   "outputs": [
    {
     "name": "stdout",
     "output_type": "stream",
     "text": [
      "SELECT concat(concat(concat(concat(concat(concat(ucase(left(t0.\"reviewerName\", :left_1)), lcase(substring(t0.\"reviewerName\", :substring_1))), :param_1), t0.summary), :param_2), CAST(t0.overall AS TEXT)), :param_3) AS \"StringConcat()\" \n",
      "FROM (SELECT t1.\"reviewerID\" AS \"reviewerID\", t1.asin AS asin, t1.\"reviewerName\" AS \"reviewerName\", t1.helpful AS helpful, t1.\"reviewText\" AS \"reviewText\", t1.summary AS summary, CAST(t1.overall AS BIGINT) AS overall, convert_tz(from_unixtime(t1.\"unixReviewTime\"), :convert_tz_1, :convert_tz_2) AS date \n",
      "FROM phones AS t1) AS t0\n",
      " LIMIT :param_4\n"
     ]
    },
    {
     "data": {
      "text/html": [
       "<pre style=\"white-space:pre;overflow-x:auto;line-height:normal;font-family:Menlo,'DejaVu Sans Mono',consolas,'Courier New',monospace\">┏━━━━━━━━━━━━━━━━━━━━━━━━━━━━━━━━━━━━━━━━━━━━━━━━━━━━━━━━━━━━━━━━━━━━━━━━━━━━━━━━━━┓\n",
       "┃<span style=\"font-weight: bold\"> StringConcat()                                                                   </span>┃\n",
       "┡━━━━━━━━━━━━━━━━━━━━━━━━━━━━━━━━━━━━━━━━━━━━━━━━━━━━━━━━━━━━━━━━━━━━━━━━━━━━━━━━━━┩\n",
       "│ <span style=\"color: #7f7f7f; text-decoration-color: #7f7f7f\">string</span>                                                                           │\n",
       "├──────────────────────────────────────────────────────────────────────────────────┤\n",
       "│ <span style=\"color: #008000; text-decoration-color: #008000\">Olivia </span><span style=\"color: #7fbf7f; text-decoration-color: #7fbf7f\">\\x1a</span><span style=\"color: #008000; text-decoration-color: #008000\">ysiak says \"Absolutely love the case !!\" and gives it 5 stars.       </span> │\n",
       "│ <span style=\"color: #008000; text-decoration-color: #008000\">Don powell says \"Solid Charger but RF noisy\" and gives it 4 stars.              </span> │\n",
       "│ <span style=\"color: #008000; text-decoration-color: #008000\">Distasi distasi says \"Beats the Sprint.com price\" and gives it 5 stars.         </span> │\n",
       "│ <span style=\"color: #008000; text-decoration-color: #008000\">Grymir says \"Good charger\" and gives it 5 stars.                                </span> │\n",
       "│ <span style=\"color: #008000; text-decoration-color: #008000\">M. paul realnews says \"Works as expected\" and gives it 5 stars.                 </span> │\n",
       "│ <span style=\"color: #008000; text-decoration-color: #008000\">Pensive1 says \"Samsung Official OEM Car Charger for your Galaxy S2 Phone! Origi…</span> │\n",
       "│ <span style=\"color: #008000; text-decoration-color: #008000\">Kanique says \"love it\" and gives it 5 stars.                                    </span> │\n",
       "│ <span style=\"color: #008000; text-decoration-color: #008000\">Melissa.m.loss says \"wall adapter is not quick-chager Which the ad states it is…</span> │\n",
       "│ <span style=\"color: #008000; text-decoration-color: #008000\">Olivia </span><span style=\"color: #7fbf7f; text-decoration-color: #7fbf7f\">\\x1a</span><span style=\"color: #008000; text-decoration-color: #008000\">ysiak says \"Fantastic case !\" and gives it 5 stars.                  </span> │\n",
       "│ <span style=\"color: #008000; text-decoration-color: #008000\">Nora says \"Really cute!\" and gives it 5 stars.                                  </span> │\n",
       "│ <span style=\"color: #7f7f7f; text-decoration-color: #7f7f7f\">…</span>                                                                                │\n",
       "└──────────────────────────────────────────────────────────────────────────────────┘\n",
       "</pre>\n"
      ],
      "text/plain": [
       "┏━━━━━━━━━━━━━━━━━━━━━━━━━━━━━━━━━━━━━━━━━━━━━━━━━━━━━━━━━━━━━━━━━━━━━━━━━━━━━━━━━━┓\n",
       "┃\u001b[1m \u001b[0m\u001b[1mStringConcat()\u001b[0m\u001b[1m                                                                  \u001b[0m\u001b[1m \u001b[0m┃\n",
       "┡━━━━━━━━━━━━━━━━━━━━━━━━━━━━━━━━━━━━━━━━━━━━━━━━━━━━━━━━━━━━━━━━━━━━━━━━━━━━━━━━━━┩\n",
       "│ \u001b[2mstring\u001b[0m                                                                           │\n",
       "├──────────────────────────────────────────────────────────────────────────────────┤\n",
       "│ \u001b[32mOlivia \u001b[0m\u001b[2;32m\\x1a\u001b[0m\u001b[32mysiak says \"Absolutely love the case !!\" and gives it 5 stars.       \u001b[0m │\n",
       "│ \u001b[32mDon powell says \"Solid Charger but RF noisy\" and gives it 4 stars.              \u001b[0m │\n",
       "│ \u001b[32mDistasi distasi says \"Beats the Sprint.com price\" and gives it 5 stars.         \u001b[0m │\n",
       "│ \u001b[32mGrymir says \"Good charger\" and gives it 5 stars.                                \u001b[0m │\n",
       "│ \u001b[32mM. paul realnews says \"Works as expected\" and gives it 5 stars.                 \u001b[0m │\n",
       "│ \u001b[32mPensive1 says \"Samsung Official OEM Car Charger for your Galaxy S2 Phone! Origi…\u001b[0m │\n",
       "│ \u001b[32mKanique says \"love it\" and gives it 5 stars.                                    \u001b[0m │\n",
       "│ \u001b[32mMelissa.m.loss says \"wall adapter is not quick-chager Which the ad states it is…\u001b[0m │\n",
       "│ \u001b[32mOlivia \u001b[0m\u001b[2;32m\\x1a\u001b[0m\u001b[32mysiak says \"Fantastic case !\" and gives it 5 stars.                  \u001b[0m │\n",
       "│ \u001b[32mNora says \"Really cute!\" and gives it 5 stars.                                  \u001b[0m │\n",
       "│ \u001b[2m…\u001b[0m                                                                                │\n",
       "└──────────────────────────────────────────────────────────────────────────────────┘"
      ]
     },
     "execution_count": 24,
     "metadata": {},
     "output_type": "execute_result"
    }
   ],
   "source": [
    "# Enable display of SQL that is executed in the background\n",
    "ibis.options.verbose = True\n",
    "\n",
    "texpr = phones_tbl.reviewerName.capitalize() + \\\n",
    "        ' says \"' + \\\n",
    "        phones_tbl.summary + \\\n",
    "        '\" and gives it ' + \\\n",
    "        phones_tbl.overall.cast('string') + \\\n",
    "        ' stars.'\n",
    "texpr"
   ]
  },
  {
   "cell_type": "markdown",
   "id": "f546bca3-5d61-48df-b178-c9fca4356e5f",
   "metadata": {},
   "source": [
    "As you can see from the SQL output above, the sentence is constructed using `concat` in the query. Capitalization is done using `ucase` and `substring`. \n",
    "The `:param_#` portions are used by Ibis to inject literal Python values from the expression. And, you'll see that the result table contains a column\n",
    "of string values that are the result of the expression."
   ]
  },
  {
   "cell_type": "markdown",
   "id": "6475b645-7620-401d-8da4-99594a67895f",
   "metadata": {},
   "source": [
    "#### String operations\n",
    "\n",
    "There are many string operations available in Ibis. Many of them correspond to operations on pandas DataFrames and / or Python string methods.\n",
    "The code below prints a list of all methods on string columns."
   ]
  },
  {
   "cell_type": "code",
   "execution_count": 25,
   "id": "649d054f-ad0b-43e3-91c3-25ff4915f25a",
   "metadata": {
    "tags": []
   },
   "outputs": [
    {
     "name": "stdout",
     "output_type": "stream",
     "text": [
      "approx_median approx_nunique arbitrary argmax argmin as_table asc ascii_str authority between capitalize case cases cast coalesce collect compile concat contains convert_base count cume_dist cummax cummin dense_rank desc describe endswith equals execute file fillna find find_in_set first fragment get_name greatest group_concat has_name hash hashbytes head host identical_to ilike initcap isin isnull join json_array_contains_double json_array_contains_json json_array_contains_string json_array_pack json_array_pack_f32 json_array_pack_f64 json_array_pack_i16 json_array_pack_i32 json_array_pack_i64 json_array_pack_i8 json_array_push_double json_array_push_json json_array_push_string json_delete_key json_exclude_mask json_extract_bigint json_extract_double json_extract_json json_extract_string json_get_type json_include_mask json_keys json_length json_pretty json_set_double json_set_json json_set_string json_splice_double json_splice_json json_splice_string lag last lead least left length like lower lpad lstrip max min mode name notin notnull nth ntile nullif nunique op over path percent_rank pipe protocol query rank re_extract re_replace re_search repeat replace reverse right rlike rpad rstrip split startswith strip substitute substr to_csv to_delta to_number to_pandas to_parquet to_pyarrow to_pyarrow_batches to_timestamp to_torch topk translate try_cast type typeof unbind upper userinfo value_counts visualize\n"
     ]
    }
   ],
   "source": [
    "print(' '.join([x for x in dir(texpr) if not x.startswith('_')]))"
   ]
  },
  {
   "cell_type": "markdown",
   "id": "87837e24-c8ad-4b88-ad69-9527b56677f9",
   "metadata": {},
   "source": [
    "#### Operations on other column types\n",
    "\n",
    "Other data types have different methods that can be called. For example, this is the list of methods on date/time columns."
   ]
  },
  {
   "cell_type": "code",
   "execution_count": 26,
   "id": "a5d65bdd-bcd8-43a8-b351-0d2492320ec7",
   "metadata": {
    "tags": []
   },
   "outputs": [
    {
     "name": "stdout",
     "output_type": "stream",
     "text": [
      "add approx_median approx_nunique arbitrary argmax argmin as_table asc between case cases cast coalesce collect compile count cume_dist cummax cummin date day day_of_week day_of_year dense_rank desc describe epoch_seconds equals execute fillna first get_name greatest group_concat has_name hash head hour identical_to isin isnull lag last lead least max microsecond millisecond min minute mode month name notin notnull nth ntile nullif nunique op over percent_rank pipe quarter radd rank rsub second strftime sub substitute time to_csv to_delta to_pandas to_parquet to_pyarrow to_pyarrow_batches to_torch topk truncate try_cast type typeof unbind value_counts visualize week_of_year year\n"
     ]
    }
   ],
   "source": [
    "print(' '.join([x for x in dir(phones_tbl.date) if not x.startswith('_')]))"
   ]
  },
  {
   "cell_type": "markdown",
   "id": "6d292dc6-72cc-4abf-8cb0-b0434f15c5e4",
   "metadata": {},
   "source": [
    "Here are the methods for numeric columns."
   ]
  },
  {
   "cell_type": "code",
   "execution_count": 27,
   "id": "9d540c05-f7e0-4bfa-9508-2f25176f5ec7",
   "metadata": {
    "tags": []
   },
   "outputs": [
    {
     "name": "stdout",
     "output_type": "stream",
     "text": [
      "abs acos add approx_median approx_nunique arbitrary argmax argmin as_table asc asin atan atan2 between bit_and bit_count bit_or bit_xor bucket case cases cast ceil clip coalesce collect compile conv convert_base corr cos cot count cov cume_dist cummax cummean cummin cumsum deg2rad degrees dense_rank desc describe div equals execute exp fillna first floor floordiv get_name greatest group_concat has_name hash head histogram identical_to isin isnull label lag last lead least ln log log10 log2 max mean median min mod mode mul name negate notin notnull nth ntile nullif nullifzero nunique op over percent_rank pipe point pow quantile rad2deg radd radians rank rdiv rfloordiv rmod rmul round rpow rsub sigmoid sign sin sqrt std sub substitute sum tan to_csv to_delta to_interval to_pandas to_parquet to_pyarrow to_pyarrow_batches to_timestamp to_torch topk trunc truncate try_cast type typeof unbind value_counts var visualize zeroifnull\n"
     ]
    }
   ],
   "source": [
    "print(' '.join([x for x in dir(phones_tbl.overall) if not x.startswith('_')]))"
   ]
  },
  {
   "cell_type": "code",
   "execution_count": 28,
   "id": "f5624059-dc62-4405-bb22-34269fb2c44e",
   "metadata": {
    "tags": []
   },
   "outputs": [],
   "source": [
    "ibis.options.verbose = False"
   ]
  },
  {
   "cell_type": "markdown",
   "id": "8a24fd59-159b-4ef6-bd55-35ec71ac4089",
   "metadata": {},
   "source": [
    "### Filter reviews containing \"iphone 4\"\n",
    "\n",
    "Now that we've seen how to construct expressions that can be used in the database, let's use that expression for use in further queries.\n",
    "The expression below takes the result of our previous expression, lower-cases it, then checks for the occurrence of the substring\n",
    "\"iphone 4\". This will return a column of booleans which can be used to filter our original table, just like with a pandas DataFrame."
   ]
  },
  {
   "cell_type": "code",
   "execution_count": 29,
   "id": "6251e20b-f0e6-4368-aff2-3191b3cf5611",
   "metadata": {
    "tags": []
   },
   "outputs": [
    {
     "data": {
      "text/html": [
       "<pre style=\"white-space:pre;overflow-x:auto;line-height:normal;font-family:Menlo,'DejaVu Sans Mono',consolas,'Courier New',monospace\">┏━━━━━━━━━━━━━━━━━━━━━━━━━━━━━━━━━━━━━━━━━━━━━━━━━━━━━━━┓\n",
       "┃<span style=\"font-weight: bold\"> StringContains(Lowercase(StringConcat()), 'iphone 4') </span>┃\n",
       "┡━━━━━━━━━━━━━━━━━━━━━━━━━━━━━━━━━━━━━━━━━━━━━━━━━━━━━━━┩\n",
       "│ <span style=\"color: #7f7f7f; text-decoration-color: #7f7f7f\">boolean</span>                                               │\n",
       "├───────────────────────────────────────────────────────┤\n",
       "│ False                                                 │\n",
       "│ False                                                 │\n",
       "│ False                                                 │\n",
       "│ False                                                 │\n",
       "│ False                                                 │\n",
       "│ False                                                 │\n",
       "│ False                                                 │\n",
       "│ False                                                 │\n",
       "│ False                                                 │\n",
       "│ False                                                 │\n",
       "│ <span style=\"color: #7f7f7f; text-decoration-color: #7f7f7f\">…</span>                                                     │\n",
       "└───────────────────────────────────────────────────────┘\n",
       "</pre>\n"
      ],
      "text/plain": [
       "┏━━━━━━━━━━━━━━━━━━━━━━━━━━━━━━━━━━━━━━━━━━━━━━━━━━━━━━━┓\n",
       "┃\u001b[1m \u001b[0m\u001b[1mStringContains(Lowercase(StringConcat()), 'iphone 4')\u001b[0m\u001b[1m \u001b[0m┃\n",
       "┡━━━━━━━━━━━━━━━━━━━━━━━━━━━━━━━━━━━━━━━━━━━━━━━━━━━━━━━┩\n",
       "│ \u001b[2mboolean\u001b[0m                                               │\n",
       "├───────────────────────────────────────────────────────┤\n",
       "│ False                                                 │\n",
       "│ False                                                 │\n",
       "│ False                                                 │\n",
       "│ False                                                 │\n",
       "│ False                                                 │\n",
       "│ False                                                 │\n",
       "│ False                                                 │\n",
       "│ False                                                 │\n",
       "│ False                                                 │\n",
       "│ False                                                 │\n",
       "│ \u001b[2m…\u001b[0m                                                     │\n",
       "└───────────────────────────────────────────────────────┘"
      ]
     },
     "execution_count": 29,
     "metadata": {},
     "output_type": "execute_result"
    }
   ],
   "source": [
    "has_iphone_4 = texpr.lower().contains('iphone 4')\n",
    "has_iphone_4"
   ]
  },
  {
   "cell_type": "markdown",
   "id": "6f2fe329-fbcd-401d-9acb-472fd1b49ce6",
   "metadata": {},
   "source": [
    "First, let's use the filter expression to see how many of our generated sentences contain \"iphone 4\". We do this by using our previous\n",
    "expression as an indexing expression to our original table object (e.g., `tbl[filter-expr]`). This will return only the rows where\n",
    "the filter expression was `True`. We can then count the number of rows using the `count` method."
   ]
  },
  {
   "cell_type": "code",
   "execution_count": 30,
   "id": "ba0b72a1-bcd1-4021-8312-894493d1d8e6",
   "metadata": {
    "tags": []
   },
   "outputs": [
    {
     "data": {
      "text/html": [
       "<pre style=\"white-space:pre;overflow-x:auto;line-height:normal;font-family:Menlo,'DejaVu Sans Mono',consolas,'Courier New',monospace\"></pre>\n"
      ],
      "text/plain": []
     },
     "metadata": {},
     "output_type": "display_data"
    },
    {
     "data": {
      "text/plain": [
       "\u001b[1;36m7\u001b[0m"
      ]
     },
     "execution_count": 30,
     "metadata": {},
     "output_type": "execute_result"
    }
   ],
   "source": [
    "phones_tbl[has_iphone_4].count()"
   ]
  },
  {
   "cell_type": "markdown",
   "id": "80e7cf08-a3fa-421d-8c2b-aac700b1ca86",
   "metadata": {},
   "source": [
    "Now we can print selected columns from the filtered table. We can also sort them according to the `overall` column as shown below."
   ]
  },
  {
   "cell_type": "code",
   "execution_count": 31,
   "id": "2a3d6d92-4093-4837-b4da-2fb59ea313ed",
   "metadata": {
    "tags": []
   },
   "outputs": [
    {
     "data": {
      "text/html": [
       "<pre style=\"white-space:pre;overflow-x:auto;line-height:normal;font-family:Menlo,'DejaVu Sans Mono',consolas,'Courier New',monospace\">┏━━━━━━━━━━━━━━━━━━━━━┳━━━━━━━━━┳━━━━━━━━━┓\n",
       "┃<span style=\"font-weight: bold\"> reviewerName        </span>┃<span style=\"font-weight: bold\"> helpful </span>┃<span style=\"font-weight: bold\"> overall </span>┃\n",
       "┡━━━━━━━━━━━━━━━━━━━━━╇━━━━━━━━━╇━━━━━━━━━┩\n",
       "│ <span style=\"color: #7f7f7f; text-decoration-color: #7f7f7f\">string</span>              │ <span style=\"color: #7f7f7f; text-decoration-color: #7f7f7f\">string</span>  │ <span style=\"color: #7f7f7f; text-decoration-color: #7f7f7f\">int64</span>   │\n",
       "├─────────────────────┼─────────┼─────────┤\n",
       "│ <span style=\"color: #008000; text-decoration-color: #008000\">Monica             </span> │ <span style=\"color: #008000; text-decoration-color: #008000\">[0, 0] </span> │       <span style=\"color: #008080; text-decoration-color: #008080; font-weight: bold\">5</span> │\n",
       "│ <span style=\"color: #008000; text-decoration-color: #008000\">Stephan S.         </span> │ <span style=\"color: #008000; text-decoration-color: #008000\">[2, 2] </span> │       <span style=\"color: #008080; text-decoration-color: #008080; font-weight: bold\">5</span> │\n",
       "│ <span style=\"color: #008000; text-decoration-color: #008000\">Dennis Dennis in NH</span> │ <span style=\"color: #008000; text-decoration-color: #008000\">[1, 1] </span> │       <span style=\"color: #008080; text-decoration-color: #008080; font-weight: bold\">5</span> │\n",
       "│ <span style=\"color: #008000; text-decoration-color: #008000\">patrice m rogoza   </span> │ <span style=\"color: #008000; text-decoration-color: #008000\">[2, 3] </span> │       <span style=\"color: #008080; text-decoration-color: #008080; font-weight: bold\">5</span> │\n",
       "│ <span style=\"color: #008000; text-decoration-color: #008000\">Mufasa             </span> │ <span style=\"color: #008000; text-decoration-color: #008000\">[6, 6] </span> │       <span style=\"color: #008080; text-decoration-color: #008080; font-weight: bold\">5</span> │\n",
       "│ <span style=\"color: #008000; text-decoration-color: #008000\">Mark T.            </span> │ <span style=\"color: #008000; text-decoration-color: #008000\">[1, 1] </span> │       <span style=\"color: #008080; text-decoration-color: #008080; font-weight: bold\">4</span> │\n",
       "│ <span style=\"color: #008000; text-decoration-color: #008000\">Mike               </span> │ <span style=\"color: #008000; text-decoration-color: #008000\">[0, 0] </span> │       <span style=\"color: #008080; text-decoration-color: #008080; font-weight: bold\">4</span> │\n",
       "└─────────────────────┴─────────┴─────────┘\n",
       "</pre>\n"
      ],
      "text/plain": [
       "┏━━━━━━━━━━━━━━━━━━━━━┳━━━━━━━━━┳━━━━━━━━━┓\n",
       "┃\u001b[1m \u001b[0m\u001b[1mreviewerName\u001b[0m\u001b[1m       \u001b[0m\u001b[1m \u001b[0m┃\u001b[1m \u001b[0m\u001b[1mhelpful\u001b[0m\u001b[1m \u001b[0m┃\u001b[1m \u001b[0m\u001b[1moverall\u001b[0m\u001b[1m \u001b[0m┃\n",
       "┡━━━━━━━━━━━━━━━━━━━━━╇━━━━━━━━━╇━━━━━━━━━┩\n",
       "│ \u001b[2mstring\u001b[0m              │ \u001b[2mstring\u001b[0m  │ \u001b[2mint64\u001b[0m   │\n",
       "├─────────────────────┼─────────┼─────────┤\n",
       "│ \u001b[32mMonica             \u001b[0m │ \u001b[32m[0, 0] \u001b[0m │       \u001b[1;36m5\u001b[0m │\n",
       "│ \u001b[32mStephan S.         \u001b[0m │ \u001b[32m[2, 2] \u001b[0m │       \u001b[1;36m5\u001b[0m │\n",
       "│ \u001b[32mDennis Dennis in NH\u001b[0m │ \u001b[32m[1, 1] \u001b[0m │       \u001b[1;36m5\u001b[0m │\n",
       "│ \u001b[32mpatrice m rogoza   \u001b[0m │ \u001b[32m[2, 3] \u001b[0m │       \u001b[1;36m5\u001b[0m │\n",
       "│ \u001b[32mMufasa             \u001b[0m │ \u001b[32m[6, 6] \u001b[0m │       \u001b[1;36m5\u001b[0m │\n",
       "│ \u001b[32mMark T.            \u001b[0m │ \u001b[32m[1, 1] \u001b[0m │       \u001b[1;36m4\u001b[0m │\n",
       "│ \u001b[32mMike               \u001b[0m │ \u001b[32m[0, 0] \u001b[0m │       \u001b[1;36m4\u001b[0m │\n",
       "└─────────────────────┴─────────┴─────────┘"
      ]
     },
     "execution_count": 31,
     "metadata": {},
     "output_type": "execute_result"
    }
   ],
   "source": [
    "phones_tbl[has_iphone_4]['reviewerName', 'helpful', 'overall'].order_by(ibis.desc('overall'))"
   ]
  },
  {
   "cell_type": "markdown",
   "id": "cabaa7b9-3374-43ab-8515-dd21213a68a3",
   "metadata": {},
   "source": [
    "So far we've uploaded data to the database using `create_table` and a local DataFrame, we've constructed Python expressions that get translated\n",
    "to SQL and executed on the server, used those expressions in filtering operations, and selected columns from and sorted the results of\n",
    "the filtering operation. This covers a small number of the abilities of the table and column objects created by Ibis. For additional methods\n",
    "on the various types, see the [Ibis API reference](https://ibis-project.org/docs/3.2.0/api/expressions/)."
   ]
  },
  {
   "cell_type": "markdown",
   "id": "1b002ca5-9dc8-40ac-87b4-ee5c8dca6615",
   "metadata": {},
   "source": [
    "## XML book data example\n",
    "\n",
    "We are going to look at another example utilitizing XML data now. This will demonstrate integration with user-defined functions (UDF) in the server."
   ]
  },
  {
   "cell_type": "markdown",
   "id": "51e1da60-5b88-476b-9ce5-62db400fe90f",
   "metadata": {},
   "source": [
    "### Define book information in XML\n",
    "\n",
    "As before, we'll use a local pandas DataFrame to construct a table of data and upload it to the server."
   ]
  },
  {
   "cell_type": "code",
   "execution_count": 32,
   "id": "dd76435d-cce4-44c9-9ad9-4f40e6b9ada2",
   "metadata": {
    "tags": []
   },
   "outputs": [],
   "source": [
    "xml_df = pd.DataFrame([\n",
    "    (1, '<book><author>James McGovern</author><title>XQuery Kick Start</title></book>'),\n",
    "    (2, '<book><author>Aurelien Geron</author><title>Hands-On Machine Learning</title></book>'),\n",
    "    (3, '<book><author>Luciano Ramalho</author><title>Fluent Python</title></book>'),\n",
    "    (4, '<book><author>Scott Chacon</author><title>Pro Git</title></book>'),\n",
    "], columns=['id', 'xml'])"
   ]
  },
  {
   "cell_type": "code",
   "execution_count": 34,
   "id": "97de03ac-db8a-48c7-a77f-29e00e930663",
   "metadata": {
    "tags": []
   },
   "outputs": [
    {
     "data": {
      "text/html": [
       "<pre style=\"white-space:pre;overflow-x:auto;line-height:normal;font-family:Menlo,'DejaVu Sans Mono',consolas,'Courier New',monospace\">┏━━━━━━━┳━━━━━━━━━━━━━━━━━━━━━━━━━━━━━━━━━━━━━━━━━━━━━━━━━━━━━━━━━━━━━━━━━━━━━━━━━━━━━━━━━━┓\n",
       "┃<span style=\"font-weight: bold\"> id    </span>┃<span style=\"font-weight: bold\"> xml                                                                              </span>┃\n",
       "┡━━━━━━━╇━━━━━━━━━━━━━━━━━━━━━━━━━━━━━━━━━━━━━━━━━━━━━━━━━━━━━━━━━━━━━━━━━━━━━━━━━━━━━━━━━━┩\n",
       "│ <span style=\"color: #7f7f7f; text-decoration-color: #7f7f7f\">int64</span> │ <span style=\"color: #7f7f7f; text-decoration-color: #7f7f7f\">string</span>                                                                           │\n",
       "├───────┼──────────────────────────────────────────────────────────────────────────────────┤\n",
       "│     <span style=\"color: #008080; text-decoration-color: #008080; font-weight: bold\">4</span> │ <span style=\"color: #008000; text-decoration-color: #008000\">&lt;book&gt;&lt;author&gt;Scott Chacon&lt;/author&gt;&lt;title&gt;Pro Git&lt;/title&gt;&lt;/book&gt;                </span> │\n",
       "│     <span style=\"color: #008080; text-decoration-color: #008080; font-weight: bold\">1</span> │ <span style=\"color: #008000; text-decoration-color: #008000\">&lt;book&gt;&lt;author&gt;James McGovern&lt;/author&gt;&lt;title&gt;XQuery Kick Start&lt;/title&gt;&lt;/book&gt;    </span> │\n",
       "│     <span style=\"color: #008080; text-decoration-color: #008080; font-weight: bold\">2</span> │ <span style=\"color: #008000; text-decoration-color: #008000\">&lt;book&gt;&lt;author&gt;Aurelien Geron&lt;/author&gt;&lt;title&gt;Hands-On Machine Learning&lt;/title&gt;&lt;/…</span> │\n",
       "│     <span style=\"color: #008080; text-decoration-color: #008080; font-weight: bold\">3</span> │ <span style=\"color: #008000; text-decoration-color: #008000\">&lt;book&gt;&lt;author&gt;Luciano Ramalho&lt;/author&gt;&lt;title&gt;Fluent Python&lt;/title&gt;&lt;/book&gt;       </span> │\n",
       "└───────┴──────────────────────────────────────────────────────────────────────────────────┘\n",
       "</pre>\n"
      ],
      "text/plain": [
       "┏━━━━━━━┳━━━━━━━━━━━━━━━━━━━━━━━━━━━━━━━━━━━━━━━━━━━━━━━━━━━━━━━━━━━━━━━━━━━━━━━━━━━━━━━━━━┓\n",
       "┃\u001b[1m \u001b[0m\u001b[1mid\u001b[0m\u001b[1m   \u001b[0m\u001b[1m \u001b[0m┃\u001b[1m \u001b[0m\u001b[1mxml\u001b[0m\u001b[1m                                                                             \u001b[0m\u001b[1m \u001b[0m┃\n",
       "┡━━━━━━━╇━━━━━━━━━━━━━━━━━━━━━━━━━━━━━━━━━━━━━━━━━━━━━━━━━━━━━━━━━━━━━━━━━━━━━━━━━━━━━━━━━━┩\n",
       "│ \u001b[2mint64\u001b[0m │ \u001b[2mstring\u001b[0m                                                                           │\n",
       "├───────┼──────────────────────────────────────────────────────────────────────────────────┤\n",
       "│     \u001b[1;36m4\u001b[0m │ \u001b[32m<book><author>Scott Chacon</author><title>Pro Git</title></book>                \u001b[0m │\n",
       "│     \u001b[1;36m1\u001b[0m │ \u001b[32m<book><author>James McGovern</author><title>XQuery Kick Start</title></book>    \u001b[0m │\n",
       "│     \u001b[1;36m2\u001b[0m │ \u001b[32m<book><author>Aurelien Geron</author><title>Hands-On Machine Learning</title></…\u001b[0m │\n",
       "│     \u001b[1;36m3\u001b[0m │ \u001b[32m<book><author>Luciano Ramalho</author><title>Fluent Python</title></book>       \u001b[0m │\n",
       "└───────┴──────────────────────────────────────────────────────────────────────────────────┘"
      ]
     },
     "execution_count": 34,
     "metadata": {},
     "output_type": "execute_result"
    }
   ],
   "source": [
    "xml_tbl = conn.create_table('books', xml_df, overwrite=True)\n",
    "xml_tbl.head()"
   ]
  },
  {
   "cell_type": "markdown",
   "id": "82c8664a-f05f-4068-9be6-acce74599438",
   "metadata": {},
   "source": [
    "### Build and push `eval_xpath` WASM function\n",
    "\n",
    "We are going to define a UDF using WASM and the [SingleStore WASM toolkit](https://github.com/singlestore-labs/singlestore-wasm-toolkit).\n",
    "If you want to develop your own UDFs using WASM, you'll want to \n",
    "[check out the tutorial](https://singlestore-labs.github.io/singlestore-wasm-toolkit/html/Tutorial-Overview.html). For our purposes here,\n",
    "we'll use one of the examples from the toolkit.\n",
    "\n",
    "The `examples/rust/xpath` directory includes a sample UDF that evaluates XPath expressions against strings containing XML documents.\n",
    "[XPath](https://www.w3.org/TR/xpath/) is a file path-like syntax that can be used to traverse and extract values from XML content.\n",
    "To build and install the `eval_xpath` function from the examples, you need to run the following commands.\n",
    "\n",
    "```\n",
    "> git clone git@github.com:singlestore-labs/singlestore-wasm-toolkit.git\n",
    "> cd singlestore-wasm-toolkit/examples/rust/xpath\n",
    "> cargo wasi build --lib --release\n",
    "> pushwasm udf --prompt --conn mysql://root@127.0.0.1:3306/x_db --wit xpath.wit --wasm target/wasm32-wasi/release/xpath.wasm --name eval_xpath\n",
    "```"
   ]
  },
  {
   "cell_type": "markdown",
   "id": "bc7dd696-0280-45b8-94f7-f8a6fa7ec71e",
   "metadata": {},
   "source": [
    "Because the function was created before the UDF existed in the server, you'll need to synchronize the functions\n",
    "to the client manually. However, any UDFs that exist when the connection is created will already be available."
   ]
  },
  {
   "cell_type": "code",
   "execution_count": 35,
   "id": "7bfacf11-c700-40f0-b869-4871fd15a68b",
   "metadata": {
    "tags": []
   },
   "outputs": [],
   "source": [
    "conn.sync_functions()"
   ]
  },
  {
   "cell_type": "markdown",
   "id": "ffec9a7b-6c8d-4817-82d6-579baf363893",
   "metadata": {},
   "source": [
    "We can use the `functions` method on the `show` object to display the information for all of the available functions."
   ]
  },
  {
   "cell_type": "code",
   "execution_count": 36,
   "id": "79098a01-e521-42f8-9de0-bc209269722a",
   "metadata": {
    "tags": []
   },
   "outputs": [
    {
     "data": {
      "text/html": [],
      "text/plain": []
     },
     "execution_count": 36,
     "metadata": {},
     "output_type": "execute_result"
    }
   ],
   "source": [
    "conn.show.functions()"
   ]
  },
  {
   "cell_type": "markdown",
   "id": "c895e513-3ae2-4f1b-b231-2ccba8c76679",
   "metadata": {},
   "source": [
    "We can use the `create_function` method of the `show` object to display the `CREATE FUNCTION` syntax of the function."
   ]
  },
  {
   "cell_type": "code",
   "execution_count": 37,
   "id": "d4e41f3c-3d47-4ec3-80ab-3fae33f86955",
   "metadata": {
    "tags": []
   },
   "outputs": [
    {
     "ename": "OperationalError",
     "evalue": "1347: 'x_db.eval_xpath' is not a FUNCTION",
     "output_type": "error",
     "traceback": [
      "\u001b[0;31m---------------------------------------------------------------------------\u001b[0m",
      "\u001b[0;31mOperationalError\u001b[0m                          Traceback (most recent call last)",
      "Cell \u001b[0;32mIn[37], line 1\u001b[0m\n\u001b[0;32m----> 1\u001b[0m \u001b[43mconn\u001b[49m\u001b[38;5;241;43m.\u001b[39;49m\u001b[43mshow\u001b[49m\u001b[38;5;241;43m.\u001b[39;49m\u001b[43mcreate_function\u001b[49m\u001b[43m(\u001b[49m\u001b[38;5;124;43m'\u001b[39;49m\u001b[38;5;124;43meval_xpath\u001b[39;49m\u001b[38;5;124;43m'\u001b[39;49m\u001b[43m)\u001b[49m\n",
      "File \u001b[0;32m~/.pyenv/versions/3.11.3/lib/python3.11/site-packages/singlestoredb/connection.py:952\u001b[0m, in \u001b[0;36mShowAccessor.create_function\u001b[0;34m(self, name)\u001b[0m\n\u001b[1;32m    950\u001b[0m \u001b[38;5;250m\u001b[39m\u001b[38;5;124;03m\"\"\"Show the function creation code for the given function.\"\"\"\u001b[39;00m\n\u001b[1;32m    951\u001b[0m name \u001b[38;5;241m=\u001b[39m quote_identifier(name)\n\u001b[0;32m--> 952\u001b[0m \u001b[38;5;28;01mreturn\u001b[39;00m \u001b[38;5;28;43mself\u001b[39;49m\u001b[38;5;241;43m.\u001b[39;49m\u001b[43m_iquery\u001b[49m\u001b[43m(\u001b[49m\u001b[38;5;124;43mf\u001b[39;49m\u001b[38;5;124;43m'\u001b[39;49m\u001b[38;5;124;43mcreate function \u001b[39;49m\u001b[38;5;132;43;01m{\u001b[39;49;00m\u001b[43mname\u001b[49m\u001b[38;5;132;43;01m}\u001b[39;49;00m\u001b[38;5;124;43m'\u001b[39;49m\u001b[43m)\u001b[49m\n",
      "File \u001b[0;32m~/.pyenv/versions/3.11.3/lib/python3.11/site-packages/singlestoredb/connection.py:994\u001b[0m, in \u001b[0;36mShowAccessor._iquery\u001b[0;34m(self, qtype)\u001b[0m\n\u001b[1;32m    992\u001b[0m \u001b[38;5;28;01mdef\u001b[39;00m \u001b[38;5;21m_iquery\u001b[39m(\u001b[38;5;28mself\u001b[39m, qtype: \u001b[38;5;28mstr\u001b[39m) \u001b[38;5;241m-\u001b[39m\u001b[38;5;241m>\u001b[39m ShowResult:\n\u001b[1;32m    993\u001b[0m \u001b[38;5;250m    \u001b[39m\u001b[38;5;124;03m\"\"\"Query the given object type.\"\"\"\u001b[39;00m\n\u001b[0;32m--> 994\u001b[0m     out \u001b[38;5;241m=\u001b[39m \u001b[38;5;28;43mself\u001b[39;49m\u001b[38;5;241;43m.\u001b[39;49m\u001b[43m_conn\u001b[49m\u001b[38;5;241;43m.\u001b[39;49m\u001b[43m_iquery\u001b[49m\u001b[43m(\u001b[49m\u001b[38;5;124;43mf\u001b[39;49m\u001b[38;5;124;43m'\u001b[39;49m\u001b[38;5;124;43mshow \u001b[39;49m\u001b[38;5;132;43;01m{\u001b[39;49;00m\u001b[43mqtype\u001b[49m\u001b[38;5;132;43;01m}\u001b[39;49;00m\u001b[38;5;124;43m'\u001b[39;49m\u001b[43m)\u001b[49m\n\u001b[1;32m    995\u001b[0m     \u001b[38;5;28;01mfor\u001b[39;00m i, row \u001b[38;5;129;01min\u001b[39;00m \u001b[38;5;28menumerate\u001b[39m(out):\n\u001b[1;32m    996\u001b[0m         new_row \u001b[38;5;241m=\u001b[39m {}\n",
      "File \u001b[0;32m~/.pyenv/versions/3.11.3/lib/python3.11/site-packages/singlestoredb/connection.py:1128\u001b[0m, in \u001b[0;36mConnection._iquery\u001b[0;34m(self, oper, params, fix_names)\u001b[0m\n\u001b[1;32m   1126\u001b[0m \u001b[38;5;250m\u001b[39m\u001b[38;5;124;03m\"\"\"Return the results of a query as a list of dicts (for internal use).\"\"\"\u001b[39;00m\n\u001b[1;32m   1127\u001b[0m \u001b[38;5;28;01mwith\u001b[39;00m \u001b[38;5;28mself\u001b[39m\u001b[38;5;241m.\u001b[39mcursor() \u001b[38;5;28;01mas\u001b[39;00m cur:\n\u001b[0;32m-> 1128\u001b[0m     \u001b[43mcur\u001b[49m\u001b[38;5;241;43m.\u001b[39;49m\u001b[43mexecute\u001b[49m\u001b[43m(\u001b[49m\u001b[43moper\u001b[49m\u001b[43m,\u001b[49m\u001b[43m \u001b[49m\u001b[43mparams\u001b[49m\u001b[43m)\u001b[49m\n\u001b[1;32m   1129\u001b[0m     \u001b[38;5;28;01mif\u001b[39;00m \u001b[38;5;129;01mnot\u001b[39;00m re\u001b[38;5;241m.\u001b[39mmatch(\u001b[38;5;124mr\u001b[39m\u001b[38;5;124m'\u001b[39m\u001b[38;5;124m^\u001b[39m\u001b[38;5;124m\\\u001b[39m\u001b[38;5;124ms*(select|show|call|echo)\u001b[39m\u001b[38;5;124m\\\u001b[39m\u001b[38;5;124ms+\u001b[39m\u001b[38;5;124m'\u001b[39m, oper, flags\u001b[38;5;241m=\u001b[39mre\u001b[38;5;241m.\u001b[39mI):\n\u001b[1;32m   1130\u001b[0m         \u001b[38;5;28;01mreturn\u001b[39;00m []\n",
      "File \u001b[0;32m~/.pyenv/versions/3.11.3/lib/python3.11/site-packages/singlestoredb/mysql/cursors.py:201\u001b[0m, in \u001b[0;36mCursor.execute\u001b[0;34m(self, query, args)\u001b[0m\n\u001b[1;32m    197\u001b[0m log_query(query, args)\n\u001b[1;32m    199\u001b[0m query \u001b[38;5;241m=\u001b[39m \u001b[38;5;28mself\u001b[39m\u001b[38;5;241m.\u001b[39mmogrify(query, args)\n\u001b[0;32m--> 201\u001b[0m result \u001b[38;5;241m=\u001b[39m \u001b[38;5;28;43mself\u001b[39;49m\u001b[38;5;241;43m.\u001b[39;49m\u001b[43m_query\u001b[49m\u001b[43m(\u001b[49m\u001b[43mquery\u001b[49m\u001b[43m)\u001b[49m\n\u001b[1;32m    202\u001b[0m \u001b[38;5;28mself\u001b[39m\u001b[38;5;241m.\u001b[39m_executed \u001b[38;5;241m=\u001b[39m query\n\u001b[1;32m    203\u001b[0m \u001b[38;5;28;01mreturn\u001b[39;00m result\n",
      "File \u001b[0;32m~/.pyenv/versions/3.11.3/lib/python3.11/site-packages/singlestoredb/mysql/cursors.py:386\u001b[0m, in \u001b[0;36mCursor._query\u001b[0;34m(self, q)\u001b[0m\n\u001b[1;32m    384\u001b[0m conn \u001b[38;5;241m=\u001b[39m \u001b[38;5;28mself\u001b[39m\u001b[38;5;241m.\u001b[39m_get_db()\n\u001b[1;32m    385\u001b[0m \u001b[38;5;28mself\u001b[39m\u001b[38;5;241m.\u001b[39m_clear_result()\n\u001b[0;32m--> 386\u001b[0m \u001b[43mconn\u001b[49m\u001b[38;5;241;43m.\u001b[39;49m\u001b[43mquery\u001b[49m\u001b[43m(\u001b[49m\u001b[43mq\u001b[49m\u001b[43m)\u001b[49m\n\u001b[1;32m    387\u001b[0m \u001b[38;5;28mself\u001b[39m\u001b[38;5;241m.\u001b[39m_do_get_result()\n\u001b[1;32m    388\u001b[0m \u001b[38;5;28;01mreturn\u001b[39;00m \u001b[38;5;28mself\u001b[39m\u001b[38;5;241m.\u001b[39mrowcount\n",
      "File \u001b[0;32m~/.pyenv/versions/3.11.3/lib/python3.11/site-packages/singlestoredb/mysql/connection.py:761\u001b[0m, in \u001b[0;36mConnection.query\u001b[0;34m(self, sql, unbuffered)\u001b[0m\n\u001b[1;32m    759\u001b[0m     sql \u001b[38;5;241m=\u001b[39m sql\u001b[38;5;241m.\u001b[39mencode(\u001b[38;5;28mself\u001b[39m\u001b[38;5;241m.\u001b[39mencoding, \u001b[38;5;124m'\u001b[39m\u001b[38;5;124msurrogateescape\u001b[39m\u001b[38;5;124m'\u001b[39m)\n\u001b[1;32m    760\u001b[0m \u001b[38;5;28mself\u001b[39m\u001b[38;5;241m.\u001b[39m_execute_command(COMMAND\u001b[38;5;241m.\u001b[39mCOM_QUERY, sql)\n\u001b[0;32m--> 761\u001b[0m \u001b[38;5;28mself\u001b[39m\u001b[38;5;241m.\u001b[39m_affected_rows \u001b[38;5;241m=\u001b[39m \u001b[38;5;28;43mself\u001b[39;49m\u001b[38;5;241;43m.\u001b[39;49m\u001b[43m_read_query_result\u001b[49m\u001b[43m(\u001b[49m\u001b[43munbuffered\u001b[49m\u001b[38;5;241;43m=\u001b[39;49m\u001b[43munbuffered\u001b[49m\u001b[43m)\u001b[49m\n\u001b[1;32m    762\u001b[0m \u001b[38;5;28;01mreturn\u001b[39;00m \u001b[38;5;28mself\u001b[39m\u001b[38;5;241m.\u001b[39m_affected_rows\n",
      "File \u001b[0;32m~/.pyenv/versions/3.11.3/lib/python3.11/site-packages/singlestoredb/mysql/connection.py:1068\u001b[0m, in \u001b[0;36mConnection._read_query_result\u001b[0;34m(self, unbuffered)\u001b[0m\n\u001b[1;32m   1066\u001b[0m \u001b[38;5;28;01melse\u001b[39;00m:\n\u001b[1;32m   1067\u001b[0m     result \u001b[38;5;241m=\u001b[39m \u001b[38;5;28mself\u001b[39m\u001b[38;5;241m.\u001b[39mresultclass(\u001b[38;5;28mself\u001b[39m)\n\u001b[0;32m-> 1068\u001b[0m     \u001b[43mresult\u001b[49m\u001b[38;5;241;43m.\u001b[39;49m\u001b[43mread\u001b[49m\u001b[43m(\u001b[49m\u001b[43m)\u001b[49m\n\u001b[1;32m   1069\u001b[0m \u001b[38;5;28mself\u001b[39m\u001b[38;5;241m.\u001b[39m_result \u001b[38;5;241m=\u001b[39m result\n\u001b[1;32m   1070\u001b[0m \u001b[38;5;28;01mif\u001b[39;00m result\u001b[38;5;241m.\u001b[39mserver_status \u001b[38;5;129;01mis\u001b[39;00m \u001b[38;5;129;01mnot\u001b[39;00m \u001b[38;5;28;01mNone\u001b[39;00m:\n",
      "File \u001b[0;32m~/.pyenv/versions/3.11.3/lib/python3.11/site-packages/singlestoredb/mysql/connection.py:1472\u001b[0m, in \u001b[0;36mMySQLResult.read\u001b[0;34m(self)\u001b[0m\n\u001b[1;32m   1470\u001b[0m \u001b[38;5;28;01mdef\u001b[39;00m \u001b[38;5;21mread\u001b[39m(\u001b[38;5;28mself\u001b[39m):\n\u001b[1;32m   1471\u001b[0m     \u001b[38;5;28;01mtry\u001b[39;00m:\n\u001b[0;32m-> 1472\u001b[0m         first_packet \u001b[38;5;241m=\u001b[39m \u001b[38;5;28;43mself\u001b[39;49m\u001b[38;5;241;43m.\u001b[39;49m\u001b[43mconnection\u001b[49m\u001b[38;5;241;43m.\u001b[39;49m\u001b[43m_read_packet\u001b[49m\u001b[43m(\u001b[49m\u001b[43m)\u001b[49m\n\u001b[1;32m   1474\u001b[0m         \u001b[38;5;28;01mif\u001b[39;00m first_packet\u001b[38;5;241m.\u001b[39mis_ok_packet():\n\u001b[1;32m   1475\u001b[0m             \u001b[38;5;28mself\u001b[39m\u001b[38;5;241m.\u001b[39m_read_ok_packet(first_packet)\n",
      "File \u001b[0;32m~/.pyenv/versions/3.11.3/lib/python3.11/site-packages/singlestoredb/mysql/connection.py:1022\u001b[0m, in \u001b[0;36mConnection._read_packet\u001b[0;34m(self, packet_type)\u001b[0m\n\u001b[1;32m   1020\u001b[0m     \u001b[38;5;28;01mif\u001b[39;00m \u001b[38;5;28mself\u001b[39m\u001b[38;5;241m.\u001b[39m_result \u001b[38;5;129;01mis\u001b[39;00m \u001b[38;5;129;01mnot\u001b[39;00m \u001b[38;5;28;01mNone\u001b[39;00m \u001b[38;5;129;01mand\u001b[39;00m \u001b[38;5;28mself\u001b[39m\u001b[38;5;241m.\u001b[39m_result\u001b[38;5;241m.\u001b[39munbuffered_active \u001b[38;5;129;01mis\u001b[39;00m \u001b[38;5;28;01mTrue\u001b[39;00m:\n\u001b[1;32m   1021\u001b[0m         \u001b[38;5;28mself\u001b[39m\u001b[38;5;241m.\u001b[39m_result\u001b[38;5;241m.\u001b[39munbuffered_active \u001b[38;5;241m=\u001b[39m \u001b[38;5;28;01mFalse\u001b[39;00m\n\u001b[0;32m-> 1022\u001b[0m     \u001b[43mpacket\u001b[49m\u001b[38;5;241;43m.\u001b[39;49m\u001b[43mraise_for_error\u001b[49m\u001b[43m(\u001b[49m\u001b[43m)\u001b[49m\n\u001b[1;32m   1023\u001b[0m \u001b[38;5;28;01mreturn\u001b[39;00m packet\n",
      "File \u001b[0;32m~/.pyenv/versions/3.11.3/lib/python3.11/site-packages/singlestoredb/mysql/protocol.py:234\u001b[0m, in \u001b[0;36mMysqlPacket.raise_for_error\u001b[0;34m(self)\u001b[0m\n\u001b[1;32m    232\u001b[0m \u001b[38;5;28;01mif\u001b[39;00m DEBUG:\n\u001b[1;32m    233\u001b[0m     \u001b[38;5;28mprint\u001b[39m(\u001b[38;5;124m'\u001b[39m\u001b[38;5;124merrno =\u001b[39m\u001b[38;5;124m'\u001b[39m, errno)\n\u001b[0;32m--> 234\u001b[0m \u001b[43merr\u001b[49m\u001b[38;5;241;43m.\u001b[39;49m\u001b[43mraise_mysql_exception\u001b[49m\u001b[43m(\u001b[49m\u001b[38;5;28;43mself\u001b[39;49m\u001b[38;5;241;43m.\u001b[39;49m\u001b[43m_data\u001b[49m\u001b[43m)\u001b[49m\n",
      "File \u001b[0;32m~/.pyenv/versions/3.11.3/lib/python3.11/site-packages/singlestoredb/mysql/err.py:92\u001b[0m, in \u001b[0;36mraise_mysql_exception\u001b[0;34m(data)\u001b[0m\n\u001b[1;32m     90\u001b[0m \u001b[38;5;28;01mif\u001b[39;00m errorclass \u001b[38;5;129;01mis\u001b[39;00m \u001b[38;5;28;01mNone\u001b[39;00m:\n\u001b[1;32m     91\u001b[0m     errorclass \u001b[38;5;241m=\u001b[39m InternalError \u001b[38;5;28;01mif\u001b[39;00m errno \u001b[38;5;241m<\u001b[39m \u001b[38;5;241m1000\u001b[39m \u001b[38;5;28;01melse\u001b[39;00m OperationalError\n\u001b[0;32m---> 92\u001b[0m \u001b[38;5;28;01mraise\u001b[39;00m errorclass(errno, errval)\n",
      "\u001b[0;31mOperationalError\u001b[0m: 1347: 'x_db.eval_xpath' is not a FUNCTION"
     ]
    }
   ],
   "source": [
    "conn.show.create_function('eval_xpath')"
   ]
  },
  {
   "cell_type": "markdown",
   "id": "72568ae9-9c8b-4604-b440-d7717350ed51",
   "metadata": {},
   "source": [
    "### Using the UDF\n",
    "\n",
    "Since the first parameter of the `eval_xpath` is a string, the function can be called on string columns in the table object.\n",
    "In the code below, we are using the XPath expression `/book/author` to pull the author entry out of each of the XML\n",
    "documents in the `xml` column. This will return a string expression which we then use to create a filtering expression\n",
    "by looking for a capital letter 'G' in the author name returned by the XPath expression."
   ]
  },
  {
   "cell_type": "code",
   "execution_count": 36,
   "id": "8bf7002d-d21c-4683-94af-4668f73fdc81",
   "metadata": {},
   "outputs": [
    {
     "data": {
      "text/html": [
       "<pre style=\"white-space:pre;overflow-x:auto;line-height:normal;font-family:Menlo,'DejaVu Sans Mono',consolas,'Courier New',monospace\">┏━━━━━━━━━━━━━━━━━━━━━━━━━━━━━━━━━━━━━━━━━━━━━━━━━━━━━┓\n",
       "┃<span style=\"font-weight: bold\"> StringContains(EvalXpath(xml, '/book/author'), 'G') </span>┃\n",
       "┡━━━━━━━━━━━━━━━━━━━━━━━━━━━━━━━━━━━━━━━━━━━━━━━━━━━━━┩\n",
       "│ <span style=\"color: #7f7f7f; text-decoration-color: #7f7f7f\">boolean</span>                                             │\n",
       "├─────────────────────────────────────────────────────┤\n",
       "│ False                                               │\n",
       "│ True                                                │\n",
       "│ True                                                │\n",
       "│ False                                               │\n",
       "└─────────────────────────────────────────────────────┘\n",
       "</pre>\n"
      ],
      "text/plain": [
       "┏━━━━━━━━━━━━━━━━━━━━━━━━━━━━━━━━━━━━━━━━━━━━━━━━━━━━━┓\n",
       "┃\u001b[1m \u001b[0m\u001b[1mStringContains(EvalXpath(xml, '/book/author'), 'G')\u001b[0m\u001b[1m \u001b[0m┃\n",
       "┡━━━━━━━━━━━━━━━━━━━━━━━━━━━━━━━━━━━━━━━━━━━━━━━━━━━━━┩\n",
       "│ \u001b[2mboolean\u001b[0m                                             │\n",
       "├─────────────────────────────────────────────────────┤\n",
       "│ False                                               │\n",
       "│ True                                                │\n",
       "│ True                                                │\n",
       "│ False                                               │\n",
       "└─────────────────────────────────────────────────────┘"
      ]
     },
     "execution_count": 36,
     "metadata": {},
     "output_type": "execute_result"
    }
   ],
   "source": [
    "g_authors = xml_tbl.xml.eval_xpath('/book/author').contains('G')\n",
    "g_authors"
   ]
  },
  {
   "cell_type": "markdown",
   "id": "b52585f5-2cac-4001-850c-c7b6f4040294",
   "metadata": {},
   "source": [
    "As you can see in the result above, two of the author's names contained a capital 'G'. We will now use that filtering expression\n",
    "to subset the rows in the `xml_tbl` object and return the title of each of the books associated with those authors."
   ]
  },
  {
   "cell_type": "code",
   "execution_count": 37,
   "id": "870879ad-6b94-469e-9ae1-e8cddcf556ec",
   "metadata": {},
   "outputs": [
    {
     "data": {
      "text/html": [
       "<pre style=\"white-space:pre;overflow-x:auto;line-height:normal;font-family:Menlo,'DejaVu Sans Mono',consolas,'Courier New',monospace\">┏━━━━━━━━━━━━━━━━━━━━━━━━━━━┓\n",
       "┃<span style=\"font-weight: bold\"> Title                     </span>┃\n",
       "┡━━━━━━━━━━━━━━━━━━━━━━━━━━━┩\n",
       "│ <span style=\"color: #7f7f7f; text-decoration-color: #7f7f7f\">!string</span>                   │\n",
       "├───────────────────────────┤\n",
       "│ <span style=\"color: #008000; text-decoration-color: #008000\">XQuery Kick Start        </span> │\n",
       "│ <span style=\"color: #008000; text-decoration-color: #008000\">Hands-On Machine Learning</span> │\n",
       "└───────────────────────────┘\n",
       "</pre>\n"
      ],
      "text/plain": [
       "┏━━━━━━━━━━━━━━━━━━━━━━━━━━━┓\n",
       "┃\u001b[1m \u001b[0m\u001b[1mTitle\u001b[0m\u001b[1m                    \u001b[0m\u001b[1m \u001b[0m┃\n",
       "┡━━━━━━━━━━━━━━━━━━━━━━━━━━━┩\n",
       "│ \u001b[2m!string\u001b[0m                   │\n",
       "├───────────────────────────┤\n",
       "│ \u001b[32mXQuery Kick Start        \u001b[0m │\n",
       "│ \u001b[32mHands-On Machine Learning\u001b[0m │\n",
       "└───────────────────────────┘"
      ]
     },
     "execution_count": 37,
     "metadata": {},
     "output_type": "execute_result"
    }
   ],
   "source": [
    "title = xml_tbl[g_authors].xml.eval_xpath('/book/title').name('Title')\n",
    "title"
   ]
  },
  {
   "cell_type": "code",
   "execution_count": null,
   "id": "7135e0aa-2b0d-406f-91cd-0ec1934aba1a",
   "metadata": {},
   "outputs": [],
   "source": []
  }
 ],
 "metadata": {
  "kernelspec": {
   "display_name": "Python 3 (ipykernel)",
   "language": "python",
   "name": "python3"
  },
  "language_info": {
   "codemirror_mode": {
    "name": "ipython",
    "version": 3
   },
   "file_extension": ".py",
   "mimetype": "text/x-python",
   "name": "python",
   "nbconvert_exporter": "python",
   "pygments_lexer": "ipython3",
   "version": "3.11.3"
  }
 },
 "nbformat": 4,
 "nbformat_minor": 5
}
