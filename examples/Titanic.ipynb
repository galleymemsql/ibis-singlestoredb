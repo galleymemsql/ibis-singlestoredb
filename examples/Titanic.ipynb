{
 "cells": [
  {
   "cell_type": "markdown",
   "id": "43ccca79",
   "metadata": {},
   "source": [
    "# Exploratory Data Analysis of Titanic Data with SingleStoreDB\n",
    "\n",
    "This notebook uses the SingleStoreDB Python package to perform basic EDA for the Titanic survival data.\n",
    "The **new No SQL** --> No Can See SQL."
   ]
  },
  {
   "cell_type": "code",
   "execution_count": 1,
   "id": "b7100720-fa65-47a3-bf6d-c54dd723ef01",
   "metadata": {
    "tags": []
   },
   "outputs": [],
   "source": [
    "import ibis\n",
    "import pandas as pd\n",
    "import matplotlib.pyplot as plt\n",
    "import seaborn as sns"
   ]
  },
  {
   "cell_type": "code",
   "execution_count": 2,
   "id": "8ba12486-461e-4760-a36a-5530768d2668",
   "metadata": {
    "tags": []
   },
   "outputs": [],
   "source": [
    "ibis.options.verbose = False   ## make this True to see the generated SQL\n",
    "ibis.options.interactive = True"
   ]
  },
  {
   "cell_type": "markdown",
   "id": "e7ba8a8d",
   "metadata": {},
   "source": [
    "### Connect to SingleStoreDB\n",
    "\n",
    "The connection parameters can either be [Python DB-API](https://peps.python.org/pep-0249/) style parameters, \n",
    "or a URL connection string as used by [SQLAlchemy](https://www.sqlalchemy.org)."
   ]
  },
  {
   "cell_type": "code",
   "execution_count": 3,
   "id": "b5c3abd1",
   "metadata": {
    "tags": []
   },
   "outputs": [],
   "source": [
    "conn = ibis.singlestoredb.connect('root:@127.0.0.1/x_db')"
   ]
  },
  {
   "cell_type": "markdown",
   "id": "0fbf4262",
   "metadata": {},
   "source": [
    "### Head over to Kaggle and get the csv files for the titanic data\n",
    "\n",
    "https://www.kaggle.com/c/titanic\n",
    "\n",
    "### Read the csv files for training and test data set \n",
    "\n",
    "- Pclass = Passenger Class (1=1st, 2=2nd, 3=3rd)\n",
    "- Survived = Survival (1 = Yes, 0 = No)\n",
    "- Sex = Gender\n",
    "- Age = Passenger age\n",
    "- Fare = Ticket price in British pounds\n",
    "- SibSp  = # of siblings / spouses aboard the Titanic. \n",
    "- Parch  = # of parents / children aboard the Titanic.\n",
    "- Embarked = Port of embarkation (C = Cherbourg; Q = Queenstown; S = Southampton)\n",
    "- Cabin = Cabin No."
   ]
  },
  {
   "cell_type": "code",
   "execution_count": 4,
   "id": "3585dbaf",
   "metadata": {
    "tags": []
   },
   "outputs": [],
   "source": [
    "train_df = pd.read_csv('titanic_train.csv')\n",
    "test_df = pd.read_csv('titanic_test.csv')"
   ]
  },
  {
   "cell_type": "code",
   "execution_count": 5,
   "id": "b16e1149",
   "metadata": {
    "tags": []
   },
   "outputs": [
    {
     "data": {
      "text/html": [
       "<div>\n",
       "<style scoped>\n",
       "    .dataframe tbody tr th:only-of-type {\n",
       "        vertical-align: middle;\n",
       "    }\n",
       "\n",
       "    .dataframe tbody tr th {\n",
       "        vertical-align: top;\n",
       "    }\n",
       "\n",
       "    .dataframe thead th {\n",
       "        text-align: right;\n",
       "    }\n",
       "</style>\n",
       "<table border=\"1\" class=\"dataframe\">\n",
       "  <thead>\n",
       "    <tr style=\"text-align: right;\">\n",
       "      <th></th>\n",
       "      <th>PassengerId</th>\n",
       "      <th>Survived</th>\n",
       "      <th>Pclass</th>\n",
       "      <th>Name</th>\n",
       "      <th>Sex</th>\n",
       "      <th>Age</th>\n",
       "      <th>SibSp</th>\n",
       "      <th>Parch</th>\n",
       "      <th>Ticket</th>\n",
       "      <th>Fare</th>\n",
       "      <th>Cabin</th>\n",
       "      <th>Embarked</th>\n",
       "    </tr>\n",
       "  </thead>\n",
       "  <tbody>\n",
       "    <tr>\n",
       "      <th>0</th>\n",
       "      <td>1</td>\n",
       "      <td>0</td>\n",
       "      <td>3</td>\n",
       "      <td>Braund, Mr. Owen Harris</td>\n",
       "      <td>male</td>\n",
       "      <td>22.0</td>\n",
       "      <td>1</td>\n",
       "      <td>0</td>\n",
       "      <td>A/5 21171</td>\n",
       "      <td>7.2500</td>\n",
       "      <td>NaN</td>\n",
       "      <td>S</td>\n",
       "    </tr>\n",
       "    <tr>\n",
       "      <th>1</th>\n",
       "      <td>2</td>\n",
       "      <td>1</td>\n",
       "      <td>1</td>\n",
       "      <td>Cumings, Mrs. John Bradley (Florence Briggs Th...</td>\n",
       "      <td>female</td>\n",
       "      <td>38.0</td>\n",
       "      <td>1</td>\n",
       "      <td>0</td>\n",
       "      <td>PC 17599</td>\n",
       "      <td>71.2833</td>\n",
       "      <td>C85</td>\n",
       "      <td>C</td>\n",
       "    </tr>\n",
       "    <tr>\n",
       "      <th>2</th>\n",
       "      <td>3</td>\n",
       "      <td>1</td>\n",
       "      <td>3</td>\n",
       "      <td>Heikkinen, Miss. Laina</td>\n",
       "      <td>female</td>\n",
       "      <td>26.0</td>\n",
       "      <td>0</td>\n",
       "      <td>0</td>\n",
       "      <td>STON/O2. 3101282</td>\n",
       "      <td>7.9250</td>\n",
       "      <td>NaN</td>\n",
       "      <td>S</td>\n",
       "    </tr>\n",
       "    <tr>\n",
       "      <th>3</th>\n",
       "      <td>4</td>\n",
       "      <td>1</td>\n",
       "      <td>1</td>\n",
       "      <td>Futrelle, Mrs. Jacques Heath (Lily May Peel)</td>\n",
       "      <td>female</td>\n",
       "      <td>35.0</td>\n",
       "      <td>1</td>\n",
       "      <td>0</td>\n",
       "      <td>113803</td>\n",
       "      <td>53.1000</td>\n",
       "      <td>C123</td>\n",
       "      <td>S</td>\n",
       "    </tr>\n",
       "    <tr>\n",
       "      <th>4</th>\n",
       "      <td>5</td>\n",
       "      <td>0</td>\n",
       "      <td>3</td>\n",
       "      <td>Allen, Mr. William Henry</td>\n",
       "      <td>male</td>\n",
       "      <td>35.0</td>\n",
       "      <td>0</td>\n",
       "      <td>0</td>\n",
       "      <td>373450</td>\n",
       "      <td>8.0500</td>\n",
       "      <td>NaN</td>\n",
       "      <td>S</td>\n",
       "    </tr>\n",
       "  </tbody>\n",
       "</table>\n",
       "</div>"
      ],
      "text/plain": [
       "   PassengerId  Survived  Pclass   \n",
       "0            1         0       3  \\\n",
       "1            2         1       1   \n",
       "2            3         1       3   \n",
       "3            4         1       1   \n",
       "4            5         0       3   \n",
       "\n",
       "                                                Name     Sex   Age  SibSp   \n",
       "0                            Braund, Mr. Owen Harris    male  22.0      1  \\\n",
       "1  Cumings, Mrs. John Bradley (Florence Briggs Th...  female  38.0      1   \n",
       "2                             Heikkinen, Miss. Laina  female  26.0      0   \n",
       "3       Futrelle, Mrs. Jacques Heath (Lily May Peel)  female  35.0      1   \n",
       "4                           Allen, Mr. William Henry    male  35.0      0   \n",
       "\n",
       "   Parch            Ticket     Fare Cabin Embarked  \n",
       "0      0         A/5 21171   7.2500   NaN        S  \n",
       "1      0          PC 17599  71.2833   C85        C  \n",
       "2      0  STON/O2. 3101282   7.9250   NaN        S  \n",
       "3      0            113803  53.1000  C123        S  \n",
       "4      0            373450   8.0500   NaN        S  "
      ]
     },
     "execution_count": 5,
     "metadata": {},
     "output_type": "execute_result"
    }
   ],
   "source": [
    "train_df.head()"
   ]
  },
  {
   "cell_type": "code",
   "execution_count": 6,
   "id": "58ab3155",
   "metadata": {
    "tags": []
   },
   "outputs": [
    {
     "data": {
      "text/html": [
       "<div>\n",
       "<style scoped>\n",
       "    .dataframe tbody tr th:only-of-type {\n",
       "        vertical-align: middle;\n",
       "    }\n",
       "\n",
       "    .dataframe tbody tr th {\n",
       "        vertical-align: top;\n",
       "    }\n",
       "\n",
       "    .dataframe thead th {\n",
       "        text-align: right;\n",
       "    }\n",
       "</style>\n",
       "<table border=\"1\" class=\"dataframe\">\n",
       "  <thead>\n",
       "    <tr style=\"text-align: right;\">\n",
       "      <th></th>\n",
       "      <th>PassengerId</th>\n",
       "      <th>Pclass</th>\n",
       "      <th>Name</th>\n",
       "      <th>Sex</th>\n",
       "      <th>Age</th>\n",
       "      <th>SibSp</th>\n",
       "      <th>Parch</th>\n",
       "      <th>Ticket</th>\n",
       "      <th>Fare</th>\n",
       "      <th>Cabin</th>\n",
       "      <th>Embarked</th>\n",
       "    </tr>\n",
       "  </thead>\n",
       "  <tbody>\n",
       "    <tr>\n",
       "      <th>0</th>\n",
       "      <td>892</td>\n",
       "      <td>3</td>\n",
       "      <td>Kelly, Mr. James</td>\n",
       "      <td>male</td>\n",
       "      <td>34.5</td>\n",
       "      <td>0</td>\n",
       "      <td>0</td>\n",
       "      <td>330911</td>\n",
       "      <td>7.8292</td>\n",
       "      <td>NaN</td>\n",
       "      <td>Q</td>\n",
       "    </tr>\n",
       "    <tr>\n",
       "      <th>1</th>\n",
       "      <td>893</td>\n",
       "      <td>3</td>\n",
       "      <td>Wilkes, Mrs. James (Ellen Needs)</td>\n",
       "      <td>female</td>\n",
       "      <td>47.0</td>\n",
       "      <td>1</td>\n",
       "      <td>0</td>\n",
       "      <td>363272</td>\n",
       "      <td>7.0000</td>\n",
       "      <td>NaN</td>\n",
       "      <td>S</td>\n",
       "    </tr>\n",
       "    <tr>\n",
       "      <th>2</th>\n",
       "      <td>894</td>\n",
       "      <td>2</td>\n",
       "      <td>Myles, Mr. Thomas Francis</td>\n",
       "      <td>male</td>\n",
       "      <td>62.0</td>\n",
       "      <td>0</td>\n",
       "      <td>0</td>\n",
       "      <td>240276</td>\n",
       "      <td>9.6875</td>\n",
       "      <td>NaN</td>\n",
       "      <td>Q</td>\n",
       "    </tr>\n",
       "    <tr>\n",
       "      <th>3</th>\n",
       "      <td>895</td>\n",
       "      <td>3</td>\n",
       "      <td>Wirz, Mr. Albert</td>\n",
       "      <td>male</td>\n",
       "      <td>27.0</td>\n",
       "      <td>0</td>\n",
       "      <td>0</td>\n",
       "      <td>315154</td>\n",
       "      <td>8.6625</td>\n",
       "      <td>NaN</td>\n",
       "      <td>S</td>\n",
       "    </tr>\n",
       "    <tr>\n",
       "      <th>4</th>\n",
       "      <td>896</td>\n",
       "      <td>3</td>\n",
       "      <td>Hirvonen, Mrs. Alexander (Helga E Lindqvist)</td>\n",
       "      <td>female</td>\n",
       "      <td>22.0</td>\n",
       "      <td>1</td>\n",
       "      <td>1</td>\n",
       "      <td>3101298</td>\n",
       "      <td>12.2875</td>\n",
       "      <td>NaN</td>\n",
       "      <td>S</td>\n",
       "    </tr>\n",
       "  </tbody>\n",
       "</table>\n",
       "</div>"
      ],
      "text/plain": [
       "   PassengerId  Pclass                                          Name     Sex   \n",
       "0          892       3                              Kelly, Mr. James    male  \\\n",
       "1          893       3              Wilkes, Mrs. James (Ellen Needs)  female   \n",
       "2          894       2                     Myles, Mr. Thomas Francis    male   \n",
       "3          895       3                              Wirz, Mr. Albert    male   \n",
       "4          896       3  Hirvonen, Mrs. Alexander (Helga E Lindqvist)  female   \n",
       "\n",
       "    Age  SibSp  Parch   Ticket     Fare Cabin Embarked  \n",
       "0  34.5      0      0   330911   7.8292   NaN        Q  \n",
       "1  47.0      1      0   363272   7.0000   NaN        S  \n",
       "2  62.0      0      0   240276   9.6875   NaN        Q  \n",
       "3  27.0      0      0   315154   8.6625   NaN        S  \n",
       "4  22.0      1      1  3101298  12.2875   NaN        S  "
      ]
     },
     "execution_count": 6,
     "metadata": {},
     "output_type": "execute_result"
    }
   ],
   "source": [
    "test_df.head()"
   ]
  },
  {
   "cell_type": "code",
   "execution_count": 7,
   "id": "6f883d58",
   "metadata": {
    "tags": []
   },
   "outputs": [],
   "source": [
    "titanic_df = pd.concat([train_df, test_df])"
   ]
  },
  {
   "cell_type": "markdown",
   "id": "bf6545a8",
   "metadata": {},
   "source": [
    "### Create a table for the combined data in SingleStoreDB\n",
    "\n",
    "We can use the `create_table` method of the connection to upload a pandas DataFrame to a database table.\n",
    "The `force=True` is merely used here in case you run the same notebook multiple times. It will cause the \n",
    "table in the database to be overwritten if it already exists."
   ]
  },
  {
   "cell_type": "code",
   "execution_count": 8,
   "id": "347d72d9-235d-4762-95bf-b7139cc1dec8",
   "metadata": {
    "tags": []
   },
   "outputs": [
    {
     "data": {
      "text/plain": [
       "PassengerId      int64\n",
       "Survived       float64\n",
       "Pclass           int64\n",
       "Name            object\n",
       "Sex             object\n",
       "Age            float64\n",
       "SibSp            int64\n",
       "Parch            int64\n",
       "Ticket          object\n",
       "Fare           float64\n",
       "Cabin           object\n",
       "Embarked        object\n",
       "dtype: object"
      ]
     },
     "execution_count": 8,
     "metadata": {},
     "output_type": "execute_result"
    }
   ],
   "source": [
    "titanic_df.dtypes"
   ]
  },
  {
   "cell_type": "markdown",
   "id": "98c246f8-e1aa-42f9-a088-afc5d9ae7add",
   "metadata": {},
   "source": [
    "Notice that the `Survived` column is a float64 in the DataFrame. The data in that column is actually boolean with possible NULLs.\n",
    "Since we use it as a filtering column in many operations, we'll change the column to boolean using `schema_overrides` when it is uploaded."
   ]
  },
  {
   "cell_type": "code",
   "execution_count": 9,
   "id": "402660c1",
   "metadata": {
    "tags": []
   },
   "outputs": [],
   "source": [
    "titanic_tbl = conn.create_table('titanic', titanic_df, schema_overrides=dict(Survived='bool'), force=True)"
   ]
  },
  {
   "cell_type": "code",
   "execution_count": 10,
   "id": "0e63b04a",
   "metadata": {
    "scrolled": true,
    "tags": []
   },
   "outputs": [
    {
     "data": {
      "text/html": [
       "<pre style=\"white-space:pre;overflow-x:auto;line-height:normal;font-family:Menlo,'DejaVu Sans Mono',consolas,'Courier New',monospace\">┏━━━━━━━━━━━━━┳━━━━━━━━━━┳━━━━━━━━┳━━━━━━━━━━━━━━━━━━━━━━━━━━┳━━━━━━━━┳━━━━━━━━━┳━━━━━━━┳━━━━━━━┳━━━━━━━━━━━┳━━━━━━━━━┳━━━━━━━━┳━━━━━━━━━━┓\n",
       "┃<span style=\"font-weight: bold\"> PassengerId </span>┃<span style=\"font-weight: bold\"> Survived </span>┃<span style=\"font-weight: bold\"> Pclass </span>┃<span style=\"font-weight: bold\"> Name                     </span>┃<span style=\"font-weight: bold\"> Sex    </span>┃<span style=\"font-weight: bold\"> Age     </span>┃<span style=\"font-weight: bold\"> SibSp </span>┃<span style=\"font-weight: bold\"> Parch </span>┃<span style=\"font-weight: bold\"> Ticket    </span>┃<span style=\"font-weight: bold\"> Fare    </span>┃<span style=\"font-weight: bold\"> Cabin  </span>┃<span style=\"font-weight: bold\"> Embarked </span>┃\n",
       "┡━━━━━━━━━━━━━╇━━━━━━━━━━╇━━━━━━━━╇━━━━━━━━━━━━━━━━━━━━━━━━━━╇━━━━━━━━╇━━━━━━━━━╇━━━━━━━╇━━━━━━━╇━━━━━━━━━━━╇━━━━━━━━━╇━━━━━━━━╇━━━━━━━━━━┩\n",
       "│ <span style=\"color: #7f7f7f; text-decoration-color: #7f7f7f\">int64</span>       │ <span style=\"color: #7f7f7f; text-decoration-color: #7f7f7f\">boolean</span>  │ <span style=\"color: #7f7f7f; text-decoration-color: #7f7f7f\">int64</span>  │ <span style=\"color: #7f7f7f; text-decoration-color: #7f7f7f\">string</span>                   │ <span style=\"color: #7f7f7f; text-decoration-color: #7f7f7f\">string</span> │ <span style=\"color: #7f7f7f; text-decoration-color: #7f7f7f\">float64</span> │ <span style=\"color: #7f7f7f; text-decoration-color: #7f7f7f\">int64</span> │ <span style=\"color: #7f7f7f; text-decoration-color: #7f7f7f\">int64</span> │ <span style=\"color: #7f7f7f; text-decoration-color: #7f7f7f\">string</span>    │ <span style=\"color: #7f7f7f; text-decoration-color: #7f7f7f\">float64</span> │ <span style=\"color: #7f7f7f; text-decoration-color: #7f7f7f\">string</span> │ <span style=\"color: #7f7f7f; text-decoration-color: #7f7f7f\">string</span>   │\n",
       "├─────────────┼──────────┼────────┼──────────────────────────┼────────┼─────────┼───────┼───────┼───────────┼─────────┼────────┼──────────┤\n",
       "│           <span style=\"color: #008080; text-decoration-color: #008080; font-weight: bold\">1</span> │ False    │      <span style=\"color: #008080; text-decoration-color: #008080; font-weight: bold\">3</span> │ <span style=\"color: #008000; text-decoration-color: #008000\">Braund, Mr. Owen Harris </span> │ <span style=\"color: #008000; text-decoration-color: #008000\">male  </span> │    <span style=\"color: #008080; text-decoration-color: #008080; font-weight: bold\">22.0</span> │     <span style=\"color: #008080; text-decoration-color: #008080; font-weight: bold\">1</span> │     <span style=\"color: #008080; text-decoration-color: #008080; font-weight: bold\">0</span> │ <span style=\"color: #008000; text-decoration-color: #008000\">A/5 21171</span> │    <span style=\"color: #008080; text-decoration-color: #008080; font-weight: bold\">7.25</span> │ <span style=\"color: #7f7f7f; text-decoration-color: #7f7f7f\">NULL</span>   │ <span style=\"color: #008000; text-decoration-color: #008000\">S       </span> │\n",
       "│          <span style=\"color: #008080; text-decoration-color: #008080; font-weight: bold\">12</span> │ True     │      <span style=\"color: #008080; text-decoration-color: #008080; font-weight: bold\">1</span> │ <span style=\"color: #008000; text-decoration-color: #008000\">Bonnell, Miss. Elizabeth</span> │ <span style=\"color: #008000; text-decoration-color: #008000\">female</span> │    <span style=\"color: #008080; text-decoration-color: #008080; font-weight: bold\">58.0</span> │     <span style=\"color: #008080; text-decoration-color: #008080; font-weight: bold\">0</span> │     <span style=\"color: #008080; text-decoration-color: #008080; font-weight: bold\">0</span> │ <span style=\"color: #008000; text-decoration-color: #008000\">113783   </span> │   <span style=\"color: #008080; text-decoration-color: #008080; font-weight: bold\">26.55</span> │ <span style=\"color: #008000; text-decoration-color: #008000\">C103  </span> │ <span style=\"color: #008000; text-decoration-color: #008000\">S       </span> │\n",
       "│          <span style=\"color: #008080; text-decoration-color: #008080; font-weight: bold\">22</span> │ True     │      <span style=\"color: #008080; text-decoration-color: #008080; font-weight: bold\">2</span> │ <span style=\"color: #008000; text-decoration-color: #008000\">Beesley, Mr. Lawrence   </span> │ <span style=\"color: #008000; text-decoration-color: #008000\">male  </span> │    <span style=\"color: #008080; text-decoration-color: #008080; font-weight: bold\">34.0</span> │     <span style=\"color: #008080; text-decoration-color: #008080; font-weight: bold\">0</span> │     <span style=\"color: #008080; text-decoration-color: #008080; font-weight: bold\">0</span> │ <span style=\"color: #008000; text-decoration-color: #008000\">248698   </span> │   <span style=\"color: #008080; text-decoration-color: #008080; font-weight: bold\">13.00</span> │ <span style=\"color: #008000; text-decoration-color: #008000\">D56   </span> │ <span style=\"color: #008000; text-decoration-color: #008000\">S       </span> │\n",
       "└─────────────┴──────────┴────────┴──────────────────────────┴────────┴─────────┴───────┴───────┴───────────┴─────────┴────────┴──────────┘\n",
       "</pre>\n"
      ],
      "text/plain": [
       "┏━━━━━━━━━━━━━┳━━━━━━━━━━┳━━━━━━━━┳━━━━━━━━━━━━━━━━━━━━━━━━━━┳━━━━━━━━┳━━━━━━━━━┳━━━━━━━┳━━━━━━━┳━━━━━━━━━━━┳━━━━━━━━━┳━━━━━━━━┳━━━━━━━━━━┓\n",
       "┃\u001b[1m \u001b[0m\u001b[1mPassengerId\u001b[0m\u001b[1m \u001b[0m┃\u001b[1m \u001b[0m\u001b[1mSurvived\u001b[0m\u001b[1m \u001b[0m┃\u001b[1m \u001b[0m\u001b[1mPclass\u001b[0m\u001b[1m \u001b[0m┃\u001b[1m \u001b[0m\u001b[1mName\u001b[0m\u001b[1m                    \u001b[0m\u001b[1m \u001b[0m┃\u001b[1m \u001b[0m\u001b[1mSex\u001b[0m\u001b[1m   \u001b[0m\u001b[1m \u001b[0m┃\u001b[1m \u001b[0m\u001b[1mAge\u001b[0m\u001b[1m    \u001b[0m\u001b[1m \u001b[0m┃\u001b[1m \u001b[0m\u001b[1mSibSp\u001b[0m\u001b[1m \u001b[0m┃\u001b[1m \u001b[0m\u001b[1mParch\u001b[0m\u001b[1m \u001b[0m┃\u001b[1m \u001b[0m\u001b[1mTicket\u001b[0m\u001b[1m   \u001b[0m\u001b[1m \u001b[0m┃\u001b[1m \u001b[0m\u001b[1mFare\u001b[0m\u001b[1m   \u001b[0m\u001b[1m \u001b[0m┃\u001b[1m \u001b[0m\u001b[1mCabin\u001b[0m\u001b[1m \u001b[0m\u001b[1m \u001b[0m┃\u001b[1m \u001b[0m\u001b[1mEmbarked\u001b[0m\u001b[1m \u001b[0m┃\n",
       "┡━━━━━━━━━━━━━╇━━━━━━━━━━╇━━━━━━━━╇━━━━━━━━━━━━━━━━━━━━━━━━━━╇━━━━━━━━╇━━━━━━━━━╇━━━━━━━╇━━━━━━━╇━━━━━━━━━━━╇━━━━━━━━━╇━━━━━━━━╇━━━━━━━━━━┩\n",
       "│ \u001b[2mint64\u001b[0m       │ \u001b[2mboolean\u001b[0m  │ \u001b[2mint64\u001b[0m  │ \u001b[2mstring\u001b[0m                   │ \u001b[2mstring\u001b[0m │ \u001b[2mfloat64\u001b[0m │ \u001b[2mint64\u001b[0m │ \u001b[2mint64\u001b[0m │ \u001b[2mstring\u001b[0m    │ \u001b[2mfloat64\u001b[0m │ \u001b[2mstring\u001b[0m │ \u001b[2mstring\u001b[0m   │\n",
       "├─────────────┼──────────┼────────┼──────────────────────────┼────────┼─────────┼───────┼───────┼───────────┼─────────┼────────┼──────────┤\n",
       "│           \u001b[1;36m1\u001b[0m │ False    │      \u001b[1;36m3\u001b[0m │ \u001b[32mBraund, Mr. Owen Harris \u001b[0m │ \u001b[32mmale  \u001b[0m │    \u001b[1;36m22.0\u001b[0m │     \u001b[1;36m1\u001b[0m │     \u001b[1;36m0\u001b[0m │ \u001b[32mA/5 21171\u001b[0m │    \u001b[1;36m7.25\u001b[0m │ \u001b[2mNULL\u001b[0m   │ \u001b[32mS       \u001b[0m │\n",
       "│          \u001b[1;36m12\u001b[0m │ True     │      \u001b[1;36m1\u001b[0m │ \u001b[32mBonnell, Miss. Elizabeth\u001b[0m │ \u001b[32mfemale\u001b[0m │    \u001b[1;36m58.0\u001b[0m │     \u001b[1;36m0\u001b[0m │     \u001b[1;36m0\u001b[0m │ \u001b[32m113783   \u001b[0m │   \u001b[1;36m26.55\u001b[0m │ \u001b[32mC103  \u001b[0m │ \u001b[32mS       \u001b[0m │\n",
       "│          \u001b[1;36m22\u001b[0m │ True     │      \u001b[1;36m2\u001b[0m │ \u001b[32mBeesley, Mr. Lawrence   \u001b[0m │ \u001b[32mmale  \u001b[0m │    \u001b[1;36m34.0\u001b[0m │     \u001b[1;36m0\u001b[0m │     \u001b[1;36m0\u001b[0m │ \u001b[32m248698   \u001b[0m │   \u001b[1;36m13.00\u001b[0m │ \u001b[32mD56   \u001b[0m │ \u001b[32mS       \u001b[0m │\n",
       "└─────────────┴──────────┴────────┴──────────────────────────┴────────┴─────────┴───────┴───────┴───────────┴─────────┴────────┴──────────┘"
      ]
     },
     "execution_count": 10,
     "metadata": {},
     "output_type": "execute_result"
    }
   ],
   "source": [
    "titanic_tbl.head(3)"
   ]
  },
  {
   "cell_type": "code",
   "execution_count": 11,
   "id": "3ce28b78",
   "metadata": {
    "tags": []
   },
   "outputs": [
    {
     "data": {
      "text/html": [
       "<pre style=\"white-space:pre;overflow-x:auto;line-height:normal;font-family:Menlo,'DejaVu Sans Mono',consolas,'Courier New',monospace\">┏━━━━━━━━━━━━━┳━━━━━━━━━┳━━━━━━━━━━┳━━━━━━━┳━━━━━━━━━━━┳━━━━━━━━━━━┳━━━━━━┓\n",
       "┃<span style=\"font-weight: bold\"> name        </span>┃<span style=\"font-weight: bold\"> type    </span>┃<span style=\"font-weight: bold\"> nullable </span>┃<span style=\"font-weight: bold\"> nulls </span>┃<span style=\"font-weight: bold\"> non_nulls </span>┃<span style=\"font-weight: bold\"> null_frac </span>┃<span style=\"font-weight: bold\"> pos  </span>┃\n",
       "┡━━━━━━━━━━━━━╇━━━━━━━━━╇━━━━━━━━━━╇━━━━━━━╇━━━━━━━━━━━╇━━━━━━━━━━━╇━━━━━━┩\n",
       "│ <span style=\"color: #7f7f7f; text-decoration-color: #7f7f7f\">string</span>      │ <span style=\"color: #7f7f7f; text-decoration-color: #7f7f7f\">string</span>  │ <span style=\"color: #7f7f7f; text-decoration-color: #7f7f7f\">boolean</span>  │ <span style=\"color: #7f7f7f; text-decoration-color: #7f7f7f\">int64</span> │ <span style=\"color: #7f7f7f; text-decoration-color: #7f7f7f\">int64</span>     │ <span style=\"color: #7f7f7f; text-decoration-color: #7f7f7f\">float64</span>   │ <span style=\"color: #7f7f7f; text-decoration-color: #7f7f7f\">int8</span> │\n",
       "├─────────────┼─────────┼──────────┼───────┼───────────┼───────────┼──────┤\n",
       "│ <span style=\"color: #008000; text-decoration-color: #008000\">PassengerId</span> │ <span style=\"color: #008000; text-decoration-color: #008000\">int64  </span> │ True     │     <span style=\"color: #008080; text-decoration-color: #008080; font-weight: bold\">0</span> │      <span style=\"color: #008080; text-decoration-color: #008080; font-weight: bold\">1309</span> │    <span style=\"color: #008080; text-decoration-color: #008080; font-weight: bold\">0.0000</span> │    <span style=\"color: #008080; text-decoration-color: #008080; font-weight: bold\">0</span> │\n",
       "│ <span style=\"color: #008000; text-decoration-color: #008000\">Survived   </span> │ <span style=\"color: #008000; text-decoration-color: #008000\">boolean</span> │ True     │   <span style=\"color: #008080; text-decoration-color: #008080; font-weight: bold\">418</span> │       <span style=\"color: #008080; text-decoration-color: #008080; font-weight: bold\">891</span> │    <span style=\"color: #008080; text-decoration-color: #008080; font-weight: bold\">0.3193</span> │    <span style=\"color: #008080; text-decoration-color: #008080; font-weight: bold\">1</span> │\n",
       "│ <span style=\"color: #008000; text-decoration-color: #008000\">Pclass     </span> │ <span style=\"color: #008000; text-decoration-color: #008000\">int64  </span> │ True     │     <span style=\"color: #008080; text-decoration-color: #008080; font-weight: bold\">0</span> │      <span style=\"color: #008080; text-decoration-color: #008080; font-weight: bold\">1309</span> │    <span style=\"color: #008080; text-decoration-color: #008080; font-weight: bold\">0.0000</span> │    <span style=\"color: #008080; text-decoration-color: #008080; font-weight: bold\">2</span> │\n",
       "│ <span style=\"color: #008000; text-decoration-color: #008000\">Name       </span> │ <span style=\"color: #008000; text-decoration-color: #008000\">string </span> │ True     │     <span style=\"color: #008080; text-decoration-color: #008080; font-weight: bold\">0</span> │      <span style=\"color: #008080; text-decoration-color: #008080; font-weight: bold\">1309</span> │    <span style=\"color: #008080; text-decoration-color: #008080; font-weight: bold\">0.0000</span> │    <span style=\"color: #008080; text-decoration-color: #008080; font-weight: bold\">3</span> │\n",
       "│ <span style=\"color: #008000; text-decoration-color: #008000\">Sex        </span> │ <span style=\"color: #008000; text-decoration-color: #008000\">string </span> │ True     │     <span style=\"color: #008080; text-decoration-color: #008080; font-weight: bold\">0</span> │      <span style=\"color: #008080; text-decoration-color: #008080; font-weight: bold\">1309</span> │    <span style=\"color: #008080; text-decoration-color: #008080; font-weight: bold\">0.0000</span> │    <span style=\"color: #008080; text-decoration-color: #008080; font-weight: bold\">4</span> │\n",
       "│ <span style=\"color: #008000; text-decoration-color: #008000\">Age        </span> │ <span style=\"color: #008000; text-decoration-color: #008000\">float64</span> │ True     │   <span style=\"color: #008080; text-decoration-color: #008080; font-weight: bold\">263</span> │      <span style=\"color: #008080; text-decoration-color: #008080; font-weight: bold\">1046</span> │    <span style=\"color: #008080; text-decoration-color: #008080; font-weight: bold\">0.2009</span> │    <span style=\"color: #008080; text-decoration-color: #008080; font-weight: bold\">5</span> │\n",
       "│ <span style=\"color: #008000; text-decoration-color: #008000\">SibSp      </span> │ <span style=\"color: #008000; text-decoration-color: #008000\">int64  </span> │ True     │     <span style=\"color: #008080; text-decoration-color: #008080; font-weight: bold\">0</span> │      <span style=\"color: #008080; text-decoration-color: #008080; font-weight: bold\">1309</span> │    <span style=\"color: #008080; text-decoration-color: #008080; font-weight: bold\">0.0000</span> │    <span style=\"color: #008080; text-decoration-color: #008080; font-weight: bold\">6</span> │\n",
       "│ <span style=\"color: #008000; text-decoration-color: #008000\">Parch      </span> │ <span style=\"color: #008000; text-decoration-color: #008000\">int64  </span> │ True     │     <span style=\"color: #008080; text-decoration-color: #008080; font-weight: bold\">0</span> │      <span style=\"color: #008080; text-decoration-color: #008080; font-weight: bold\">1309</span> │    <span style=\"color: #008080; text-decoration-color: #008080; font-weight: bold\">0.0000</span> │    <span style=\"color: #008080; text-decoration-color: #008080; font-weight: bold\">7</span> │\n",
       "│ <span style=\"color: #008000; text-decoration-color: #008000\">Ticket     </span> │ <span style=\"color: #008000; text-decoration-color: #008000\">string </span> │ True     │     <span style=\"color: #008080; text-decoration-color: #008080; font-weight: bold\">0</span> │      <span style=\"color: #008080; text-decoration-color: #008080; font-weight: bold\">1309</span> │    <span style=\"color: #008080; text-decoration-color: #008080; font-weight: bold\">0.0000</span> │    <span style=\"color: #008080; text-decoration-color: #008080; font-weight: bold\">8</span> │\n",
       "│ <span style=\"color: #008000; text-decoration-color: #008000\">Fare       </span> │ <span style=\"color: #008000; text-decoration-color: #008000\">float64</span> │ True     │     <span style=\"color: #008080; text-decoration-color: #008080; font-weight: bold\">1</span> │      <span style=\"color: #008080; text-decoration-color: #008080; font-weight: bold\">1308</span> │    <span style=\"color: #008080; text-decoration-color: #008080; font-weight: bold\">0.0008</span> │    <span style=\"color: #008080; text-decoration-color: #008080; font-weight: bold\">9</span> │\n",
       "│ <span style=\"color: #7f7f7f; text-decoration-color: #7f7f7f\">…</span>           │ <span style=\"color: #7f7f7f; text-decoration-color: #7f7f7f\">…</span>       │ <span style=\"color: #7f7f7f; text-decoration-color: #7f7f7f\">…</span>        │     <span style=\"color: #7f7f7f; text-decoration-color: #7f7f7f\">…</span> │         <span style=\"color: #7f7f7f; text-decoration-color: #7f7f7f\">…</span> │         <span style=\"color: #7f7f7f; text-decoration-color: #7f7f7f\">…</span> │    <span style=\"color: #7f7f7f; text-decoration-color: #7f7f7f\">…</span> │\n",
       "└─────────────┴─────────┴──────────┴───────┴───────────┴───────────┴──────┘\n",
       "</pre>\n"
      ],
      "text/plain": [
       "┏━━━━━━━━━━━━━┳━━━━━━━━━┳━━━━━━━━━━┳━━━━━━━┳━━━━━━━━━━━┳━━━━━━━━━━━┳━━━━━━┓\n",
       "┃\u001b[1m \u001b[0m\u001b[1mname\u001b[0m\u001b[1m       \u001b[0m\u001b[1m \u001b[0m┃\u001b[1m \u001b[0m\u001b[1mtype\u001b[0m\u001b[1m   \u001b[0m\u001b[1m \u001b[0m┃\u001b[1m \u001b[0m\u001b[1mnullable\u001b[0m\u001b[1m \u001b[0m┃\u001b[1m \u001b[0m\u001b[1mnulls\u001b[0m\u001b[1m \u001b[0m┃\u001b[1m \u001b[0m\u001b[1mnon_nulls\u001b[0m\u001b[1m \u001b[0m┃\u001b[1m \u001b[0m\u001b[1mnull_frac\u001b[0m\u001b[1m \u001b[0m┃\u001b[1m \u001b[0m\u001b[1mpos\u001b[0m\u001b[1m \u001b[0m\u001b[1m \u001b[0m┃\n",
       "┡━━━━━━━━━━━━━╇━━━━━━━━━╇━━━━━━━━━━╇━━━━━━━╇━━━━━━━━━━━╇━━━━━━━━━━━╇━━━━━━┩\n",
       "│ \u001b[2mstring\u001b[0m      │ \u001b[2mstring\u001b[0m  │ \u001b[2mboolean\u001b[0m  │ \u001b[2mint64\u001b[0m │ \u001b[2mint64\u001b[0m     │ \u001b[2mfloat64\u001b[0m   │ \u001b[2mint8\u001b[0m │\n",
       "├─────────────┼─────────┼──────────┼───────┼───────────┼───────────┼──────┤\n",
       "│ \u001b[32mPassengerId\u001b[0m │ \u001b[32mint64  \u001b[0m │ True     │     \u001b[1;36m0\u001b[0m │      \u001b[1;36m1309\u001b[0m │    \u001b[1;36m0.0000\u001b[0m │    \u001b[1;36m0\u001b[0m │\n",
       "│ \u001b[32mSurvived   \u001b[0m │ \u001b[32mboolean\u001b[0m │ True     │   \u001b[1;36m418\u001b[0m │       \u001b[1;36m891\u001b[0m │    \u001b[1;36m0.3193\u001b[0m │    \u001b[1;36m1\u001b[0m │\n",
       "│ \u001b[32mPclass     \u001b[0m │ \u001b[32mint64  \u001b[0m │ True     │     \u001b[1;36m0\u001b[0m │      \u001b[1;36m1309\u001b[0m │    \u001b[1;36m0.0000\u001b[0m │    \u001b[1;36m2\u001b[0m │\n",
       "│ \u001b[32mName       \u001b[0m │ \u001b[32mstring \u001b[0m │ True     │     \u001b[1;36m0\u001b[0m │      \u001b[1;36m1309\u001b[0m │    \u001b[1;36m0.0000\u001b[0m │    \u001b[1;36m3\u001b[0m │\n",
       "│ \u001b[32mSex        \u001b[0m │ \u001b[32mstring \u001b[0m │ True     │     \u001b[1;36m0\u001b[0m │      \u001b[1;36m1309\u001b[0m │    \u001b[1;36m0.0000\u001b[0m │    \u001b[1;36m4\u001b[0m │\n",
       "│ \u001b[32mAge        \u001b[0m │ \u001b[32mfloat64\u001b[0m │ True     │   \u001b[1;36m263\u001b[0m │      \u001b[1;36m1046\u001b[0m │    \u001b[1;36m0.2009\u001b[0m │    \u001b[1;36m5\u001b[0m │\n",
       "│ \u001b[32mSibSp      \u001b[0m │ \u001b[32mint64  \u001b[0m │ True     │     \u001b[1;36m0\u001b[0m │      \u001b[1;36m1309\u001b[0m │    \u001b[1;36m0.0000\u001b[0m │    \u001b[1;36m6\u001b[0m │\n",
       "│ \u001b[32mParch      \u001b[0m │ \u001b[32mint64  \u001b[0m │ True     │     \u001b[1;36m0\u001b[0m │      \u001b[1;36m1309\u001b[0m │    \u001b[1;36m0.0000\u001b[0m │    \u001b[1;36m7\u001b[0m │\n",
       "│ \u001b[32mTicket     \u001b[0m │ \u001b[32mstring \u001b[0m │ True     │     \u001b[1;36m0\u001b[0m │      \u001b[1;36m1309\u001b[0m │    \u001b[1;36m0.0000\u001b[0m │    \u001b[1;36m8\u001b[0m │\n",
       "│ \u001b[32mFare       \u001b[0m │ \u001b[32mfloat64\u001b[0m │ True     │     \u001b[1;36m1\u001b[0m │      \u001b[1;36m1308\u001b[0m │    \u001b[1;36m0.0008\u001b[0m │    \u001b[1;36m9\u001b[0m │\n",
       "│ \u001b[2m…\u001b[0m           │ \u001b[2m…\u001b[0m       │ \u001b[2m…\u001b[0m        │     \u001b[2m…\u001b[0m │         \u001b[2m…\u001b[0m │         \u001b[2m…\u001b[0m │    \u001b[2m…\u001b[0m │\n",
       "└─────────────┴─────────┴──────────┴───────┴───────────┴───────────┴──────┘"
      ]
     },
     "execution_count": 11,
     "metadata": {},
     "output_type": "execute_result"
    }
   ],
   "source": [
    "titanic_tbl.info()"
   ]
  },
  {
   "cell_type": "markdown",
   "id": "b0ec2ee2",
   "metadata": {},
   "source": [
    "### List of Ibis functions for numerical data\n",
    "\n",
    "We will be using various methods on numeric columns of database tables in this notebook. This code simply\n",
    "prints all of the methods on numeric columns for reference."
   ]
  },
  {
   "cell_type": "code",
   "execution_count": 12,
   "id": "d9469fb2",
   "metadata": {
    "tags": []
   },
   "outputs": [
    {
     "name": "stdout",
     "output_type": "stream",
     "text": [
      "abs acos add approx_median approx_nunique arbitrary argmax argmin as_table asc asin atan atan2 between bucket case cases cast ceil clip coalesce collect compile corr cos cot count cov cume_dist cummax cummean cummin cumsum deg2rad degrees dense_rank desc describe div equals execute exp fillna first floor floordiv get_name greatest group_concat has_name hash head histogram identical_to isin isinf isnan isnull lag last lead least ln log log10 log2 max mean min mod mode mul name negate notin notnull nth ntile nullif nullifzero nunique op over percent_rank pipe point pow quantile rad2deg radd radians rank rdiv rfloordiv rmod rmul round rpow rsub sign sin sqrt std sub substitute sum summary tan to_csv to_pandas to_parquet to_pyarrow to_pyarrow_batches topk type typeof unbind value_counts var visualize zeroifnull\n"
     ]
    }
   ],
   "source": [
    "num_expr = titanic_tbl.Age\n",
    "print(' '.join([x for x in dir(num_expr) if not x.startswith('_')]))"
   ]
  },
  {
   "cell_type": "markdown",
   "id": "155777c0",
   "metadata": {},
   "source": [
    "### Unique values for some columns in the table"
   ]
  },
  {
   "cell_type": "code",
   "execution_count": 13,
   "id": "fc923fa5-ea49-4080-b842-9682b113d453",
   "metadata": {
    "tags": []
   },
   "outputs": [
    {
     "data": {
      "text/html": [
       "<pre style=\"white-space:pre;overflow-x:auto;line-height:normal;font-family:Menlo,'DejaVu Sans Mono',consolas,'Courier New',monospace\">┏━━━━━━━━┳━━━━━━━━┓\n",
       "┃<span style=\"font-weight: bold\"> name   </span>┃<span style=\"font-weight: bold\"> unique </span>┃\n",
       "┡━━━━━━━━╇━━━━━━━━┩\n",
       "│ <span style=\"color: #7f7f7f; text-decoration-color: #7f7f7f\">string</span> │ <span style=\"color: #7f7f7f; text-decoration-color: #7f7f7f\">int64</span>  │\n",
       "├────────┼────────┤\n",
       "│ <span style=\"color: #008000; text-decoration-color: #008000\">Pclass</span> │      <span style=\"color: #008080; text-decoration-color: #008080; font-weight: bold\">3</span> │\n",
       "│ <span style=\"color: #008000; text-decoration-color: #008000\">Sex   </span> │      <span style=\"color: #008080; text-decoration-color: #008080; font-weight: bold\">2</span> │\n",
       "│ <span style=\"color: #008000; text-decoration-color: #008000\">Ticket</span> │    <span style=\"color: #008080; text-decoration-color: #008080; font-weight: bold\">929</span> │\n",
       "└────────┴────────┘\n",
       "</pre>\n"
      ],
      "text/plain": [
       "┏━━━━━━━━┳━━━━━━━━┓\n",
       "┃\u001b[1m \u001b[0m\u001b[1mname\u001b[0m\u001b[1m  \u001b[0m\u001b[1m \u001b[0m┃\u001b[1m \u001b[0m\u001b[1munique\u001b[0m\u001b[1m \u001b[0m┃\n",
       "┡━━━━━━━━╇━━━━━━━━┩\n",
       "│ \u001b[2mstring\u001b[0m │ \u001b[2mint64\u001b[0m  │\n",
       "├────────┼────────┤\n",
       "│ \u001b[32mPclass\u001b[0m │      \u001b[1;36m3\u001b[0m │\n",
       "│ \u001b[32mSex   \u001b[0m │      \u001b[1;36m2\u001b[0m │\n",
       "│ \u001b[32mTicket\u001b[0m │    \u001b[1;36m929\u001b[0m │\n",
       "└────────┴────────┘"
      ]
     },
     "execution_count": 13,
     "metadata": {},
     "output_type": "execute_result"
    }
   ],
   "source": [
    "titanic_tbl['Pclass', 'Sex', 'Ticket'].describe(stats=['unique'], include='all')  # Use include='all' to include character columns in statistics"
   ]
  },
  {
   "cell_type": "markdown",
   "id": "407ad3a9",
   "metadata": {},
   "source": [
    "### Simple statistics for numeric columns"
   ]
  },
  {
   "cell_type": "code",
   "execution_count": 14,
   "id": "74c1bd88-8217-44e4-9376-83195f4c741d",
   "metadata": {
    "tags": []
   },
   "outputs": [
    {
     "data": {
      "text/html": [
       "<pre style=\"white-space:pre;overflow-x:auto;line-height:normal;font-family:Menlo,'DejaVu Sans Mono',consolas,'Courier New',monospace\">┏━━━━━━━━┳━━━━━━━━━━━┳━━━━━━━━┳━━━━━━━━┓\n",
       "┃<span style=\"font-weight: bold\"> name   </span>┃<span style=\"font-weight: bold\"> mean      </span>┃<span style=\"font-weight: bold\"> min    </span>┃<span style=\"font-weight: bold\"> max    </span>┃\n",
       "┡━━━━━━━━╇━━━━━━━━━━━╇━━━━━━━━╇━━━━━━━━┩\n",
       "│ <span style=\"color: #7f7f7f; text-decoration-color: #7f7f7f\">string</span> │ <span style=\"color: #7f7f7f; text-decoration-color: #7f7f7f\">float64</span>   │ <span style=\"color: #7f7f7f; text-decoration-color: #7f7f7f\">string</span> │ <span style=\"color: #7f7f7f; text-decoration-color: #7f7f7f\">string</span> │\n",
       "├────────┼───────────┼────────┼────────┤\n",
       "│ <span style=\"color: #008000; text-decoration-color: #008000\">SibSp </span> │  <span style=\"color: #008080; text-decoration-color: #008080; font-weight: bold\">0.498900</span> │ <span style=\"color: #008000; text-decoration-color: #008000\">0     </span> │ <span style=\"color: #008000; text-decoration-color: #008000\">8     </span> │\n",
       "│ <span style=\"color: #008000; text-decoration-color: #008000\">Parch </span> │  <span style=\"color: #008080; text-decoration-color: #008080; font-weight: bold\">0.385000</span> │ <span style=\"color: #008000; text-decoration-color: #008000\">0     </span> │ <span style=\"color: #008000; text-decoration-color: #008000\">9     </span> │\n",
       "│ <span style=\"color: #008000; text-decoration-color: #008000\">Age   </span> │ <span style=\"color: #008080; text-decoration-color: #008080; font-weight: bold\">29.881138</span> │ <span style=\"color: #008000; text-decoration-color: #008000\">0.17  </span> │ <span style=\"color: #008000; text-decoration-color: #008000\">80    </span> │\n",
       "└────────┴───────────┴────────┴────────┘\n",
       "</pre>\n"
      ],
      "text/plain": [
       "┏━━━━━━━━┳━━━━━━━━━━━┳━━━━━━━━┳━━━━━━━━┓\n",
       "┃\u001b[1m \u001b[0m\u001b[1mname\u001b[0m\u001b[1m  \u001b[0m\u001b[1m \u001b[0m┃\u001b[1m \u001b[0m\u001b[1mmean\u001b[0m\u001b[1m     \u001b[0m\u001b[1m \u001b[0m┃\u001b[1m \u001b[0m\u001b[1mmin\u001b[0m\u001b[1m   \u001b[0m\u001b[1m \u001b[0m┃\u001b[1m \u001b[0m\u001b[1mmax\u001b[0m\u001b[1m   \u001b[0m\u001b[1m \u001b[0m┃\n",
       "┡━━━━━━━━╇━━━━━━━━━━━╇━━━━━━━━╇━━━━━━━━┩\n",
       "│ \u001b[2mstring\u001b[0m │ \u001b[2mfloat64\u001b[0m   │ \u001b[2mstring\u001b[0m │ \u001b[2mstring\u001b[0m │\n",
       "├────────┼───────────┼────────┼────────┤\n",
       "│ \u001b[32mSibSp \u001b[0m │  \u001b[1;36m0.498900\u001b[0m │ \u001b[32m0     \u001b[0m │ \u001b[32m8     \u001b[0m │\n",
       "│ \u001b[32mParch \u001b[0m │  \u001b[1;36m0.385000\u001b[0m │ \u001b[32m0     \u001b[0m │ \u001b[32m9     \u001b[0m │\n",
       "│ \u001b[32mAge   \u001b[0m │ \u001b[1;36m29.881138\u001b[0m │ \u001b[32m0.17  \u001b[0m │ \u001b[32m80    \u001b[0m │\n",
       "└────────┴───────────┴────────┴────────┘"
      ]
     },
     "execution_count": 14,
     "metadata": {},
     "output_type": "execute_result"
    }
   ],
   "source": [
    "titanic_tbl['SibSp', 'Parch', 'Age'].describe(stats=['min', 'mean', 'max'])"
   ]
  },
  {
   "cell_type": "markdown",
   "id": "b4127932",
   "metadata": {},
   "source": [
    "#### Set the verbose option to True if you want to see the generated SQL"
   ]
  },
  {
   "cell_type": "code",
   "execution_count": 15,
   "id": "f1814824",
   "metadata": {
    "tags": []
   },
   "outputs": [],
   "source": [
    "ibis.options.verbose = False"
   ]
  },
  {
   "cell_type": "markdown",
   "id": "128bb061",
   "metadata": {},
   "source": [
    "### Overall Survival Rate"
   ]
  },
  {
   "cell_type": "code",
   "execution_count": 16,
   "id": "99fba42f",
   "metadata": {
    "tags": []
   },
   "outputs": [
    {
     "data": {
      "text/html": [
       "<pre style=\"white-space:pre;overflow-x:auto;line-height:normal;font-family:Menlo,'DejaVu Sans Mono',consolas,'Courier New',monospace\"></pre>\n"
      ],
      "text/plain": []
     },
     "metadata": {},
     "output_type": "display_data"
    },
    {
     "data": {
      "text/plain": [
       "\u001b[1;36m0.3838383838\u001b[0m"
      ]
     },
     "execution_count": 16,
     "metadata": {},
     "output_type": "execute_result"
    }
   ],
   "source": [
    "train = titanic_tbl.Survived.notnull()\n",
    "num_surv = titanic_tbl[titanic_tbl.Survived].count()\n",
    "num_pass = titanic_tbl[train].count()\n",
    "num_surv / num_pass"
   ]
  },
  {
   "cell_type": "markdown",
   "id": "e2614f20",
   "metadata": {},
   "source": [
    "### Cross-classification of Gender and Survival"
   ]
  },
  {
   "cell_type": "code",
   "execution_count": 17,
   "id": "cc3c6195",
   "metadata": {
    "tags": []
   },
   "outputs": [
    {
     "data": {
      "text/html": [
       "<pre style=\"white-space:pre;overflow-x:auto;line-height:normal;font-family:Menlo,'DejaVu Sans Mono',consolas,'Courier New',monospace\">┏━━━━━━━━┳━━━━━━━━━━┳━━━━━━━━━━━━┳━━━━━━━━━━━┓\n",
       "┃<span style=\"font-weight: bold\"> Sex    </span>┃<span style=\"font-weight: bold\"> Survived </span>┃<span style=\"font-weight: bold\"> Passengers </span>┃<span style=\"font-weight: bold\"> AvgAge    </span>┃\n",
       "┡━━━━━━━━╇━━━━━━━━━━╇━━━━━━━━━━━━╇━━━━━━━━━━━┩\n",
       "│ <span style=\"color: #7f7f7f; text-decoration-color: #7f7f7f\">string</span> │ <span style=\"color: #7f7f7f; text-decoration-color: #7f7f7f\">boolean</span>  │ <span style=\"color: #7f7f7f; text-decoration-color: #7f7f7f\">int64</span>      │ <span style=\"color: #7f7f7f; text-decoration-color: #7f7f7f\">float64</span>   │\n",
       "├────────┼──────────┼────────────┼───────────┤\n",
       "│ <span style=\"color: #008000; text-decoration-color: #008000\">female</span> │ False    │         <span style=\"color: #008080; text-decoration-color: #008080; font-weight: bold\">81</span> │ <span style=\"color: #008080; text-decoration-color: #008080; font-weight: bold\">25.046875</span> │\n",
       "│ <span style=\"color: #008000; text-decoration-color: #008000\">female</span> │ True     │        <span style=\"color: #008080; text-decoration-color: #008080; font-weight: bold\">233</span> │ <span style=\"color: #008080; text-decoration-color: #008080; font-weight: bold\">28.847716</span> │\n",
       "│ <span style=\"color: #008000; text-decoration-color: #008000\">male  </span> │ False    │        <span style=\"color: #008080; text-decoration-color: #008080; font-weight: bold\">468</span> │ <span style=\"color: #008080; text-decoration-color: #008080; font-weight: bold\">31.618056</span> │\n",
       "│ <span style=\"color: #008000; text-decoration-color: #008000\">male  </span> │ True     │        <span style=\"color: #008080; text-decoration-color: #008080; font-weight: bold\">109</span> │ <span style=\"color: #008080; text-decoration-color: #008080; font-weight: bold\">27.276022</span> │\n",
       "└────────┴──────────┴────────────┴───────────┘\n",
       "</pre>\n"
      ],
      "text/plain": [
       "┏━━━━━━━━┳━━━━━━━━━━┳━━━━━━━━━━━━┳━━━━━━━━━━━┓\n",
       "┃\u001b[1m \u001b[0m\u001b[1mSex\u001b[0m\u001b[1m   \u001b[0m\u001b[1m \u001b[0m┃\u001b[1m \u001b[0m\u001b[1mSurvived\u001b[0m\u001b[1m \u001b[0m┃\u001b[1m \u001b[0m\u001b[1mPassengers\u001b[0m\u001b[1m \u001b[0m┃\u001b[1m \u001b[0m\u001b[1mAvgAge\u001b[0m\u001b[1m   \u001b[0m\u001b[1m \u001b[0m┃\n",
       "┡━━━━━━━━╇━━━━━━━━━━╇━━━━━━━━━━━━╇━━━━━━━━━━━┩\n",
       "│ \u001b[2mstring\u001b[0m │ \u001b[2mboolean\u001b[0m  │ \u001b[2mint64\u001b[0m      │ \u001b[2mfloat64\u001b[0m   │\n",
       "├────────┼──────────┼────────────┼───────────┤\n",
       "│ \u001b[32mfemale\u001b[0m │ False    │         \u001b[1;36m81\u001b[0m │ \u001b[1;36m25.046875\u001b[0m │\n",
       "│ \u001b[32mfemale\u001b[0m │ True     │        \u001b[1;36m233\u001b[0m │ \u001b[1;36m28.847716\u001b[0m │\n",
       "│ \u001b[32mmale  \u001b[0m │ False    │        \u001b[1;36m468\u001b[0m │ \u001b[1;36m31.618056\u001b[0m │\n",
       "│ \u001b[32mmale  \u001b[0m │ True     │        \u001b[1;36m109\u001b[0m │ \u001b[1;36m27.276022\u001b[0m │\n",
       "└────────┴──────────┴────────────┴───────────┘"
      ]
     },
     "execution_count": 17,
     "metadata": {},
     "output_type": "execute_result"
    }
   ],
   "source": [
    "cols = [titanic_tbl.Sex, titanic_tbl.Survived]\n",
    "\n",
    "freq = titanic_tbl[train].group_by(cols).aggregate(\n",
    "    Passengers=titanic_tbl.count(),\n",
    "    AvgAge=titanic_tbl.Age.mean(),\n",
    ").order_by(cols)\n",
    "\n",
    "freq"
   ]
  },
  {
   "cell_type": "markdown",
   "id": "4e0071d8-6673-4c21-b49d-2850a3bf2dd8",
   "metadata": {},
   "source": [
    "#### Join with the gender-specific counts"
   ]
  },
  {
   "cell_type": "code",
   "execution_count": 18,
   "id": "b9c78a5b",
   "metadata": {
    "tags": []
   },
   "outputs": [
    {
     "data": {
      "text/html": [
       "<pre style=\"white-space:pre;overflow-x:auto;line-height:normal;font-family:Menlo,'DejaVu Sans Mono',consolas,'Courier New',monospace\">┏━━━━━━━━┳━━━━━━━━━━┳━━━━━━━━━━━━┳━━━━━━━━━━━┳━━━━━━━┓\n",
       "┃<span style=\"font-weight: bold\"> Sex    </span>┃<span style=\"font-weight: bold\"> Survived </span>┃<span style=\"font-weight: bold\"> Passengers </span>┃<span style=\"font-weight: bold\"> AvgAge    </span>┃<span style=\"font-weight: bold\"> Count </span>┃\n",
       "┡━━━━━━━━╇━━━━━━━━━━╇━━━━━━━━━━━━╇━━━━━━━━━━━╇━━━━━━━┩\n",
       "│ <span style=\"color: #7f7f7f; text-decoration-color: #7f7f7f\">string</span> │ <span style=\"color: #7f7f7f; text-decoration-color: #7f7f7f\">boolean</span>  │ <span style=\"color: #7f7f7f; text-decoration-color: #7f7f7f\">int64</span>      │ <span style=\"color: #7f7f7f; text-decoration-color: #7f7f7f\">float64</span>   │ <span style=\"color: #7f7f7f; text-decoration-color: #7f7f7f\">int64</span> │\n",
       "├────────┼──────────┼────────────┼───────────┼───────┤\n",
       "│ <span style=\"color: #008000; text-decoration-color: #008000\">female</span> │ False    │         <span style=\"color: #008080; text-decoration-color: #008080; font-weight: bold\">81</span> │ <span style=\"color: #008080; text-decoration-color: #008080; font-weight: bold\">25.046875</span> │   <span style=\"color: #008080; text-decoration-color: #008080; font-weight: bold\">314</span> │\n",
       "│ <span style=\"color: #008000; text-decoration-color: #008000\">female</span> │ True     │        <span style=\"color: #008080; text-decoration-color: #008080; font-weight: bold\">233</span> │ <span style=\"color: #008080; text-decoration-color: #008080; font-weight: bold\">28.847716</span> │   <span style=\"color: #008080; text-decoration-color: #008080; font-weight: bold\">314</span> │\n",
       "│ <span style=\"color: #008000; text-decoration-color: #008000\">male  </span> │ False    │        <span style=\"color: #008080; text-decoration-color: #008080; font-weight: bold\">468</span> │ <span style=\"color: #008080; text-decoration-color: #008080; font-weight: bold\">31.618056</span> │   <span style=\"color: #008080; text-decoration-color: #008080; font-weight: bold\">577</span> │\n",
       "│ <span style=\"color: #008000; text-decoration-color: #008000\">male  </span> │ True     │        <span style=\"color: #008080; text-decoration-color: #008080; font-weight: bold\">109</span> │ <span style=\"color: #008080; text-decoration-color: #008080; font-weight: bold\">27.276022</span> │   <span style=\"color: #008080; text-decoration-color: #008080; font-weight: bold\">577</span> │\n",
       "└────────┴──────────┴────────────┴───────────┴───────┘\n",
       "</pre>\n"
      ],
      "text/plain": [
       "┏━━━━━━━━┳━━━━━━━━━━┳━━━━━━━━━━━━┳━━━━━━━━━━━┳━━━━━━━┓\n",
       "┃\u001b[1m \u001b[0m\u001b[1mSex\u001b[0m\u001b[1m   \u001b[0m\u001b[1m \u001b[0m┃\u001b[1m \u001b[0m\u001b[1mSurvived\u001b[0m\u001b[1m \u001b[0m┃\u001b[1m \u001b[0m\u001b[1mPassengers\u001b[0m\u001b[1m \u001b[0m┃\u001b[1m \u001b[0m\u001b[1mAvgAge\u001b[0m\u001b[1m   \u001b[0m\u001b[1m \u001b[0m┃\u001b[1m \u001b[0m\u001b[1mCount\u001b[0m\u001b[1m \u001b[0m┃\n",
       "┡━━━━━━━━╇━━━━━━━━━━╇━━━━━━━━━━━━╇━━━━━━━━━━━╇━━━━━━━┩\n",
       "│ \u001b[2mstring\u001b[0m │ \u001b[2mboolean\u001b[0m  │ \u001b[2mint64\u001b[0m      │ \u001b[2mfloat64\u001b[0m   │ \u001b[2mint64\u001b[0m │\n",
       "├────────┼──────────┼────────────┼───────────┼───────┤\n",
       "│ \u001b[32mfemale\u001b[0m │ False    │         \u001b[1;36m81\u001b[0m │ \u001b[1;36m25.046875\u001b[0m │   \u001b[1;36m314\u001b[0m │\n",
       "│ \u001b[32mfemale\u001b[0m │ True     │        \u001b[1;36m233\u001b[0m │ \u001b[1;36m28.847716\u001b[0m │   \u001b[1;36m314\u001b[0m │\n",
       "│ \u001b[32mmale  \u001b[0m │ False    │        \u001b[1;36m468\u001b[0m │ \u001b[1;36m31.618056\u001b[0m │   \u001b[1;36m577\u001b[0m │\n",
       "│ \u001b[32mmale  \u001b[0m │ True     │        \u001b[1;36m109\u001b[0m │ \u001b[1;36m27.276022\u001b[0m │   \u001b[1;36m577\u001b[0m │\n",
       "└────────┴──────────┴────────────┴───────────┴───────┘"
      ]
     },
     "execution_count": 18,
     "metadata": {},
     "output_type": "execute_result"
    }
   ],
   "source": [
    "gender = titanic_tbl[train].group_by(titanic_tbl.Sex).count(metric_name='Count').relabel(dict(Sex='Sex_'))  # Relabel to avoid duplicate name in result\n",
    "joined = freq.join(gender, freq.Sex == gender.Sex_).drop('Sex_')\n",
    "joined"
   ]
  },
  {
   "cell_type": "markdown",
   "id": "4d936c09-33b7-4aa0-bb45-c1a539328320",
   "metadata": {},
   "source": [
    "#### Calculate the percentages overall and within each gender"
   ]
  },
  {
   "cell_type": "code",
   "execution_count": 19,
   "id": "4ee696e8",
   "metadata": {
    "tags": []
   },
   "outputs": [
    {
     "data": {
      "text/html": [
       "<pre style=\"white-space:pre;overflow-x:auto;line-height:normal;font-family:Menlo,'DejaVu Sans Mono',consolas,'Courier New',monospace\">┏━━━━━━━━┳━━━━━━━━━━┳━━━━━━━━━━━━┳━━━━━━━━━━━┳━━━━━━━┳━━━━━━━━━━━━━━━━┳━━━━━━━━━━━━━━┓\n",
       "┃<span style=\"font-weight: bold\"> Sex    </span>┃<span style=\"font-weight: bold\"> Survived </span>┃<span style=\"font-weight: bold\"> Passengers </span>┃<span style=\"font-weight: bold\"> AvgAge    </span>┃<span style=\"font-weight: bold\"> Count </span>┃<span style=\"font-weight: bold\"> OverallPercent </span>┃<span style=\"font-weight: bold\"> GroupPercent </span>┃\n",
       "┡━━━━━━━━╇━━━━━━━━━━╇━━━━━━━━━━━━╇━━━━━━━━━━━╇━━━━━━━╇━━━━━━━━━━━━━━━━╇━━━━━━━━━━━━━━┩\n",
       "│ <span style=\"color: #7f7f7f; text-decoration-color: #7f7f7f\">string</span> │ <span style=\"color: #7f7f7f; text-decoration-color: #7f7f7f\">boolean</span>  │ <span style=\"color: #7f7f7f; text-decoration-color: #7f7f7f\">int64</span>      │ <span style=\"color: #7f7f7f; text-decoration-color: #7f7f7f\">float64</span>   │ <span style=\"color: #7f7f7f; text-decoration-color: #7f7f7f\">int64</span> │ <span style=\"color: #7f7f7f; text-decoration-color: #7f7f7f\">float64</span>        │ <span style=\"color: #7f7f7f; text-decoration-color: #7f7f7f\">float64</span>      │\n",
       "├────────┼──────────┼────────────┼───────────┼───────┼────────────────┼──────────────┤\n",
       "│ <span style=\"color: #008000; text-decoration-color: #008000\">female</span> │ False    │         <span style=\"color: #008080; text-decoration-color: #008080; font-weight: bold\">81</span> │ <span style=\"color: #008080; text-decoration-color: #008080; font-weight: bold\">25.046875</span> │   <span style=\"color: #008080; text-decoration-color: #008080; font-weight: bold\">314</span> │       <span style=\"color: #008080; text-decoration-color: #008080; font-weight: bold\">9.090909</span> │    <span style=\"color: #008080; text-decoration-color: #008080; font-weight: bold\">25.796178</span> │\n",
       "│ <span style=\"color: #008000; text-decoration-color: #008000\">female</span> │ True     │        <span style=\"color: #008080; text-decoration-color: #008080; font-weight: bold\">233</span> │ <span style=\"color: #008080; text-decoration-color: #008080; font-weight: bold\">28.847716</span> │   <span style=\"color: #008080; text-decoration-color: #008080; font-weight: bold\">314</span> │      <span style=\"color: #008080; text-decoration-color: #008080; font-weight: bold\">26.150393</span> │    <span style=\"color: #008080; text-decoration-color: #008080; font-weight: bold\">74.203822</span> │\n",
       "│ <span style=\"color: #008000; text-decoration-color: #008000\">male  </span> │ False    │        <span style=\"color: #008080; text-decoration-color: #008080; font-weight: bold\">468</span> │ <span style=\"color: #008080; text-decoration-color: #008080; font-weight: bold\">31.618056</span> │   <span style=\"color: #008080; text-decoration-color: #008080; font-weight: bold\">577</span> │      <span style=\"color: #008080; text-decoration-color: #008080; font-weight: bold\">52.525253</span> │    <span style=\"color: #008080; text-decoration-color: #008080; font-weight: bold\">81.109185</span> │\n",
       "│ <span style=\"color: #008000; text-decoration-color: #008000\">male  </span> │ True     │        <span style=\"color: #008080; text-decoration-color: #008080; font-weight: bold\">109</span> │ <span style=\"color: #008080; text-decoration-color: #008080; font-weight: bold\">27.276022</span> │   <span style=\"color: #008080; text-decoration-color: #008080; font-weight: bold\">577</span> │      <span style=\"color: #008080; text-decoration-color: #008080; font-weight: bold\">12.233446</span> │    <span style=\"color: #008080; text-decoration-color: #008080; font-weight: bold\">18.890815</span> │\n",
       "└────────┴──────────┴────────────┴───────────┴───────┴────────────────┴──────────────┘\n",
       "</pre>\n"
      ],
      "text/plain": [
       "┏━━━━━━━━┳━━━━━━━━━━┳━━━━━━━━━━━━┳━━━━━━━━━━━┳━━━━━━━┳━━━━━━━━━━━━━━━━┳━━━━━━━━━━━━━━┓\n",
       "┃\u001b[1m \u001b[0m\u001b[1mSex\u001b[0m\u001b[1m   \u001b[0m\u001b[1m \u001b[0m┃\u001b[1m \u001b[0m\u001b[1mSurvived\u001b[0m\u001b[1m \u001b[0m┃\u001b[1m \u001b[0m\u001b[1mPassengers\u001b[0m\u001b[1m \u001b[0m┃\u001b[1m \u001b[0m\u001b[1mAvgAge\u001b[0m\u001b[1m   \u001b[0m\u001b[1m \u001b[0m┃\u001b[1m \u001b[0m\u001b[1mCount\u001b[0m\u001b[1m \u001b[0m┃\u001b[1m \u001b[0m\u001b[1mOverallPercent\u001b[0m\u001b[1m \u001b[0m┃\u001b[1m \u001b[0m\u001b[1mGroupPercent\u001b[0m\u001b[1m \u001b[0m┃\n",
       "┡━━━━━━━━╇━━━━━━━━━━╇━━━━━━━━━━━━╇━━━━━━━━━━━╇━━━━━━━╇━━━━━━━━━━━━━━━━╇━━━━━━━━━━━━━━┩\n",
       "│ \u001b[2mstring\u001b[0m │ \u001b[2mboolean\u001b[0m  │ \u001b[2mint64\u001b[0m      │ \u001b[2mfloat64\u001b[0m   │ \u001b[2mint64\u001b[0m │ \u001b[2mfloat64\u001b[0m        │ \u001b[2mfloat64\u001b[0m      │\n",
       "├────────┼──────────┼────────────┼───────────┼───────┼────────────────┼──────────────┤\n",
       "│ \u001b[32mfemale\u001b[0m │ False    │         \u001b[1;36m81\u001b[0m │ \u001b[1;36m25.046875\u001b[0m │   \u001b[1;36m314\u001b[0m │       \u001b[1;36m9.090909\u001b[0m │    \u001b[1;36m25.796178\u001b[0m │\n",
       "│ \u001b[32mfemale\u001b[0m │ True     │        \u001b[1;36m233\u001b[0m │ \u001b[1;36m28.847716\u001b[0m │   \u001b[1;36m314\u001b[0m │      \u001b[1;36m26.150393\u001b[0m │    \u001b[1;36m74.203822\u001b[0m │\n",
       "│ \u001b[32mmale  \u001b[0m │ False    │        \u001b[1;36m468\u001b[0m │ \u001b[1;36m31.618056\u001b[0m │   \u001b[1;36m577\u001b[0m │      \u001b[1;36m52.525253\u001b[0m │    \u001b[1;36m81.109185\u001b[0m │\n",
       "│ \u001b[32mmale  \u001b[0m │ True     │        \u001b[1;36m109\u001b[0m │ \u001b[1;36m27.276022\u001b[0m │   \u001b[1;36m577\u001b[0m │      \u001b[1;36m12.233446\u001b[0m │    \u001b[1;36m18.890815\u001b[0m │\n",
       "└────────┴──────────┴────────────┴───────────┴───────┴────────────────┴──────────────┘"
      ]
     },
     "execution_count": 19,
     "metadata": {},
     "output_type": "execute_result"
    }
   ],
   "source": [
    "# Get the total as a local numeric to use in the following expressions.\n",
    "# Downloading the value is needed because it originates from a separate table expression.\n",
    "total_int = titanic_tbl[train].count().execute()\n",
    "\n",
    "# Add additional columns to joined table and execute to download the data for plotting.\n",
    "joined = joined.mutate(\n",
    "    OverallPercent=100.0 * joined.Passengers / total_int,\n",
    "    GroupPercent=100.0 * joined.Passengers / joined.Count,\n",
    ")\n",
    "\n",
    "joined"
   ]
  },
  {
   "cell_type": "markdown",
   "id": "bcb62390-9581-485a-b2fd-bb5be98db948",
   "metadata": {},
   "source": [
    "#### Draw a nested barplot by sex and survival"
   ]
  },
  {
   "cell_type": "markdown",
   "id": "cc7a84af-533f-46b5-a4c4-ed8f5aa83a95",
   "metadata": {},
   "source": [
    "Plotting the data requires us to download the data into a pandas `DataFrame`. The `execute` method is used to \n",
    "execute the query behind the `joined` object and return a local `DataFrame` of the values."
   ]
  },
  {
   "cell_type": "code",
   "execution_count": 20,
   "id": "f160bfb3-9a98-458c-a2a5-babdac6e9a78",
   "metadata": {
    "tags": []
   },
   "outputs": [],
   "source": [
    "joined_df = joined.execute()"
   ]
  },
  {
   "cell_type": "code",
   "execution_count": 21,
   "id": "446390dd",
   "metadata": {
    "tags": []
   },
   "outputs": [
    {
     "data": {
      "image/png": "[encoded data removed]",
      "text/plain": [
       "<Figure size 784.875x700 with 1 Axes>"
      ]
     },
     "metadata": {},
     "output_type": "display_data"
    }
   ],
   "source": [
    "g = sns.catplot(\n",
    "    data=joined_df, kind='bar',\n",
    "    x='Sex', y='OverallPercent', hue='Survived',\n",
    "    palette='dark', alpha=.6, height=7\n",
    ")\n",
    "\n",
    "g.despine(left=True)\n",
    "g.set_axis_labels('Gender', 'Percent of Passengers')\n",
    "g.legend.set_title('')\n",
    "\n",
    "new_labels = ['Dead', 'Survived']\n",
    "for t, l in zip(g.legend.texts, new_labels):\n",
    "    t.set_text(l)\n",
    "    \n",
    "g.fig.suptitle('Pct of Passengers by Gender and Survival');"
   ]
  },
  {
   "cell_type": "code",
   "execution_count": 22,
   "id": "72d7f556",
   "metadata": {
    "tags": []
   },
   "outputs": [
    {
     "data": {
      "image/png": "[encoded data removed]",
      "text/plain": [
       "<Figure size 784.875x700 with 1 Axes>"
      ]
     },
     "metadata": {},
     "output_type": "display_data"
    }
   ],
   "source": [
    "g = sns.catplot(\n",
    "    data=joined_df, kind='bar',\n",
    "    x='Sex', y='GroupPercent', hue='Survived',\n",
    "    palette='dark', alpha=.6, height=7\n",
    ")\n",
    "\n",
    "g.despine(left=True)\n",
    "g.set_axis_labels('Gender', 'Percent of Passengers')\n",
    "g.legend.set_title('')\n",
    "\n",
    "new_labels = ['Dead', 'Survived']\n",
    "for t, l in zip(g.legend.texts, new_labels):\n",
    "    t.set_text(l)\n",
    "\n",
    "g.fig.suptitle('Passenger Classification within Gender');"
   ]
  },
  {
   "cell_type": "markdown",
   "id": "8d91e4b9",
   "metadata": {},
   "source": [
    "### Survival by Passenger Class"
   ]
  },
  {
   "cell_type": "code",
   "execution_count": 23,
   "id": "188a43d0",
   "metadata": {
    "tags": []
   },
   "outputs": [
    {
     "data": {
      "text/html": [
       "<pre style=\"white-space:pre;overflow-x:auto;line-height:normal;font-family:Menlo,'DejaVu Sans Mono',consolas,'Courier New',monospace\">┏━━━━━━━━┳━━━━━━━━━━┳━━━━━━━━━━━━┳━━━━━━━━━━━┓\n",
       "┃<span style=\"font-weight: bold\"> Pclass </span>┃<span style=\"font-weight: bold\"> Survived </span>┃<span style=\"font-weight: bold\"> Passengers </span>┃<span style=\"font-weight: bold\"> AvgAge    </span>┃\n",
       "┡━━━━━━━━╇━━━━━━━━━━╇━━━━━━━━━━━━╇━━━━━━━━━━━┩\n",
       "│ <span style=\"color: #7f7f7f; text-decoration-color: #7f7f7f\">int64</span>  │ <span style=\"color: #7f7f7f; text-decoration-color: #7f7f7f\">boolean</span>  │ <span style=\"color: #7f7f7f; text-decoration-color: #7f7f7f\">int64</span>      │ <span style=\"color: #7f7f7f; text-decoration-color: #7f7f7f\">float64</span>   │\n",
       "├────────┼──────────┼────────────┼───────────┤\n",
       "│      <span style=\"color: #008080; text-decoration-color: #008080; font-weight: bold\">1</span> │ False    │         <span style=\"color: #008080; text-decoration-color: #008080; font-weight: bold\">80</span> │ <span style=\"color: #008080; text-decoration-color: #008080; font-weight: bold\">43.695312</span> │\n",
       "│      <span style=\"color: #008080; text-decoration-color: #008080; font-weight: bold\">1</span> │ True     │        <span style=\"color: #008080; text-decoration-color: #008080; font-weight: bold\">136</span> │ <span style=\"color: #008080; text-decoration-color: #008080; font-weight: bold\">35.368197</span> │\n",
       "│      <span style=\"color: #008080; text-decoration-color: #008080; font-weight: bold\">2</span> │ False    │         <span style=\"color: #008080; text-decoration-color: #008080; font-weight: bold\">97</span> │ <span style=\"color: #008080; text-decoration-color: #008080; font-weight: bold\">33.544444</span> │\n",
       "│      <span style=\"color: #008080; text-decoration-color: #008080; font-weight: bold\">2</span> │ True     │         <span style=\"color: #008080; text-decoration-color: #008080; font-weight: bold\">87</span> │ <span style=\"color: #008080; text-decoration-color: #008080; font-weight: bold\">25.901566</span> │\n",
       "│      <span style=\"color: #008080; text-decoration-color: #008080; font-weight: bold\">3</span> │ False    │        <span style=\"color: #008080; text-decoration-color: #008080; font-weight: bold\">372</span> │ <span style=\"color: #008080; text-decoration-color: #008080; font-weight: bold\">26.555556</span> │\n",
       "│      <span style=\"color: #008080; text-decoration-color: #008080; font-weight: bold\">3</span> │ True     │        <span style=\"color: #008080; text-decoration-color: #008080; font-weight: bold\">119</span> │ <span style=\"color: #008080; text-decoration-color: #008080; font-weight: bold\">20.646118</span> │\n",
       "└────────┴──────────┴────────────┴───────────┘\n",
       "</pre>\n"
      ],
      "text/plain": [
       "┏━━━━━━━━┳━━━━━━━━━━┳━━━━━━━━━━━━┳━━━━━━━━━━━┓\n",
       "┃\u001b[1m \u001b[0m\u001b[1mPclass\u001b[0m\u001b[1m \u001b[0m┃\u001b[1m \u001b[0m\u001b[1mSurvived\u001b[0m\u001b[1m \u001b[0m┃\u001b[1m \u001b[0m\u001b[1mPassengers\u001b[0m\u001b[1m \u001b[0m┃\u001b[1m \u001b[0m\u001b[1mAvgAge\u001b[0m\u001b[1m   \u001b[0m\u001b[1m \u001b[0m┃\n",
       "┡━━━━━━━━╇━━━━━━━━━━╇━━━━━━━━━━━━╇━━━━━━━━━━━┩\n",
       "│ \u001b[2mint64\u001b[0m  │ \u001b[2mboolean\u001b[0m  │ \u001b[2mint64\u001b[0m      │ \u001b[2mfloat64\u001b[0m   │\n",
       "├────────┼──────────┼────────────┼───────────┤\n",
       "│      \u001b[1;36m1\u001b[0m │ False    │         \u001b[1;36m80\u001b[0m │ \u001b[1;36m43.695312\u001b[0m │\n",
       "│      \u001b[1;36m1\u001b[0m │ True     │        \u001b[1;36m136\u001b[0m │ \u001b[1;36m35.368197\u001b[0m │\n",
       "│      \u001b[1;36m2\u001b[0m │ False    │         \u001b[1;36m97\u001b[0m │ \u001b[1;36m33.544444\u001b[0m │\n",
       "│      \u001b[1;36m2\u001b[0m │ True     │         \u001b[1;36m87\u001b[0m │ \u001b[1;36m25.901566\u001b[0m │\n",
       "│      \u001b[1;36m3\u001b[0m │ False    │        \u001b[1;36m372\u001b[0m │ \u001b[1;36m26.555556\u001b[0m │\n",
       "│      \u001b[1;36m3\u001b[0m │ True     │        \u001b[1;36m119\u001b[0m │ \u001b[1;36m20.646118\u001b[0m │\n",
       "└────────┴──────────┴────────────┴───────────┘"
      ]
     },
     "execution_count": 23,
     "metadata": {},
     "output_type": "execute_result"
    }
   ],
   "source": [
    "cols = [titanic_tbl.Pclass, titanic_tbl.Survived]\n",
    "\n",
    "freq = titanic_tbl[train].group_by(cols).aggregate(\n",
    "    Passengers=titanic_tbl.count(),\n",
    "    AvgAge=titanic_tbl.Age.mean(),\n",
    ").order_by(cols)\n",
    "\n",
    "freq"
   ]
  },
  {
   "cell_type": "code",
   "execution_count": 24,
   "id": "454a700f",
   "metadata": {
    "tags": []
   },
   "outputs": [
    {
     "data": {
      "text/html": [
       "<pre style=\"white-space:pre;overflow-x:auto;line-height:normal;font-family:Menlo,'DejaVu Sans Mono',consolas,'Courier New',monospace\">┏━━━━━━━━┳━━━━━━━━━━┳━━━━━━━━━━━━┳━━━━━━━━━━━┳━━━━━━━┳━━━━━━━━━━━━━━━━┳━━━━━━━━━━━━━━┓\n",
       "┃<span style=\"font-weight: bold\"> Pclass </span>┃<span style=\"font-weight: bold\"> Survived </span>┃<span style=\"font-weight: bold\"> Passengers </span>┃<span style=\"font-weight: bold\"> AvgAge    </span>┃<span style=\"font-weight: bold\"> Count </span>┃<span style=\"font-weight: bold\"> OverallPercent </span>┃<span style=\"font-weight: bold\"> GroupPercent </span>┃\n",
       "┡━━━━━━━━╇━━━━━━━━━━╇━━━━━━━━━━━━╇━━━━━━━━━━━╇━━━━━━━╇━━━━━━━━━━━━━━━━╇━━━━━━━━━━━━━━┩\n",
       "│ <span style=\"color: #7f7f7f; text-decoration-color: #7f7f7f\">int64</span>  │ <span style=\"color: #7f7f7f; text-decoration-color: #7f7f7f\">boolean</span>  │ <span style=\"color: #7f7f7f; text-decoration-color: #7f7f7f\">int64</span>      │ <span style=\"color: #7f7f7f; text-decoration-color: #7f7f7f\">float64</span>   │ <span style=\"color: #7f7f7f; text-decoration-color: #7f7f7f\">int64</span> │ <span style=\"color: #7f7f7f; text-decoration-color: #7f7f7f\">float64</span>        │ <span style=\"color: #7f7f7f; text-decoration-color: #7f7f7f\">float64</span>      │\n",
       "├────────┼──────────┼────────────┼───────────┼───────┼────────────────┼──────────────┤\n",
       "│      <span style=\"color: #008080; text-decoration-color: #008080; font-weight: bold\">1</span> │ False    │         <span style=\"color: #008080; text-decoration-color: #008080; font-weight: bold\">80</span> │ <span style=\"color: #008080; text-decoration-color: #008080; font-weight: bold\">43.695312</span> │   <span style=\"color: #008080; text-decoration-color: #008080; font-weight: bold\">216</span> │       <span style=\"color: #008080; text-decoration-color: #008080; font-weight: bold\">8.978676</span> │    <span style=\"color: #008080; text-decoration-color: #008080; font-weight: bold\">37.037037</span> │\n",
       "│      <span style=\"color: #008080; text-decoration-color: #008080; font-weight: bold\">1</span> │ True     │        <span style=\"color: #008080; text-decoration-color: #008080; font-weight: bold\">136</span> │ <span style=\"color: #008080; text-decoration-color: #008080; font-weight: bold\">35.368197</span> │   <span style=\"color: #008080; text-decoration-color: #008080; font-weight: bold\">216</span> │      <span style=\"color: #008080; text-decoration-color: #008080; font-weight: bold\">15.263749</span> │    <span style=\"color: #008080; text-decoration-color: #008080; font-weight: bold\">62.962963</span> │\n",
       "│      <span style=\"color: #008080; text-decoration-color: #008080; font-weight: bold\">2</span> │ False    │         <span style=\"color: #008080; text-decoration-color: #008080; font-weight: bold\">97</span> │ <span style=\"color: #008080; text-decoration-color: #008080; font-weight: bold\">33.544444</span> │   <span style=\"color: #008080; text-decoration-color: #008080; font-weight: bold\">184</span> │      <span style=\"color: #008080; text-decoration-color: #008080; font-weight: bold\">10.886644</span> │    <span style=\"color: #008080; text-decoration-color: #008080; font-weight: bold\">52.717391</span> │\n",
       "│      <span style=\"color: #008080; text-decoration-color: #008080; font-weight: bold\">2</span> │ True     │         <span style=\"color: #008080; text-decoration-color: #008080; font-weight: bold\">87</span> │ <span style=\"color: #008080; text-decoration-color: #008080; font-weight: bold\">25.901566</span> │   <span style=\"color: #008080; text-decoration-color: #008080; font-weight: bold\">184</span> │       <span style=\"color: #008080; text-decoration-color: #008080; font-weight: bold\">9.764310</span> │    <span style=\"color: #008080; text-decoration-color: #008080; font-weight: bold\">47.282609</span> │\n",
       "│      <span style=\"color: #008080; text-decoration-color: #008080; font-weight: bold\">3</span> │ False    │        <span style=\"color: #008080; text-decoration-color: #008080; font-weight: bold\">372</span> │ <span style=\"color: #008080; text-decoration-color: #008080; font-weight: bold\">26.555556</span> │   <span style=\"color: #008080; text-decoration-color: #008080; font-weight: bold\">491</span> │      <span style=\"color: #008080; text-decoration-color: #008080; font-weight: bold\">41.750842</span> │    <span style=\"color: #008080; text-decoration-color: #008080; font-weight: bold\">75.763747</span> │\n",
       "│      <span style=\"color: #008080; text-decoration-color: #008080; font-weight: bold\">3</span> │ True     │        <span style=\"color: #008080; text-decoration-color: #008080; font-weight: bold\">119</span> │ <span style=\"color: #008080; text-decoration-color: #008080; font-weight: bold\">20.646118</span> │   <span style=\"color: #008080; text-decoration-color: #008080; font-weight: bold\">491</span> │      <span style=\"color: #008080; text-decoration-color: #008080; font-weight: bold\">13.355780</span> │    <span style=\"color: #008080; text-decoration-color: #008080; font-weight: bold\">24.236253</span> │\n",
       "└────────┴──────────┴────────────┴───────────┴───────┴────────────────┴──────────────┘\n",
       "</pre>\n"
      ],
      "text/plain": [
       "┏━━━━━━━━┳━━━━━━━━━━┳━━━━━━━━━━━━┳━━━━━━━━━━━┳━━━━━━━┳━━━━━━━━━━━━━━━━┳━━━━━━━━━━━━━━┓\n",
       "┃\u001b[1m \u001b[0m\u001b[1mPclass\u001b[0m\u001b[1m \u001b[0m┃\u001b[1m \u001b[0m\u001b[1mSurvived\u001b[0m\u001b[1m \u001b[0m┃\u001b[1m \u001b[0m\u001b[1mPassengers\u001b[0m\u001b[1m \u001b[0m┃\u001b[1m \u001b[0m\u001b[1mAvgAge\u001b[0m\u001b[1m   \u001b[0m\u001b[1m \u001b[0m┃\u001b[1m \u001b[0m\u001b[1mCount\u001b[0m\u001b[1m \u001b[0m┃\u001b[1m \u001b[0m\u001b[1mOverallPercent\u001b[0m\u001b[1m \u001b[0m┃\u001b[1m \u001b[0m\u001b[1mGroupPercent\u001b[0m\u001b[1m \u001b[0m┃\n",
       "┡━━━━━━━━╇━━━━━━━━━━╇━━━━━━━━━━━━╇━━━━━━━━━━━╇━━━━━━━╇━━━━━━━━━━━━━━━━╇━━━━━━━━━━━━━━┩\n",
       "│ \u001b[2mint64\u001b[0m  │ \u001b[2mboolean\u001b[0m  │ \u001b[2mint64\u001b[0m      │ \u001b[2mfloat64\u001b[0m   │ \u001b[2mint64\u001b[0m │ \u001b[2mfloat64\u001b[0m        │ \u001b[2mfloat64\u001b[0m      │\n",
       "├────────┼──────────┼────────────┼───────────┼───────┼────────────────┼──────────────┤\n",
       "│      \u001b[1;36m1\u001b[0m │ False    │         \u001b[1;36m80\u001b[0m │ \u001b[1;36m43.695312\u001b[0m │   \u001b[1;36m216\u001b[0m │       \u001b[1;36m8.978676\u001b[0m │    \u001b[1;36m37.037037\u001b[0m │\n",
       "│      \u001b[1;36m1\u001b[0m │ True     │        \u001b[1;36m136\u001b[0m │ \u001b[1;36m35.368197\u001b[0m │   \u001b[1;36m216\u001b[0m │      \u001b[1;36m15.263749\u001b[0m │    \u001b[1;36m62.962963\u001b[0m │\n",
       "│      \u001b[1;36m2\u001b[0m │ False    │         \u001b[1;36m97\u001b[0m │ \u001b[1;36m33.544444\u001b[0m │   \u001b[1;36m184\u001b[0m │      \u001b[1;36m10.886644\u001b[0m │    \u001b[1;36m52.717391\u001b[0m │\n",
       "│      \u001b[1;36m2\u001b[0m │ True     │         \u001b[1;36m87\u001b[0m │ \u001b[1;36m25.901566\u001b[0m │   \u001b[1;36m184\u001b[0m │       \u001b[1;36m9.764310\u001b[0m │    \u001b[1;36m47.282609\u001b[0m │\n",
       "│      \u001b[1;36m3\u001b[0m │ False    │        \u001b[1;36m372\u001b[0m │ \u001b[1;36m26.555556\u001b[0m │   \u001b[1;36m491\u001b[0m │      \u001b[1;36m41.750842\u001b[0m │    \u001b[1;36m75.763747\u001b[0m │\n",
       "│      \u001b[1;36m3\u001b[0m │ True     │        \u001b[1;36m119\u001b[0m │ \u001b[1;36m20.646118\u001b[0m │   \u001b[1;36m491\u001b[0m │      \u001b[1;36m13.355780\u001b[0m │    \u001b[1;36m24.236253\u001b[0m │\n",
       "└────────┴──────────┴────────────┴───────────┴───────┴────────────────┴──────────────┘"
      ]
     },
     "execution_count": 24,
     "metadata": {},
     "output_type": "execute_result"
    }
   ],
   "source": [
    "passenger = titanic_tbl[train].group_by(titanic_tbl.Pclass).count(metric_name='Count').relabel(dict(Pclass='Pclass_'))\n",
    "joined = freq.join(passenger, freq.Pclass == passenger.Pclass_).drop('Pclass_')\n",
    "\n",
    "joined = joined.mutate(\n",
    "    OverallPercent=100.0 * joined.Passengers / total_int,\n",
    "    GroupPercent=100.0 * joined.Passengers / joined.Count,\n",
    ")\n",
    "\n",
    "joined"
   ]
  },
  {
   "cell_type": "code",
   "execution_count": 26,
   "id": "f7035fd9",
   "metadata": {
    "tags": []
   },
   "outputs": [
    {
     "data": {
      "image/png": "[encoded data removed]",
      "text/plain": [
       "<Figure size 800x800 with 1 Axes>"
      ]
     },
     "metadata": {},
     "output_type": "display_data"
    }
   ],
   "source": [
    "survived_df = joined[joined.Survived].execute()\n",
    "\n",
    "g = sns.catplot(\n",
    "    data=survived_df,\n",
    "    kind='bar',\n",
    "    x='Pclass', y='GroupPercent',\n",
    "    palette='dark', alpha=.6, height=8\n",
    ")\n",
    "\n",
    "g.despine(left=True)\n",
    "g.set_axis_labels('Passenger Class', 'Percent of Passengers')\n",
    "g.fig.suptitle('Survival Pct by Passenger Class');"
   ]
  },
  {
   "cell_type": "markdown",
   "id": "b38301e1",
   "metadata": {},
   "source": [
    "### Analyze Age Groups"
   ]
  },
  {
   "cell_type": "code",
   "execution_count": 27,
   "id": "30d9f828",
   "metadata": {
    "tags": []
   },
   "outputs": [
    {
     "data": {
      "text/html": [
       "<pre style=\"white-space:pre;overflow-x:auto;line-height:normal;font-family:Menlo,'DejaVu Sans Mono',consolas,'Courier New',monospace\">┏━━━━━━━━┳━━━━━━━━━━┳━━━━━━━┳━━━━━━━━━━━┓\n",
       "┃<span style=\"font-weight: bold\"> Ages   </span>┃<span style=\"font-weight: bold\"> AgeGroup </span>┃<span style=\"font-weight: bold\"> Count </span>┃<span style=\"font-weight: bold\"> Percent   </span>┃\n",
       "┡━━━━━━━━╇━━━━━━━━━━╇━━━━━━━╇━━━━━━━━━━━┩\n",
       "│ <span style=\"color: #7f7f7f; text-decoration-color: #7f7f7f\">string</span> │ <span style=\"color: #7f7f7f; text-decoration-color: #7f7f7f\">int8</span>     │ <span style=\"color: #7f7f7f; text-decoration-color: #7f7f7f\">int64</span> │ <span style=\"color: #7f7f7f; text-decoration-color: #7f7f7f\">float64</span>   │\n",
       "├────────┼──────────┼───────┼───────────┤\n",
       "│ <span style=\"color: #7f7f7f; text-decoration-color: #7f7f7f\">NULL</span>   │     <span style=\"color: #7f7f7f; text-decoration-color: #7f7f7f\">NULL</span> │   <span style=\"color: #008080; text-decoration-color: #008080; font-weight: bold\">263</span> │ <span style=\"color: #008080; text-decoration-color: #008080; font-weight: bold\">20.091673</span> │\n",
       "│ <span style=\"color: #008000; text-decoration-color: #008000\">&lt; 10  </span> │        <span style=\"color: #008080; text-decoration-color: #008080; font-weight: bold\">1</span> │    <span style=\"color: #008080; text-decoration-color: #008080; font-weight: bold\">82</span> │  <span style=\"color: #008080; text-decoration-color: #008080; font-weight: bold\">6.264324</span> │\n",
       "│ <span style=\"color: #008000; text-decoration-color: #008000\">11-20 </span> │        <span style=\"color: #008080; text-decoration-color: #008080; font-weight: bold\">2</span> │   <span style=\"color: #008080; text-decoration-color: #008080; font-weight: bold\">143</span> │ <span style=\"color: #008080; text-decoration-color: #008080; font-weight: bold\">10.924370</span> │\n",
       "│ <span style=\"color: #008000; text-decoration-color: #008000\">21-30 </span> │        <span style=\"color: #008080; text-decoration-color: #008080; font-weight: bold\">3</span> │   <span style=\"color: #008080; text-decoration-color: #008080; font-weight: bold\">344</span> │ <span style=\"color: #008080; text-decoration-color: #008080; font-weight: bold\">26.279603</span> │\n",
       "│ <span style=\"color: #008000; text-decoration-color: #008000\">31-40 </span> │        <span style=\"color: #008080; text-decoration-color: #008080; font-weight: bold\">4</span> │   <span style=\"color: #008080; text-decoration-color: #008080; font-weight: bold\">232</span> │ <span style=\"color: #008080; text-decoration-color: #008080; font-weight: bold\">17.723453</span> │\n",
       "│ <span style=\"color: #008000; text-decoration-color: #008000\">41-50 </span> │        <span style=\"color: #008080; text-decoration-color: #008080; font-weight: bold\">5</span> │   <span style=\"color: #008080; text-decoration-color: #008080; font-weight: bold\">135</span> │ <span style=\"color: #008080; text-decoration-color: #008080; font-weight: bold\">10.313216</span> │\n",
       "│ <span style=\"color: #008000; text-decoration-color: #008000\">51-60 </span> │        <span style=\"color: #008080; text-decoration-color: #008080; font-weight: bold\">6</span> │    <span style=\"color: #008080; text-decoration-color: #008080; font-weight: bold\">70</span> │  <span style=\"color: #008080; text-decoration-color: #008080; font-weight: bold\">5.347594</span> │\n",
       "│ <span style=\"color: #008000; text-decoration-color: #008000\">61-70 </span> │        <span style=\"color: #008080; text-decoration-color: #008080; font-weight: bold\">7</span> │    <span style=\"color: #008080; text-decoration-color: #008080; font-weight: bold\">32</span> │  <span style=\"color: #008080; text-decoration-color: #008080; font-weight: bold\">2.444614</span> │\n",
       "│ <span style=\"color: #008000; text-decoration-color: #008000\">71-80 </span> │        <span style=\"color: #008080; text-decoration-color: #008080; font-weight: bold\">8</span> │     <span style=\"color: #008080; text-decoration-color: #008080; font-weight: bold\">8</span> │  <span style=\"color: #008080; text-decoration-color: #008080; font-weight: bold\">0.611154</span> │\n",
       "└────────┴──────────┴───────┴───────────┘\n",
       "</pre>\n"
      ],
      "text/plain": [
       "┏━━━━━━━━┳━━━━━━━━━━┳━━━━━━━┳━━━━━━━━━━━┓\n",
       "┃\u001b[1m \u001b[0m\u001b[1mAges\u001b[0m\u001b[1m  \u001b[0m\u001b[1m \u001b[0m┃\u001b[1m \u001b[0m\u001b[1mAgeGroup\u001b[0m\u001b[1m \u001b[0m┃\u001b[1m \u001b[0m\u001b[1mCount\u001b[0m\u001b[1m \u001b[0m┃\u001b[1m \u001b[0m\u001b[1mPercent\u001b[0m\u001b[1m  \u001b[0m\u001b[1m \u001b[0m┃\n",
       "┡━━━━━━━━╇━━━━━━━━━━╇━━━━━━━╇━━━━━━━━━━━┩\n",
       "│ \u001b[2mstring\u001b[0m │ \u001b[2mint8\u001b[0m     │ \u001b[2mint64\u001b[0m │ \u001b[2mfloat64\u001b[0m   │\n",
       "├────────┼──────────┼───────┼───────────┤\n",
       "│ \u001b[2mNULL\u001b[0m   │     \u001b[2mNULL\u001b[0m │   \u001b[1;36m263\u001b[0m │ \u001b[1;36m20.091673\u001b[0m │\n",
       "│ \u001b[32m< 10  \u001b[0m │        \u001b[1;36m1\u001b[0m │    \u001b[1;36m82\u001b[0m │  \u001b[1;36m6.264324\u001b[0m │\n",
       "│ \u001b[32m11-20 \u001b[0m │        \u001b[1;36m2\u001b[0m │   \u001b[1;36m143\u001b[0m │ \u001b[1;36m10.924370\u001b[0m │\n",
       "│ \u001b[32m21-30 \u001b[0m │        \u001b[1;36m3\u001b[0m │   \u001b[1;36m344\u001b[0m │ \u001b[1;36m26.279603\u001b[0m │\n",
       "│ \u001b[32m31-40 \u001b[0m │        \u001b[1;36m4\u001b[0m │   \u001b[1;36m232\u001b[0m │ \u001b[1;36m17.723453\u001b[0m │\n",
       "│ \u001b[32m41-50 \u001b[0m │        \u001b[1;36m5\u001b[0m │   \u001b[1;36m135\u001b[0m │ \u001b[1;36m10.313216\u001b[0m │\n",
       "│ \u001b[32m51-60 \u001b[0m │        \u001b[1;36m6\u001b[0m │    \u001b[1;36m70\u001b[0m │  \u001b[1;36m5.347594\u001b[0m │\n",
       "│ \u001b[32m61-70 \u001b[0m │        \u001b[1;36m7\u001b[0m │    \u001b[1;36m32\u001b[0m │  \u001b[1;36m2.444614\u001b[0m │\n",
       "│ \u001b[32m71-80 \u001b[0m │        \u001b[1;36m8\u001b[0m │     \u001b[1;36m8\u001b[0m │  \u001b[1;36m0.611154\u001b[0m │\n",
       "└────────┴──────────┴───────┴───────────┘"
      ]
     },
     "execution_count": 27,
     "metadata": {},
     "output_type": "execute_result"
    }
   ],
   "source": [
    "buckets = list(range(-10, 90, 10))\n",
    "group = 'AgeGroup'\n",
    "\n",
    "bucketed = titanic_tbl.Age.bucket(buckets).name(group).value_counts().relabel(dict(AgeGroup_count='Count'))\n",
    "\n",
    "labeled_bucket = bucketed[group].label(\n",
    "    ['None', '< 10', '11-20', '21-30', '31-40', '41-50', '51-60', '61-70', '71-80']\n",
    ").name('Ages')\n",
    "\n",
    "expr = bucketed[labeled_bucket, bucketed]\n",
    "expr = expr.mutate(\n",
    "    Percent=100.0 * expr.Count / expr.Count.sum(),\n",
    ").order_by(group)\n",
    "\n",
    "expr"
   ]
  },
  {
   "cell_type": "code",
   "execution_count": 28,
   "id": "e798d1ce-03fc-4662-add8-b912b909b558",
   "metadata": {
    "tags": []
   },
   "outputs": [],
   "source": [
    "expr_df = expr.execute()"
   ]
  },
  {
   "cell_type": "code",
   "execution_count": 29,
   "id": "55d4e235",
   "metadata": {
    "tags": []
   },
   "outputs": [
    {
     "data": {
      "image/png": "[encoded data removed]",
      "text/plain": [
       "<Figure size 800x800 with 1 Axes>"
      ]
     },
     "metadata": {},
     "output_type": "display_data"
    }
   ],
   "source": [
    "g = sns.catplot(\n",
    "    data=expr_df, \n",
    "    kind='bar',\n",
    "    x='Ages', y='Percent',\n",
    "    palette='dark', alpha=.6, height=8\n",
    ")\n",
    "\n",
    "g.despine(left=True)\n",
    "g.set_axis_labels('Age Group', 'Percent of Passengers')\n",
    "g.fig.suptitle('Passenger Age Distribution');"
   ]
  },
  {
   "cell_type": "code",
   "execution_count": 30,
   "id": "6be95a8a",
   "metadata": {
    "tags": []
   },
   "outputs": [
    {
     "data": {
      "text/html": [
       "<pre style=\"white-space:pre;overflow-x:auto;line-height:normal;font-family:Menlo,'DejaVu Sans Mono',consolas,'Courier New',monospace\">┏━━━━━━━━┳━━━━━━━━━━┳━━━━━━━┳━━━━━━━━━━━┓\n",
       "┃<span style=\"font-weight: bold\"> Ages   </span>┃<span style=\"font-weight: bold\"> AgeGroup </span>┃<span style=\"font-weight: bold\"> Count </span>┃<span style=\"font-weight: bold\"> Percent   </span>┃\n",
       "┡━━━━━━━━╇━━━━━━━━━━╇━━━━━━━╇━━━━━━━━━━━┩\n",
       "│ <span style=\"color: #7f7f7f; text-decoration-color: #7f7f7f\">string</span> │ <span style=\"color: #7f7f7f; text-decoration-color: #7f7f7f\">int8</span>     │ <span style=\"color: #7f7f7f; text-decoration-color: #7f7f7f\">int64</span> │ <span style=\"color: #7f7f7f; text-decoration-color: #7f7f7f\">float64</span>   │\n",
       "├────────┼──────────┼───────┼───────────┤\n",
       "│ <span style=\"color: #7f7f7f; text-decoration-color: #7f7f7f\">NULL</span>   │     <span style=\"color: #7f7f7f; text-decoration-color: #7f7f7f\">NULL</span> │    <span style=\"color: #008080; text-decoration-color: #008080; font-weight: bold\">52</span> │ <span style=\"color: #008080; text-decoration-color: #008080; font-weight: bold\">15.204678</span> │\n",
       "│ <span style=\"color: #008000; text-decoration-color: #008000\">&lt; 10  </span> │        <span style=\"color: #008080; text-decoration-color: #008080; font-weight: bold\">1</span> │    <span style=\"color: #008080; text-decoration-color: #008080; font-weight: bold\">38</span> │ <span style=\"color: #008080; text-decoration-color: #008080; font-weight: bold\">11.111111</span> │\n",
       "│ <span style=\"color: #008000; text-decoration-color: #008000\">11-20 </span> │        <span style=\"color: #008080; text-decoration-color: #008080; font-weight: bold\">2</span> │    <span style=\"color: #008080; text-decoration-color: #008080; font-weight: bold\">41</span> │ <span style=\"color: #008080; text-decoration-color: #008080; font-weight: bold\">11.988304</span> │\n",
       "│ <span style=\"color: #008000; text-decoration-color: #008000\">21-30 </span> │        <span style=\"color: #008080; text-decoration-color: #008080; font-weight: bold\">3</span> │    <span style=\"color: #008080; text-decoration-color: #008080; font-weight: bold\">77</span> │ <span style=\"color: #008080; text-decoration-color: #008080; font-weight: bold\">22.514620</span> │\n",
       "│ <span style=\"color: #008000; text-decoration-color: #008000\">31-40 </span> │        <span style=\"color: #008080; text-decoration-color: #008080; font-weight: bold\">4</span> │    <span style=\"color: #008080; text-decoration-color: #008080; font-weight: bold\">73</span> │ <span style=\"color: #008080; text-decoration-color: #008080; font-weight: bold\">21.345029</span> │\n",
       "│ <span style=\"color: #008000; text-decoration-color: #008000\">41-50 </span> │        <span style=\"color: #008080; text-decoration-color: #008080; font-weight: bold\">5</span> │    <span style=\"color: #008080; text-decoration-color: #008080; font-weight: bold\">34</span> │  <span style=\"color: #008080; text-decoration-color: #008080; font-weight: bold\">9.941520</span> │\n",
       "│ <span style=\"color: #008000; text-decoration-color: #008000\">51-60 </span> │        <span style=\"color: #008080; text-decoration-color: #008080; font-weight: bold\">6</span> │    <span style=\"color: #008080; text-decoration-color: #008080; font-weight: bold\">20</span> │  <span style=\"color: #008080; text-decoration-color: #008080; font-weight: bold\">5.847953</span> │\n",
       "│ <span style=\"color: #008000; text-decoration-color: #008000\">61-70 </span> │        <span style=\"color: #008080; text-decoration-color: #008080; font-weight: bold\">7</span> │     <span style=\"color: #008080; text-decoration-color: #008080; font-weight: bold\">6</span> │  <span style=\"color: #008080; text-decoration-color: #008080; font-weight: bold\">1.754386</span> │\n",
       "│ <span style=\"color: #008000; text-decoration-color: #008000\">71-80 </span> │        <span style=\"color: #008080; text-decoration-color: #008080; font-weight: bold\">8</span> │     <span style=\"color: #008080; text-decoration-color: #008080; font-weight: bold\">1</span> │  <span style=\"color: #008080; text-decoration-color: #008080; font-weight: bold\">0.292398</span> │\n",
       "└────────┴──────────┴───────┴───────────┘\n",
       "</pre>\n"
      ],
      "text/plain": [
       "┏━━━━━━━━┳━━━━━━━━━━┳━━━━━━━┳━━━━━━━━━━━┓\n",
       "┃\u001b[1m \u001b[0m\u001b[1mAges\u001b[0m\u001b[1m  \u001b[0m\u001b[1m \u001b[0m┃\u001b[1m \u001b[0m\u001b[1mAgeGroup\u001b[0m\u001b[1m \u001b[0m┃\u001b[1m \u001b[0m\u001b[1mCount\u001b[0m\u001b[1m \u001b[0m┃\u001b[1m \u001b[0m\u001b[1mPercent\u001b[0m\u001b[1m  \u001b[0m\u001b[1m \u001b[0m┃\n",
       "┡━━━━━━━━╇━━━━━━━━━━╇━━━━━━━╇━━━━━━━━━━━┩\n",
       "│ \u001b[2mstring\u001b[0m │ \u001b[2mint8\u001b[0m     │ \u001b[2mint64\u001b[0m │ \u001b[2mfloat64\u001b[0m   │\n",
       "├────────┼──────────┼───────┼───────────┤\n",
       "│ \u001b[2mNULL\u001b[0m   │     \u001b[2mNULL\u001b[0m │    \u001b[1;36m52\u001b[0m │ \u001b[1;36m15.204678\u001b[0m │\n",
       "│ \u001b[32m< 10  \u001b[0m │        \u001b[1;36m1\u001b[0m │    \u001b[1;36m38\u001b[0m │ \u001b[1;36m11.111111\u001b[0m │\n",
       "│ \u001b[32m11-20 \u001b[0m │        \u001b[1;36m2\u001b[0m │    \u001b[1;36m41\u001b[0m │ \u001b[1;36m11.988304\u001b[0m │\n",
       "│ \u001b[32m21-30 \u001b[0m │        \u001b[1;36m3\u001b[0m │    \u001b[1;36m77\u001b[0m │ \u001b[1;36m22.514620\u001b[0m │\n",
       "│ \u001b[32m31-40 \u001b[0m │        \u001b[1;36m4\u001b[0m │    \u001b[1;36m73\u001b[0m │ \u001b[1;36m21.345029\u001b[0m │\n",
       "│ \u001b[32m41-50 \u001b[0m │        \u001b[1;36m5\u001b[0m │    \u001b[1;36m34\u001b[0m │  \u001b[1;36m9.941520\u001b[0m │\n",
       "│ \u001b[32m51-60 \u001b[0m │        \u001b[1;36m6\u001b[0m │    \u001b[1;36m20\u001b[0m │  \u001b[1;36m5.847953\u001b[0m │\n",
       "│ \u001b[32m61-70 \u001b[0m │        \u001b[1;36m7\u001b[0m │     \u001b[1;36m6\u001b[0m │  \u001b[1;36m1.754386\u001b[0m │\n",
       "│ \u001b[32m71-80 \u001b[0m │        \u001b[1;36m8\u001b[0m │     \u001b[1;36m1\u001b[0m │  \u001b[1;36m0.292398\u001b[0m │\n",
       "└────────┴──────────┴───────┴───────────┘"
      ]
     },
     "execution_count": 30,
     "metadata": {},
     "output_type": "execute_result"
    }
   ],
   "source": [
    "buckets = list(range(-10, 90, 10))\n",
    "group = 'AgeGroup'\n",
    "\n",
    "bucketed = titanic_tbl[titanic_tbl.Survived == 1].Age.bucket(buckets).name(group).value_counts().relabel(dict(AgeGroup_count='Count'))\n",
    "\n",
    "labeled_bucket = bucketed[group].label(\n",
    "    ['NaN', '< 10', '11-20', '21-30', '31-40', '41-50', '51-60', '61-70', '71-80']\n",
    ").name('Ages')\n",
    "\n",
    "expr = bucketed[labeled_bucket, bucketed]\n",
    "expr = expr.mutate(\n",
    "    Percent=100.0 * expr.Count / expr.Count.sum(),\n",
    ").order_by(group)\n",
    "\n",
    "expr"
   ]
  },
  {
   "cell_type": "code",
   "execution_count": 31,
   "id": "b13d60b1-a333-4594-9958-ad502469f2f0",
   "metadata": {
    "tags": []
   },
   "outputs": [],
   "source": [
    "expr_df = expr.execute()"
   ]
  },
  {
   "cell_type": "code",
   "execution_count": 32,
   "id": "4303c08c",
   "metadata": {
    "tags": []
   },
   "outputs": [
    {
     "data": {
      "image/png": "[encoded data removed]",
      "text/plain": [
       "<Figure size 800x800 with 1 Axes>"
      ]
     },
     "metadata": {},
     "output_type": "display_data"
    }
   ],
   "source": [
    "g = sns.catplot(\n",
    "    data=expr_df, \n",
    "    kind='bar',\n",
    "    x='Ages', y='Percent',\n",
    "    palette='dark', alpha=.6, height=8\n",
    ")\n",
    "\n",
    "g.despine(left=True)\n",
    "g.set_axis_labels('Age Group', 'Percent')\n",
    "g.fig.suptitle('Age Distribution of Survived');"
   ]
  },
  {
   "cell_type": "code",
   "execution_count": null,
   "id": "807317d2-2dd6-45a2-a959-fa30569715cc",
   "metadata": {},
   "outputs": [],
   "source": []
  },
  {
   "cell_type": "code",
   "execution_count": null,
   "id": "05d5fd9a-d48e-4560-8334-0036bd9e6f89",
   "metadata": {},
   "outputs": [],
   "source": []
  }
 ],
 "metadata": {
  "kernelspec": {
   "display_name": "Python 3 (ipykernel)",
   "language": "python",
   "name": "python3"
  },
  "language_info": {
   "codemirror_mode": {
    "name": "ipython",
    "version": 3
   },
   "file_extension": ".py",
   "mimetype": "text/x-python",
   "name": "python",
   "nbconvert_exporter": "python",
   "pygments_lexer": "ipython3",
   "version": "3.11.3"
  }
 },
 "nbformat": 4,
 "nbformat_minor": 5
}
