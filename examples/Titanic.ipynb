{
 "cells": [
  {
   "cell_type": "markdown",
   "id": "43ccca79",
   "metadata": {},
   "source": [
    "# Exploratory Data Analysis of Titanic Data with SingleStoreDB\n",
    "\n",
    "This notebook uses the SingleStoreDB Python package to perform basic EDA for the Titanic survival data.\n",
    "The **new No SQL** --> No Can See SQL."
   ]
  },
  {
   "cell_type": "code",
   "execution_count": 1,
   "id": "99e13933-4834-4ab6-b0fb-285ae53ed78b",
   "metadata": {},
   "outputs": [],
   "source": [
    "import sys\n",
    "sys.path.insert(0, '/home/ksmith/src/sqlalchemy-singlestore')\n",
    "sys.path.insert(0, '/home/ksmith/src/ibis-singlestore')"
   ]
  },
  {
   "cell_type": "code",
   "execution_count": 2,
   "id": "b7100720-fa65-47a3-bf6d-c54dd723ef01",
   "metadata": {},
   "outputs": [],
   "source": [
    "import ibis\n",
    "import pandas as pd\n",
    "import matplotlib.pyplot as plt\n",
    "import seaborn as sns"
   ]
  },
  {
   "cell_type": "code",
   "execution_count": 3,
   "id": "8ba12486-461e-4760-a36a-5530768d2668",
   "metadata": {},
   "outputs": [],
   "source": [
    "ibis.options.verbose = False   ## make this True to see the generated SQL\n",
    "ibis.options.interactive = True"
   ]
  },
  {
   "cell_type": "markdown",
   "id": "e7ba8a8d",
   "metadata": {},
   "source": [
    "### Connect to SingleStoreDB\n",
    "\n",
    "The connection parameters can either be [Python DB-API](https://peps.python.org/pep-0249/) style parameters, \n",
    "or a URL connection string as used by [SQLAlchemy](https://www.sqlalchemy.org)."
   ]
  },
  {
   "cell_type": "code",
   "execution_count": 4,
   "id": "b5c3abd1",
   "metadata": {},
   "outputs": [],
   "source": [
    "conn = ibis.singlestoredb.connect('root:@127.0.0.1/x_db')"
   ]
  },
  {
   "cell_type": "markdown",
   "id": "0fbf4262",
   "metadata": {},
   "source": [
    "### Head over to Kaggle and get the csv files for the titanic data\n",
    "\n",
    "https://www.kaggle.com/c/titanic\n",
    "\n",
    "### Read the csv files for training and test data set \n",
    "\n",
    "- Pclass = Passenger Class (1=1st, 2=2nd, 3=3rd)\n",
    "- Survived = Survival (1 = Yes, 0 = No)\n",
    "- Sex = Gender\n",
    "- Age = Passenger age\n",
    "- Fare = Ticket price in British pounds\n",
    "- SibSp  = # of siblings / spouses aboard the Titanic. \n",
    "- Parch  = # of parents / children aboard the Titanic.\n",
    "- Embarked = Port of embarkation (C = Cherbourg; Q = Queenstown; S = Southampton)\n",
    "- Cabin = Cabin No."
   ]
  },
  {
   "cell_type": "code",
   "execution_count": 5,
   "id": "3585dbaf",
   "metadata": {},
   "outputs": [],
   "source": [
    "train_df = pd.read_csv('titanic_train.csv')\n",
    "test_df = pd.read_csv('titanic_test.csv')"
   ]
  },
  {
   "cell_type": "code",
   "execution_count": 6,
   "id": "b16e1149",
   "metadata": {},
   "outputs": [
    {
     "data": {
      "text/html": [
       "<div>\n",
       "<style scoped>\n",
       "    .dataframe tbody tr th:only-of-type {\n",
       "        vertical-align: middle;\n",
       "    }\n",
       "\n",
       "    .dataframe tbody tr th {\n",
       "        vertical-align: top;\n",
       "    }\n",
       "\n",
       "    .dataframe thead th {\n",
       "        text-align: right;\n",
       "    }\n",
       "</style>\n",
       "<table border=\"1\" class=\"dataframe\">\n",
       "  <thead>\n",
       "    <tr style=\"text-align: right;\">\n",
       "      <th></th>\n",
       "      <th>PassengerId</th>\n",
       "      <th>Survived</th>\n",
       "      <th>Pclass</th>\n",
       "      <th>Name</th>\n",
       "      <th>Sex</th>\n",
       "      <th>Age</th>\n",
       "      <th>SibSp</th>\n",
       "      <th>Parch</th>\n",
       "      <th>Ticket</th>\n",
       "      <th>Fare</th>\n",
       "      <th>Cabin</th>\n",
       "      <th>Embarked</th>\n",
       "    </tr>\n",
       "  </thead>\n",
       "  <tbody>\n",
       "    <tr>\n",
       "      <th>0</th>\n",
       "      <td>1</td>\n",
       "      <td>0</td>\n",
       "      <td>3</td>\n",
       "      <td>Braund, Mr. Owen Harris</td>\n",
       "      <td>male</td>\n",
       "      <td>22.0</td>\n",
       "      <td>1</td>\n",
       "      <td>0</td>\n",
       "      <td>A/5 21171</td>\n",
       "      <td>7.2500</td>\n",
       "      <td>NaN</td>\n",
       "      <td>S</td>\n",
       "    </tr>\n",
       "    <tr>\n",
       "      <th>1</th>\n",
       "      <td>2</td>\n",
       "      <td>1</td>\n",
       "      <td>1</td>\n",
       "      <td>Cumings, Mrs. John Bradley (Florence Briggs Th...</td>\n",
       "      <td>female</td>\n",
       "      <td>38.0</td>\n",
       "      <td>1</td>\n",
       "      <td>0</td>\n",
       "      <td>PC 17599</td>\n",
       "      <td>71.2833</td>\n",
       "      <td>C85</td>\n",
       "      <td>C</td>\n",
       "    </tr>\n",
       "    <tr>\n",
       "      <th>2</th>\n",
       "      <td>3</td>\n",
       "      <td>1</td>\n",
       "      <td>3</td>\n",
       "      <td>Heikkinen, Miss. Laina</td>\n",
       "      <td>female</td>\n",
       "      <td>26.0</td>\n",
       "      <td>0</td>\n",
       "      <td>0</td>\n",
       "      <td>STON/O2. 3101282</td>\n",
       "      <td>7.9250</td>\n",
       "      <td>NaN</td>\n",
       "      <td>S</td>\n",
       "    </tr>\n",
       "    <tr>\n",
       "      <th>3</th>\n",
       "      <td>4</td>\n",
       "      <td>1</td>\n",
       "      <td>1</td>\n",
       "      <td>Futrelle, Mrs. Jacques Heath (Lily May Peel)</td>\n",
       "      <td>female</td>\n",
       "      <td>35.0</td>\n",
       "      <td>1</td>\n",
       "      <td>0</td>\n",
       "      <td>113803</td>\n",
       "      <td>53.1000</td>\n",
       "      <td>C123</td>\n",
       "      <td>S</td>\n",
       "    </tr>\n",
       "    <tr>\n",
       "      <th>4</th>\n",
       "      <td>5</td>\n",
       "      <td>0</td>\n",
       "      <td>3</td>\n",
       "      <td>Allen, Mr. William Henry</td>\n",
       "      <td>male</td>\n",
       "      <td>35.0</td>\n",
       "      <td>0</td>\n",
       "      <td>0</td>\n",
       "      <td>373450</td>\n",
       "      <td>8.0500</td>\n",
       "      <td>NaN</td>\n",
       "      <td>S</td>\n",
       "    </tr>\n",
       "  </tbody>\n",
       "</table>\n",
       "</div>"
      ],
      "text/plain": [
       "   PassengerId  Survived  Pclass  \\\n",
       "0            1         0       3   \n",
       "1            2         1       1   \n",
       "2            3         1       3   \n",
       "3            4         1       1   \n",
       "4            5         0       3   \n",
       "\n",
       "                                                Name     Sex   Age  SibSp  \\\n",
       "0                            Braund, Mr. Owen Harris    male  22.0      1   \n",
       "1  Cumings, Mrs. John Bradley (Florence Briggs Th...  female  38.0      1   \n",
       "2                             Heikkinen, Miss. Laina  female  26.0      0   \n",
       "3       Futrelle, Mrs. Jacques Heath (Lily May Peel)  female  35.0      1   \n",
       "4                           Allen, Mr. William Henry    male  35.0      0   \n",
       "\n",
       "   Parch            Ticket     Fare Cabin Embarked  \n",
       "0      0         A/5 21171   7.2500   NaN        S  \n",
       "1      0          PC 17599  71.2833   C85        C  \n",
       "2      0  STON/O2. 3101282   7.9250   NaN        S  \n",
       "3      0            113803  53.1000  C123        S  \n",
       "4      0            373450   8.0500   NaN        S  "
      ]
     },
     "execution_count": 6,
     "metadata": {},
     "output_type": "execute_result"
    }
   ],
   "source": [
    "train_df.head()"
   ]
  },
  {
   "cell_type": "code",
   "execution_count": 7,
   "id": "58ab3155",
   "metadata": {},
   "outputs": [
    {
     "data": {
      "text/html": [
       "<div>\n",
       "<style scoped>\n",
       "    .dataframe tbody tr th:only-of-type {\n",
       "        vertical-align: middle;\n",
       "    }\n",
       "\n",
       "    .dataframe tbody tr th {\n",
       "        vertical-align: top;\n",
       "    }\n",
       "\n",
       "    .dataframe thead th {\n",
       "        text-align: right;\n",
       "    }\n",
       "</style>\n",
       "<table border=\"1\" class=\"dataframe\">\n",
       "  <thead>\n",
       "    <tr style=\"text-align: right;\">\n",
       "      <th></th>\n",
       "      <th>PassengerId</th>\n",
       "      <th>Pclass</th>\n",
       "      <th>Name</th>\n",
       "      <th>Sex</th>\n",
       "      <th>Age</th>\n",
       "      <th>SibSp</th>\n",
       "      <th>Parch</th>\n",
       "      <th>Ticket</th>\n",
       "      <th>Fare</th>\n",
       "      <th>Cabin</th>\n",
       "      <th>Embarked</th>\n",
       "    </tr>\n",
       "  </thead>\n",
       "  <tbody>\n",
       "    <tr>\n",
       "      <th>0</th>\n",
       "      <td>892</td>\n",
       "      <td>3</td>\n",
       "      <td>Kelly, Mr. James</td>\n",
       "      <td>male</td>\n",
       "      <td>34.5</td>\n",
       "      <td>0</td>\n",
       "      <td>0</td>\n",
       "      <td>330911</td>\n",
       "      <td>7.8292</td>\n",
       "      <td>NaN</td>\n",
       "      <td>Q</td>\n",
       "    </tr>\n",
       "    <tr>\n",
       "      <th>1</th>\n",
       "      <td>893</td>\n",
       "      <td>3</td>\n",
       "      <td>Wilkes, Mrs. James (Ellen Needs)</td>\n",
       "      <td>female</td>\n",
       "      <td>47.0</td>\n",
       "      <td>1</td>\n",
       "      <td>0</td>\n",
       "      <td>363272</td>\n",
       "      <td>7.0000</td>\n",
       "      <td>NaN</td>\n",
       "      <td>S</td>\n",
       "    </tr>\n",
       "    <tr>\n",
       "      <th>2</th>\n",
       "      <td>894</td>\n",
       "      <td>2</td>\n",
       "      <td>Myles, Mr. Thomas Francis</td>\n",
       "      <td>male</td>\n",
       "      <td>62.0</td>\n",
       "      <td>0</td>\n",
       "      <td>0</td>\n",
       "      <td>240276</td>\n",
       "      <td>9.6875</td>\n",
       "      <td>NaN</td>\n",
       "      <td>Q</td>\n",
       "    </tr>\n",
       "    <tr>\n",
       "      <th>3</th>\n",
       "      <td>895</td>\n",
       "      <td>3</td>\n",
       "      <td>Wirz, Mr. Albert</td>\n",
       "      <td>male</td>\n",
       "      <td>27.0</td>\n",
       "      <td>0</td>\n",
       "      <td>0</td>\n",
       "      <td>315154</td>\n",
       "      <td>8.6625</td>\n",
       "      <td>NaN</td>\n",
       "      <td>S</td>\n",
       "    </tr>\n",
       "    <tr>\n",
       "      <th>4</th>\n",
       "      <td>896</td>\n",
       "      <td>3</td>\n",
       "      <td>Hirvonen, Mrs. Alexander (Helga E Lindqvist)</td>\n",
       "      <td>female</td>\n",
       "      <td>22.0</td>\n",
       "      <td>1</td>\n",
       "      <td>1</td>\n",
       "      <td>3101298</td>\n",
       "      <td>12.2875</td>\n",
       "      <td>NaN</td>\n",
       "      <td>S</td>\n",
       "    </tr>\n",
       "  </tbody>\n",
       "</table>\n",
       "</div>"
      ],
      "text/plain": [
       "   PassengerId  Pclass                                          Name     Sex  \\\n",
       "0          892       3                              Kelly, Mr. James    male   \n",
       "1          893       3              Wilkes, Mrs. James (Ellen Needs)  female   \n",
       "2          894       2                     Myles, Mr. Thomas Francis    male   \n",
       "3          895       3                              Wirz, Mr. Albert    male   \n",
       "4          896       3  Hirvonen, Mrs. Alexander (Helga E Lindqvist)  female   \n",
       "\n",
       "    Age  SibSp  Parch   Ticket     Fare Cabin Embarked  \n",
       "0  34.5      0      0   330911   7.8292   NaN        Q  \n",
       "1  47.0      1      0   363272   7.0000   NaN        S  \n",
       "2  62.0      0      0   240276   9.6875   NaN        Q  \n",
       "3  27.0      0      0   315154   8.6625   NaN        S  \n",
       "4  22.0      1      1  3101298  12.2875   NaN        S  "
      ]
     },
     "execution_count": 7,
     "metadata": {},
     "output_type": "execute_result"
    }
   ],
   "source": [
    "test_df.head()"
   ]
  },
  {
   "cell_type": "code",
   "execution_count": 8,
   "id": "6f883d58",
   "metadata": {},
   "outputs": [],
   "source": [
    "titanic_df = pd.concat([train_df, test_df])"
   ]
  },
  {
   "cell_type": "markdown",
   "id": "bf6545a8",
   "metadata": {},
   "source": [
    "### Create a table for the combined data in SingleStoreDB\n",
    "\n",
    "We can use the `create_table` method of the connection to upload a pandas DataFrame to a database table.\n",
    "The `force=True` is merely used here in case you run the same notebook multiple times. It will cause the \n",
    "table in the database to be overwritten if it already exists."
   ]
  },
  {
   "cell_type": "code",
   "execution_count": 9,
   "id": "347d72d9-235d-4762-95bf-b7139cc1dec8",
   "metadata": {},
   "outputs": [
    {
     "data": {
      "text/plain": [
       "PassengerId      int64\n",
       "Survived       float64\n",
       "Pclass           int64\n",
       "Name            object\n",
       "Sex             object\n",
       "Age            float64\n",
       "SibSp            int64\n",
       "Parch            int64\n",
       "Ticket          object\n",
       "Fare           float64\n",
       "Cabin           object\n",
       "Embarked        object\n",
       "dtype: object"
      ]
     },
     "execution_count": 9,
     "metadata": {},
     "output_type": "execute_result"
    }
   ],
   "source": [
    "titanic_df.dtypes"
   ]
  },
  {
   "cell_type": "markdown",
   "id": "98c246f8-e1aa-42f9-a088-afc5d9ae7add",
   "metadata": {},
   "source": [
    "Notice that the `Survived` column is a float64 in the DataFrame. The data in that column is actually boolean with possible NULLs.\n",
    "Since we use it as a filtering column in many operations, we'll change the column to boolean using `schema_overrides` when it is uploaded."
   ]
  },
  {
   "cell_type": "code",
   "execution_count": 10,
   "id": "402660c1",
   "metadata": {},
   "outputs": [],
   "source": [
    "titanic_tbl = conn.create_table('titanic', titanic_df, schema_overrides=dict(Survived='bool'), force=True)"
   ]
  },
  {
   "cell_type": "code",
   "execution_count": 11,
   "id": "0e63b04a",
   "metadata": {
    "scrolled": true
   },
   "outputs": [
    {
     "data": {
      "text/html": [
       "<div>\n",
       "<style scoped>\n",
       "    .dataframe tbody tr th:only-of-type {\n",
       "        vertical-align: middle;\n",
       "    }\n",
       "\n",
       "    .dataframe tbody tr th {\n",
       "        vertical-align: top;\n",
       "    }\n",
       "\n",
       "    .dataframe thead th {\n",
       "        text-align: right;\n",
       "    }\n",
       "</style>\n",
       "<table border=\"1\" class=\"dataframe\">\n",
       "  <thead>\n",
       "    <tr style=\"text-align: right;\">\n",
       "      <th></th>\n",
       "      <th>PassengerId</th>\n",
       "      <th>Survived</th>\n",
       "      <th>Pclass</th>\n",
       "      <th>Name</th>\n",
       "      <th>Sex</th>\n",
       "      <th>Age</th>\n",
       "      <th>SibSp</th>\n",
       "      <th>Parch</th>\n",
       "      <th>Ticket</th>\n",
       "      <th>Fare</th>\n",
       "      <th>Cabin</th>\n",
       "      <th>Embarked</th>\n",
       "    </tr>\n",
       "  </thead>\n",
       "  <tbody>\n",
       "    <tr>\n",
       "      <th>0</th>\n",
       "      <td>1</td>\n",
       "      <td>False</td>\n",
       "      <td>3</td>\n",
       "      <td>Braund, Mr. Owen Harris</td>\n",
       "      <td>male</td>\n",
       "      <td>22.0</td>\n",
       "      <td>1</td>\n",
       "      <td>0</td>\n",
       "      <td>A/5 21171</td>\n",
       "      <td>7.2500</td>\n",
       "      <td>None</td>\n",
       "      <td>S</td>\n",
       "    </tr>\n",
       "    <tr>\n",
       "      <th>1</th>\n",
       "      <td>2</td>\n",
       "      <td>True</td>\n",
       "      <td>1</td>\n",
       "      <td>Cumings, Mrs. John Bradley (Florence Briggs Th...</td>\n",
       "      <td>female</td>\n",
       "      <td>38.0</td>\n",
       "      <td>1</td>\n",
       "      <td>0</td>\n",
       "      <td>PC 17599</td>\n",
       "      <td>71.2833</td>\n",
       "      <td>C85</td>\n",
       "      <td>C</td>\n",
       "    </tr>\n",
       "    <tr>\n",
       "      <th>2</th>\n",
       "      <td>3</td>\n",
       "      <td>True</td>\n",
       "      <td>3</td>\n",
       "      <td>Heikkinen, Miss. Laina</td>\n",
       "      <td>female</td>\n",
       "      <td>26.0</td>\n",
       "      <td>0</td>\n",
       "      <td>0</td>\n",
       "      <td>STON/O2. 3101282</td>\n",
       "      <td>7.9250</td>\n",
       "      <td>None</td>\n",
       "      <td>S</td>\n",
       "    </tr>\n",
       "  </tbody>\n",
       "</table>\n",
       "</div>"
      ],
      "text/plain": [
       "   PassengerId  Survived  Pclass  \\\n",
       "0            1     False       3   \n",
       "1            2      True       1   \n",
       "2            3      True       3   \n",
       "\n",
       "                                                Name     Sex   Age  SibSp  \\\n",
       "0                            Braund, Mr. Owen Harris    male  22.0      1   \n",
       "1  Cumings, Mrs. John Bradley (Florence Briggs Th...  female  38.0      1   \n",
       "2                             Heikkinen, Miss. Laina  female  26.0      0   \n",
       "\n",
       "   Parch            Ticket     Fare Cabin Embarked  \n",
       "0      0         A/5 21171   7.2500  None        S  \n",
       "1      0          PC 17599  71.2833   C85        C  \n",
       "2      0  STON/O2. 3101282   7.9250  None        S  "
      ]
     },
     "execution_count": 11,
     "metadata": {},
     "output_type": "execute_result"
    }
   ],
   "source": [
    "titanic_tbl.head(3)"
   ]
  },
  {
   "cell_type": "code",
   "execution_count": 12,
   "id": "3ce28b78",
   "metadata": {},
   "outputs": [
    {
     "data": {
      "text/html": [
       "<pre style=\"white-space:pre;overflow-x:auto;line-height:normal;font-family:Menlo,'DejaVu Sans Mono',consolas,'Courier New',monospace\"></pre>\n"
      ],
      "text/plain": []
     },
     "metadata": {},
     "output_type": "display_data"
    },
    {
     "name": "stdout",
     "output_type": "stream",
     "text": [
      "\u001b[3m                     Summary of titanic                     \u001b[0m\n",
      "\u001b[3m                         1309 rows                          \u001b[0m\n",
      "┏━━━━━━━━━━━━━┳━━━━━━━━━━━━━━━━━━━━━━━━┳━━━━━━━━━┳━━━━━━━━━┓\n",
      "┃\u001b[1m \u001b[0m\u001b[1mName       \u001b[0m\u001b[1m \u001b[0m┃\u001b[1m \u001b[0m\u001b[1mType                  \u001b[0m\u001b[1m \u001b[0m┃\u001b[1m \u001b[0m\u001b[1m# Nulls\u001b[0m\u001b[1m \u001b[0m┃\u001b[1m \u001b[0m\u001b[1m% Nulls\u001b[0m\u001b[1m \u001b[0m┃\n",
      "┡━━━━━━━━━━━━━╇━━━━━━━━━━━━━━━━━━━━━━━━╇━━━━━━━━━╇━━━━━━━━━┩\n",
      "│ PassengerId │ \u001b[1;35mInt64\u001b[0m\u001b[1m(\u001b[0m\u001b[33mnullable\u001b[0m=\u001b[3;92mTrue\u001b[0m\u001b[1m)\u001b[0m   │       0 │    0.00 │\n",
      "│ Survived    │ \u001b[1;35mBoolean\u001b[0m\u001b[1m(\u001b[0m\u001b[33mnullable\u001b[0m=\u001b[3;92mTrue\u001b[0m\u001b[1m)\u001b[0m │     418 │   31.93 │\n",
      "│ Pclass      │ \u001b[1;35mInt64\u001b[0m\u001b[1m(\u001b[0m\u001b[33mnullable\u001b[0m=\u001b[3;92mTrue\u001b[0m\u001b[1m)\u001b[0m   │       0 │    0.00 │\n",
      "│ Name        │ \u001b[1;35mString\u001b[0m\u001b[1m(\u001b[0m\u001b[33mnullable\u001b[0m=\u001b[3;92mTrue\u001b[0m\u001b[1m)\u001b[0m  │       0 │    0.00 │\n",
      "│ Sex         │ \u001b[1;35mString\u001b[0m\u001b[1m(\u001b[0m\u001b[33mnullable\u001b[0m=\u001b[3;92mTrue\u001b[0m\u001b[1m)\u001b[0m  │       0 │    0.00 │\n",
      "│ Age         │ \u001b[1;35mFloat64\u001b[0m\u001b[1m(\u001b[0m\u001b[33mnullable\u001b[0m=\u001b[3;92mTrue\u001b[0m\u001b[1m)\u001b[0m │     263 │   20.09 │\n",
      "│ SibSp       │ \u001b[1;35mInt64\u001b[0m\u001b[1m(\u001b[0m\u001b[33mnullable\u001b[0m=\u001b[3;92mTrue\u001b[0m\u001b[1m)\u001b[0m   │       0 │    0.00 │\n",
      "│ Parch       │ \u001b[1;35mInt64\u001b[0m\u001b[1m(\u001b[0m\u001b[33mnullable\u001b[0m=\u001b[3;92mTrue\u001b[0m\u001b[1m)\u001b[0m   │       0 │    0.00 │\n",
      "│ Ticket      │ \u001b[1;35mString\u001b[0m\u001b[1m(\u001b[0m\u001b[33mnullable\u001b[0m=\u001b[3;92mTrue\u001b[0m\u001b[1m)\u001b[0m  │       0 │    0.00 │\n",
      "│ Fare        │ \u001b[1;35mFloat64\u001b[0m\u001b[1m(\u001b[0m\u001b[33mnullable\u001b[0m=\u001b[3;92mTrue\u001b[0m\u001b[1m)\u001b[0m │       1 │    0.08 │\n",
      "│ Cabin       │ \u001b[1;35mString\u001b[0m\u001b[1m(\u001b[0m\u001b[33mnullable\u001b[0m=\u001b[3;92mTrue\u001b[0m\u001b[1m)\u001b[0m  │    1014 │   77.46 │\n",
      "│ Embarked    │ \u001b[1;35mString\u001b[0m\u001b[1m(\u001b[0m\u001b[33mnullable\u001b[0m=\u001b[3;92mTrue\u001b[0m\u001b[1m)\u001b[0m  │       2 │    0.15 │\n",
      "└─────────────┴────────────────────────┴─────────┴─────────┘\n"
     ]
    }
   ],
   "source": [
    "titanic_tbl.info()"
   ]
  },
  {
   "cell_type": "markdown",
   "id": "b0ec2ee2",
   "metadata": {},
   "source": [
    "### List of Ibis functions for numerical data\n",
    "\n",
    "We will be using various methods on numeric columns of database tables in this notebook. This code simply\n",
    "prints all of the methods on numeric columns for reference."
   ]
  },
  {
   "cell_type": "code",
   "execution_count": 13,
   "id": "d9469fb2",
   "metadata": {},
   "outputs": [
    {
     "name": "stdout",
     "output_type": "stream",
     "text": [
      "abs acos add approx_median approx_nunique arbitrary argmax argmin asin atan atan2 between bottomk bucket case cases cast ceil clip coalesce collect compile corr cos cot count cov cume_dist cummax cummean cummin cumsum deg2rad degrees dense_rank describe div equals execute exp fillna first floor floordiv get_name greatest group_concat has_name hash histogram identical_to isin isinf isnan isnull lag last lead least ln log log10 log2 max mean min mod mul name negate notin notnull nth ntile nullif nullifzero nunique op over parent percent_rank pipe point pow quantile rad2deg radd radians rank rdiv rfloordiv rmod rmul round rpow rsub sign sin sqrt std sub substitute sum summary tan to_projection topk type typeof value_counts var verify visualize zeroifnull\n"
     ]
    }
   ],
   "source": [
    "num_expr = titanic_tbl.Age\n",
    "print(' '.join([x for x in dir(num_expr) if not x.startswith('_')]))"
   ]
  },
  {
   "cell_type": "markdown",
   "id": "155777c0",
   "metadata": {},
   "source": [
    "### Unique values for some columns in the table"
   ]
  },
  {
   "cell_type": "code",
   "execution_count": 14,
   "id": "fc923fa5-ea49-4080-b842-9682b113d453",
   "metadata": {},
   "outputs": [
    {
     "data": {
      "text/html": [
       "<div>\n",
       "<style scoped>\n",
       "    .dataframe tbody tr th:only-of-type {\n",
       "        vertical-align: middle;\n",
       "    }\n",
       "\n",
       "    .dataframe tbody tr th {\n",
       "        vertical-align: top;\n",
       "    }\n",
       "\n",
       "    .dataframe thead th {\n",
       "        text-align: right;\n",
       "    }\n",
       "</style>\n",
       "<table border=\"1\" class=\"dataframe\">\n",
       "  <thead>\n",
       "    <tr style=\"text-align: right;\">\n",
       "      <th></th>\n",
       "      <th>name</th>\n",
       "      <th>unique</th>\n",
       "    </tr>\n",
       "  </thead>\n",
       "  <tbody>\n",
       "    <tr>\n",
       "      <th>0</th>\n",
       "      <td>Pclass</td>\n",
       "      <td>3</td>\n",
       "    </tr>\n",
       "    <tr>\n",
       "      <th>1</th>\n",
       "      <td>Sex</td>\n",
       "      <td>2</td>\n",
       "    </tr>\n",
       "    <tr>\n",
       "      <th>2</th>\n",
       "      <td>Ticket</td>\n",
       "      <td>929</td>\n",
       "    </tr>\n",
       "  </tbody>\n",
       "</table>\n",
       "</div>"
      ],
      "text/plain": [
       "     name  unique\n",
       "0  Pclass       3\n",
       "1     Sex       2\n",
       "2  Ticket     929"
      ]
     },
     "execution_count": 14,
     "metadata": {},
     "output_type": "execute_result"
    }
   ],
   "source": [
    "titanic_tbl['Pclass', 'Sex', 'Ticket'].describe(stats=['unique'], include='all')  # Use include='all' to include character columns in statistics"
   ]
  },
  {
   "cell_type": "markdown",
   "id": "407ad3a9",
   "metadata": {},
   "source": [
    "### Simple statistics for numeric columns"
   ]
  },
  {
   "cell_type": "code",
   "execution_count": 15,
   "id": "74c1bd88-8217-44e4-9376-83195f4c741d",
   "metadata": {},
   "outputs": [
    {
     "data": {
      "text/html": [
       "<div>\n",
       "<style scoped>\n",
       "    .dataframe tbody tr th:only-of-type {\n",
       "        vertical-align: middle;\n",
       "    }\n",
       "\n",
       "    .dataframe tbody tr th {\n",
       "        vertical-align: top;\n",
       "    }\n",
       "\n",
       "    .dataframe thead th {\n",
       "        text-align: right;\n",
       "    }\n",
       "</style>\n",
       "<table border=\"1\" class=\"dataframe\">\n",
       "  <thead>\n",
       "    <tr style=\"text-align: right;\">\n",
       "      <th></th>\n",
       "      <th>name</th>\n",
       "      <th>mean</th>\n",
       "      <th>min</th>\n",
       "      <th>max</th>\n",
       "    </tr>\n",
       "  </thead>\n",
       "  <tbody>\n",
       "    <tr>\n",
       "      <th>0</th>\n",
       "      <td>SibSp</td>\n",
       "      <td>0.498900</td>\n",
       "      <td>0</td>\n",
       "      <td>8</td>\n",
       "    </tr>\n",
       "    <tr>\n",
       "      <th>1</th>\n",
       "      <td>Parch</td>\n",
       "      <td>0.385000</td>\n",
       "      <td>0</td>\n",
       "      <td>9</td>\n",
       "    </tr>\n",
       "    <tr>\n",
       "      <th>2</th>\n",
       "      <td>Age</td>\n",
       "      <td>29.881138</td>\n",
       "      <td>0.17000000178813934</td>\n",
       "      <td>80</td>\n",
       "    </tr>\n",
       "  </tbody>\n",
       "</table>\n",
       "</div>"
      ],
      "text/plain": [
       "    name       mean                  min max\n",
       "0  SibSp   0.498900                    0   8\n",
       "1  Parch   0.385000                    0   9\n",
       "2    Age  29.881138  0.17000000178813934  80"
      ]
     },
     "execution_count": 15,
     "metadata": {},
     "output_type": "execute_result"
    }
   ],
   "source": [
    "titanic_tbl['SibSp', 'Parch', 'Age'].describe(stats=['min', 'mean', 'max'])"
   ]
  },
  {
   "cell_type": "markdown",
   "id": "b4127932",
   "metadata": {},
   "source": [
    "#### Set the verbose option to True if you want to see the generated SQL"
   ]
  },
  {
   "cell_type": "code",
   "execution_count": 16,
   "id": "f1814824",
   "metadata": {},
   "outputs": [],
   "source": [
    "ibis.options.verbose = False"
   ]
  },
  {
   "cell_type": "markdown",
   "id": "128bb061",
   "metadata": {},
   "source": [
    "### Overall Survival Rate"
   ]
  },
  {
   "cell_type": "code",
   "execution_count": 17,
   "id": "99fba42f",
   "metadata": {},
   "outputs": [
    {
     "data": {
      "text/plain": [
       "0.3838383838"
      ]
     },
     "execution_count": 17,
     "metadata": {},
     "output_type": "execute_result"
    }
   ],
   "source": [
    "train = titanic_tbl.Survived.notnull()\n",
    "num_surv = titanic_tbl[titanic_tbl.Survived].count()\n",
    "num_pass = titanic_tbl[train].count()\n",
    "num_surv / num_pass"
   ]
  },
  {
   "cell_type": "markdown",
   "id": "e2614f20",
   "metadata": {},
   "source": [
    "### Cross-classification of Gender and Survival"
   ]
  },
  {
   "cell_type": "code",
   "execution_count": 18,
   "id": "cc3c6195",
   "metadata": {},
   "outputs": [
    {
     "data": {
      "text/html": [
       "<div>\n",
       "<style scoped>\n",
       "    .dataframe tbody tr th:only-of-type {\n",
       "        vertical-align: middle;\n",
       "    }\n",
       "\n",
       "    .dataframe tbody tr th {\n",
       "        vertical-align: top;\n",
       "    }\n",
       "\n",
       "    .dataframe thead th {\n",
       "        text-align: right;\n",
       "    }\n",
       "</style>\n",
       "<table border=\"1\" class=\"dataframe\">\n",
       "  <thead>\n",
       "    <tr style=\"text-align: right;\">\n",
       "      <th></th>\n",
       "      <th>Sex</th>\n",
       "      <th>Survived</th>\n",
       "      <th>Passengers</th>\n",
       "      <th>AvgAge</th>\n",
       "    </tr>\n",
       "  </thead>\n",
       "  <tbody>\n",
       "    <tr>\n",
       "      <th>0</th>\n",
       "      <td>female</td>\n",
       "      <td>False</td>\n",
       "      <td>81</td>\n",
       "      <td>25.046875</td>\n",
       "    </tr>\n",
       "    <tr>\n",
       "      <th>1</th>\n",
       "      <td>female</td>\n",
       "      <td>True</td>\n",
       "      <td>233</td>\n",
       "      <td>28.847716</td>\n",
       "    </tr>\n",
       "    <tr>\n",
       "      <th>2</th>\n",
       "      <td>male</td>\n",
       "      <td>False</td>\n",
       "      <td>468</td>\n",
       "      <td>31.618056</td>\n",
       "    </tr>\n",
       "    <tr>\n",
       "      <th>3</th>\n",
       "      <td>male</td>\n",
       "      <td>True</td>\n",
       "      <td>109</td>\n",
       "      <td>27.276022</td>\n",
       "    </tr>\n",
       "  </tbody>\n",
       "</table>\n",
       "</div>"
      ],
      "text/plain": [
       "      Sex  Survived  Passengers     AvgAge\n",
       "0  female     False          81  25.046875\n",
       "1  female      True         233  28.847716\n",
       "2    male     False         468  31.618056\n",
       "3    male      True         109  27.276022"
      ]
     },
     "execution_count": 18,
     "metadata": {},
     "output_type": "execute_result"
    }
   ],
   "source": [
    "cols = [titanic_tbl.Sex, titanic_tbl.Survived]\n",
    "\n",
    "freq = titanic_tbl[train].groupby(cols).aggregate(\n",
    "    Passengers=titanic_tbl.count(),\n",
    "    AvgAge=titanic_tbl.Age.mean(),\n",
    ").sort_by(cols)\n",
    "\n",
    "freq"
   ]
  },
  {
   "cell_type": "markdown",
   "id": "4e0071d8-6673-4c21-b49d-2850a3bf2dd8",
   "metadata": {},
   "source": [
    "#### Join with the gender-specific counts"
   ]
  },
  {
   "cell_type": "code",
   "execution_count": 19,
   "id": "b9c78a5b",
   "metadata": {},
   "outputs": [
    {
     "data": {
      "text/html": [
       "<div>\n",
       "<style scoped>\n",
       "    .dataframe tbody tr th:only-of-type {\n",
       "        vertical-align: middle;\n",
       "    }\n",
       "\n",
       "    .dataframe tbody tr th {\n",
       "        vertical-align: top;\n",
       "    }\n",
       "\n",
       "    .dataframe thead th {\n",
       "        text-align: right;\n",
       "    }\n",
       "</style>\n",
       "<table border=\"1\" class=\"dataframe\">\n",
       "  <thead>\n",
       "    <tr style=\"text-align: right;\">\n",
       "      <th></th>\n",
       "      <th>Sex</th>\n",
       "      <th>Survived</th>\n",
       "      <th>Passengers</th>\n",
       "      <th>AvgAge</th>\n",
       "      <th>Count</th>\n",
       "    </tr>\n",
       "  </thead>\n",
       "  <tbody>\n",
       "    <tr>\n",
       "      <th>0</th>\n",
       "      <td>female</td>\n",
       "      <td>False</td>\n",
       "      <td>81</td>\n",
       "      <td>25.046875</td>\n",
       "      <td>314</td>\n",
       "    </tr>\n",
       "    <tr>\n",
       "      <th>1</th>\n",
       "      <td>female</td>\n",
       "      <td>True</td>\n",
       "      <td>233</td>\n",
       "      <td>28.847716</td>\n",
       "      <td>314</td>\n",
       "    </tr>\n",
       "    <tr>\n",
       "      <th>2</th>\n",
       "      <td>male</td>\n",
       "      <td>False</td>\n",
       "      <td>468</td>\n",
       "      <td>31.618056</td>\n",
       "      <td>577</td>\n",
       "    </tr>\n",
       "    <tr>\n",
       "      <th>3</th>\n",
       "      <td>male</td>\n",
       "      <td>True</td>\n",
       "      <td>109</td>\n",
       "      <td>27.276022</td>\n",
       "      <td>577</td>\n",
       "    </tr>\n",
       "  </tbody>\n",
       "</table>\n",
       "</div>"
      ],
      "text/plain": [
       "      Sex  Survived  Passengers     AvgAge  Count\n",
       "0  female     False          81  25.046875    314\n",
       "1  female      True         233  28.847716    314\n",
       "2    male     False         468  31.618056    577\n",
       "3    male      True         109  27.276022    577"
      ]
     },
     "execution_count": 19,
     "metadata": {},
     "output_type": "execute_result"
    }
   ],
   "source": [
    "gender = titanic_tbl[train].groupby(titanic_tbl.Sex).count(metric_name='Count').relabel(dict(Sex='Sex_'))  # Relabel to avoid duplicate name in result\n",
    "joined = freq.join(gender, freq.Sex == gender.Sex_).drop('Sex_')\n",
    "joined"
   ]
  },
  {
   "cell_type": "markdown",
   "id": "4d936c09-33b7-4aa0-bb45-c1a539328320",
   "metadata": {},
   "source": [
    "#### Calculate the percentages overall and within each gender"
   ]
  },
  {
   "cell_type": "code",
   "execution_count": 20,
   "id": "4ee696e8",
   "metadata": {},
   "outputs": [
    {
     "data": {
      "text/html": [
       "<div>\n",
       "<style scoped>\n",
       "    .dataframe tbody tr th:only-of-type {\n",
       "        vertical-align: middle;\n",
       "    }\n",
       "\n",
       "    .dataframe tbody tr th {\n",
       "        vertical-align: top;\n",
       "    }\n",
       "\n",
       "    .dataframe thead th {\n",
       "        text-align: right;\n",
       "    }\n",
       "</style>\n",
       "<table border=\"1\" class=\"dataframe\">\n",
       "  <thead>\n",
       "    <tr style=\"text-align: right;\">\n",
       "      <th></th>\n",
       "      <th>Sex</th>\n",
       "      <th>Survived</th>\n",
       "      <th>Passengers</th>\n",
       "      <th>AvgAge</th>\n",
       "      <th>Count</th>\n",
       "      <th>GroupPercent</th>\n",
       "      <th>OverallPercent</th>\n",
       "    </tr>\n",
       "  </thead>\n",
       "  <tbody>\n",
       "    <tr>\n",
       "      <th>0</th>\n",
       "      <td>female</td>\n",
       "      <td>False</td>\n",
       "      <td>81</td>\n",
       "      <td>25.046875</td>\n",
       "      <td>314</td>\n",
       "      <td>25.796178</td>\n",
       "      <td>9.090909</td>\n",
       "    </tr>\n",
       "    <tr>\n",
       "      <th>1</th>\n",
       "      <td>female</td>\n",
       "      <td>True</td>\n",
       "      <td>233</td>\n",
       "      <td>28.847716</td>\n",
       "      <td>314</td>\n",
       "      <td>74.203822</td>\n",
       "      <td>26.150393</td>\n",
       "    </tr>\n",
       "    <tr>\n",
       "      <th>2</th>\n",
       "      <td>male</td>\n",
       "      <td>False</td>\n",
       "      <td>468</td>\n",
       "      <td>31.618056</td>\n",
       "      <td>577</td>\n",
       "      <td>81.109185</td>\n",
       "      <td>52.525253</td>\n",
       "    </tr>\n",
       "    <tr>\n",
       "      <th>3</th>\n",
       "      <td>male</td>\n",
       "      <td>True</td>\n",
       "      <td>109</td>\n",
       "      <td>27.276022</td>\n",
       "      <td>577</td>\n",
       "      <td>18.890815</td>\n",
       "      <td>12.233446</td>\n",
       "    </tr>\n",
       "  </tbody>\n",
       "</table>\n",
       "</div>"
      ],
      "text/plain": [
       "      Sex  Survived  Passengers     AvgAge  Count  GroupPercent  \\\n",
       "0  female     False          81  25.046875    314     25.796178   \n",
       "1  female      True         233  28.847716    314     74.203822   \n",
       "2    male     False         468  31.618056    577     81.109185   \n",
       "3    male      True         109  27.276022    577     18.890815   \n",
       "\n",
       "   OverallPercent  \n",
       "0        9.090909  \n",
       "1       26.150393  \n",
       "2       52.525253  \n",
       "3       12.233446  "
      ]
     },
     "execution_count": 20,
     "metadata": {},
     "output_type": "execute_result"
    }
   ],
   "source": [
    "# Get the total as a local numeric to use in the following expressions.\n",
    "# Downloading the value is needed because it originates from a separate table expression.\n",
    "total_int = titanic_tbl[train].count().execute()\n",
    "\n",
    "# Add additional columns to joined table and execute to download the data for plotting.\n",
    "joined = joined.mutate(\n",
    "    OverallPercent=100.0 * joined.Passengers / total_int,\n",
    "    GroupPercent=100.0 * joined.Passengers / joined.Count,\n",
    ")\n",
    "\n",
    "joined"
   ]
  },
  {
   "cell_type": "markdown",
   "id": "bcb62390-9581-485a-b2fd-bb5be98db948",
   "metadata": {},
   "source": [
    "#### Draw a nested barplot by sex and survival"
   ]
  },
  {
   "cell_type": "markdown",
   "id": "cc7a84af-533f-46b5-a4c4-ed8f5aa83a95",
   "metadata": {},
   "source": [
    "Plotting the data requires us to download the data into a pandas `DataFrame`. The `execute` method is used to \n",
    "execute the query behind the `joined` object and return a local `DataFrame` of the values."
   ]
  },
  {
   "cell_type": "code",
   "execution_count": 21,
   "id": "f160bfb3-9a98-458c-a2a5-babdac6e9a78",
   "metadata": {},
   "outputs": [],
   "source": [
    "joined_df = joined.execute()"
   ]
  },
  {
   "cell_type": "code",
   "execution_count": 21,
   "id": "446390dd",
   "metadata": {},
   "outputs": [
    {
     "data": {
      "image/png": "[encoded data removed]",
      "text/plain": [
       "<Figure size 565.25x504 with 1 Axes>"
      ]
     },
     "metadata": {
      "needs_background": "light"
     },
     "output_type": "display_data"
    }
   ],
   "source": [
    "g = sns.catplot(\n",
    "    data=joined_df, kind='bar',\n",
    "    x='Sex', y='OverallPercent', hue='Survived',\n",
    "    palette='dark', alpha=.6, height=7\n",
    ")\n",
    "\n",
    "g.despine(left=True)\n",
    "g.set_axis_labels('Gender', 'Percent of Passengers')\n",
    "g.legend.set_title('')\n",
    "\n",
    "new_labels = ['Dead', 'Survived']\n",
    "for t, l in zip(g.legend.texts, new_labels):\n",
    "    t.set_text(l)\n",
    "    \n",
    "g.fig.suptitle('Pct of Passengers by Gender and Survival');"
   ]
  },
  {
   "cell_type": "code",
   "execution_count": 22,
   "id": "72d7f556",
   "metadata": {},
   "outputs": [
    {
     "data": {
      "image/png": "[encoded data removed]",
      "text/plain": [
       "<Figure size 565.25x504 with 1 Axes>"
      ]
     },
     "metadata": {
      "needs_background": "light"
     },
     "output_type": "display_data"
    }
   ],
   "source": [
    "g = sns.catplot(\n",
    "    data=joined_df, kind='bar',\n",
    "    x='Sex', y='GroupPercent', hue='Survived',\n",
    "    palette='dark', alpha=.6, height=7\n",
    ")\n",
    "\n",
    "g.despine(left=True)\n",
    "g.set_axis_labels('Gender', 'Percent of Passengers')\n",
    "g.legend.set_title('')\n",
    "\n",
    "new_labels = ['Dead', 'Survived']\n",
    "for t, l in zip(g.legend.texts, new_labels):\n",
    "    t.set_text(l)\n",
    "\n",
    "g.fig.suptitle('Passenger Classification within Gender');"
   ]
  },
  {
   "cell_type": "markdown",
   "id": "8d91e4b9",
   "metadata": {},
   "source": [
    "### Survival by Passenger Class"
   ]
  },
  {
   "cell_type": "code",
   "execution_count": 23,
   "id": "188a43d0",
   "metadata": {},
   "outputs": [
    {
     "data": {
      "text/html": [
       "<div>\n",
       "<style scoped>\n",
       "    .dataframe tbody tr th:only-of-type {\n",
       "        vertical-align: middle;\n",
       "    }\n",
       "\n",
       "    .dataframe tbody tr th {\n",
       "        vertical-align: top;\n",
       "    }\n",
       "\n",
       "    .dataframe thead th {\n",
       "        text-align: right;\n",
       "    }\n",
       "</style>\n",
       "<table border=\"1\" class=\"dataframe\">\n",
       "  <thead>\n",
       "    <tr style=\"text-align: right;\">\n",
       "      <th></th>\n",
       "      <th>Pclass</th>\n",
       "      <th>Survived</th>\n",
       "      <th>Passengers</th>\n",
       "      <th>AvgAge</th>\n",
       "    </tr>\n",
       "  </thead>\n",
       "  <tbody>\n",
       "    <tr>\n",
       "      <th>0</th>\n",
       "      <td>1</td>\n",
       "      <td>False</td>\n",
       "      <td>80</td>\n",
       "      <td>43.695312</td>\n",
       "    </tr>\n",
       "    <tr>\n",
       "      <th>1</th>\n",
       "      <td>1</td>\n",
       "      <td>True</td>\n",
       "      <td>136</td>\n",
       "      <td>35.368197</td>\n",
       "    </tr>\n",
       "    <tr>\n",
       "      <th>2</th>\n",
       "      <td>2</td>\n",
       "      <td>False</td>\n",
       "      <td>97</td>\n",
       "      <td>33.544444</td>\n",
       "    </tr>\n",
       "    <tr>\n",
       "      <th>3</th>\n",
       "      <td>2</td>\n",
       "      <td>True</td>\n",
       "      <td>87</td>\n",
       "      <td>25.901566</td>\n",
       "    </tr>\n",
       "    <tr>\n",
       "      <th>4</th>\n",
       "      <td>3</td>\n",
       "      <td>False</td>\n",
       "      <td>372</td>\n",
       "      <td>26.555556</td>\n",
       "    </tr>\n",
       "    <tr>\n",
       "      <th>5</th>\n",
       "      <td>3</td>\n",
       "      <td>True</td>\n",
       "      <td>119</td>\n",
       "      <td>20.646118</td>\n",
       "    </tr>\n",
       "  </tbody>\n",
       "</table>\n",
       "</div>"
      ],
      "text/plain": [
       "   Pclass  Survived  Passengers     AvgAge\n",
       "0       1     False          80  43.695312\n",
       "1       1      True         136  35.368197\n",
       "2       2     False          97  33.544444\n",
       "3       2      True          87  25.901566\n",
       "4       3     False         372  26.555556\n",
       "5       3      True         119  20.646118"
      ]
     },
     "execution_count": 23,
     "metadata": {},
     "output_type": "execute_result"
    }
   ],
   "source": [
    "cols = [titanic_tbl.Pclass, titanic_tbl.Survived]\n",
    "\n",
    "freq = titanic_tbl[train].groupby(cols).aggregate(\n",
    "    Passengers=titanic_tbl.count(),\n",
    "    AvgAge=titanic_tbl.Age.mean(),\n",
    ").sort_by(cols)\n",
    "\n",
    "freq"
   ]
  },
  {
   "cell_type": "code",
   "execution_count": 24,
   "id": "454a700f",
   "metadata": {},
   "outputs": [
    {
     "data": {
      "text/html": [
       "<div>\n",
       "<style scoped>\n",
       "    .dataframe tbody tr th:only-of-type {\n",
       "        vertical-align: middle;\n",
       "    }\n",
       "\n",
       "    .dataframe tbody tr th {\n",
       "        vertical-align: top;\n",
       "    }\n",
       "\n",
       "    .dataframe thead th {\n",
       "        text-align: right;\n",
       "    }\n",
       "</style>\n",
       "<table border=\"1\" class=\"dataframe\">\n",
       "  <thead>\n",
       "    <tr style=\"text-align: right;\">\n",
       "      <th></th>\n",
       "      <th>Pclass</th>\n",
       "      <th>Survived</th>\n",
       "      <th>Passengers</th>\n",
       "      <th>AvgAge</th>\n",
       "      <th>Count</th>\n",
       "      <th>GroupPercent</th>\n",
       "      <th>OverallPercent</th>\n",
       "    </tr>\n",
       "  </thead>\n",
       "  <tbody>\n",
       "    <tr>\n",
       "      <th>0</th>\n",
       "      <td>1</td>\n",
       "      <td>False</td>\n",
       "      <td>80</td>\n",
       "      <td>43.695312</td>\n",
       "      <td>216</td>\n",
       "      <td>37.037037</td>\n",
       "      <td>8.978676</td>\n",
       "    </tr>\n",
       "    <tr>\n",
       "      <th>1</th>\n",
       "      <td>1</td>\n",
       "      <td>True</td>\n",
       "      <td>136</td>\n",
       "      <td>35.368197</td>\n",
       "      <td>216</td>\n",
       "      <td>62.962963</td>\n",
       "      <td>15.263749</td>\n",
       "    </tr>\n",
       "    <tr>\n",
       "      <th>2</th>\n",
       "      <td>2</td>\n",
       "      <td>False</td>\n",
       "      <td>97</td>\n",
       "      <td>33.544444</td>\n",
       "      <td>184</td>\n",
       "      <td>52.717391</td>\n",
       "      <td>10.886644</td>\n",
       "    </tr>\n",
       "    <tr>\n",
       "      <th>3</th>\n",
       "      <td>2</td>\n",
       "      <td>True</td>\n",
       "      <td>87</td>\n",
       "      <td>25.901566</td>\n",
       "      <td>184</td>\n",
       "      <td>47.282609</td>\n",
       "      <td>9.764310</td>\n",
       "    </tr>\n",
       "    <tr>\n",
       "      <th>4</th>\n",
       "      <td>3</td>\n",
       "      <td>False</td>\n",
       "      <td>372</td>\n",
       "      <td>26.555556</td>\n",
       "      <td>491</td>\n",
       "      <td>75.763747</td>\n",
       "      <td>41.750842</td>\n",
       "    </tr>\n",
       "    <tr>\n",
       "      <th>5</th>\n",
       "      <td>3</td>\n",
       "      <td>True</td>\n",
       "      <td>119</td>\n",
       "      <td>20.646118</td>\n",
       "      <td>491</td>\n",
       "      <td>24.236253</td>\n",
       "      <td>13.355780</td>\n",
       "    </tr>\n",
       "  </tbody>\n",
       "</table>\n",
       "</div>"
      ],
      "text/plain": [
       "   Pclass  Survived  Passengers     AvgAge  Count  GroupPercent  \\\n",
       "0       1     False          80  43.695312    216     37.037037   \n",
       "1       1      True         136  35.368197    216     62.962963   \n",
       "2       2     False          97  33.544444    184     52.717391   \n",
       "3       2      True          87  25.901566    184     47.282609   \n",
       "4       3     False         372  26.555556    491     75.763747   \n",
       "5       3      True         119  20.646118    491     24.236253   \n",
       "\n",
       "   OverallPercent  \n",
       "0        8.978676  \n",
       "1       15.263749  \n",
       "2       10.886644  \n",
       "3        9.764310  \n",
       "4       41.750842  \n",
       "5       13.355780  "
      ]
     },
     "execution_count": 24,
     "metadata": {},
     "output_type": "execute_result"
    }
   ],
   "source": [
    "passenger = titanic_tbl[train].groupby(titanic_tbl.Pclass).count(metric_name='Count').relabel(dict(Pclass='Pclass_'))\n",
    "joined = freq.join(passenger, freq.Pclass == passenger.Pclass_).drop('Pclass_')\n",
    "\n",
    "joined = joined.mutate(\n",
    "    OverallPercent=100.0 * joined.Passengers / total_int,\n",
    "    GroupPercent=100.0 * joined.Passengers / joined.Count,\n",
    ")\n",
    "\n",
    "joined"
   ]
  },
  {
   "cell_type": "code",
   "execution_count": 25,
   "id": "f7035fd9",
   "metadata": {},
   "outputs": [
    {
     "data": {
      "image/png": "[encoded data removed]",
      "text/plain": [
       "<Figure size 576x576 with 1 Axes>"
      ]
     },
     "metadata": {
      "needs_background": "light"
     },
     "output_type": "display_data"
    }
   ],
   "source": [
    "survived_df = joined[joined.Survived].execute()\n",
    "\n",
    "g = sns.catplot(\n",
    "    data=survived_df,\n",
    "    kind='bar',\n",
    "    x='Pclass', y='GroupPercent',\n",
    "    palette='dark', alpha=.6, height=8\n",
    ")\n",
    "\n",
    "g.despine(left=True)\n",
    "g.set_axis_labels('Passenger Class', 'Percent of Passengers')\n",
    "g.fig.suptitle('Survival Pct by Passenger Class');"
   ]
  },
  {
   "cell_type": "markdown",
   "id": "b38301e1",
   "metadata": {},
   "source": [
    "### Analyze Age Groups"
   ]
  },
  {
   "cell_type": "code",
   "execution_count": 26,
   "id": "30d9f828",
   "metadata": {},
   "outputs": [
    {
     "data": {
      "text/html": [
       "<div>\n",
       "<style scoped>\n",
       "    .dataframe tbody tr th:only-of-type {\n",
       "        vertical-align: middle;\n",
       "    }\n",
       "\n",
       "    .dataframe tbody tr th {\n",
       "        vertical-align: top;\n",
       "    }\n",
       "\n",
       "    .dataframe thead th {\n",
       "        text-align: right;\n",
       "    }\n",
       "</style>\n",
       "<table border=\"1\" class=\"dataframe\">\n",
       "  <thead>\n",
       "    <tr style=\"text-align: right;\">\n",
       "      <th></th>\n",
       "      <th>Ages</th>\n",
       "      <th>AgeGroup</th>\n",
       "      <th>Count</th>\n",
       "      <th>Percent</th>\n",
       "    </tr>\n",
       "  </thead>\n",
       "  <tbody>\n",
       "    <tr>\n",
       "      <th>0</th>\n",
       "      <td>None</td>\n",
       "      <td>NaN</td>\n",
       "      <td>263</td>\n",
       "      <td>20.091673</td>\n",
       "    </tr>\n",
       "    <tr>\n",
       "      <th>1</th>\n",
       "      <td>&lt; 10</td>\n",
       "      <td>1.0</td>\n",
       "      <td>82</td>\n",
       "      <td>6.264324</td>\n",
       "    </tr>\n",
       "    <tr>\n",
       "      <th>2</th>\n",
       "      <td>11-20</td>\n",
       "      <td>2.0</td>\n",
       "      <td>143</td>\n",
       "      <td>10.924370</td>\n",
       "    </tr>\n",
       "    <tr>\n",
       "      <th>3</th>\n",
       "      <td>21-30</td>\n",
       "      <td>3.0</td>\n",
       "      <td>344</td>\n",
       "      <td>26.279603</td>\n",
       "    </tr>\n",
       "    <tr>\n",
       "      <th>4</th>\n",
       "      <td>31-40</td>\n",
       "      <td>4.0</td>\n",
       "      <td>232</td>\n",
       "      <td>17.723453</td>\n",
       "    </tr>\n",
       "    <tr>\n",
       "      <th>5</th>\n",
       "      <td>41-50</td>\n",
       "      <td>5.0</td>\n",
       "      <td>135</td>\n",
       "      <td>10.313216</td>\n",
       "    </tr>\n",
       "    <tr>\n",
       "      <th>6</th>\n",
       "      <td>51-60</td>\n",
       "      <td>6.0</td>\n",
       "      <td>70</td>\n",
       "      <td>5.347594</td>\n",
       "    </tr>\n",
       "    <tr>\n",
       "      <th>7</th>\n",
       "      <td>61-70</td>\n",
       "      <td>7.0</td>\n",
       "      <td>32</td>\n",
       "      <td>2.444614</td>\n",
       "    </tr>\n",
       "    <tr>\n",
       "      <th>8</th>\n",
       "      <td>71-80</td>\n",
       "      <td>8.0</td>\n",
       "      <td>8</td>\n",
       "      <td>0.611154</td>\n",
       "    </tr>\n",
       "  </tbody>\n",
       "</table>\n",
       "</div>"
      ],
      "text/plain": [
       "    Ages AgeGroup  Count    Percent\n",
       "0   None      NaN    263  20.091673\n",
       "1   < 10      1.0     82   6.264324\n",
       "2  11-20      2.0    143  10.924370\n",
       "3  21-30      3.0    344  26.279603\n",
       "4  31-40      4.0    232  17.723453\n",
       "5  41-50      5.0    135  10.313216\n",
       "6  51-60      6.0     70   5.347594\n",
       "7  61-70      7.0     32   2.444614\n",
       "8  71-80      8.0      8   0.611154"
      ]
     },
     "execution_count": 26,
     "metadata": {},
     "output_type": "execute_result"
    }
   ],
   "source": [
    "buckets = list(range(-10, 90, 10))\n",
    "group = 'AgeGroup'\n",
    "\n",
    "bucketed = titanic_tbl.Age.bucket(buckets).name(group).value_counts(metric_name='Count')\n",
    "\n",
    "labeled_bucket = bucketed[group].label(\n",
    "    ['None', '< 10', '11-20', '21-30', '31-40', '41-50', '51-60', '61-70', '71-80']\n",
    ").name('Ages')\n",
    "\n",
    "expr = bucketed[labeled_bucket, bucketed]\n",
    "expr = expr.mutate(\n",
    "    Percent=100.0 * expr.Count / expr.Count.sum(),\n",
    ").sort_by(group)\n",
    "\n",
    "expr"
   ]
  },
  {
   "cell_type": "code",
   "execution_count": 27,
   "id": "e798d1ce-03fc-4662-add8-b912b909b558",
   "metadata": {},
   "outputs": [],
   "source": [
    "expr_df = expr.execute()"
   ]
  },
  {
   "cell_type": "code",
   "execution_count": 28,
   "id": "55d4e235",
   "metadata": {},
   "outputs": [
    {
     "data": {
      "image/png": "[encoded data removed]",
      "text/plain": [
       "<Figure size 576x576 with 1 Axes>"
      ]
     },
     "metadata": {
      "needs_background": "light"
     },
     "output_type": "display_data"
    }
   ],
   "source": [
    "g = sns.catplot(\n",
    "    data=expr_df, \n",
    "    kind='bar',\n",
    "    x='Ages', y='Percent',\n",
    "    palette='dark', alpha=.6, height=8\n",
    ")\n",
    "\n",
    "g.despine(left=True)\n",
    "g.set_axis_labels('Age Group', 'Percent of Passengers')\n",
    "g.fig.suptitle('Passenger Age Distribution');"
   ]
  },
  {
   "cell_type": "code",
   "execution_count": 29,
   "id": "6be95a8a",
   "metadata": {},
   "outputs": [
    {
     "data": {
      "text/html": [
       "<div>\n",
       "<style scoped>\n",
       "    .dataframe tbody tr th:only-of-type {\n",
       "        vertical-align: middle;\n",
       "    }\n",
       "\n",
       "    .dataframe tbody tr th {\n",
       "        vertical-align: top;\n",
       "    }\n",
       "\n",
       "    .dataframe thead th {\n",
       "        text-align: right;\n",
       "    }\n",
       "</style>\n",
       "<table border=\"1\" class=\"dataframe\">\n",
       "  <thead>\n",
       "    <tr style=\"text-align: right;\">\n",
       "      <th></th>\n",
       "      <th>Ages</th>\n",
       "      <th>AgeGroup</th>\n",
       "      <th>Count</th>\n",
       "      <th>Percent</th>\n",
       "    </tr>\n",
       "  </thead>\n",
       "  <tbody>\n",
       "    <tr>\n",
       "      <th>0</th>\n",
       "      <td>None</td>\n",
       "      <td>NaN</td>\n",
       "      <td>52</td>\n",
       "      <td>15.204678</td>\n",
       "    </tr>\n",
       "    <tr>\n",
       "      <th>1</th>\n",
       "      <td>&lt; 10</td>\n",
       "      <td>1.0</td>\n",
       "      <td>38</td>\n",
       "      <td>11.111111</td>\n",
       "    </tr>\n",
       "    <tr>\n",
       "      <th>2</th>\n",
       "      <td>11-20</td>\n",
       "      <td>2.0</td>\n",
       "      <td>41</td>\n",
       "      <td>11.988304</td>\n",
       "    </tr>\n",
       "    <tr>\n",
       "      <th>3</th>\n",
       "      <td>21-30</td>\n",
       "      <td>3.0</td>\n",
       "      <td>77</td>\n",
       "      <td>22.514620</td>\n",
       "    </tr>\n",
       "    <tr>\n",
       "      <th>4</th>\n",
       "      <td>31-40</td>\n",
       "      <td>4.0</td>\n",
       "      <td>73</td>\n",
       "      <td>21.345029</td>\n",
       "    </tr>\n",
       "    <tr>\n",
       "      <th>5</th>\n",
       "      <td>41-50</td>\n",
       "      <td>5.0</td>\n",
       "      <td>34</td>\n",
       "      <td>9.941520</td>\n",
       "    </tr>\n",
       "    <tr>\n",
       "      <th>6</th>\n",
       "      <td>51-60</td>\n",
       "      <td>6.0</td>\n",
       "      <td>20</td>\n",
       "      <td>5.847953</td>\n",
       "    </tr>\n",
       "    <tr>\n",
       "      <th>7</th>\n",
       "      <td>61-70</td>\n",
       "      <td>7.0</td>\n",
       "      <td>6</td>\n",
       "      <td>1.754386</td>\n",
       "    </tr>\n",
       "    <tr>\n",
       "      <th>8</th>\n",
       "      <td>71-80</td>\n",
       "      <td>8.0</td>\n",
       "      <td>1</td>\n",
       "      <td>0.292398</td>\n",
       "    </tr>\n",
       "  </tbody>\n",
       "</table>\n",
       "</div>"
      ],
      "text/plain": [
       "    Ages AgeGroup  Count    Percent\n",
       "0   None      NaN     52  15.204678\n",
       "1   < 10      1.0     38  11.111111\n",
       "2  11-20      2.0     41  11.988304\n",
       "3  21-30      3.0     77  22.514620\n",
       "4  31-40      4.0     73  21.345029\n",
       "5  41-50      5.0     34   9.941520\n",
       "6  51-60      6.0     20   5.847953\n",
       "7  61-70      7.0      6   1.754386\n",
       "8  71-80      8.0      1   0.292398"
      ]
     },
     "execution_count": 29,
     "metadata": {},
     "output_type": "execute_result"
    }
   ],
   "source": [
    "buckets = list(range(-10, 90, 10))\n",
    "group = 'AgeGroup'\n",
    "\n",
    "bucketed = titanic_tbl[titanic_tbl.Survived == 1].Age.bucket(buckets).name(group).value_counts(metric_name='Count')\n",
    "\n",
    "labeled_bucket = bucketed[group].label(\n",
    "    ['NaN', '< 10', '11-20', '21-30', '31-40', '41-50', '51-60', '61-70', '71-80']\n",
    ").name('Ages')\n",
    "\n",
    "expr = bucketed[labeled_bucket, bucketed]\n",
    "expr = expr.mutate(\n",
    "    Percent=100.0 * expr.Count / expr.Count.sum(),\n",
    ").sort_by(group)\n",
    "\n",
    "expr"
   ]
  },
  {
   "cell_type": "code",
   "execution_count": 30,
   "id": "b13d60b1-a333-4594-9958-ad502469f2f0",
   "metadata": {},
   "outputs": [],
   "source": [
    "expr_df = expr.execute()"
   ]
  },
  {
   "cell_type": "code",
   "execution_count": 31,
   "id": "4303c08c",
   "metadata": {},
   "outputs": [
    {
     "data": {
      "image/png": "[encoded data removed]",
      "text/plain": [
       "<Figure size 576x576 with 1 Axes>"
      ]
     },
     "metadata": {
      "needs_background": "light"
     },
     "output_type": "display_data"
    }
   ],
   "source": [
    "g = sns.catplot(\n",
    "    data=expr_df, \n",
    "    kind='bar',\n",
    "    x='Ages', y='Percent',\n",
    "    palette='dark', alpha=.6, height=8\n",
    ")\n",
    "\n",
    "g.despine(left=True)\n",
    "g.set_axis_labels('Age Group', 'Percent')\n",
    "g.fig.suptitle('Age Distribution of Survived');"
   ]
  },
  {
   "cell_type": "code",
   "execution_count": null,
   "id": "807317d2-2dd6-45a2-a959-fa30569715cc",
   "metadata": {},
   "outputs": [],
   "source": []
  }
 ],
 "metadata": {
  "kernelspec": {
   "display_name": "Python 3 (ipykernel)",
   "language": "python",
   "name": "python3"
  },
  "language_info": {
   "codemirror_mode": {
    "name": "ipython",
    "version": 3
   },
   "file_extension": ".py",
   "mimetype": "text/x-python",
   "name": "python",
   "nbconvert_exporter": "python",
   "pygments_lexer": "ipython3",
   "version": "3.9.4"
  }
 },
 "nbformat": 4,
 "nbformat_minor": 5
}
