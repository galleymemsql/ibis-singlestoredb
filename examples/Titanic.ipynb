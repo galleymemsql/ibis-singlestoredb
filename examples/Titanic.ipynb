{
 "cells": [
  {
   "cell_type": "markdown",
   "id": "43ccca79",
   "metadata": {},
   "source": [
    "# Exploratory Data Analysis of Titanic Data with SingleStoreDB\n",
    "\n",
    "This notebook uses the SingleStoreDB Python package to perform basic EDA for the Titanic survival data.\n",
    "The **new No SQL** --> No Can See SQL."
   ]
  },
  {
   "cell_type": "code",
   "execution_count": 1,
   "id": "b7100720-fa65-47a3-bf6d-c54dd723ef01",
   "metadata": {},
   "outputs": [],
   "source": [
    "import ibis\n",
    "import pandas as pd\n",
    "import matplotlib.pyplot as plt\n",
    "import seaborn as sns"
   ]
  },
  {
   "cell_type": "code",
   "execution_count": 2,
   "id": "8ba12486-461e-4760-a36a-5530768d2668",
   "metadata": {},
   "outputs": [],
   "source": [
    "ibis.options.verbose = False   ## make this True to see the generated SQL\n",
    "ibis.options.interactive = True"
   ]
  },
  {
   "cell_type": "markdown",
   "id": "e7ba8a8d",
   "metadata": {},
   "source": [
    "### Connect to SingleStoreDB\n",
    "\n",
    "The connection parameters can either be [Python DB-API](https://peps.python.org/pep-0249/) style parameters, \n",
    "or a URL connection string as used by [SQLAlchemy](https://www.sqlalchemy.org)."
   ]
  },
  {
   "cell_type": "code",
   "execution_count": 3,
   "id": "b5c3abd1",
   "metadata": {},
   "outputs": [],
   "source": [
    "conn = ibis.singlestoredb.connect('localhost/x_db')"
   ]
  },
  {
   "cell_type": "markdown",
   "id": "0fbf4262",
   "metadata": {},
   "source": [
    "### Head over to Kaggle and get the csv files for the titanic data\n",
    "\n",
    "https://www.kaggle.com/c/titanic\n",
    "\n",
    "### Read the csv files for training and test data set \n",
    "\n",
    "- Pclass = Passenger Class (1=1st, 2=2nd, 3=3rd)\n",
    "- Survived = Survival (1 = Yes, 0 = No)\n",
    "- Sex = Gender\n",
    "- Age = Passenger age\n",
    "- Fare = Ticket price in British pounds\n",
    "- SibSp  = # of siblings / spouses aboard the Titanic. \n",
    "- Parch  = # of parents / children aboard the Titanic.\n",
    "- Embarked = Port of embarkation (C = Cherbourg; Q = Queenstown; S = Southampton)\n",
    "- Cabin = Cabin No."
   ]
  },
  {
   "cell_type": "code",
   "execution_count": 4,
   "id": "3585dbaf",
   "metadata": {},
   "outputs": [],
   "source": [
    "train_df = pd.read_csv('titanic_train.csv')\n",
    "test_df = pd.read_csv('titanic_test.csv')"
   ]
  },
  {
   "cell_type": "code",
   "execution_count": 5,
   "id": "b16e1149",
   "metadata": {},
   "outputs": [
    {
     "data": {
      "text/html": [
       "<div>\n",
       "<style scoped>\n",
       "    .dataframe tbody tr th:only-of-type {\n",
       "        vertical-align: middle;\n",
       "    }\n",
       "\n",
       "    .dataframe tbody tr th {\n",
       "        vertical-align: top;\n",
       "    }\n",
       "\n",
       "    .dataframe thead th {\n",
       "        text-align: right;\n",
       "    }\n",
       "</style>\n",
       "<table border=\"1\" class=\"dataframe\">\n",
       "  <thead>\n",
       "    <tr style=\"text-align: right;\">\n",
       "      <th></th>\n",
       "      <th>PassengerId</th>\n",
       "      <th>Survived</th>\n",
       "      <th>Pclass</th>\n",
       "      <th>Name</th>\n",
       "      <th>Sex</th>\n",
       "      <th>Age</th>\n",
       "      <th>SibSp</th>\n",
       "      <th>Parch</th>\n",
       "      <th>Ticket</th>\n",
       "      <th>Fare</th>\n",
       "      <th>Cabin</th>\n",
       "      <th>Embarked</th>\n",
       "    </tr>\n",
       "  </thead>\n",
       "  <tbody>\n",
       "    <tr>\n",
       "      <th>0</th>\n",
       "      <td>1</td>\n",
       "      <td>0</td>\n",
       "      <td>3</td>\n",
       "      <td>Braund, Mr. Owen Harris</td>\n",
       "      <td>male</td>\n",
       "      <td>22.0</td>\n",
       "      <td>1</td>\n",
       "      <td>0</td>\n",
       "      <td>A/5 21171</td>\n",
       "      <td>7.2500</td>\n",
       "      <td>NaN</td>\n",
       "      <td>S</td>\n",
       "    </tr>\n",
       "    <tr>\n",
       "      <th>1</th>\n",
       "      <td>2</td>\n",
       "      <td>1</td>\n",
       "      <td>1</td>\n",
       "      <td>Cumings, Mrs. John Bradley (Florence Briggs Th...</td>\n",
       "      <td>female</td>\n",
       "      <td>38.0</td>\n",
       "      <td>1</td>\n",
       "      <td>0</td>\n",
       "      <td>PC 17599</td>\n",
       "      <td>71.2833</td>\n",
       "      <td>C85</td>\n",
       "      <td>C</td>\n",
       "    </tr>\n",
       "    <tr>\n",
       "      <th>2</th>\n",
       "      <td>3</td>\n",
       "      <td>1</td>\n",
       "      <td>3</td>\n",
       "      <td>Heikkinen, Miss. Laina</td>\n",
       "      <td>female</td>\n",
       "      <td>26.0</td>\n",
       "      <td>0</td>\n",
       "      <td>0</td>\n",
       "      <td>STON/O2. 3101282</td>\n",
       "      <td>7.9250</td>\n",
       "      <td>NaN</td>\n",
       "      <td>S</td>\n",
       "    </tr>\n",
       "    <tr>\n",
       "      <th>3</th>\n",
       "      <td>4</td>\n",
       "      <td>1</td>\n",
       "      <td>1</td>\n",
       "      <td>Futrelle, Mrs. Jacques Heath (Lily May Peel)</td>\n",
       "      <td>female</td>\n",
       "      <td>35.0</td>\n",
       "      <td>1</td>\n",
       "      <td>0</td>\n",
       "      <td>113803</td>\n",
       "      <td>53.1000</td>\n",
       "      <td>C123</td>\n",
       "      <td>S</td>\n",
       "    </tr>\n",
       "    <tr>\n",
       "      <th>4</th>\n",
       "      <td>5</td>\n",
       "      <td>0</td>\n",
       "      <td>3</td>\n",
       "      <td>Allen, Mr. William Henry</td>\n",
       "      <td>male</td>\n",
       "      <td>35.0</td>\n",
       "      <td>0</td>\n",
       "      <td>0</td>\n",
       "      <td>373450</td>\n",
       "      <td>8.0500</td>\n",
       "      <td>NaN</td>\n",
       "      <td>S</td>\n",
       "    </tr>\n",
       "  </tbody>\n",
       "</table>\n",
       "</div>"
      ],
      "text/plain": [
       "   PassengerId  Survived  Pclass  \\\n",
       "0            1         0       3   \n",
       "1            2         1       1   \n",
       "2            3         1       3   \n",
       "3            4         1       1   \n",
       "4            5         0       3   \n",
       "\n",
       "                                                Name     Sex   Age  SibSp  \\\n",
       "0                            Braund, Mr. Owen Harris    male  22.0      1   \n",
       "1  Cumings, Mrs. John Bradley (Florence Briggs Th...  female  38.0      1   \n",
       "2                             Heikkinen, Miss. Laina  female  26.0      0   \n",
       "3       Futrelle, Mrs. Jacques Heath (Lily May Peel)  female  35.0      1   \n",
       "4                           Allen, Mr. William Henry    male  35.0      0   \n",
       "\n",
       "   Parch            Ticket     Fare Cabin Embarked  \n",
       "0      0         A/5 21171   7.2500   NaN        S  \n",
       "1      0          PC 17599  71.2833   C85        C  \n",
       "2      0  STON/O2. 3101282   7.9250   NaN        S  \n",
       "3      0            113803  53.1000  C123        S  \n",
       "4      0            373450   8.0500   NaN        S  "
      ]
     },
     "execution_count": 5,
     "metadata": {},
     "output_type": "execute_result"
    }
   ],
   "source": [
    "train_df.head()"
   ]
  },
  {
   "cell_type": "code",
   "execution_count": 6,
   "id": "58ab3155",
   "metadata": {},
   "outputs": [
    {
     "data": {
      "text/html": [
       "<div>\n",
       "<style scoped>\n",
       "    .dataframe tbody tr th:only-of-type {\n",
       "        vertical-align: middle;\n",
       "    }\n",
       "\n",
       "    .dataframe tbody tr th {\n",
       "        vertical-align: top;\n",
       "    }\n",
       "\n",
       "    .dataframe thead th {\n",
       "        text-align: right;\n",
       "    }\n",
       "</style>\n",
       "<table border=\"1\" class=\"dataframe\">\n",
       "  <thead>\n",
       "    <tr style=\"text-align: right;\">\n",
       "      <th></th>\n",
       "      <th>PassengerId</th>\n",
       "      <th>Pclass</th>\n",
       "      <th>Name</th>\n",
       "      <th>Sex</th>\n",
       "      <th>Age</th>\n",
       "      <th>SibSp</th>\n",
       "      <th>Parch</th>\n",
       "      <th>Ticket</th>\n",
       "      <th>Fare</th>\n",
       "      <th>Cabin</th>\n",
       "      <th>Embarked</th>\n",
       "    </tr>\n",
       "  </thead>\n",
       "  <tbody>\n",
       "    <tr>\n",
       "      <th>0</th>\n",
       "      <td>892</td>\n",
       "      <td>3</td>\n",
       "      <td>Kelly, Mr. James</td>\n",
       "      <td>male</td>\n",
       "      <td>34.5</td>\n",
       "      <td>0</td>\n",
       "      <td>0</td>\n",
       "      <td>330911</td>\n",
       "      <td>7.8292</td>\n",
       "      <td>NaN</td>\n",
       "      <td>Q</td>\n",
       "    </tr>\n",
       "    <tr>\n",
       "      <th>1</th>\n",
       "      <td>893</td>\n",
       "      <td>3</td>\n",
       "      <td>Wilkes, Mrs. James (Ellen Needs)</td>\n",
       "      <td>female</td>\n",
       "      <td>47.0</td>\n",
       "      <td>1</td>\n",
       "      <td>0</td>\n",
       "      <td>363272</td>\n",
       "      <td>7.0000</td>\n",
       "      <td>NaN</td>\n",
       "      <td>S</td>\n",
       "    </tr>\n",
       "    <tr>\n",
       "      <th>2</th>\n",
       "      <td>894</td>\n",
       "      <td>2</td>\n",
       "      <td>Myles, Mr. Thomas Francis</td>\n",
       "      <td>male</td>\n",
       "      <td>62.0</td>\n",
       "      <td>0</td>\n",
       "      <td>0</td>\n",
       "      <td>240276</td>\n",
       "      <td>9.6875</td>\n",
       "      <td>NaN</td>\n",
       "      <td>Q</td>\n",
       "    </tr>\n",
       "    <tr>\n",
       "      <th>3</th>\n",
       "      <td>895</td>\n",
       "      <td>3</td>\n",
       "      <td>Wirz, Mr. Albert</td>\n",
       "      <td>male</td>\n",
       "      <td>27.0</td>\n",
       "      <td>0</td>\n",
       "      <td>0</td>\n",
       "      <td>315154</td>\n",
       "      <td>8.6625</td>\n",
       "      <td>NaN</td>\n",
       "      <td>S</td>\n",
       "    </tr>\n",
       "    <tr>\n",
       "      <th>4</th>\n",
       "      <td>896</td>\n",
       "      <td>3</td>\n",
       "      <td>Hirvonen, Mrs. Alexander (Helga E Lindqvist)</td>\n",
       "      <td>female</td>\n",
       "      <td>22.0</td>\n",
       "      <td>1</td>\n",
       "      <td>1</td>\n",
       "      <td>3101298</td>\n",
       "      <td>12.2875</td>\n",
       "      <td>NaN</td>\n",
       "      <td>S</td>\n",
       "    </tr>\n",
       "  </tbody>\n",
       "</table>\n",
       "</div>"
      ],
      "text/plain": [
       "   PassengerId  Pclass                                          Name     Sex  \\\n",
       "0          892       3                              Kelly, Mr. James    male   \n",
       "1          893       3              Wilkes, Mrs. James (Ellen Needs)  female   \n",
       "2          894       2                     Myles, Mr. Thomas Francis    male   \n",
       "3          895       3                              Wirz, Mr. Albert    male   \n",
       "4          896       3  Hirvonen, Mrs. Alexander (Helga E Lindqvist)  female   \n",
       "\n",
       "    Age  SibSp  Parch   Ticket     Fare Cabin Embarked  \n",
       "0  34.5      0      0   330911   7.8292   NaN        Q  \n",
       "1  47.0      1      0   363272   7.0000   NaN        S  \n",
       "2  62.0      0      0   240276   9.6875   NaN        Q  \n",
       "3  27.0      0      0   315154   8.6625   NaN        S  \n",
       "4  22.0      1      1  3101298  12.2875   NaN        S  "
      ]
     },
     "execution_count": 6,
     "metadata": {},
     "output_type": "execute_result"
    }
   ],
   "source": [
    "test_df.head()"
   ]
  },
  {
   "cell_type": "code",
   "execution_count": 7,
   "id": "6f883d58",
   "metadata": {},
   "outputs": [],
   "source": [
    "titanic_df = pd.concat([train_df, test_df])"
   ]
  },
  {
   "cell_type": "markdown",
   "id": "bf6545a8",
   "metadata": {},
   "source": [
    "### Create a table for the combined data in SingleStoreDB\n",
    "\n",
    "We can use the `create_table` method of the connection to upload a pandas DataFrame to a database table.\n",
    "The `force=True` is merely used here in case you run the same notebook multiple times. It will cause the \n",
    "table in the database to be overwritten if it already exists."
   ]
  },
  {
   "cell_type": "code",
   "execution_count": 8,
   "id": "402660c1",
   "metadata": {},
   "outputs": [],
   "source": [
    "titanic_tbl = conn.create_table('titanic', titanic_df, force=True)"
   ]
  },
  {
   "cell_type": "code",
   "execution_count": 9,
   "id": "0e63b04a",
   "metadata": {
    "scrolled": true
   },
   "outputs": [
    {
     "data": {
      "text/html": [
       "<div>\n",
       "<style scoped>\n",
       "    .dataframe tbody tr th:only-of-type {\n",
       "        vertical-align: middle;\n",
       "    }\n",
       "\n",
       "    .dataframe tbody tr th {\n",
       "        vertical-align: top;\n",
       "    }\n",
       "\n",
       "    .dataframe thead th {\n",
       "        text-align: right;\n",
       "    }\n",
       "</style>\n",
       "<table border=\"1\" class=\"dataframe\">\n",
       "  <thead>\n",
       "    <tr style=\"text-align: right;\">\n",
       "      <th></th>\n",
       "      <th>PassengerId</th>\n",
       "      <th>Survived</th>\n",
       "      <th>Pclass</th>\n",
       "      <th>Name</th>\n",
       "      <th>Sex</th>\n",
       "      <th>Age</th>\n",
       "      <th>SibSp</th>\n",
       "      <th>Parch</th>\n",
       "      <th>Ticket</th>\n",
       "      <th>Fare</th>\n",
       "      <th>Cabin</th>\n",
       "      <th>Embarked</th>\n",
       "    </tr>\n",
       "  </thead>\n",
       "  <tbody>\n",
       "    <tr>\n",
       "      <th>0</th>\n",
       "      <td>1</td>\n",
       "      <td>0.0</td>\n",
       "      <td>3</td>\n",
       "      <td>Braund, Mr. Owen Harris</td>\n",
       "      <td>male</td>\n",
       "      <td>22.0</td>\n",
       "      <td>1</td>\n",
       "      <td>0</td>\n",
       "      <td>A/5 21171</td>\n",
       "      <td>7.2500</td>\n",
       "      <td>None</td>\n",
       "      <td>S</td>\n",
       "    </tr>\n",
       "    <tr>\n",
       "      <th>1</th>\n",
       "      <td>2</td>\n",
       "      <td>1.0</td>\n",
       "      <td>1</td>\n",
       "      <td>Cumings, Mrs. John Bradley (Florence Briggs Th...</td>\n",
       "      <td>female</td>\n",
       "      <td>38.0</td>\n",
       "      <td>1</td>\n",
       "      <td>0</td>\n",
       "      <td>PC 17599</td>\n",
       "      <td>71.2833</td>\n",
       "      <td>C85</td>\n",
       "      <td>C</td>\n",
       "    </tr>\n",
       "    <tr>\n",
       "      <th>2</th>\n",
       "      <td>3</td>\n",
       "      <td>1.0</td>\n",
       "      <td>3</td>\n",
       "      <td>Heikkinen, Miss. Laina</td>\n",
       "      <td>female</td>\n",
       "      <td>26.0</td>\n",
       "      <td>0</td>\n",
       "      <td>0</td>\n",
       "      <td>STON/O2. 3101282</td>\n",
       "      <td>7.9250</td>\n",
       "      <td>None</td>\n",
       "      <td>S</td>\n",
       "    </tr>\n",
       "  </tbody>\n",
       "</table>\n",
       "</div>"
      ],
      "text/plain": [
       "   PassengerId  Survived  Pclass  \\\n",
       "0            1       0.0       3   \n",
       "1            2       1.0       1   \n",
       "2            3       1.0       3   \n",
       "\n",
       "                                                Name     Sex   Age  SibSp  \\\n",
       "0                            Braund, Mr. Owen Harris    male  22.0      1   \n",
       "1  Cumings, Mrs. John Bradley (Florence Briggs Th...  female  38.0      1   \n",
       "2                             Heikkinen, Miss. Laina  female  26.0      0   \n",
       "\n",
       "   Parch            Ticket     Fare Cabin Embarked  \n",
       "0      0         A/5 21171   7.2500  None        S  \n",
       "1      0          PC 17599  71.2833   C85        C  \n",
       "2      0  STON/O2. 3101282   7.9250  None        S  "
      ]
     },
     "execution_count": 9,
     "metadata": {},
     "output_type": "execute_result"
    }
   ],
   "source": [
    "titanic_tbl.head(3)"
   ]
  },
  {
   "cell_type": "code",
   "execution_count": 10,
   "id": "3ce28b78",
   "metadata": {},
   "outputs": [
    {
     "name": "stdout",
     "output_type": "stream",
     "text": [
      "Column       Type        Nulls (%)\n",
      "-----------  -------  ------------\n",
      "PassengerId  int64        0 (  0%)\n",
      "Survived     float64   418 (31.9%)\n",
      "Pclass       int64        0 (  0%)\n",
      "Name         string       0 (  0%)\n",
      "Sex          string       0 (  0%)\n",
      "Age          float64   263 (20.1%)\n",
      "SibSp        int64        0 (  0%)\n",
      "Parch        int64        0 (  0%)\n",
      "Ticket       string       0 (  0%)\n",
      "Fare         float64   1 (0.0764%)\n",
      "Cabin        string   1014 (77.5%)\n",
      "Embarked     string     2 (0.153%)\n",
      "----------------------------------\n",
      "            Rows: 1309            \n"
     ]
    }
   ],
   "source": [
    "titanic_tbl.info()"
   ]
  },
  {
   "cell_type": "markdown",
   "id": "b0ec2ee2",
   "metadata": {},
   "source": [
    "### List of Ibis functions for numerical data\n",
    "\n",
    "We will be using various methods on numeric columns of database tables in this notebook. This code simply\n",
    "prints all of the methods on numeric columns for reference."
   ]
  },
  {
   "cell_type": "code",
   "execution_count": 11,
   "id": "d9469fb2",
   "metadata": {},
   "outputs": [
    {
     "name": "stdout",
     "output_type": "stream",
     "text": [
      "abs acos add approx_median approx_nunique arbitrary asin atan atan2 between bottomk bucket case cases cast ceil clip coalesce collect compile corr cos cot count cov cume_dist cummax cummean cummin cumsum deg2rad degrees dense_rank div equals execute exp fillna first floor floordiv get_name greatest group_concat has_name hash histogram identical_to isin isinf isnan isnull lag last lead least ln log log10 log2 max mean min mod mul name negate notin notnull nth ntile nullif nullifzero nunique op over parent percent_rank pipe point pow quantile rad2deg radd radians rank rdiv rfloordiv rmod rmul round rpow rsub sign sin sqrt std sub substitute sum summary tan to_projection topk type typeof value_counts var verify visualize zeroifnull\n"
     ]
    }
   ],
   "source": [
    "num_expr = titanic_tbl.Survived\n",
    "print(' '.join([x for x in dir(num_expr) if not x.startswith('_')]))"
   ]
  },
  {
   "cell_type": "markdown",
   "id": "155777c0",
   "metadata": {},
   "source": [
    "### Unique values for some columns in the table"
   ]
  },
  {
   "cell_type": "code",
   "execution_count": 12,
   "id": "b9ba8bc7",
   "metadata": {},
   "outputs": [
    {
     "data": {
      "text/html": [
       "<div>\n",
       "<style scoped>\n",
       "    .dataframe tbody tr th:only-of-type {\n",
       "        vertical-align: middle;\n",
       "    }\n",
       "\n",
       "    .dataframe tbody tr th {\n",
       "        vertical-align: top;\n",
       "    }\n",
       "\n",
       "    .dataframe thead th {\n",
       "        text-align: right;\n",
       "    }\n",
       "</style>\n",
       "<table border=\"1\" class=\"dataframe\">\n",
       "  <thead>\n",
       "    <tr style=\"text-align: right;\">\n",
       "      <th></th>\n",
       "      <th>n_Pclass</th>\n",
       "      <th>n_Sex</th>\n",
       "      <th>n_Tix</th>\n",
       "    </tr>\n",
       "  </thead>\n",
       "  <tbody>\n",
       "    <tr>\n",
       "      <th>0</th>\n",
       "      <td>3</td>\n",
       "      <td>2</td>\n",
       "      <td>929</td>\n",
       "    </tr>\n",
       "  </tbody>\n",
       "</table>\n",
       "</div>"
      ],
      "text/plain": [
       "   n_Pclass  n_Sex  n_Tix\n",
       "0         3      2    929"
      ]
     },
     "execution_count": 12,
     "metadata": {},
     "output_type": "execute_result"
    }
   ],
   "source": [
    "titanic_tbl.aggregate(\n",
    "    n_Pclass=titanic_tbl.Pclass.nunique(),\n",
    "    n_Sex=titanic_tbl.Sex.nunique(),\n",
    "    n_Tix=titanic_tbl.Ticket.nunique()\n",
    ")"
   ]
  },
  {
   "cell_type": "markdown",
   "id": "407ad3a9",
   "metadata": {},
   "source": [
    "### Simple statistics for numeric columns"
   ]
  },
  {
   "cell_type": "code",
   "execution_count": 13,
   "id": "cecb79b4",
   "metadata": {},
   "outputs": [
    {
     "data": {
      "text/html": [
       "<div>\n",
       "<style scoped>\n",
       "    .dataframe tbody tr th:only-of-type {\n",
       "        vertical-align: middle;\n",
       "    }\n",
       "\n",
       "    .dataframe tbody tr th {\n",
       "        vertical-align: top;\n",
       "    }\n",
       "\n",
       "    .dataframe thead th {\n",
       "        text-align: right;\n",
       "    }\n",
       "</style>\n",
       "<table border=\"1\" class=\"dataframe\">\n",
       "  <thead>\n",
       "    <tr style=\"text-align: right;\">\n",
       "      <th></th>\n",
       "      <th>max_SibSp</th>\n",
       "      <th>max_Parch</th>\n",
       "      <th>min_Age</th>\n",
       "      <th>max_Age</th>\n",
       "      <th>ave_Age</th>\n",
       "    </tr>\n",
       "  </thead>\n",
       "  <tbody>\n",
       "    <tr>\n",
       "      <th>0</th>\n",
       "      <td>8</td>\n",
       "      <td>9</td>\n",
       "      <td>0.17</td>\n",
       "      <td>80.0</td>\n",
       "      <td>29.881138</td>\n",
       "    </tr>\n",
       "  </tbody>\n",
       "</table>\n",
       "</div>"
      ],
      "text/plain": [
       "   max_SibSp  max_Parch  min_Age  max_Age    ave_Age\n",
       "0          8          9     0.17     80.0  29.881138"
      ]
     },
     "execution_count": 13,
     "metadata": {},
     "output_type": "execute_result"
    }
   ],
   "source": [
    "titanic_tbl.aggregate(\n",
    "    max_SibSp=titanic_tbl.SibSp.max(),\n",
    "    max_Parch=titanic_tbl.Parch.max(),\n",
    "    min_Age=titanic_tbl.Age.min(),\n",
    "    max_Age=titanic_tbl.Age.max(),\n",
    "    ave_Age=titanic_tbl.Age.mean()\n",
    ")"
   ]
  },
  {
   "cell_type": "markdown",
   "id": "b4127932",
   "metadata": {},
   "source": [
    "#### Set the verbose option to True if you want to see the generated SQL"
   ]
  },
  {
   "cell_type": "code",
   "execution_count": 14,
   "id": "f1814824",
   "metadata": {},
   "outputs": [],
   "source": [
    "ibis.options.verbose = False"
   ]
  },
  {
   "cell_type": "markdown",
   "id": "128bb061",
   "metadata": {},
   "source": [
    "### Overall Survival Rate"
   ]
  },
  {
   "cell_type": "code",
   "execution_count": 15,
   "id": "99fba42f",
   "metadata": {},
   "outputs": [
    {
     "data": {
      "text/plain": [
       "0.3838383838383838"
      ]
     },
     "execution_count": 15,
     "metadata": {},
     "output_type": "execute_result"
    }
   ],
   "source": [
    "train = titanic_tbl.Survived.notnull()\n",
    "cond = titanic_tbl.Survived == 1\n",
    "num_surv = titanic_tbl[cond].count().execute()   # Execute to get a local value\n",
    "num_pass = titanic_tbl[train].count().execute()  # Execute to get a local value \n",
    "num_surv / num_pass"
   ]
  },
  {
   "cell_type": "markdown",
   "id": "e2614f20",
   "metadata": {},
   "source": [
    "### Cross-classification of Gender and Survival"
   ]
  },
  {
   "cell_type": "code",
   "execution_count": 16,
   "id": "cc3c6195",
   "metadata": {},
   "outputs": [
    {
     "data": {
      "text/html": [
       "<div>\n",
       "<style scoped>\n",
       "    .dataframe tbody tr th:only-of-type {\n",
       "        vertical-align: middle;\n",
       "    }\n",
       "\n",
       "    .dataframe tbody tr th {\n",
       "        vertical-align: top;\n",
       "    }\n",
       "\n",
       "    .dataframe thead th {\n",
       "        text-align: right;\n",
       "    }\n",
       "</style>\n",
       "<table border=\"1\" class=\"dataframe\">\n",
       "  <thead>\n",
       "    <tr style=\"text-align: right;\">\n",
       "      <th></th>\n",
       "      <th>Sex</th>\n",
       "      <th>Survived</th>\n",
       "      <th>Passengers</th>\n",
       "      <th>Avg Age</th>\n",
       "    </tr>\n",
       "  </thead>\n",
       "  <tbody>\n",
       "    <tr>\n",
       "      <th>0</th>\n",
       "      <td>female</td>\n",
       "      <td>0.0</td>\n",
       "      <td>81</td>\n",
       "      <td>25.046875</td>\n",
       "    </tr>\n",
       "    <tr>\n",
       "      <th>1</th>\n",
       "      <td>female</td>\n",
       "      <td>1.0</td>\n",
       "      <td>233</td>\n",
       "      <td>28.847716</td>\n",
       "    </tr>\n",
       "    <tr>\n",
       "      <th>2</th>\n",
       "      <td>male</td>\n",
       "      <td>0.0</td>\n",
       "      <td>468</td>\n",
       "      <td>31.618056</td>\n",
       "    </tr>\n",
       "    <tr>\n",
       "      <th>3</th>\n",
       "      <td>male</td>\n",
       "      <td>1.0</td>\n",
       "      <td>109</td>\n",
       "      <td>27.276022</td>\n",
       "    </tr>\n",
       "  </tbody>\n",
       "</table>\n",
       "</div>"
      ],
      "text/plain": [
       "      Sex  Survived  Passengers    Avg Age\n",
       "0  female       0.0          81  25.046875\n",
       "1  female       1.0         233  28.847716\n",
       "2    male       0.0         468  31.618056\n",
       "3    male       1.0         109  27.276022"
      ]
     },
     "execution_count": 16,
     "metadata": {},
     "output_type": "execute_result"
    }
   ],
   "source": [
    "cols = [titanic_tbl.Sex, titanic_tbl.Survived]\n",
    "train = titanic_tbl.Survived.notnull()\n",
    "\n",
    "freq = titanic_tbl[train].groupby(cols).aggregate (\n",
    "    [\n",
    "        titanic_tbl.count().name('Passengers'),\n",
    "        titanic_tbl.Age.mean().name('Avg Age')\n",
    "    ]\n",
    ").sort_by(cols)\n",
    "freq"
   ]
  },
  {
   "cell_type": "markdown",
   "id": "4e0071d8-6673-4c21-b49d-2850a3bf2dd8",
   "metadata": {},
   "source": [
    "#### Join with the gender-specific counts"
   ]
  },
  {
   "cell_type": "code",
   "execution_count": 17,
   "id": "b9c78a5b",
   "metadata": {},
   "outputs": [
    {
     "data": {
      "text/html": [
       "<div>\n",
       "<style scoped>\n",
       "    .dataframe tbody tr th:only-of-type {\n",
       "        vertical-align: middle;\n",
       "    }\n",
       "\n",
       "    .dataframe tbody tr th {\n",
       "        vertical-align: top;\n",
       "    }\n",
       "\n",
       "    .dataframe thead th {\n",
       "        text-align: right;\n",
       "    }\n",
       "</style>\n",
       "<table border=\"1\" class=\"dataframe\">\n",
       "  <thead>\n",
       "    <tr style=\"text-align: right;\">\n",
       "      <th></th>\n",
       "      <th>Sex_x</th>\n",
       "      <th>Survived</th>\n",
       "      <th>Passengers</th>\n",
       "      <th>Avg Age</th>\n",
       "      <th>Sex_y</th>\n",
       "      <th>count</th>\n",
       "    </tr>\n",
       "  </thead>\n",
       "  <tbody>\n",
       "    <tr>\n",
       "      <th>0</th>\n",
       "      <td>female</td>\n",
       "      <td>0.0</td>\n",
       "      <td>81</td>\n",
       "      <td>25.046875</td>\n",
       "      <td>female</td>\n",
       "      <td>314</td>\n",
       "    </tr>\n",
       "    <tr>\n",
       "      <th>1</th>\n",
       "      <td>female</td>\n",
       "      <td>1.0</td>\n",
       "      <td>233</td>\n",
       "      <td>28.847716</td>\n",
       "      <td>female</td>\n",
       "      <td>314</td>\n",
       "    </tr>\n",
       "    <tr>\n",
       "      <th>2</th>\n",
       "      <td>male</td>\n",
       "      <td>0.0</td>\n",
       "      <td>468</td>\n",
       "      <td>31.618056</td>\n",
       "      <td>male</td>\n",
       "      <td>577</td>\n",
       "    </tr>\n",
       "    <tr>\n",
       "      <th>3</th>\n",
       "      <td>male</td>\n",
       "      <td>1.0</td>\n",
       "      <td>109</td>\n",
       "      <td>27.276022</td>\n",
       "      <td>male</td>\n",
       "      <td>577</td>\n",
       "    </tr>\n",
       "  </tbody>\n",
       "</table>\n",
       "</div>"
      ],
      "text/plain": [
       "    Sex_x  Survived  Passengers    Avg Age   Sex_y  count\n",
       "0  female       0.0          81  25.046875  female    314\n",
       "1  female       1.0         233  28.847716  female    314\n",
       "2    male       0.0         468  31.618056    male    577\n",
       "3    male       1.0         109  27.276022    male    577"
      ]
     },
     "execution_count": 17,
     "metadata": {},
     "output_type": "execute_result"
    }
   ],
   "source": [
    "gender = titanic_tbl[train].groupby(titanic_tbl.Sex).count()\n",
    "joined = freq.join(gender, freq.Sex == gender.Sex)\n",
    "joined"
   ]
  },
  {
   "cell_type": "markdown",
   "id": "4d936c09-33b7-4aa0-bb45-c1a539328320",
   "metadata": {},
   "source": [
    "#### Calculate the percentages overall and within each gender"
   ]
  },
  {
   "cell_type": "code",
   "execution_count": 18,
   "id": "4ee696e8",
   "metadata": {},
   "outputs": [
    {
     "data": {
      "text/html": [
       "<div>\n",
       "<style scoped>\n",
       "    .dataframe tbody tr th:only-of-type {\n",
       "        vertical-align: middle;\n",
       "    }\n",
       "\n",
       "    .dataframe tbody tr th {\n",
       "        vertical-align: top;\n",
       "    }\n",
       "\n",
       "    .dataframe thead th {\n",
       "        text-align: right;\n",
       "    }\n",
       "</style>\n",
       "<table border=\"1\" class=\"dataframe\">\n",
       "  <thead>\n",
       "    <tr style=\"text-align: right;\">\n",
       "      <th></th>\n",
       "      <th>Sex_x</th>\n",
       "      <th>Survived</th>\n",
       "      <th>Passengers</th>\n",
       "      <th>Avg Age</th>\n",
       "      <th>Sex_y</th>\n",
       "      <th>count</th>\n",
       "      <th>Overall_Percent</th>\n",
       "      <th>Group_Percent</th>\n",
       "    </tr>\n",
       "  </thead>\n",
       "  <tbody>\n",
       "    <tr>\n",
       "      <th>0</th>\n",
       "      <td>female</td>\n",
       "      <td>0.0</td>\n",
       "      <td>81</td>\n",
       "      <td>25.046875</td>\n",
       "      <td>female</td>\n",
       "      <td>314</td>\n",
       "      <td>9.090909</td>\n",
       "      <td>25.796178</td>\n",
       "    </tr>\n",
       "    <tr>\n",
       "      <th>1</th>\n",
       "      <td>female</td>\n",
       "      <td>1.0</td>\n",
       "      <td>233</td>\n",
       "      <td>28.847716</td>\n",
       "      <td>female</td>\n",
       "      <td>314</td>\n",
       "      <td>26.150393</td>\n",
       "      <td>74.203822</td>\n",
       "    </tr>\n",
       "    <tr>\n",
       "      <th>2</th>\n",
       "      <td>male</td>\n",
       "      <td>0.0</td>\n",
       "      <td>468</td>\n",
       "      <td>31.618056</td>\n",
       "      <td>male</td>\n",
       "      <td>577</td>\n",
       "      <td>52.525253</td>\n",
       "      <td>81.109185</td>\n",
       "    </tr>\n",
       "    <tr>\n",
       "      <th>3</th>\n",
       "      <td>male</td>\n",
       "      <td>1.0</td>\n",
       "      <td>109</td>\n",
       "      <td>27.276022</td>\n",
       "      <td>male</td>\n",
       "      <td>577</td>\n",
       "      <td>12.233446</td>\n",
       "      <td>18.890815</td>\n",
       "    </tr>\n",
       "  </tbody>\n",
       "</table>\n",
       "</div>"
      ],
      "text/plain": [
       "    Sex_x  Survived  Passengers    Avg Age   Sex_y  count  Overall_Percent  \\\n",
       "0  female       0.0          81  25.046875  female    314         9.090909   \n",
       "1  female       1.0         233  28.847716  female    314        26.150393   \n",
       "2    male       0.0         468  31.618056    male    577        52.525253   \n",
       "3    male       1.0         109  27.276022    male    577        12.233446   \n",
       "\n",
       "   Group_Percent  \n",
       "0      25.796178  \n",
       "1      74.203822  \n",
       "2      81.109185  \n",
       "3      18.890815  "
      ]
     },
     "execution_count": 18,
     "metadata": {},
     "output_type": "execute_result"
    }
   ],
   "source": [
    "# Get the total as a local numeric to use in the following expressions\n",
    "total = titanic_tbl[train].count().execute()\n",
    "\n",
    "# Add additional columns to joined table and execute to download the data for plotting\n",
    "joined = joined[\n",
    "    joined.columns + [\n",
    "    (100.0 * joined.Passengers / total).name('Overall_Percent'),\n",
    "    (100.0 * joined.Passengers / joined['count']).name('Group_Percent'),  # Must use [...] here because count is also a method name\n",
    "    ]\n",
    "].execute()\n",
    "\n",
    "joined"
   ]
  },
  {
   "cell_type": "markdown",
   "id": "bcb62390-9581-485a-b2fd-bb5be98db948",
   "metadata": {},
   "source": [
    "#### Draw a nested barplot by sex and survival"
   ]
  },
  {
   "cell_type": "code",
   "execution_count": 19,
   "id": "446390dd",
   "metadata": {},
   "outputs": [
    {
     "data": {
      "text/plain": [
       "Text(0.5, 0.98, 'Pct of Passengers by Gender and Survival')"
      ]
     },
     "execution_count": 19,
     "metadata": {},
     "output_type": "execute_result"
    },
    {
     "data": {
      "image/png": "[encoded data removed]",
      "text/plain": [
       "<Figure size 555.875x504 with 1 Axes>"
      ]
     },
     "metadata": {
      "needs_background": "light"
     },
     "output_type": "display_data"
    }
   ],
   "source": [
    "g = sns.catplot(\n",
    "    data=joined, kind=\"bar\",\n",
    "    x=\"Sex_x\", y=\"Overall_Percent\", hue=\"Survived\",\n",
    "    palette=\"dark\", alpha=.6, height=7\n",
    ")\n",
    "\n",
    "g.despine(left=True)\n",
    "g.set_axis_labels(\"Gender\", \"Percent of Passengers\")\n",
    "g.legend.set_title(\"\")\n",
    "\n",
    "new_labels = ['Dead', 'Survived']\n",
    "for t, l in zip(g.legend.texts, new_labels):\n",
    "    t.set_text(l)\n",
    "    \n",
    "g.fig.suptitle(\"Pct of Passengers by Gender and Survival\")"
   ]
  },
  {
   "cell_type": "code",
   "execution_count": 20,
   "id": "72d7f556",
   "metadata": {},
   "outputs": [
    {
     "data": {
      "text/plain": [
       "Text(0.5, 0.98, 'Passenger Classification within Gender')"
      ]
     },
     "execution_count": 20,
     "metadata": {},
     "output_type": "execute_result"
    },
    {
     "data": {
      "image/png": "[encoded data removed]",
      "text/plain": [
       "<Figure size 555.875x504 with 1 Axes>"
      ]
     },
     "metadata": {
      "needs_background": "light"
     },
     "output_type": "display_data"
    }
   ],
   "source": [
    "g = sns.catplot(\n",
    "    data=joined, kind=\"bar\",\n",
    "    x=\"Sex_x\", y=\"Group_Percent\", hue=\"Survived\",\n",
    "    palette=\"dark\", alpha=.6, height=7\n",
    ")\n",
    "\n",
    "g.despine(left=True)\n",
    "g.set_axis_labels(\"Gender\", \"Percent of Passengers\")\n",
    "g.legend.set_title(\"\")\n",
    "\n",
    "new_labels = ['Dead', 'Survived']\n",
    "for t, l in zip(g.legend.texts, new_labels):\n",
    "    t.set_text(l)\n",
    "\n",
    "g.fig.suptitle(\"Passenger Classification within Gender\")"
   ]
  },
  {
   "cell_type": "markdown",
   "id": "8d91e4b9",
   "metadata": {},
   "source": [
    "### Survival by Passenger Class"
   ]
  },
  {
   "cell_type": "code",
   "execution_count": 21,
   "id": "188a43d0",
   "metadata": {},
   "outputs": [
    {
     "data": {
      "text/html": [
       "<div>\n",
       "<style scoped>\n",
       "    .dataframe tbody tr th:only-of-type {\n",
       "        vertical-align: middle;\n",
       "    }\n",
       "\n",
       "    .dataframe tbody tr th {\n",
       "        vertical-align: top;\n",
       "    }\n",
       "\n",
       "    .dataframe thead th {\n",
       "        text-align: right;\n",
       "    }\n",
       "</style>\n",
       "<table border=\"1\" class=\"dataframe\">\n",
       "  <thead>\n",
       "    <tr style=\"text-align: right;\">\n",
       "      <th></th>\n",
       "      <th>Pclass</th>\n",
       "      <th>Survived</th>\n",
       "      <th>Passengers</th>\n",
       "      <th>Avg Age</th>\n",
       "    </tr>\n",
       "  </thead>\n",
       "  <tbody>\n",
       "    <tr>\n",
       "      <th>0</th>\n",
       "      <td>1</td>\n",
       "      <td>0.0</td>\n",
       "      <td>80</td>\n",
       "      <td>43.695312</td>\n",
       "    </tr>\n",
       "    <tr>\n",
       "      <th>1</th>\n",
       "      <td>1</td>\n",
       "      <td>1.0</td>\n",
       "      <td>136</td>\n",
       "      <td>35.368197</td>\n",
       "    </tr>\n",
       "    <tr>\n",
       "      <th>2</th>\n",
       "      <td>2</td>\n",
       "      <td>0.0</td>\n",
       "      <td>97</td>\n",
       "      <td>33.544444</td>\n",
       "    </tr>\n",
       "    <tr>\n",
       "      <th>3</th>\n",
       "      <td>2</td>\n",
       "      <td>1.0</td>\n",
       "      <td>87</td>\n",
       "      <td>25.901566</td>\n",
       "    </tr>\n",
       "    <tr>\n",
       "      <th>4</th>\n",
       "      <td>3</td>\n",
       "      <td>0.0</td>\n",
       "      <td>372</td>\n",
       "      <td>26.555556</td>\n",
       "    </tr>\n",
       "    <tr>\n",
       "      <th>5</th>\n",
       "      <td>3</td>\n",
       "      <td>1.0</td>\n",
       "      <td>119</td>\n",
       "      <td>20.646118</td>\n",
       "    </tr>\n",
       "  </tbody>\n",
       "</table>\n",
       "</div>"
      ],
      "text/plain": [
       "   Pclass  Survived  Passengers    Avg Age\n",
       "0       1       0.0          80  43.695312\n",
       "1       1       1.0         136  35.368197\n",
       "2       2       0.0          97  33.544444\n",
       "3       2       1.0          87  25.901566\n",
       "4       3       0.0         372  26.555556\n",
       "5       3       1.0         119  20.646118"
      ]
     },
     "execution_count": 21,
     "metadata": {},
     "output_type": "execute_result"
    }
   ],
   "source": [
    "cols = [titanic_tbl.Pclass, titanic_tbl.Survived]\n",
    "train = titanic_tbl.Survived.notnull()\n",
    "\n",
    "freq = titanic_tbl[train].groupby(cols).aggregate (\n",
    "    [\n",
    "        titanic_tbl.count().name('Passengers'),\n",
    "        titanic_tbl.Age.mean().name('Avg Age')\n",
    "    ]\n",
    ").sort_by(cols)\n",
    "freq"
   ]
  },
  {
   "cell_type": "code",
   "execution_count": 22,
   "id": "454a700f",
   "metadata": {},
   "outputs": [
    {
     "data": {
      "text/html": [
       "<div>\n",
       "<style scoped>\n",
       "    .dataframe tbody tr th:only-of-type {\n",
       "        vertical-align: middle;\n",
       "    }\n",
       "\n",
       "    .dataframe tbody tr th {\n",
       "        vertical-align: top;\n",
       "    }\n",
       "\n",
       "    .dataframe thead th {\n",
       "        text-align: right;\n",
       "    }\n",
       "</style>\n",
       "<table border=\"1\" class=\"dataframe\">\n",
       "  <thead>\n",
       "    <tr style=\"text-align: right;\">\n",
       "      <th></th>\n",
       "      <th>Pclass_x</th>\n",
       "      <th>Survived</th>\n",
       "      <th>Passengers</th>\n",
       "      <th>Avg Age</th>\n",
       "      <th>Pclass_y</th>\n",
       "      <th>count</th>\n",
       "      <th>Overall_Percent</th>\n",
       "      <th>Group_Percent</th>\n",
       "    </tr>\n",
       "  </thead>\n",
       "  <tbody>\n",
       "    <tr>\n",
       "      <th>0</th>\n",
       "      <td>1</td>\n",
       "      <td>0.0</td>\n",
       "      <td>80</td>\n",
       "      <td>43.695312</td>\n",
       "      <td>1</td>\n",
       "      <td>216</td>\n",
       "      <td>8.978676</td>\n",
       "      <td>37.037037</td>\n",
       "    </tr>\n",
       "    <tr>\n",
       "      <th>1</th>\n",
       "      <td>1</td>\n",
       "      <td>1.0</td>\n",
       "      <td>136</td>\n",
       "      <td>35.368197</td>\n",
       "      <td>1</td>\n",
       "      <td>216</td>\n",
       "      <td>15.263749</td>\n",
       "      <td>62.962963</td>\n",
       "    </tr>\n",
       "    <tr>\n",
       "      <th>2</th>\n",
       "      <td>2</td>\n",
       "      <td>0.0</td>\n",
       "      <td>97</td>\n",
       "      <td>33.544444</td>\n",
       "      <td>2</td>\n",
       "      <td>184</td>\n",
       "      <td>10.886644</td>\n",
       "      <td>52.717391</td>\n",
       "    </tr>\n",
       "    <tr>\n",
       "      <th>3</th>\n",
       "      <td>2</td>\n",
       "      <td>1.0</td>\n",
       "      <td>87</td>\n",
       "      <td>25.901566</td>\n",
       "      <td>2</td>\n",
       "      <td>184</td>\n",
       "      <td>9.764310</td>\n",
       "      <td>47.282609</td>\n",
       "    </tr>\n",
       "    <tr>\n",
       "      <th>4</th>\n",
       "      <td>3</td>\n",
       "      <td>0.0</td>\n",
       "      <td>372</td>\n",
       "      <td>26.555556</td>\n",
       "      <td>3</td>\n",
       "      <td>491</td>\n",
       "      <td>41.750842</td>\n",
       "      <td>75.763747</td>\n",
       "    </tr>\n",
       "    <tr>\n",
       "      <th>5</th>\n",
       "      <td>3</td>\n",
       "      <td>1.0</td>\n",
       "      <td>119</td>\n",
       "      <td>20.646118</td>\n",
       "      <td>3</td>\n",
       "      <td>491</td>\n",
       "      <td>13.355780</td>\n",
       "      <td>24.236253</td>\n",
       "    </tr>\n",
       "  </tbody>\n",
       "</table>\n",
       "</div>"
      ],
      "text/plain": [
       "   Pclass_x  Survived  Passengers    Avg Age  Pclass_y  count  \\\n",
       "0         1       0.0          80  43.695312         1    216   \n",
       "1         1       1.0         136  35.368197         1    216   \n",
       "2         2       0.0          97  33.544444         2    184   \n",
       "3         2       1.0          87  25.901566         2    184   \n",
       "4         3       0.0         372  26.555556         3    491   \n",
       "5         3       1.0         119  20.646118         3    491   \n",
       "\n",
       "   Overall_Percent  Group_Percent  \n",
       "0         8.978676      37.037037  \n",
       "1        15.263749      62.962963  \n",
       "2        10.886644      52.717391  \n",
       "3         9.764310      47.282609  \n",
       "4        41.750842      75.763747  \n",
       "5        13.355780      24.236253  "
      ]
     },
     "execution_count": 22,
     "metadata": {},
     "output_type": "execute_result"
    }
   ],
   "source": [
    "passenger = titanic_tbl[train].groupby(titanic_tbl.Pclass).count()\n",
    "joined = freq.join(passenger, freq.Pclass == passenger.Pclass)\n",
    "\n",
    "# Construct columns for joined table and execute to download data for plotting\n",
    "joined = joined[\n",
    "    joined.columns + [\n",
    "    (100.0 * joined.Passengers / total).name('Overall_Percent'),\n",
    "    (100.0 * joined.Passengers / joined['count']).name('Group_Percent')\n",
    "    ]\n",
    "].execute()\n",
    "\n",
    "joined"
   ]
  },
  {
   "cell_type": "code",
   "execution_count": 23,
   "id": "f7035fd9",
   "metadata": {},
   "outputs": [
    {
     "data": {
      "text/plain": [
       "Text(0.5, 0.98, 'Survival Pct by Passenger Class')"
      ]
     },
     "execution_count": 23,
     "metadata": {},
     "output_type": "execute_result"
    },
    {
     "data": {
      "image/png": "[encoded data removed]",
      "text/plain": [
       "<Figure size 576x576 with 1 Axes>"
      ]
     },
     "metadata": {
      "needs_background": "light"
     },
     "output_type": "display_data"
    }
   ],
   "source": [
    "cond = joined['Survived'] == 1.\n",
    "\n",
    "g = sns.catplot(\n",
    "    data=joined[cond], \n",
    "    kind=\"bar\",\n",
    "    x=\"Pclass_x\", y=\"Group_Percent\",\n",
    "    palette=\"dark\", alpha=.6, height=8\n",
    ")\n",
    "\n",
    "g.despine(left=True)\n",
    "g.set_axis_labels(\"Passenger Class\", \"Percent of Passengers\")\n",
    "g.fig.suptitle(\"Survival Pct by Passenger Class\")"
   ]
  },
  {
   "cell_type": "markdown",
   "id": "b38301e1",
   "metadata": {},
   "source": [
    "### Analyze Age Groups"
   ]
  },
  {
   "cell_type": "code",
   "execution_count": 24,
   "id": "30d9f828",
   "metadata": {},
   "outputs": [
    {
     "data": {
      "text/html": [
       "<div>\n",
       "<style scoped>\n",
       "    .dataframe tbody tr th:only-of-type {\n",
       "        vertical-align: middle;\n",
       "    }\n",
       "\n",
       "    .dataframe tbody tr th {\n",
       "        vertical-align: top;\n",
       "    }\n",
       "\n",
       "    .dataframe thead th {\n",
       "        text-align: right;\n",
       "    }\n",
       "</style>\n",
       "<table border=\"1\" class=\"dataframe\">\n",
       "  <thead>\n",
       "    <tr style=\"text-align: right;\">\n",
       "      <th></th>\n",
       "      <th>Ages</th>\n",
       "      <th>Age Group</th>\n",
       "      <th>count</th>\n",
       "      <th>Percent</th>\n",
       "    </tr>\n",
       "  </thead>\n",
       "  <tbody>\n",
       "    <tr>\n",
       "      <th>0</th>\n",
       "      <td>None</td>\n",
       "      <td>NaN</td>\n",
       "      <td>263</td>\n",
       "      <td>20.091673</td>\n",
       "    </tr>\n",
       "    <tr>\n",
       "      <th>1</th>\n",
       "      <td>&lt; 10</td>\n",
       "      <td>1.0</td>\n",
       "      <td>82</td>\n",
       "      <td>6.264324</td>\n",
       "    </tr>\n",
       "    <tr>\n",
       "      <th>2</th>\n",
       "      <td>11-20</td>\n",
       "      <td>2.0</td>\n",
       "      <td>143</td>\n",
       "      <td>10.924370</td>\n",
       "    </tr>\n",
       "    <tr>\n",
       "      <th>3</th>\n",
       "      <td>21-30</td>\n",
       "      <td>3.0</td>\n",
       "      <td>344</td>\n",
       "      <td>26.279603</td>\n",
       "    </tr>\n",
       "    <tr>\n",
       "      <th>4</th>\n",
       "      <td>31-40</td>\n",
       "      <td>4.0</td>\n",
       "      <td>232</td>\n",
       "      <td>17.723453</td>\n",
       "    </tr>\n",
       "    <tr>\n",
       "      <th>5</th>\n",
       "      <td>41-50</td>\n",
       "      <td>5.0</td>\n",
       "      <td>135</td>\n",
       "      <td>10.313216</td>\n",
       "    </tr>\n",
       "    <tr>\n",
       "      <th>6</th>\n",
       "      <td>51-60</td>\n",
       "      <td>6.0</td>\n",
       "      <td>70</td>\n",
       "      <td>5.347594</td>\n",
       "    </tr>\n",
       "    <tr>\n",
       "      <th>7</th>\n",
       "      <td>61-70</td>\n",
       "      <td>7.0</td>\n",
       "      <td>32</td>\n",
       "      <td>2.444614</td>\n",
       "    </tr>\n",
       "    <tr>\n",
       "      <th>8</th>\n",
       "      <td>71-80</td>\n",
       "      <td>8.0</td>\n",
       "      <td>8</td>\n",
       "      <td>0.611154</td>\n",
       "    </tr>\n",
       "  </tbody>\n",
       "</table>\n",
       "</div>"
      ],
      "text/plain": [
       "    Ages Age Group  count    Percent\n",
       "0   None       NaN    263  20.091673\n",
       "1   < 10       1.0     82   6.264324\n",
       "2  11-20       2.0    143  10.924370\n",
       "3  21-30       3.0    344  26.279603\n",
       "4  31-40       4.0    232  17.723453\n",
       "5  41-50       5.0    135  10.313216\n",
       "6  51-60       6.0     70   5.347594\n",
       "7  61-70       7.0     32   2.444614\n",
       "8  71-80       8.0      8   0.611154"
      ]
     },
     "execution_count": 24,
     "metadata": {},
     "output_type": "execute_result"
    }
   ],
   "source": [
    "buckets = [-10, 0, 10, 20, 30, 40, 50, 60, 70, 80]\n",
    "\n",
    "bucketed = titanic_tbl.Age.bucket(buckets).name('Age Group').value_counts().sort_by('Age Group')\n",
    "\n",
    "labeled_bucket = bucketed['Age Group'].label(\n",
    "    ['None', '< 10', '11-20', '21-30', '31-40', '41-50', '51-60', '61-70', '71-80']\n",
    ").name('Ages')\n",
    "\n",
    "expr = bucketed[labeled_bucket, bucketed].sort_by('Age Group').execute()\n",
    "total = expr['count'].sum()\n",
    "\n",
    "expr['Percent'] = 100.0 * expr['count'] / total\n",
    "expr"
   ]
  },
  {
   "cell_type": "code",
   "execution_count": 25,
   "id": "55d4e235",
   "metadata": {},
   "outputs": [
    {
     "data": {
      "text/plain": [
       "Text(0.5, 0.98, 'Passenger Age Distribution')"
      ]
     },
     "execution_count": 25,
     "metadata": {},
     "output_type": "execute_result"
    },
    {
     "data": {
      "image/png": "[encoded data removed]",
      "text/plain": [
       "<Figure size 576x576 with 1 Axes>"
      ]
     },
     "metadata": {
      "needs_background": "light"
     },
     "output_type": "display_data"
    }
   ],
   "source": [
    "g = sns.catplot(\n",
    "    data=expr, \n",
    "    kind=\"bar\",\n",
    "    x=\"Ages\", y=\"Percent\",\n",
    "    palette=\"dark\", alpha=.6, height=8\n",
    ")\n",
    "\n",
    "g.despine(left=True)\n",
    "g.set_axis_labels(\"Age Group\", \"Percent of Passengers\")\n",
    "g.fig.suptitle(\"Passenger Age Distribution\")"
   ]
  },
  {
   "cell_type": "code",
   "execution_count": 26,
   "id": "6be95a8a",
   "metadata": {},
   "outputs": [],
   "source": [
    "buckets = [-10,0,10,20,30,40,50,60,70,80]\n",
    "\n",
    "cond = titanic_tbl.Survived == 1\n",
    "\n",
    "bucketed = titanic_tbl[cond].Age.bucket(buckets).name('Age Group').value_counts().sort_by('Age Group')\n",
    "\n",
    "labeled_bucket = bucketed['Age Group'].label(\n",
    "    ['NaN', '< 10', '11-20', '21-30', '31-40', '41-50', '51-60', '61-70', '71-80']\n",
    ").name('Ages')\n",
    "\n",
    "expr = bucketed[labeled_bucket, bucketed].sort_by('Age Group').execute()\n",
    "total = expr['count'].sum()\n",
    "expr['Percent'] = 100.0 * expr['count'] / total"
   ]
  },
  {
   "cell_type": "code",
   "execution_count": 27,
   "id": "4303c08c",
   "metadata": {},
   "outputs": [
    {
     "data": {
      "text/plain": [
       "Text(0.5, 0.98, 'Age Distribution of Survived')"
      ]
     },
     "execution_count": 27,
     "metadata": {},
     "output_type": "execute_result"
    },
    {
     "data": {
      "image/png": "[encoded data removed]",
      "text/plain": [
       "<Figure size 576x576 with 1 Axes>"
      ]
     },
     "metadata": {
      "needs_background": "light"
     },
     "output_type": "display_data"
    }
   ],
   "source": [
    "g = sns.catplot(\n",
    "    data=expr, \n",
    "    kind=\"bar\",\n",
    "    x=\"Ages\", y=\"Percent\",\n",
    "    palette=\"dark\", alpha=.6, height=8\n",
    ")\n",
    "\n",
    "g.despine(left=True)\n",
    "g.set_axis_labels(\"Age Group\", \"Percent\")\n",
    "g.fig.suptitle(\"Age Distribution of Survived\")"
   ]
  }
 ],
 "metadata": {
  "kernelspec": {
   "display_name": "Python 3 (ipykernel)",
   "language": "python",
   "name": "python3"
  },
  "language_info": {
   "codemirror_mode": {
    "name": "ipython",
    "version": 3
   },
   "file_extension": ".py",
   "mimetype": "text/x-python",
   "name": "python",
   "nbconvert_exporter": "python",
   "pygments_lexer": "ipython3",
   "version": "3.9.4"
  }
 },
 "nbformat": 4,
 "nbformat_minor": 5
}
